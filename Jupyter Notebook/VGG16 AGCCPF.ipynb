{
 "cells": [
  {
   "cell_type": "code",
   "execution_count": null,
   "metadata": {
    "colab": {
     "base_uri": "https://localhost:8080/"
    },
    "executionInfo": {
     "elapsed": 24499,
     "status": "ok",
     "timestamp": 1648064393365,
     "user": {
      "displayName": "Nikhil kansliwal",
      "photoUrl": "https://lh3.googleusercontent.com/a/default-user=s64",
      "userId": "14896650983382194700"
     },
     "user_tz": -330
    },
    "id": "6apL4lLkBJdS",
    "outputId": "683db726-cf52-4a8c-a491-60e79ce13b65"
   },
   "outputs": [
    {
     "name": "stdout",
     "output_type": "stream",
     "text": [
      "Mounted at /content/gdrive\n"
     ]
    }
   ],
   "source": [
    "from google.colab import drive\n",
    "drive.mount('/content/gdrive')\n",
    "import cv2\n",
    "import os\n",
    "import random"
   ]
  },
  {
   "cell_type": "code",
   "execution_count": null,
   "metadata": {
    "id": "F59wrFLeBgYO"
   },
   "outputs": [],
   "source": [
    "import matplotlib.pyplot as plt\n",
    "import matplotlib as mpl\n",
    "import numpy as np\n",
    "import pandas as pd\n",
    "%matplotlib inline"
   ]
  },
  {
   "cell_type": "code",
   "execution_count": null,
   "metadata": {
    "id": "5OM6rQxpBgUy"
   },
   "outputs": [],
   "source": [
    "import tensorflow as tf\n",
    "import tensorflow.keras as keras\n"
   ]
  },
  {
   "cell_type": "code",
   "execution_count": null,
   "metadata": {
    "colab": {
     "base_uri": "https://localhost:8080/",
     "height": 36
    },
    "executionInfo": {
     "elapsed": 20,
     "status": "ok",
     "timestamp": 1648064397005,
     "user": {
      "displayName": "Nikhil kansliwal",
      "photoUrl": "https://lh3.googleusercontent.com/a/default-user=s64",
      "userId": "14896650983382194700"
     },
     "user_tz": -330
    },
    "id": "_hBZjOnK4M82",
    "outputId": "386798e1-29bd-4550-c551-734d6b6ef095"
   },
   "outputs": [
    {
     "data": {
      "application/vnd.google.colaboratory.intrinsic+json": {
       "type": "string"
      },
      "text/plain": [
       "'2.8.0'"
      ]
     },
     "execution_count": 4,
     "metadata": {},
     "output_type": "execute_result"
    }
   ],
   "source": [
    "tf.__version__"
   ]
  },
  {
   "cell_type": "code",
   "execution_count": null,
   "metadata": {
    "id": "VdU5cuUdBgR-"
   },
   "outputs": [],
   "source": [
    "tf.random.set_seed(42)\n",
    "np.random.seed(42)\n"
   ]
  },
  {
   "cell_type": "code",
   "execution_count": null,
   "metadata": {
    "id": "oQ8IUIQ8BgPR"
   },
   "outputs": [],
   "source": [
    "train_dir = \"/content/gdrive/MyDrive/AGCCPF/train\"\n",
    "test_dir = \"/content/gdrive/MyDrive/AGCCPF/test\"\n",
    "valid_dir = \"/content/gdrive/MyDrive/AGCCPF/validate\"\n"
   ]
  },
  {
   "cell_type": "code",
   "execution_count": null,
   "metadata": {
    "id": "qpxzCWqmBgMf"
   },
   "outputs": [],
   "source": [
    "from keras.preprocessing.image import ImageDataGenerator"
   ]
  },
  {
   "cell_type": "code",
   "execution_count": null,
   "metadata": {
    "id": "mVlMS8YeBgJ-"
   },
   "outputs": [],
   "source": [
    "train_datagen = ImageDataGenerator(\n",
    "    rescale=1./255,\n",
    "    rotation_range=30,\n",
    "    width_shift_range=0.2,\n",
    "    height_shift_range=0.2,\n",
    "    shear_range=0.2,\n",
    "    zoom_range=0.2,\n",
    "    horizontal_flip=False)\n",
    "test_datagen = ImageDataGenerator(rescale=1./255)"
   ]
  },
  {
   "cell_type": "code",
   "execution_count": null,
   "metadata": {
    "id": "dkPxqWbyVZ8w"
   },
   "outputs": [],
   "source": []
  },
  {
   "cell_type": "code",
   "execution_count": null,
   "metadata": {
    "colab": {
     "base_uri": "https://localhost:8080/"
    },
    "executionInfo": {
     "elapsed": 17396,
     "status": "ok",
     "timestamp": 1648064414390,
     "user": {
      "displayName": "Nikhil kansliwal",
      "photoUrl": "https://lh3.googleusercontent.com/a/default-user=s64",
      "userId": "14896650983382194700"
     },
     "user_tz": -330
    },
    "id": "QBWrLPIeBgG-",
    "outputId": "0b1049f0-a8aa-42d4-cd92-167a55cb6fbe"
   },
   "outputs": [
    {
     "name": "stdout",
     "output_type": "stream",
     "text": [
      "Found 5253 images belonging to 3 classes.\n",
      "Found 1315 images belonging to 3 classes.\n",
      "Found 1644 images belonging to 3 classes.\n"
     ]
    }
   ],
   "source": [
    "\n",
    "train_generator = train_datagen.flow_from_directory(\n",
    "        train_dir,\n",
    "        target_size=(224, 224),\n",
    "        batch_size=20,\n",
    "        class_mode='categorical',\n",
    "        shuffle=True\n",
    "        )\n",
    "\n",
    "valid_generator = test_datagen.flow_from_directory(\n",
    "        valid_dir,\n",
    "        target_size=(224, 224),\n",
    "        batch_size=20,\n",
    "        class_mode='categorical',\n",
    "        shuffle=True\n",
    "        )\n",
    "\n",
    "test_generator = test_datagen.flow_from_directory(\n",
    "        test_dir,\n",
    "        target_size=(224, 224),\n",
    "        batch_size=20,\n",
    "        class_mode='categorical',\n",
    "        shuffle=False\n",
    "        )"
   ]
  },
  {
   "cell_type": "code",
   "execution_count": null,
   "metadata": {
    "id": "Vn80dmJEHb_K"
   },
   "outputs": [],
   "source": [
    "from tensorflow.keras import layers\n",
    "from tensorflow.keras import models"
   ]
  },
  {
   "cell_type": "code",
   "execution_count": null,
   "metadata": {
    "id": "HjZAgItjHb4X"
   },
   "outputs": [],
   "source": [
    "from tensorflow.keras import optimizers"
   ]
  },
  {
   "cell_type": "code",
   "execution_count": null,
   "metadata": {
    "colab": {
     "base_uri": "https://localhost:8080/"
    },
    "executionInfo": {
     "elapsed": 5150,
     "status": "ok",
     "timestamp": 1648064419532,
     "user": {
      "displayName": "Nikhil kansliwal",
      "photoUrl": "https://lh3.googleusercontent.com/a/default-user=s64",
      "userId": "14896650983382194700"
     },
     "user_tz": -330
    },
    "id": "osJjtxI0HHk1",
    "outputId": "ef8e5bcb-5e32-4faf-a7ba-185655a4d816"
   },
   "outputs": [
    {
     "name": "stdout",
     "output_type": "stream",
     "text": [
      "Downloading data from https://storage.googleapis.com/tensorflow/keras-applications/vgg16/vgg16_weights_tf_dim_ordering_tf_kernels_notop.h5\n",
      "58892288/58889256 [==============================] - 1s 0us/step\n",
      "58900480/58889256 [==============================] - 1s 0us/step\n"
     ]
    }
   ],
   "source": [
    "from tensorflow.keras.applications import VGG16\n",
    "conv_base = VGG16(weights='imagenet',\n",
    "                  include_top=False,\n",
    "                  input_shape=(224, 224, 3))\n",
    "\n",
    "\n",
    "# conv_base = EfficientNetB7(weights='imagenet',\n",
    "#                   include_top=False,\n",
    "#                   input_shape=(150, 150, 3))\n",
    "\n",
    "# conv_base = DenseNet121(weights='imagenet',\n",
    "#                   include_top=False,\n",
    "#                   input_shape=(150, 150, 3))\n",
    "\n",
    "# conv_base = MobileNet(weights='imagenet',\n",
    "#                   include_top=False,\n",
    "#                   input_shape=(150, 150, 3))"
   ]
  },
  {
   "cell_type": "code",
   "execution_count": null,
   "metadata": {
    "colab": {
     "base_uri": "https://localhost:8080/"
    },
    "executionInfo": {
     "elapsed": 17,
     "status": "ok",
     "timestamp": 1648064419532,
     "user": {
      "displayName": "Nikhil kansliwal",
      "photoUrl": "https://lh3.googleusercontent.com/a/default-user=s64",
      "userId": "14896650983382194700"
     },
     "user_tz": -330
    },
    "id": "55R8Y-_SHHfm",
    "outputId": "64abb7f8-4502-4a20-85fb-4056021a9fea"
   },
   "outputs": [
    {
     "name": "stdout",
     "output_type": "stream",
     "text": [
      "Model: \"vgg16\"\n",
      "_________________________________________________________________\n",
      " Layer (type)                Output Shape              Param #   \n",
      "=================================================================\n",
      " input_1 (InputLayer)        [(None, 200, 200, 3)]     0         \n",
      "                                                                 \n",
      " block1_conv1 (Conv2D)       (None, 200, 200, 64)      1792      \n",
      "                                                                 \n",
      " block1_conv2 (Conv2D)       (None, 200, 200, 64)      36928     \n",
      "                                                                 \n",
      " block1_pool (MaxPooling2D)  (None, 100, 100, 64)      0         \n",
      "                                                                 \n",
      " block2_conv1 (Conv2D)       (None, 100, 100, 128)     73856     \n",
      "                                                                 \n",
      " block2_conv2 (Conv2D)       (None, 100, 100, 128)     147584    \n",
      "                                                                 \n",
      " block2_pool (MaxPooling2D)  (None, 50, 50, 128)       0         \n",
      "                                                                 \n",
      " block3_conv1 (Conv2D)       (None, 50, 50, 256)       295168    \n",
      "                                                                 \n",
      " block3_conv2 (Conv2D)       (None, 50, 50, 256)       590080    \n",
      "                                                                 \n",
      " block3_conv3 (Conv2D)       (None, 50, 50, 256)       590080    \n",
      "                                                                 \n",
      " block3_pool (MaxPooling2D)  (None, 25, 25, 256)       0         \n",
      "                                                                 \n",
      " block4_conv1 (Conv2D)       (None, 25, 25, 512)       1180160   \n",
      "                                                                 \n",
      " block4_conv2 (Conv2D)       (None, 25, 25, 512)       2359808   \n",
      "                                                                 \n",
      " block4_conv3 (Conv2D)       (None, 25, 25, 512)       2359808   \n",
      "                                                                 \n",
      " block4_pool (MaxPooling2D)  (None, 12, 12, 512)       0         \n",
      "                                                                 \n",
      " block5_conv1 (Conv2D)       (None, 12, 12, 512)       2359808   \n",
      "                                                                 \n",
      " block5_conv2 (Conv2D)       (None, 12, 12, 512)       2359808   \n",
      "                                                                 \n",
      " block5_conv3 (Conv2D)       (None, 12, 12, 512)       2359808   \n",
      "                                                                 \n",
      " block5_pool (MaxPooling2D)  (None, 6, 6, 512)         0         \n",
      "                                                                 \n",
      "=================================================================\n",
      "Total params: 14,714,688\n",
      "Trainable params: 14,714,688\n",
      "Non-trainable params: 0\n",
      "_________________________________________________________________\n"
     ]
    }
   ],
   "source": [
    "conv_base.summary()"
   ]
  },
  {
   "cell_type": "code",
   "execution_count": null,
   "metadata": {
    "id": "SPfa-BxXIxx7"
   },
   "outputs": [],
   "source": [
    "model = keras.models.Sequential()\n",
    "model.add(conv_base)\n",
    "model.add(keras.layers.Flatten())\n",
    "model.add(keras.layers.Dense(256, activation='relu'))\n",
    "model.add(keras.layers.Dense(3, activation='softmax'))\n",
    "\n"
   ]
  },
  {
   "cell_type": "code",
   "execution_count": null,
   "metadata": {
    "colab": {
     "base_uri": "https://localhost:8080/"
    },
    "executionInfo": {
     "elapsed": 10,
     "status": "ok",
     "timestamp": 1648064419533,
     "user": {
      "displayName": "Nikhil kansliwal",
      "photoUrl": "https://lh3.googleusercontent.com/a/default-user=s64",
      "userId": "14896650983382194700"
     },
     "user_tz": -330
    },
    "id": "bDBxETADe8jD",
    "outputId": "155cd6ff-2317-4916-c533-863c7632ca53"
   },
   "outputs": [
    {
     "name": "stderr",
     "output_type": "stream",
     "text": [
      "/usr/local/lib/python3.7/dist-packages/keras/optimizer_v2/rmsprop.py:130: UserWarning: The `lr` argument is deprecated, use `learning_rate` instead.\n",
      "  super(RMSprop, self).__init__(name, **kwargs)\n"
     ]
    }
   ],
   "source": [
    "# model = models.Sequential()\n",
    "# model.add(layers.Conv2D(32, (3, 3), activation='relu',\n",
    "#                         input_shape=(150, 150, 3)))\n",
    "# model.add(layers.MaxPooling2D((2, 2)))\n",
    "# model.add(layers.Conv2D(64, (3, 3), activation='relu'))\n",
    "# model.add(layers.MaxPooling2D((2, 2)))\n",
    "# model.add(layers.Conv2D(128, (3, 3), activation='relu'))\n",
    "# model.add(layers.MaxPooling2D((2, 2)))\n",
    "# model.add(layers.Conv2D(128, (3, 3), activation='relu'))\n",
    "# model.add(layers.MaxPooling2D((2, 2)))\n",
    "# model.add(layers.Flatten())\n",
    "# model.add(layers.Dropout(0.5))\n",
    "# model.add(layers.Dense(512, activation='relu'))\n",
    "# model.add(layers.Dense(3, activation='softmax'))\n",
    "\n",
    "model.compile(loss='categorical_crossentropy',\n",
    "              optimizer=optimizers.RMSprop(lr=1e-5),\n",
    "              metrics=['acc',tf.keras.metrics.Recall(),tf.keras.metrics.Precision()])"
   ]
  },
  {
   "cell_type": "code",
   "execution_count": null,
   "metadata": {
    "id": "qB0BSqiFIxvN"
   },
   "outputs": [],
   "source": []
  },
  {
   "cell_type": "code",
   "execution_count": null,
   "metadata": {
    "colab": {
     "base_uri": "https://localhost:8080/"
    },
    "executionInfo": {
     "elapsed": 8,
     "status": "ok",
     "timestamp": 1648064419533,
     "user": {
      "displayName": "Nikhil kansliwal",
      "photoUrl": "https://lh3.googleusercontent.com/a/default-user=s64",
      "userId": "14896650983382194700"
     },
     "user_tz": -330
    },
    "id": "pZWLWDwPIxsL",
    "outputId": "612ef6ce-9a45-4eb5-b347-0b2b67c78a65"
   },
   "outputs": [
    {
     "name": "stdout",
     "output_type": "stream",
     "text": [
      "/content/gdrive/MyDrive\n"
     ]
    }
   ],
   "source": [
    "%cd /content/gdrive/MyDrive/"
   ]
  },
  {
   "cell_type": "code",
   "execution_count": null,
   "metadata": {
    "id": "9SPJWRvYIxmB"
   },
   "outputs": [],
   "source": []
  },
  {
   "cell_type": "code",
   "execution_count": null,
   "metadata": {
    "id": "b4D4xfzYIxiT"
   },
   "outputs": [],
   "source": []
  },
  {
   "cell_type": "code",
   "execution_count": null,
   "metadata": {
    "id": "4EXrUrX_BgEO"
   },
   "outputs": [],
   "source": [
    "checkpoint_cb = keras.callbacks.ModelCheckpoint(\n",
    "    \"/content/gdrive/MyDrive/model.h5\", save_best_only=True)\n",
    "earlystop_cb = keras.callbacks.EarlyStopping(\n",
    "    patience=5, restore_best_weights=True)\n"
   ]
  },
  {
   "cell_type": "code",
   "execution_count": null,
   "metadata": {
    "colab": {
     "base_uri": "https://localhost:8080/"
    },
    "executionInfo": {
     "elapsed": 8,
     "status": "ok",
     "timestamp": 1648064419534,
     "user": {
      "displayName": "Nikhil kansliwal",
      "photoUrl": "https://lh3.googleusercontent.com/a/default-user=s64",
      "userId": "14896650983382194700"
     },
     "user_tz": -330
    },
    "id": "gMjWqC11BgBf",
    "outputId": "60b165aa-c12a-4c30-feb2-afd11f1ba8aa"
   },
   "outputs": [
    {
     "name": "stdout",
     "output_type": "stream",
     "text": [
      "Model: \"sequential\"\n",
      "_________________________________________________________________\n",
      " Layer (type)                Output Shape              Param #   \n",
      "=================================================================\n",
      " vgg16 (Functional)          (None, 6, 6, 512)         14714688  \n",
      "                                                                 \n",
      " flatten (Flatten)           (None, 18432)             0         \n",
      "                                                                 \n",
      " dense (Dense)               (None, 256)               4718848   \n",
      "                                                                 \n",
      " dense_1 (Dense)             (None, 3)                 771       \n",
      "                                                                 \n",
      "=================================================================\n",
      "Total params: 19,434,307\n",
      "Trainable params: 19,434,307\n",
      "Non-trainable params: 0\n",
      "_________________________________________________________________\n"
     ]
    }
   ],
   "source": [
    "model.summary(0)\n"
   ]
  },
  {
   "cell_type": "code",
   "execution_count": null,
   "metadata": {
    "colab": {
     "base_uri": "https://localhost:8080/"
    },
    "id": "NfgjeN5mBf-u",
    "outputId": "3adb45ad-57db-4b92-9e62-4ecb743314a4"
   },
   "outputs": [
    {
     "name": "stdout",
     "output_type": "stream",
     "text": [
      "Epoch 1/100\n",
      "250/250 [==============================] - 1844s 7s/step - loss: 1.0401 - acc: 0.5173 - val_loss: 1.0450 - val_acc: 0.5275\n",
      "Epoch 2/100\n",
      "250/250 [==============================] - 229s 916ms/step - loss: 1.0095 - acc: 0.5255 - val_loss: 0.9980 - val_acc: 0.5308\n",
      "Epoch 3/100\n",
      "250/250 [==============================] - 161s 641ms/step - loss: 0.9956 - acc: 0.5241 - val_loss: 0.9880 - val_acc: 0.5158\n",
      "Epoch 4/100\n",
      "250/250 [==============================] - 157s 625ms/step - loss: 0.9885 - acc: 0.5225 - val_loss: 0.9834 - val_acc: 0.5075\n",
      "Epoch 5/100\n",
      "250/250 [==============================] - 155s 620ms/step - loss: 0.9824 - acc: 0.5307 - val_loss: 0.9777 - val_acc: 0.5258\n",
      "Epoch 6/100\n",
      "250/250 [==============================] - 156s 622ms/step - loss: 0.9800 - acc: 0.5297 - val_loss: 0.9634 - val_acc: 0.5350\n",
      "Epoch 7/100\n",
      "250/250 [==============================] - 154s 616ms/step - loss: 0.9767 - acc: 0.5317 - val_loss: 0.9739 - val_acc: 0.5225\n",
      "Epoch 8/100\n",
      "250/250 [==============================] - 154s 615ms/step - loss: 0.9712 - acc: 0.5307 - val_loss: 0.9683 - val_acc: 0.5283\n",
      "Epoch 9/100\n",
      "250/250 [==============================] - 156s 623ms/step - loss: 0.9684 - acc: 0.5339 - val_loss: 0.9627 - val_acc: 0.5192\n",
      "Epoch 10/100\n",
      "250/250 [==============================] - 156s 625ms/step - loss: 0.9656 - acc: 0.5331 - val_loss: 0.9483 - val_acc: 0.5358\n",
      "Epoch 11/100\n",
      "250/250 [==============================] - 154s 615ms/step - loss: 0.9683 - acc: 0.5410 - val_loss: 0.9838 - val_acc: 0.5292\n",
      "Epoch 12/100\n",
      "250/250 [==============================] - 154s 615ms/step - loss: 0.9623 - acc: 0.5410 - val_loss: 0.9533 - val_acc: 0.5508\n",
      "Epoch 13/100\n",
      "250/250 [==============================] - 154s 614ms/step - loss: 0.9617 - acc: 0.5366 - val_loss: 0.9521 - val_acc: 0.5450\n",
      "Epoch 14/100\n",
      "250/250 [==============================] - 154s 614ms/step - loss: 0.9625 - acc: 0.5337 - val_loss: 0.9622 - val_acc: 0.5325\n",
      "Epoch 15/100\n",
      "250/250 [==============================] - 154s 614ms/step - loss: 0.9657 - acc: 0.5366 - val_loss: 0.9660 - val_acc: 0.5183\n",
      "Epoch 16/100\n",
      "250/250 [==============================] - 156s 622ms/step - loss: 0.9630 - acc: 0.5321 - val_loss: 0.9449 - val_acc: 0.5442\n",
      "Epoch 17/100\n",
      "250/250 [==============================] - 154s 615ms/step - loss: 0.9561 - acc: 0.5315 - val_loss: 0.9537 - val_acc: 0.5408\n",
      "Epoch 18/100\n",
      "250/250 [==============================] - 154s 614ms/step - loss: 0.9583 - acc: 0.5450 - val_loss: 0.9518 - val_acc: 0.5425\n",
      "Epoch 19/100\n",
      "250/250 [==============================] - 156s 622ms/step - loss: 0.9521 - acc: 0.5327 - val_loss: 0.9330 - val_acc: 0.5317\n",
      "Epoch 20/100\n",
      "250/250 [==============================] - 154s 614ms/step - loss: 0.9525 - acc: 0.5454 - val_loss: 0.9474 - val_acc: 0.5550\n",
      "Epoch 21/100\n",
      "250/250 [==============================] - 154s 615ms/step - loss: 0.9540 - acc: 0.5402 - val_loss: 0.9538 - val_acc: 0.5467\n",
      "Epoch 22/100\n",
      "250/250 [==============================] - 154s 613ms/step - loss: 0.9500 - acc: 0.5476 - val_loss: 0.9528 - val_acc: 0.5417\n",
      "Epoch 23/100\n",
      "250/250 [==============================] - 153s 612ms/step - loss: 0.9442 - acc: 0.5492 - val_loss: 0.9666 - val_acc: 0.5367\n",
      "Epoch 24/100\n",
      "250/250 [==============================] - 153s 612ms/step - loss: 0.9599 - acc: 0.5452 - val_loss: 0.9383 - val_acc: 0.5325\n",
      "Epoch 25/100\n",
      "250/250 [==============================] - 154s 614ms/step - loss: 0.9437 - acc: 0.5452 - val_loss: 0.9564 - val_acc: 0.5333\n",
      "Epoch 26/100\n",
      "250/250 [==============================] - 153s 612ms/step - loss: 0.9617 - acc: 0.5476 - val_loss: 1.0353 - val_acc: 0.5408\n",
      "Epoch 27/100\n",
      "250/250 [==============================] - 153s 612ms/step - loss: 0.9471 - acc: 0.5438 - val_loss: 0.9625 - val_acc: 0.5492\n",
      "Epoch 28/100\n",
      "250/250 [==============================] - 154s 613ms/step - loss: 0.9492 - acc: 0.5450 - val_loss: 0.9630 - val_acc: 0.5533\n",
      "Epoch 29/100\n",
      "250/250 [==============================] - 153s 612ms/step - loss: 0.9391 - acc: 0.5494 - val_loss: 0.9510 - val_acc: 0.5325\n",
      "Epoch 30/100\n",
      "250/250 [==============================] - 154s 613ms/step - loss: 0.9403 - acc: 0.5450 - val_loss: 0.9568 - val_acc: 0.5400\n",
      "Epoch 31/100\n",
      "250/250 [==============================] - 155s 619ms/step - loss: 0.9465 - acc: 0.5450 - val_loss: 0.9329 - val_acc: 0.5342\n",
      "Epoch 32/100\n",
      "250/250 [==============================] - 153s 611ms/step - loss: 0.9345 - acc: 0.5492 - val_loss: 0.9557 - val_acc: 0.5400\n",
      "Epoch 33/100\n",
      "250/250 [==============================] - 153s 612ms/step - loss: 0.9474 - acc: 0.5430 - val_loss: 0.9558 - val_acc: 0.5467\n",
      "Epoch 34/100\n",
      "250/250 [==============================] - 153s 612ms/step - loss: 0.9394 - acc: 0.5460 - val_loss: 1.0096 - val_acc: 0.5458\n",
      "Epoch 35/100\n",
      "250/250 [==============================] - 153s 611ms/step - loss: 0.9387 - acc: 0.5504 - val_loss: 0.9493 - val_acc: 0.5325\n",
      "Epoch 36/100\n",
      "250/250 [==============================] - 153s 611ms/step - loss: 0.9378 - acc: 0.5341 - val_loss: 1.2695 - val_acc: 0.5300\n",
      "Epoch 37/100\n",
      "250/250 [==============================] - 153s 612ms/step - loss: 0.9314 - acc: 0.5522 - val_loss: 0.9430 - val_acc: 0.5225\n",
      "Epoch 38/100\n",
      "250/250 [==============================] - 154s 616ms/step - loss: 0.9250 - acc: 0.5462 - val_loss: 0.9239 - val_acc: 0.5450\n",
      "Epoch 39/100\n",
      "250/250 [==============================] - 153s 611ms/step - loss: 0.9407 - acc: 0.5434 - val_loss: 0.9669 - val_acc: 0.5467\n",
      "Epoch 40/100\n",
      "250/250 [==============================] - 153s 612ms/step - loss: 0.9358 - acc: 0.5468 - val_loss: 0.9918 - val_acc: 0.5267\n",
      "Epoch 41/100\n",
      "250/250 [==============================] - 153s 611ms/step - loss: 0.9397 - acc: 0.5430 - val_loss: 0.9349 - val_acc: 0.5342\n",
      "Epoch 42/100\n",
      "250/250 [==============================] - 154s 617ms/step - loss: 0.9416 - acc: 0.5446 - val_loss: 0.9213 - val_acc: 0.5367\n",
      "Epoch 43/100\n",
      "250/250 [==============================] - 153s 612ms/step - loss: 0.9330 - acc: 0.5518 - val_loss: 0.9548 - val_acc: 0.5208\n",
      "Epoch 44/100\n",
      "250/250 [==============================] - 153s 611ms/step - loss: 0.9379 - acc: 0.5532 - val_loss: 0.9936 - val_acc: 0.5358\n",
      "Epoch 45/100\n",
      "250/250 [==============================] - 153s 612ms/step - loss: 0.9398 - acc: 0.5482 - val_loss: 0.9468 - val_acc: 0.5500\n",
      "Epoch 46/100\n",
      "250/250 [==============================] - 153s 612ms/step - loss: 0.9242 - acc: 0.5474 - val_loss: 0.9389 - val_acc: 0.5442\n",
      "Epoch 47/100\n",
      "250/250 [==============================] - 153s 611ms/step - loss: 0.9234 - acc: 0.5648 - val_loss: 0.9386 - val_acc: 0.5342\n",
      "Epoch 48/100\n",
      "250/250 [==============================] - 153s 611ms/step - loss: 0.9277 - acc: 0.5550 - val_loss: 0.9320 - val_acc: 0.5317\n",
      "Epoch 49/100\n",
      "250/250 [==============================] - 153s 611ms/step - loss: 0.9276 - acc: 0.5546 - val_loss: 0.9269 - val_acc: 0.5642\n",
      "Epoch 50/100\n",
      "250/250 [==============================] - 153s 611ms/step - loss: 0.9528 - acc: 0.5492 - val_loss: 0.9470 - val_acc: 0.5158\n",
      "Epoch 51/100\n",
      "250/250 [==============================] - 153s 610ms/step - loss: 0.9370 - acc: 0.5498 - val_loss: 0.9703 - val_acc: 0.5383\n",
      "Epoch 52/100\n",
      "250/250 [==============================] - 154s 615ms/step - loss: 0.9292 - acc: 0.5508 - val_loss: 0.9138 - val_acc: 0.5483\n",
      "Epoch 53/100\n",
      "250/250 [==============================] - 153s 610ms/step - loss: 0.9475 - acc: 0.5514 - val_loss: 1.3033 - val_acc: 0.5383\n",
      "Epoch 54/100\n",
      "250/250 [==============================] - 154s 617ms/step - loss: 1.0294 - acc: 0.5470 - val_loss: 0.9045 - val_acc: 0.5517\n",
      "Epoch 55/100\n",
      "250/250 [==============================] - 153s 610ms/step - loss: 0.9245 - acc: 0.5480 - val_loss: 1.2344 - val_acc: 0.5050\n",
      "Epoch 56/100\n",
      "250/250 [==============================] - 153s 610ms/step - loss: 0.9404 - acc: 0.5404 - val_loss: 0.9362 - val_acc: 0.5217\n",
      "Epoch 57/100\n",
      "250/250 [==============================] - 153s 609ms/step - loss: 0.9405 - acc: 0.5512 - val_loss: 1.2450 - val_acc: 0.5225\n",
      "Epoch 58/100\n",
      "250/250 [==============================] - 153s 609ms/step - loss: 0.9391 - acc: 0.5540 - val_loss: 0.9441 - val_acc: 0.5425\n",
      "Epoch 59/100\n",
      "250/250 [==============================] - 153s 609ms/step - loss: 0.9884 - acc: 0.5512 - val_loss: 0.9305 - val_acc: 0.5550\n",
      "Epoch 60/100\n",
      "250/250 [==============================] - 152s 609ms/step - loss: 0.9368 - acc: 0.5500 - val_loss: 0.9405 - val_acc: 0.5475\n",
      "Epoch 61/100\n",
      "250/250 [==============================] - 152s 609ms/step - loss: 0.9364 - acc: 0.5458 - val_loss: 0.9175 - val_acc: 0.5333\n",
      "Epoch 62/100\n",
      "250/250 [==============================] - 152s 608ms/step - loss: 0.9406 - acc: 0.5476 - val_loss: 0.9843 - val_acc: 0.5492\n",
      "Epoch 63/100\n",
      "250/250 [==============================] - 151s 603ms/step - loss: 0.9288 - acc: 0.5532 - val_loss: 0.9154 - val_acc: 0.5150\n",
      "Epoch 64/100\n",
      "149/250 [================>.............] - ETA: 55s - loss: 0.9209 - acc: 0.5584"
     ]
    }
   ],
   "source": [
    "history = model.fit(train_generator,\n",
    "                    steps_per_epoch=260,\n",
    "                    epochs=50,\n",
    "                    validation_data=valid_generator,\n",
    "                    validation_steps=60,\n",
    "                    callbacks=[checkpoint_cb])\n"
   ]
  },
  {
   "cell_type": "code",
   "execution_count": null,
   "metadata": {
    "id": "MhSs88SOBf7_"
   },
   "outputs": [],
   "source": [
    "pd.DataFrame(history.history).plot(figsize=(10, 10))\n",
    "plt.ylim((0,2))\n",
    "plt.grid(True)\n",
    "plt.show()"
   ]
  },
  {
   "cell_type": "code",
   "execution_count": null,
   "metadata": {
    "id": "Jb_oN7wQBf5A"
   },
   "outputs": [],
   "source": [
    "model.evaluate(test_generator)"
   ]
  },
  {
   "cell_type": "code",
   "execution_count": null,
   "metadata": {
    "id": "OCKXMlD6Bfzn"
   },
   "outputs": [],
   "source": []
  },
  {
   "cell_type": "code",
   "execution_count": null,
   "metadata": {
    "id": "asmCecks8XRR"
   },
   "outputs": [],
   "source": []
  },
  {
   "cell_type": "code",
   "execution_count": null,
   "metadata": {
    "id": "NNUNQXk2PqeA"
   },
   "outputs": [],
   "source": [
    "x=model.predict(test_generator)\n",
    "actual=test_generator.labels\n",
    "pred=np.argmax(x, axis=1)\n",
    "from sklearn.metrics import confusion_matrix\n",
    "confusion_matrix(actual,pred)"
   ]
  }
 ],
 "metadata": {
  "accelerator": "GPU",
  "colab": {
   "collapsed_sections": [],
   "name": "VGG16 AGCCPF.ipynb",
   "provenance": []
  },
  "kernelspec": {
   "display_name": "Python 3",
   "language": "python",
   "name": "python3"
  },
  "language_info": {
   "codemirror_mode": {
    "name": "ipython",
    "version": 3
   },
   "file_extension": ".py",
   "mimetype": "text/x-python",
   "name": "python",
   "nbconvert_exporter": "python",
   "pygments_lexer": "ipython3",
   "version": "3.8.5"
  }
 },
 "nbformat": 4,
 "nbformat_minor": 1
}
