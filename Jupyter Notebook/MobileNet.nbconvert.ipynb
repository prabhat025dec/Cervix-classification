{
 "cells": [
  {
   "cell_type": "code",
   "execution_count": 1,
   "metadata": {},
   "outputs": [],
   "source": [
    "!module purge\n",
    "!module load apps/anaconda3\n",
    "!module load compilers/nvidia/cuda/11.2\n",
    "!module load compilers/gcc/8.3.0"
   ]
  },
  {
   "cell_type": "code",
   "execution_count": 2,
   "metadata": {
    "colab": {
     "base_uri": "https://localhost:8080/"
    },
    "executionInfo": {
     "elapsed": 3838,
     "status": "ok",
     "timestamp": 1648058998206,
     "user": {
      "displayName": "NIKHIL",
      "photoUrl": "https://lh3.googleusercontent.com/a/default-user=s64",
      "userId": "08405716228323072971"
     },
     "user_tz": -330
    },
    "id": "6apL4lLkBJdS",
    "outputId": "222af61f-db28-4b0e-a2b5-d71cd1a9a54d"
   },
   "outputs": [],
   "source": [
    "\n",
    "import cv2\n",
    "import os\n",
    "import random"
   ]
  },
  {
   "cell_type": "code",
   "execution_count": 3,
   "metadata": {
    "id": "F59wrFLeBgYO"
   },
   "outputs": [],
   "source": [
    "import matplotlib.pyplot as plt\n",
    "import matplotlib as mpl\n",
    "import numpy as np\n",
    "import pandas as pd\n",
    "%matplotlib inline"
   ]
  },
  {
   "cell_type": "code",
   "execution_count": 4,
   "metadata": {
    "id": "5OM6rQxpBgUy"
   },
   "outputs": [],
   "source": [
    "import tensorflow as tf\n",
    "import tensorflow.keras as keras\n"
   ]
  },
  {
   "cell_type": "code",
   "execution_count": 5,
   "metadata": {
    "colab": {
     "base_uri": "https://localhost:8080/",
     "height": 36
    },
    "executionInfo": {
     "elapsed": 21,
     "status": "ok",
     "timestamp": 1648059004106,
     "user": {
      "displayName": "NIKHIL",
      "photoUrl": "https://lh3.googleusercontent.com/a/default-user=s64",
      "userId": "08405716228323072971"
     },
     "user_tz": -330
    },
    "id": "_hBZjOnK4M82",
    "outputId": "e1a15ed4-1643-44d3-e5c2-d09105a9f86f"
   },
   "outputs": [
    {
     "data": {
      "text/plain": [
       "'2.7.0'"
      ]
     },
     "execution_count": 5,
     "metadata": {},
     "output_type": "execute_result"
    }
   ],
   "source": [
    "tf.__version__"
   ]
  },
  {
   "cell_type": "code",
   "execution_count": 6,
   "metadata": {
    "id": "VdU5cuUdBgR-"
   },
   "outputs": [],
   "source": [
    "tf.random.set_seed(42)\n",
    "np.random.seed(42)\n"
   ]
  },
  {
   "cell_type": "code",
   "execution_count": 7,
   "metadata": {
    "id": "oQ8IUIQ8BgPR"
   },
   "outputs": [],
   "source": [
    "train_dir = \"/home/191112024/splited_dataset/AGCCPF/train\"\n",
    "test_dir = \"/home/191112024/splited_dataset/AGCCPF/test\"\n",
    "valid_dir = \"/home/191112024/splited_dataset/AGCCPF/validate\"\n"
   ]
  },
  {
   "cell_type": "code",
   "execution_count": 8,
   "metadata": {
    "id": "qpxzCWqmBgMf"
   },
   "outputs": [],
   "source": [
    "from keras.preprocessing.image import ImageDataGenerator"
   ]
  },
  {
   "cell_type": "code",
   "execution_count": 9,
   "metadata": {
    "id": "mVlMS8YeBgJ-"
   },
   "outputs": [],
   "source": [
    "train_datagen = ImageDataGenerator(\n",
    "    rescale=1./255,\n",
    "    rotation_range=30,\n",
    "    width_shift_range=0.2,\n",
    "    height_shift_range=0.2,\n",
    "    shear_range=0.2,\n",
    "    zoom_range=0.2,\n",
    "    horizontal_flip=False)\n",
    "test_datagen = ImageDataGenerator(rescale=1./255)"
   ]
  },
  {
   "cell_type": "code",
   "execution_count": 10,
   "metadata": {
    "colab": {
     "base_uri": "https://localhost:8080/"
    },
    "executionInfo": {
     "elapsed": 16,
     "status": "ok",
     "timestamp": 1648059004110,
     "user": {
      "displayName": "NIKHIL",
      "photoUrl": "https://lh3.googleusercontent.com/a/default-user=s64",
      "userId": "08405716228323072971"
     },
     "user_tz": -330
    },
    "id": "dkPxqWbyVZ8w",
    "outputId": "1f317774-5f7a-4370-ecde-4cd1990617dc"
   },
   "outputs": [
    {
     "name": "stdout",
     "output_type": "stream",
     "text": [
      "unzip:  cannot find or open AGCCPF.zip, AGCCPF.zip.zip or AGCCPF.zip.ZIP.\r\n"
     ]
    }
   ],
   "source": [
    "!unzip AGCCPF.zip"
   ]
  },
  {
   "cell_type": "code",
   "execution_count": 11,
   "metadata": {
    "colab": {
     "base_uri": "https://localhost:8080/"
    },
    "executionInfo": {
     "elapsed": 1283,
     "status": "ok",
     "timestamp": 1648059005380,
     "user": {
      "displayName": "NIKHIL",
      "photoUrl": "https://lh3.googleusercontent.com/a/default-user=s64",
      "userId": "08405716228323072971"
     },
     "user_tz": -330
    },
    "id": "QBWrLPIeBgG-",
    "outputId": "bfebfe11-3a46-48e1-984d-b14f51b1d67a"
   },
   "outputs": [
    {
     "name": "stdout",
     "output_type": "stream",
     "text": [
      "Found 5253 images belonging to 3 classes.\n",
      "Found 1315 images belonging to 3 classes.\n",
      "Found 1644 images belonging to 3 classes.\n"
     ]
    }
   ],
   "source": [
    "\n",
    "train_generator = train_datagen.flow_from_directory(\n",
    "        train_dir,\n",
    "        target_size=(224, 224),\n",
    "        batch_size=20,\n",
    "        )\n",
    "\n",
    "valid_generator = test_datagen.flow_from_directory(\n",
    "        valid_dir,\n",
    "        target_size=(224, 224),\n",
    "        batch_size=20,\n",
    "        )\n",
    "\n",
    "test_generator = test_datagen.flow_from_directory(\n",
    "        test_dir,\n",
    "        target_size=(224, 224),\n",
    "        batch_size=20,\n",
    "        )"
   ]
  },
  {
   "cell_type": "code",
   "execution_count": 12,
   "metadata": {
    "id": "Vn80dmJEHb_K"
   },
   "outputs": [],
   "source": [
    "from tensorflow.keras import layers\n",
    "from tensorflow.keras import models"
   ]
  },
  {
   "cell_type": "code",
   "execution_count": 13,
   "metadata": {
    "id": "HjZAgItjHb4X"
   },
   "outputs": [],
   "source": [
    "from tensorflow.keras import optimizers"
   ]
  },
  {
   "cell_type": "code",
   "execution_count": 14,
   "metadata": {
    "colab": {
     "base_uri": "https://localhost:8080/"
    },
    "executionInfo": {
     "elapsed": 4865,
     "status": "ok",
     "timestamp": 1648059010239,
     "user": {
      "displayName": "NIKHIL",
      "photoUrl": "https://lh3.googleusercontent.com/a/default-user=s64",
      "userId": "08405716228323072971"
     },
     "user_tz": -330
    },
    "id": "osJjtxI0HHk1",
    "outputId": "b3a01586-53e5-48fd-dfa0-0f68696e3ac8"
   },
   "outputs": [
    {
     "name": "stdout",
     "output_type": "stream",
     "text": [
      "Downloading data from https://storage.googleapis.com/tensorflow/keras-applications/mobilenet_v2/mobilenet_v2_weights_tf_dim_ordering_tf_kernels_1.0_224_no_top.h5\n",
      "9412608/9406464 [==============================] - 0s 0us/step\n",
      "9420800/9406464 [==============================] - 0s 0us/step\n"
     ]
    }
   ],
   "source": [
    "from tensorflow.keras.applications import MobileNetV2\n",
    "# conv_base = VGG16(weights='imagenet',\n",
    "#                   include_top=False,\n",
    "#                   input_shape=(200, 200, 3))\n",
    "\n",
    "\n",
    "# conv_base = EfficientNetB7(weights='imagenet',\n",
    "#                   include_top=False,\n",
    "#                   input_shape=(200, 200, 3))\n",
    "\n",
    "# conv_base = DenseNet121(weights='imagenet',\n",
    "#                   include_top=False,\n",
    "#                   input_shape=(150, 150, 3))\n",
    "\n",
    "conv_base = MobileNetV2(weights='imagenet',\n",
    "                  include_top=False,\n",
    "                  input_shape=(224, 224, 3))"
   ]
  },
  {
   "cell_type": "code",
   "execution_count": 15,
   "metadata": {
    "colab": {
     "base_uri": "https://localhost:8080/"
    },
    "executionInfo": {
     "elapsed": 1742,
     "status": "ok",
     "timestamp": 1648059011884,
     "user": {
      "displayName": "NIKHIL",
      "photoUrl": "https://lh3.googleusercontent.com/a/default-user=s64",
      "userId": "08405716228323072971"
     },
     "user_tz": -330
    },
    "id": "55R8Y-_SHHfm",
    "outputId": "24db8a91-08a3-424f-f299-381ae6678a57"
   },
   "outputs": [
    {
     "name": "stdout",
     "output_type": "stream",
     "text": [
      "Model: \"mobilenetv2_1.00_224\"\n",
      "__________________________________________________________________________________________________\n",
      " Layer (type)                   Output Shape         Param #     Connected to                     \n",
      "==================================================================================================\n",
      " input_1 (InputLayer)           [(None, 224, 224, 3  0           []                               \n",
      "                                )]                                                                \n",
      "                                                                                                  \n",
      " Conv1 (Conv2D)                 (None, 112, 112, 32  864         ['input_1[0][0]']                \n",
      "                                )                                                                 \n",
      "                                                                                                  \n",
      " bn_Conv1 (BatchNormalization)  (None, 112, 112, 32  128         ['Conv1[0][0]']                  \n",
      "                                )                                                                 \n",
      "                                                                                                  \n",
      " Conv1_relu (ReLU)              (None, 112, 112, 32  0           ['bn_Conv1[0][0]']               \n",
      "                                )                                                                 \n",
      "                                                                                                  \n",
      " expanded_conv_depthwise (Depth  (None, 112, 112, 32  288        ['Conv1_relu[0][0]']             \n",
      " wiseConv2D)                    )                                                                 \n",
      "                                                                                                  \n",
      " expanded_conv_depthwise_BN (Ba  (None, 112, 112, 32  128        ['expanded_conv_depthwise[0][0]']\n",
      " tchNormalization)              )                                                                 \n",
      "                                                                                                  \n",
      " expanded_conv_depthwise_relu (  (None, 112, 112, 32  0          ['expanded_conv_depthwise_BN[0][0\n",
      " ReLU)                          )                                ]']                              \n",
      "                                                                                                  \n",
      " expanded_conv_project (Conv2D)  (None, 112, 112, 16  512        ['expanded_conv_depthwise_relu[0]\n",
      "                                )                                [0]']                            \n",
      "                                                                                                  \n",
      " expanded_conv_project_BN (Batc  (None, 112, 112, 16  64         ['expanded_conv_project[0][0]']  \n",
      " hNormalization)                )                                                                 \n",
      "                                                                                                  \n",
      " block_1_expand (Conv2D)        (None, 112, 112, 96  1536        ['expanded_conv_project_BN[0][0]'\n",
      "                                )                                ]                                \n",
      "                                                                                                  \n",
      " block_1_expand_BN (BatchNormal  (None, 112, 112, 96  384        ['block_1_expand[0][0]']         \n",
      " ization)                       )                                                                 \n",
      "                                                                                                  \n",
      " block_1_expand_relu (ReLU)     (None, 112, 112, 96  0           ['block_1_expand_BN[0][0]']      \n",
      "                                )                                                                 \n",
      "                                                                                                  \n",
      " block_1_pad (ZeroPadding2D)    (None, 113, 113, 96  0           ['block_1_expand_relu[0][0]']    \n",
      "                                )                                                                 \n",
      "                                                                                                  \n",
      " block_1_depthwise (DepthwiseCo  (None, 56, 56, 96)  864         ['block_1_pad[0][0]']            \n",
      " nv2D)                                                                                            \n",
      "                                                                                                  \n",
      " block_1_depthwise_BN (BatchNor  (None, 56, 56, 96)  384         ['block_1_depthwise[0][0]']      \n",
      " malization)                                                                                      \n",
      "                                                                                                  \n",
      " block_1_depthwise_relu (ReLU)  (None, 56, 56, 96)   0           ['block_1_depthwise_BN[0][0]']   \n",
      "                                                                                                  \n",
      " block_1_project (Conv2D)       (None, 56, 56, 24)   2304        ['block_1_depthwise_relu[0][0]'] \n",
      "                                                                                                  \n",
      " block_1_project_BN (BatchNorma  (None, 56, 56, 24)  96          ['block_1_project[0][0]']        \n",
      " lization)                                                                                        \n",
      "                                                                                                  \n",
      " block_2_expand (Conv2D)        (None, 56, 56, 144)  3456        ['block_1_project_BN[0][0]']     \n",
      "                                                                                                  \n",
      " block_2_expand_BN (BatchNormal  (None, 56, 56, 144)  576        ['block_2_expand[0][0]']         \n",
      " ization)                                                                                         \n",
      "                                                                                                  \n",
      " block_2_expand_relu (ReLU)     (None, 56, 56, 144)  0           ['block_2_expand_BN[0][0]']      \n",
      "                                                                                                  \n",
      " block_2_depthwise (DepthwiseCo  (None, 56, 56, 144)  1296       ['block_2_expand_relu[0][0]']    \n",
      " nv2D)                                                                                            \n",
      "                                                                                                  \n",
      " block_2_depthwise_BN (BatchNor  (None, 56, 56, 144)  576        ['block_2_depthwise[0][0]']      \n",
      " malization)                                                                                      \n",
      "                                                                                                  \n",
      " block_2_depthwise_relu (ReLU)  (None, 56, 56, 144)  0           ['block_2_depthwise_BN[0][0]']   \n",
      "                                                                                                  \n",
      " block_2_project (Conv2D)       (None, 56, 56, 24)   3456        ['block_2_depthwise_relu[0][0]'] \n",
      "                                                                                                  \n",
      " block_2_project_BN (BatchNorma  (None, 56, 56, 24)  96          ['block_2_project[0][0]']        \n",
      " lization)                                                                                        \n",
      "                                                                                                  \n",
      " block_2_add (Add)              (None, 56, 56, 24)   0           ['block_1_project_BN[0][0]',     \n",
      "                                                                  'block_2_project_BN[0][0]']     \n",
      "                                                                                                  \n",
      " block_3_expand (Conv2D)        (None, 56, 56, 144)  3456        ['block_2_add[0][0]']            \n",
      "                                                                                                  \n",
      " block_3_expand_BN (BatchNormal  (None, 56, 56, 144)  576        ['block_3_expand[0][0]']         \n",
      " ization)                                                                                         \n",
      "                                                                                                  \n",
      " block_3_expand_relu (ReLU)     (None, 56, 56, 144)  0           ['block_3_expand_BN[0][0]']      \n",
      "                                                                                                  \n",
      " block_3_pad (ZeroPadding2D)    (None, 57, 57, 144)  0           ['block_3_expand_relu[0][0]']    \n",
      "                                                                                                  \n",
      " block_3_depthwise (DepthwiseCo  (None, 28, 28, 144)  1296       ['block_3_pad[0][0]']            \n",
      " nv2D)                                                                                            \n",
      "                                                                                                  \n",
      " block_3_depthwise_BN (BatchNor  (None, 28, 28, 144)  576        ['block_3_depthwise[0][0]']      \n",
      " malization)                                                                                      \n",
      "                                                                                                  \n",
      " block_3_depthwise_relu (ReLU)  (None, 28, 28, 144)  0           ['block_3_depthwise_BN[0][0]']   \n",
      "                                                                                                  \n",
      " block_3_project (Conv2D)       (None, 28, 28, 32)   4608        ['block_3_depthwise_relu[0][0]'] \n",
      "                                                                                                  \n",
      " block_3_project_BN (BatchNorma  (None, 28, 28, 32)  128         ['block_3_project[0][0]']        \n",
      " lization)                                                                                        \n",
      "                                                                                                  \n",
      " block_4_expand (Conv2D)        (None, 28, 28, 192)  6144        ['block_3_project_BN[0][0]']     \n",
      "                                                                                                  \n",
      " block_4_expand_BN (BatchNormal  (None, 28, 28, 192)  768        ['block_4_expand[0][0]']         \n",
      " ization)                                                                                         \n",
      "                                                                                                  \n",
      " block_4_expand_relu (ReLU)     (None, 28, 28, 192)  0           ['block_4_expand_BN[0][0]']      \n",
      "                                                                                                  \n",
      " block_4_depthwise (DepthwiseCo  (None, 28, 28, 192)  1728       ['block_4_expand_relu[0][0]']    \n",
      " nv2D)                                                                                            \n",
      "                                                                                                  \n",
      " block_4_depthwise_BN (BatchNor  (None, 28, 28, 192)  768        ['block_4_depthwise[0][0]']      \n",
      " malization)                                                                                      \n",
      "                                                                                                  \n",
      " block_4_depthwise_relu (ReLU)  (None, 28, 28, 192)  0           ['block_4_depthwise_BN[0][0]']   \n",
      "                                                                                                  \n",
      " block_4_project (Conv2D)       (None, 28, 28, 32)   6144        ['block_4_depthwise_relu[0][0]'] \n",
      "                                                                                                  \n",
      " block_4_project_BN (BatchNorma  (None, 28, 28, 32)  128         ['block_4_project[0][0]']        \n",
      " lization)                                                                                        \n",
      "                                                                                                  \n",
      " block_4_add (Add)              (None, 28, 28, 32)   0           ['block_3_project_BN[0][0]',     \n",
      "                                                                  'block_4_project_BN[0][0]']     \n",
      "                                                                                                  \n",
      " block_5_expand (Conv2D)        (None, 28, 28, 192)  6144        ['block_4_add[0][0]']            \n",
      "                                                                                                  \n",
      " block_5_expand_BN (BatchNormal  (None, 28, 28, 192)  768        ['block_5_expand[0][0]']         \n",
      " ization)                                                                                         \n",
      "                                                                                                  \n",
      " block_5_expand_relu (ReLU)     (None, 28, 28, 192)  0           ['block_5_expand_BN[0][0]']      \n",
      "                                                                                                  \n",
      " block_5_depthwise (DepthwiseCo  (None, 28, 28, 192)  1728       ['block_5_expand_relu[0][0]']    \n",
      " nv2D)                                                                                            \n",
      "                                                                                                  \n",
      " block_5_depthwise_BN (BatchNor  (None, 28, 28, 192)  768        ['block_5_depthwise[0][0]']      \n",
      " malization)                                                                                      \n",
      "                                                                                                  \n",
      " block_5_depthwise_relu (ReLU)  (None, 28, 28, 192)  0           ['block_5_depthwise_BN[0][0]']   \n",
      "                                                                                                  \n",
      " block_5_project (Conv2D)       (None, 28, 28, 32)   6144        ['block_5_depthwise_relu[0][0]'] \n",
      "                                                                                                  \n",
      " block_5_project_BN (BatchNorma  (None, 28, 28, 32)  128         ['block_5_project[0][0]']        \n",
      " lization)                                                                                        \n",
      "                                                                                                  \n",
      " block_5_add (Add)              (None, 28, 28, 32)   0           ['block_4_add[0][0]',            \n",
      "                                                                  'block_5_project_BN[0][0]']     \n",
      "                                                                                                  \n",
      " block_6_expand (Conv2D)        (None, 28, 28, 192)  6144        ['block_5_add[0][0]']            \n",
      "                                                                                                  \n",
      " block_6_expand_BN (BatchNormal  (None, 28, 28, 192)  768        ['block_6_expand[0][0]']         \n",
      " ization)                                                                                         \n",
      "                                                                                                  \n",
      " block_6_expand_relu (ReLU)     (None, 28, 28, 192)  0           ['block_6_expand_BN[0][0]']      \n",
      "                                                                                                  \n",
      " block_6_pad (ZeroPadding2D)    (None, 29, 29, 192)  0           ['block_6_expand_relu[0][0]']    \n",
      "                                                                                                  \n",
      " block_6_depthwise (DepthwiseCo  (None, 14, 14, 192)  1728       ['block_6_pad[0][0]']            \n",
      " nv2D)                                                                                            \n",
      "                                                                                                  \n",
      " block_6_depthwise_BN (BatchNor  (None, 14, 14, 192)  768        ['block_6_depthwise[0][0]']      \n",
      " malization)                                                                                      \n",
      "                                                                                                  \n",
      " block_6_depthwise_relu (ReLU)  (None, 14, 14, 192)  0           ['block_6_depthwise_BN[0][0]']   \n",
      "                                                                                                  \n",
      " block_6_project (Conv2D)       (None, 14, 14, 64)   12288       ['block_6_depthwise_relu[0][0]'] \n",
      "                                                                                                  \n",
      " block_6_project_BN (BatchNorma  (None, 14, 14, 64)  256         ['block_6_project[0][0]']        \n",
      " lization)                                                                                        \n",
      "                                                                                                  \n",
      " block_7_expand (Conv2D)        (None, 14, 14, 384)  24576       ['block_6_project_BN[0][0]']     \n",
      "                                                                                                  \n",
      " block_7_expand_BN (BatchNormal  (None, 14, 14, 384)  1536       ['block_7_expand[0][0]']         \n",
      " ization)                                                                                         \n",
      "                                                                                                  \n",
      " block_7_expand_relu (ReLU)     (None, 14, 14, 384)  0           ['block_7_expand_BN[0][0]']      \n",
      "                                                                                                  \n",
      " block_7_depthwise (DepthwiseCo  (None, 14, 14, 384)  3456       ['block_7_expand_relu[0][0]']    \n",
      " nv2D)                                                                                            \n",
      "                                                                                                  \n",
      " block_7_depthwise_BN (BatchNor  (None, 14, 14, 384)  1536       ['block_7_depthwise[0][0]']      \n",
      " malization)                                                                                      \n",
      "                                                                                                  \n",
      " block_7_depthwise_relu (ReLU)  (None, 14, 14, 384)  0           ['block_7_depthwise_BN[0][0]']   \n",
      "                                                                                                  \n",
      " block_7_project (Conv2D)       (None, 14, 14, 64)   24576       ['block_7_depthwise_relu[0][0]'] \n",
      "                                                                                                  \n",
      " block_7_project_BN (BatchNorma  (None, 14, 14, 64)  256         ['block_7_project[0][0]']        \n",
      " lization)                                                                                        \n",
      "                                                                                                  \n",
      " block_7_add (Add)              (None, 14, 14, 64)   0           ['block_6_project_BN[0][0]',     \n",
      "                                                                  'block_7_project_BN[0][0]']     \n",
      "                                                                                                  \n",
      " block_8_expand (Conv2D)        (None, 14, 14, 384)  24576       ['block_7_add[0][0]']            \n",
      "                                                                                                  \n",
      " block_8_expand_BN (BatchNormal  (None, 14, 14, 384)  1536       ['block_8_expand[0][0]']         \n",
      " ization)                                                                                         \n",
      "                                                                                                  \n",
      " block_8_expand_relu (ReLU)     (None, 14, 14, 384)  0           ['block_8_expand_BN[0][0]']      \n",
      "                                                                                                  \n",
      " block_8_depthwise (DepthwiseCo  (None, 14, 14, 384)  3456       ['block_8_expand_relu[0][0]']    \n",
      " nv2D)                                                                                            \n",
      "                                                                                                  \n",
      " block_8_depthwise_BN (BatchNor  (None, 14, 14, 384)  1536       ['block_8_depthwise[0][0]']      \n",
      " malization)                                                                                      \n",
      "                                                                                                  \n",
      " block_8_depthwise_relu (ReLU)  (None, 14, 14, 384)  0           ['block_8_depthwise_BN[0][0]']   \n",
      "                                                                                                  \n",
      " block_8_project (Conv2D)       (None, 14, 14, 64)   24576       ['block_8_depthwise_relu[0][0]'] \n",
      "                                                                                                  \n",
      " block_8_project_BN (BatchNorma  (None, 14, 14, 64)  256         ['block_8_project[0][0]']        \n",
      " lization)                                                                                        \n",
      "                                                                                                  \n",
      " block_8_add (Add)              (None, 14, 14, 64)   0           ['block_7_add[0][0]',            \n",
      "                                                                  'block_8_project_BN[0][0]']     \n",
      "                                                                                                  \n",
      " block_9_expand (Conv2D)        (None, 14, 14, 384)  24576       ['block_8_add[0][0]']            \n",
      "                                                                                                  \n",
      " block_9_expand_BN (BatchNormal  (None, 14, 14, 384)  1536       ['block_9_expand[0][0]']         \n",
      " ization)                                                                                         \n",
      "                                                                                                  \n",
      " block_9_expand_relu (ReLU)     (None, 14, 14, 384)  0           ['block_9_expand_BN[0][0]']      \n",
      "                                                                                                  \n",
      " block_9_depthwise (DepthwiseCo  (None, 14, 14, 384)  3456       ['block_9_expand_relu[0][0]']    \n",
      " nv2D)                                                                                            \n",
      "                                                                                                  \n",
      " block_9_depthwise_BN (BatchNor  (None, 14, 14, 384)  1536       ['block_9_depthwise[0][0]']      \n",
      " malization)                                                                                      \n",
      "                                                                                                  \n",
      " block_9_depthwise_relu (ReLU)  (None, 14, 14, 384)  0           ['block_9_depthwise_BN[0][0]']   \n",
      "                                                                                                  \n",
      " block_9_project (Conv2D)       (None, 14, 14, 64)   24576       ['block_9_depthwise_relu[0][0]'] \n",
      "                                                                                                  \n",
      " block_9_project_BN (BatchNorma  (None, 14, 14, 64)  256         ['block_9_project[0][0]']        \n",
      " lization)                                                                                        \n",
      "                                                                                                  \n",
      " block_9_add (Add)              (None, 14, 14, 64)   0           ['block_8_add[0][0]',            \n",
      "                                                                  'block_9_project_BN[0][0]']     \n",
      "                                                                                                  \n",
      " block_10_expand (Conv2D)       (None, 14, 14, 384)  24576       ['block_9_add[0][0]']            \n",
      "                                                                                                  \n",
      " block_10_expand_BN (BatchNorma  (None, 14, 14, 384)  1536       ['block_10_expand[0][0]']        \n",
      " lization)                                                                                        \n",
      "                                                                                                  \n",
      " block_10_expand_relu (ReLU)    (None, 14, 14, 384)  0           ['block_10_expand_BN[0][0]']     \n",
      "                                                                                                  \n",
      " block_10_depthwise (DepthwiseC  (None, 14, 14, 384)  3456       ['block_10_expand_relu[0][0]']   \n",
      " onv2D)                                                                                           \n",
      "                                                                                                  \n",
      " block_10_depthwise_BN (BatchNo  (None, 14, 14, 384)  1536       ['block_10_depthwise[0][0]']     \n",
      " rmalization)                                                                                     \n",
      "                                                                                                  \n",
      " block_10_depthwise_relu (ReLU)  (None, 14, 14, 384)  0          ['block_10_depthwise_BN[0][0]']  \n",
      "                                                                                                  \n",
      " block_10_project (Conv2D)      (None, 14, 14, 96)   36864       ['block_10_depthwise_relu[0][0]']\n",
      "                                                                                                  \n",
      " block_10_project_BN (BatchNorm  (None, 14, 14, 96)  384         ['block_10_project[0][0]']       \n",
      " alization)                                                                                       \n",
      "                                                                                                  \n",
      " block_11_expand (Conv2D)       (None, 14, 14, 576)  55296       ['block_10_project_BN[0][0]']    \n",
      "                                                                                                  \n",
      " block_11_expand_BN (BatchNorma  (None, 14, 14, 576)  2304       ['block_11_expand[0][0]']        \n",
      " lization)                                                                                        \n",
      "                                                                                                  \n",
      " block_11_expand_relu (ReLU)    (None, 14, 14, 576)  0           ['block_11_expand_BN[0][0]']     \n",
      "                                                                                                  \n",
      " block_11_depthwise (DepthwiseC  (None, 14, 14, 576)  5184       ['block_11_expand_relu[0][0]']   \n",
      " onv2D)                                                                                           \n",
      "                                                                                                  \n",
      " block_11_depthwise_BN (BatchNo  (None, 14, 14, 576)  2304       ['block_11_depthwise[0][0]']     \n",
      " rmalization)                                                                                     \n",
      "                                                                                                  \n",
      " block_11_depthwise_relu (ReLU)  (None, 14, 14, 576)  0          ['block_11_depthwise_BN[0][0]']  \n",
      "                                                                                                  \n",
      " block_11_project (Conv2D)      (None, 14, 14, 96)   55296       ['block_11_depthwise_relu[0][0]']\n",
      "                                                                                                  \n",
      " block_11_project_BN (BatchNorm  (None, 14, 14, 96)  384         ['block_11_project[0][0]']       \n",
      " alization)                                                                                       \n",
      "                                                                                                  \n",
      " block_11_add (Add)             (None, 14, 14, 96)   0           ['block_10_project_BN[0][0]',    \n",
      "                                                                  'block_11_project_BN[0][0]']    \n",
      "                                                                                                  \n",
      " block_12_expand (Conv2D)       (None, 14, 14, 576)  55296       ['block_11_add[0][0]']           \n",
      "                                                                                                  \n",
      " block_12_expand_BN (BatchNorma  (None, 14, 14, 576)  2304       ['block_12_expand[0][0]']        \n",
      " lization)                                                                                        \n",
      "                                                                                                  \n",
      " block_12_expand_relu (ReLU)    (None, 14, 14, 576)  0           ['block_12_expand_BN[0][0]']     \n",
      "                                                                                                  \n",
      " block_12_depthwise (DepthwiseC  (None, 14, 14, 576)  5184       ['block_12_expand_relu[0][0]']   \n",
      " onv2D)                                                                                           \n",
      "                                                                                                  \n",
      " block_12_depthwise_BN (BatchNo  (None, 14, 14, 576)  2304       ['block_12_depthwise[0][0]']     \n",
      " rmalization)                                                                                     \n",
      "                                                                                                  \n",
      " block_12_depthwise_relu (ReLU)  (None, 14, 14, 576)  0          ['block_12_depthwise_BN[0][0]']  \n",
      "                                                                                                  \n",
      " block_12_project (Conv2D)      (None, 14, 14, 96)   55296       ['block_12_depthwise_relu[0][0]']\n",
      "                                                                                                  \n",
      " block_12_project_BN (BatchNorm  (None, 14, 14, 96)  384         ['block_12_project[0][0]']       \n",
      " alization)                                                                                       \n",
      "                                                                                                  \n",
      " block_12_add (Add)             (None, 14, 14, 96)   0           ['block_11_add[0][0]',           \n",
      "                                                                  'block_12_project_BN[0][0]']    \n",
      "                                                                                                  \n",
      " block_13_expand (Conv2D)       (None, 14, 14, 576)  55296       ['block_12_add[0][0]']           \n",
      "                                                                                                  \n",
      " block_13_expand_BN (BatchNorma  (None, 14, 14, 576)  2304       ['block_13_expand[0][0]']        \n",
      " lization)                                                                                        \n",
      "                                                                                                  \n",
      " block_13_expand_relu (ReLU)    (None, 14, 14, 576)  0           ['block_13_expand_BN[0][0]']     \n",
      "                                                                                                  \n",
      " block_13_pad (ZeroPadding2D)   (None, 15, 15, 576)  0           ['block_13_expand_relu[0][0]']   \n",
      "                                                                                                  \n",
      " block_13_depthwise (DepthwiseC  (None, 7, 7, 576)   5184        ['block_13_pad[0][0]']           \n",
      " onv2D)                                                                                           \n",
      "                                                                                                  \n",
      " block_13_depthwise_BN (BatchNo  (None, 7, 7, 576)   2304        ['block_13_depthwise[0][0]']     \n",
      " rmalization)                                                                                     \n",
      "                                                                                                  \n",
      " block_13_depthwise_relu (ReLU)  (None, 7, 7, 576)   0           ['block_13_depthwise_BN[0][0]']  \n",
      "                                                                                                  \n",
      " block_13_project (Conv2D)      (None, 7, 7, 160)    92160       ['block_13_depthwise_relu[0][0]']\n",
      "                                                                                                  \n",
      " block_13_project_BN (BatchNorm  (None, 7, 7, 160)   640         ['block_13_project[0][0]']       \n",
      " alization)                                                                                       \n",
      "                                                                                                  \n",
      " block_14_expand (Conv2D)       (None, 7, 7, 960)    153600      ['block_13_project_BN[0][0]']    \n",
      "                                                                                                  \n",
      " block_14_expand_BN (BatchNorma  (None, 7, 7, 960)   3840        ['block_14_expand[0][0]']        \n",
      " lization)                                                                                        \n",
      "                                                                                                  \n",
      " block_14_expand_relu (ReLU)    (None, 7, 7, 960)    0           ['block_14_expand_BN[0][0]']     \n",
      "                                                                                                  \n",
      " block_14_depthwise (DepthwiseC  (None, 7, 7, 960)   8640        ['block_14_expand_relu[0][0]']   \n",
      " onv2D)                                                                                           \n",
      "                                                                                                  \n",
      " block_14_depthwise_BN (BatchNo  (None, 7, 7, 960)   3840        ['block_14_depthwise[0][0]']     \n",
      " rmalization)                                                                                     \n",
      "                                                                                                  \n",
      " block_14_depthwise_relu (ReLU)  (None, 7, 7, 960)   0           ['block_14_depthwise_BN[0][0]']  \n",
      "                                                                                                  \n",
      " block_14_project (Conv2D)      (None, 7, 7, 160)    153600      ['block_14_depthwise_relu[0][0]']\n",
      "                                                                                                  \n",
      " block_14_project_BN (BatchNorm  (None, 7, 7, 160)   640         ['block_14_project[0][0]']       \n",
      " alization)                                                                                       \n",
      "                                                                                                  \n",
      " block_14_add (Add)             (None, 7, 7, 160)    0           ['block_13_project_BN[0][0]',    \n",
      "                                                                  'block_14_project_BN[0][0]']    \n",
      "                                                                                                  \n",
      " block_15_expand (Conv2D)       (None, 7, 7, 960)    153600      ['block_14_add[0][0]']           \n",
      "                                                                                                  \n",
      " block_15_expand_BN (BatchNorma  (None, 7, 7, 960)   3840        ['block_15_expand[0][0]']        \n",
      " lization)                                                                                        \n",
      "                                                                                                  \n",
      " block_15_expand_relu (ReLU)    (None, 7, 7, 960)    0           ['block_15_expand_BN[0][0]']     \n",
      "                                                                                                  \n",
      " block_15_depthwise (DepthwiseC  (None, 7, 7, 960)   8640        ['block_15_expand_relu[0][0]']   \n",
      " onv2D)                                                                                           \n",
      "                                                                                                  \n",
      " block_15_depthwise_BN (BatchNo  (None, 7, 7, 960)   3840        ['block_15_depthwise[0][0]']     \n",
      " rmalization)                                                                                     \n",
      "                                                                                                  \n",
      " block_15_depthwise_relu (ReLU)  (None, 7, 7, 960)   0           ['block_15_depthwise_BN[0][0]']  \n",
      "                                                                                                  \n",
      " block_15_project (Conv2D)      (None, 7, 7, 160)    153600      ['block_15_depthwise_relu[0][0]']\n",
      "                                                                                                  \n",
      " block_15_project_BN (BatchNorm  (None, 7, 7, 160)   640         ['block_15_project[0][0]']       \n",
      " alization)                                                                                       \n",
      "                                                                                                  \n",
      " block_15_add (Add)             (None, 7, 7, 160)    0           ['block_14_add[0][0]',           \n",
      "                                                                  'block_15_project_BN[0][0]']    \n",
      "                                                                                                  \n",
      " block_16_expand (Conv2D)       (None, 7, 7, 960)    153600      ['block_15_add[0][0]']           \n",
      "                                                                                                  \n",
      " block_16_expand_BN (BatchNorma  (None, 7, 7, 960)   3840        ['block_16_expand[0][0]']        \n",
      " lization)                                                                                        \n",
      "                                                                                                  \n",
      " block_16_expand_relu (ReLU)    (None, 7, 7, 960)    0           ['block_16_expand_BN[0][0]']     \n",
      "                                                                                                  \n",
      " block_16_depthwise (DepthwiseC  (None, 7, 7, 960)   8640        ['block_16_expand_relu[0][0]']   \n",
      " onv2D)                                                                                           \n",
      "                                                                                                  \n",
      " block_16_depthwise_BN (BatchNo  (None, 7, 7, 960)   3840        ['block_16_depthwise[0][0]']     \n",
      " rmalization)                                                                                     \n",
      "                                                                                                  \n",
      " block_16_depthwise_relu (ReLU)  (None, 7, 7, 960)   0           ['block_16_depthwise_BN[0][0]']  \n",
      "                                                                                                  \n",
      " block_16_project (Conv2D)      (None, 7, 7, 320)    307200      ['block_16_depthwise_relu[0][0]']\n",
      "                                                                                                  \n",
      " block_16_project_BN (BatchNorm  (None, 7, 7, 320)   1280        ['block_16_project[0][0]']       \n",
      " alization)                                                                                       \n",
      "                                                                                                  \n",
      " Conv_1 (Conv2D)                (None, 7, 7, 1280)   409600      ['block_16_project_BN[0][0]']    \n",
      "                                                                                                  \n",
      " Conv_1_bn (BatchNormalization)  (None, 7, 7, 1280)  5120        ['Conv_1[0][0]']                 \n",
      "                                                                                                  \n",
      " out_relu (ReLU)                (None, 7, 7, 1280)   0           ['Conv_1_bn[0][0]']              \n",
      "                                                                                                  \n",
      "==================================================================================================\n",
      "Total params: 2,257,984\n",
      "Trainable params: 2,223,872\n",
      "Non-trainable params: 34,112\n",
      "__________________________________________________________________________________________________\n"
     ]
    }
   ],
   "source": [
    "conv_base.summary()"
   ]
  },
  {
   "cell_type": "code",
   "execution_count": 16,
   "metadata": {
    "id": "SPfa-BxXIxx7"
   },
   "outputs": [],
   "source": [
    "model = keras.models.Sequential()\n",
    "model.add(conv_base)\n",
    "model.add(keras.layers.GlobalAveragePooling2D())\n",
    "model.add(keras.layers.Dense(3, activation='softmax'))\n",
    "\n"
   ]
  },
  {
   "cell_type": "code",
   "execution_count": 17,
   "metadata": {
    "colab": {
     "base_uri": "https://localhost:8080/"
    },
    "executionInfo": {
     "elapsed": 22,
     "status": "ok",
     "timestamp": 1648059013201,
     "user": {
      "displayName": "NIKHIL",
      "photoUrl": "https://lh3.googleusercontent.com/a/default-user=s64",
      "userId": "08405716228323072971"
     },
     "user_tz": -330
    },
    "id": "bDBxETADe8jD",
    "outputId": "4895024b-5139-47ad-ca06-a1458fcd81d8"
   },
   "outputs": [
    {
     "name": "stderr",
     "output_type": "stream",
     "text": [
      "/home/191112024/.local/lib/python3.8/site-packages/keras/optimizer_v2/rmsprop.py:130: UserWarning: The `lr` argument is deprecated, use `learning_rate` instead.\n",
      "  super(RMSprop, self).__init__(name, **kwargs)\n"
     ]
    }
   ],
   "source": [
    "# model = models.Sequential()\n",
    "# model.add(layers.Conv2D(32, (3, 3), activation='relu',\n",
    "#                         input_shape=(150, 150, 3)))\n",
    "# model.add(layers.MaxPooling2D((2, 2)))\n",
    "# model.add(layers.Conv2D(64, (3, 3), activation='relu'))\n",
    "# model.add(layers.MaxPooling2D((2, 2)))\n",
    "# model.add(layers.Conv2D(128, (3, 3), activation='relu'))\n",
    "# model.add(layers.MaxPooling2D((2, 2)))\n",
    "# model.add(layers.Conv2D(128, (3, 3), activation='relu'))\n",
    "# model.add(layers.MaxPooling2D((2, 2)))\n",
    "# model.add(layers.Flatten())\n",
    "# model.add(layers.Dropout(0.5))\n",
    "# model.add(layers.Dense(512, activation='relu'))\n",
    "# model.add(layers.Dense(3, activation='softmax'))\n",
    "\n",
    "model.compile(loss='categorical_crossentropy',\n",
    "              optimizer=optimizers.RMSprop(lr=1e-5),\n",
    "              metrics=['acc',tf.keras.metrics.Recall(),tf.keras.metrics.Precision()])"
   ]
  },
  {
   "cell_type": "code",
   "execution_count": null,
   "metadata": {
    "id": "qB0BSqiFIxvN"
   },
   "outputs": [],
   "source": []
  },
  {
   "cell_type": "code",
   "execution_count": null,
   "metadata": {
    "id": "pZWLWDwPIxsL"
   },
   "outputs": [],
   "source": []
  },
  {
   "cell_type": "code",
   "execution_count": null,
   "metadata": {
    "id": "9SPJWRvYIxmB"
   },
   "outputs": [],
   "source": []
  },
  {
   "cell_type": "code",
   "execution_count": null,
   "metadata": {
    "id": "b4D4xfzYIxiT"
   },
   "outputs": [],
   "source": []
  },
  {
   "cell_type": "code",
   "execution_count": 18,
   "metadata": {
    "id": "4EXrUrX_BgEO"
   },
   "outputs": [],
   "source": [
    "checkpoint_cb = keras.callbacks.ModelCheckpoint(\n",
    "    \"modelmobilenet.h5\", save_best_only=True)\n",
    "earlystop_cb = keras.callbacks.EarlyStopping(\n",
    "    patience=5, restore_best_weights=True)\n"
   ]
  },
  {
   "cell_type": "code",
   "execution_count": 19,
   "metadata": {
    "colab": {
     "base_uri": "https://localhost:8080/"
    },
    "executionInfo": {
     "elapsed": 20,
     "status": "ok",
     "timestamp": 1648059013203,
     "user": {
      "displayName": "NIKHIL",
      "photoUrl": "https://lh3.googleusercontent.com/a/default-user=s64",
      "userId": "08405716228323072971"
     },
     "user_tz": -330
    },
    "id": "gMjWqC11BgBf",
    "outputId": "1ae4c10d-66a1-4f7c-84e8-2f1879287b63"
   },
   "outputs": [
    {
     "name": "stdout",
     "output_type": "stream",
     "text": [
      "Model: \"sequential\"\n",
      "_________________________________________________________________\n",
      " Layer (type)                Output Shape              Param #   \n",
      "=================================================================\n",
      " mobilenetv2_1.00_224 (Funct  (None, 7, 7, 1280)       2257984   \n",
      " ional)                                                          \n",
      "                                                                 \n",
      " global_average_pooling2d (G  (None, 1280)             0         \n",
      " lobalAveragePooling2D)                                          \n",
      "                                                                 \n",
      " dense (Dense)               (None, 3)                 3843      \n",
      "                                                                 \n",
      "=================================================================\n",
      "Total params: 2,261,827\n",
      "Trainable params: 2,227,715\n",
      "Non-trainable params: 34,112\n",
      "_________________________________________________________________\n"
     ]
    }
   ],
   "source": [
    "model.summary(0)\n"
   ]
  },
  {
   "cell_type": "code",
   "execution_count": 20,
   "metadata": {
    "colab": {
     "base_uri": "https://localhost:8080/"
    },
    "executionInfo": {
     "elapsed": 3195806,
     "status": "ok",
     "timestamp": 1648062209002,
     "user": {
      "displayName": "NIKHIL",
      "photoUrl": "https://lh3.googleusercontent.com/a/default-user=s64",
      "userId": "08405716228323072971"
     },
     "user_tz": -330
    },
    "id": "NfgjeN5mBf-u",
    "outputId": "2a21f668-b84f-4b20-818c-1e8f46d5f5e8"
   },
   "outputs": [
    {
     "name": "stdout",
     "output_type": "stream",
     "text": [
      "Epoch 1/200\n",
      "250/250 [==============================] - ETA: 0s - loss: 1.0878 - acc: 0.4448 - recall: 0.2790 - precision: 0.4713"
     ]
    },
    {
     "name": "stderr",
     "output_type": "stream",
     "text": [
      "/home/191112024/.local/lib/python3.8/site-packages/keras/engine/functional.py:1410: CustomMaskWarning: Custom mask layers require a config and must override get_config. When loading, the custom mask layer must be passed to the custom_objects argument.\n",
      "  layer_config = serialize_layer_fn(layer)\n"
     ]
    },
    {
     "name": "stdout",
     "output_type": "stream",
     "text": [
      "250/250 [==============================] - 191s 734ms/step - loss: 1.0878 - acc: 0.4448 - recall: 0.2790 - precision: 0.4713 - val_loss: 1.1656 - val_acc: 0.3708 - val_recall: 0.2183 - val_precision: 0.3770\n",
      "Epoch 2/200\n",
      "250/250 [==============================] - 187s 745ms/step - loss: 0.9711 - acc: 0.5217 - recall: 0.3915 - precision: 0.5624 - val_loss: 1.1001 - val_acc: 0.4042 - val_recall: 0.2758 - val_precision: 0.4282\n",
      "Epoch 3/200\n",
      "250/250 [==============================] - 186s 743ms/step - loss: 0.9484 - acc: 0.5396 - recall: 0.4100 - precision: 0.5647 - val_loss: 1.0341 - val_acc: 0.4533 - val_recall: 0.3375 - val_precision: 0.4793\n",
      "Epoch 4/200\n",
      "250/250 [==============================] - 183s 730ms/step - loss: 0.9114 - acc: 0.5640 - recall: 0.4484 - precision: 0.6006 - val_loss: 0.9943 - val_acc: 0.4783 - val_recall: 0.3642 - val_precision: 0.5105\n",
      "Epoch 5/200\n",
      "250/250 [==============================] - 186s 742ms/step - loss: 0.8888 - acc: 0.5748 - recall: 0.4634 - precision: 0.6197 - val_loss: 0.9584 - val_acc: 0.5192 - val_recall: 0.4125 - val_precision: 0.5398\n",
      "Epoch 6/200\n",
      "250/250 [==============================] - 185s 738ms/step - loss: 0.8737 - acc: 0.5798 - recall: 0.4685 - precision: 0.6188 - val_loss: 0.9236 - val_acc: 0.5350 - val_recall: 0.4467 - val_precision: 0.5630\n",
      "Epoch 7/200\n",
      "250/250 [==============================] - 184s 737ms/step - loss: 0.8530 - acc: 0.6010 - recall: 0.4951 - precision: 0.6427 - val_loss: 0.8989 - val_acc: 0.5575 - val_recall: 0.4867 - val_precision: 0.5893\n",
      "Epoch 8/200\n",
      "250/250 [==============================] - 185s 738ms/step - loss: 0.8182 - acc: 0.6283 - recall: 0.5305 - precision: 0.6718 - val_loss: 0.8924 - val_acc: 0.5733 - val_recall: 0.4808 - val_precision: 0.6042\n",
      "Epoch 9/200\n",
      "250/250 [==============================] - 184s 736ms/step - loss: 0.8188 - acc: 0.6127 - recall: 0.5189 - precision: 0.6578 - val_loss: 0.8727 - val_acc: 0.5825 - val_recall: 0.4908 - val_precision: 0.6060\n",
      "Epoch 10/200\n",
      "250/250 [==============================] - 186s 742ms/step - loss: 0.8018 - acc: 0.6293 - recall: 0.5380 - precision: 0.6722 - val_loss: 0.8605 - val_acc: 0.5792 - val_recall: 0.5092 - val_precision: 0.6184\n",
      "Epoch 11/200\n",
      "250/250 [==============================] - 185s 737ms/step - loss: 0.7831 - acc: 0.6375 - recall: 0.5422 - precision: 0.6734 - val_loss: 0.8620 - val_acc: 0.5983 - val_recall: 0.5342 - val_precision: 0.6353\n",
      "Epoch 12/200\n",
      "250/250 [==============================] - 184s 735ms/step - loss: 0.7703 - acc: 0.6501 - recall: 0.5632 - precision: 0.6933 - val_loss: 0.8603 - val_acc: 0.6075 - val_recall: 0.5283 - val_precision: 0.6308\n",
      "Epoch 13/200\n",
      "250/250 [==============================] - 183s 733ms/step - loss: 0.7507 - acc: 0.6641 - recall: 0.5754 - precision: 0.7071 - val_loss: 0.8531 - val_acc: 0.6050 - val_recall: 0.5492 - val_precision: 0.6361\n",
      "Epoch 14/200\n",
      "250/250 [==============================] - 186s 741ms/step - loss: 0.7327 - acc: 0.6719 - recall: 0.5940 - precision: 0.7150 - val_loss: 0.8750 - val_acc: 0.5933 - val_recall: 0.5450 - val_precision: 0.6170\n",
      "Epoch 15/200\n",
      "250/250 [==============================] - 185s 738ms/step - loss: 0.7216 - acc: 0.6804 - recall: 0.6026 - precision: 0.7211 - val_loss: 0.8607 - val_acc: 0.5958 - val_recall: 0.5492 - val_precision: 0.6217\n",
      "Epoch 16/200\n",
      "250/250 [==============================] - 185s 741ms/step - loss: 0.6951 - acc: 0.6870 - recall: 0.6217 - precision: 0.7324 - val_loss: 0.8576 - val_acc: 0.6033 - val_recall: 0.5608 - val_precision: 0.6290\n",
      "Epoch 17/200\n",
      "250/250 [==============================] - 184s 736ms/step - loss: 0.6814 - acc: 0.7014 - recall: 0.6375 - precision: 0.7439 - val_loss: 0.8586 - val_acc: 0.6175 - val_recall: 0.5717 - val_precision: 0.6387\n",
      "Epoch 18/200\n",
      "250/250 [==============================] - 186s 742ms/step - loss: 0.6621 - acc: 0.7156 - recall: 0.6557 - precision: 0.7610 - val_loss: 0.8454 - val_acc: 0.6200 - val_recall: 0.5800 - val_precision: 0.6421\n",
      "Epoch 19/200\n",
      "250/250 [==============================] - 187s 747ms/step - loss: 0.6622 - acc: 0.7120 - recall: 0.6505 - precision: 0.7541 - val_loss: 0.8558 - val_acc: 0.6142 - val_recall: 0.5717 - val_precision: 0.6364\n",
      "Epoch 20/200\n",
      "250/250 [==============================] - 188s 749ms/step - loss: 0.6477 - acc: 0.7222 - recall: 0.6549 - precision: 0.7564 - val_loss: 0.8428 - val_acc: 0.6192 - val_recall: 0.5708 - val_precision: 0.6396\n",
      "Epoch 21/200\n",
      "250/250 [==============================] - 190s 758ms/step - loss: 0.6406 - acc: 0.7240 - recall: 0.6687 - precision: 0.7616 - val_loss: 0.8531 - val_acc: 0.6342 - val_recall: 0.5900 - val_precision: 0.6495\n",
      "Epoch 22/200\n",
      "250/250 [==============================] - 191s 761ms/step - loss: 0.6115 - acc: 0.7400 - recall: 0.6779 - precision: 0.7780 - val_loss: 0.8362 - val_acc: 0.6383 - val_recall: 0.6000 - val_precision: 0.6569\n",
      "Epoch 23/200\n",
      "250/250 [==============================] - 190s 759ms/step - loss: 0.6009 - acc: 0.7450 - recall: 0.6894 - precision: 0.7819 - val_loss: 0.8438 - val_acc: 0.6400 - val_recall: 0.5983 - val_precision: 0.6563\n",
      "Epoch 24/200\n",
      "250/250 [==============================] - 195s 777ms/step - loss: 0.5822 - acc: 0.7565 - recall: 0.7054 - precision: 0.7906 - val_loss: 0.8351 - val_acc: 0.6475 - val_recall: 0.6050 - val_precision: 0.6618\n",
      "Epoch 25/200\n",
      "250/250 [==============================] - 198s 792ms/step - loss: 0.5762 - acc: 0.7615 - recall: 0.7108 - precision: 0.8013 - val_loss: 0.8283 - val_acc: 0.6492 - val_recall: 0.6100 - val_precision: 0.6624\n",
      "Epoch 26/200\n",
      "250/250 [==============================] - 220s 878ms/step - loss: 0.5696 - acc: 0.7697 - recall: 0.7168 - precision: 0.8017 - val_loss: 0.8310 - val_acc: 0.6525 - val_recall: 0.6233 - val_precision: 0.6697\n",
      "Epoch 27/200\n",
      "250/250 [==============================] - 223s 891ms/step - loss: 0.5457 - acc: 0.7809 - recall: 0.7346 - precision: 0.8101 - val_loss: 0.8396 - val_acc: 0.6508 - val_recall: 0.6208 - val_precision: 0.6640\n",
      "Epoch 28/200\n",
      "250/250 [==============================] - 223s 891ms/step - loss: 0.5414 - acc: 0.7755 - recall: 0.7314 - precision: 0.8081 - val_loss: 0.8321 - val_acc: 0.6567 - val_recall: 0.6217 - val_precision: 0.6715\n",
      "Epoch 29/200\n",
      "250/250 [==============================] - 226s 904ms/step - loss: 0.5241 - acc: 0.7857 - recall: 0.7434 - precision: 0.8142 - val_loss: 0.8580 - val_acc: 0.6533 - val_recall: 0.6300 - val_precision: 0.6696\n",
      "Epoch 30/200\n",
      "250/250 [==============================] - 226s 902ms/step - loss: 0.5153 - acc: 0.7945 - recall: 0.7509 - precision: 0.8245 - val_loss: 0.8288 - val_acc: 0.6592 - val_recall: 0.6300 - val_precision: 0.6768\n",
      "Epoch 31/200\n",
      "250/250 [==============================] - 229s 916ms/step - loss: 0.5003 - acc: 0.7936 - recall: 0.7574 - precision: 0.8269 - val_loss: 0.8046 - val_acc: 0.6717 - val_recall: 0.6367 - val_precision: 0.6889\n",
      "Epoch 32/200\n",
      "250/250 [==============================] - 218s 870ms/step - loss: 0.4931 - acc: 0.7937 - recall: 0.7587 - precision: 0.8265 - val_loss: 0.8232 - val_acc: 0.6492 - val_recall: 0.6192 - val_precision: 0.6718\n",
      "Epoch 33/200\n",
      "250/250 [==============================] - 230s 921ms/step - loss: 0.4902 - acc: 0.8001 - recall: 0.7641 - precision: 0.8268 - val_loss: 0.8429 - val_acc: 0.6533 - val_recall: 0.6267 - val_precision: 0.6714\n",
      "Epoch 34/200\n",
      "250/250 [==============================] - 231s 925ms/step - loss: 0.4657 - acc: 0.8123 - recall: 0.7787 - precision: 0.8427 - val_loss: 0.8425 - val_acc: 0.6592 - val_recall: 0.6283 - val_precision: 0.6738\n",
      "Epoch 35/200\n",
      "250/250 [==============================] - 231s 923ms/step - loss: 0.4613 - acc: 0.8191 - recall: 0.7855 - precision: 0.8431 - val_loss: 0.8170 - val_acc: 0.6542 - val_recall: 0.6258 - val_precision: 0.6760\n",
      "Epoch 36/200\n",
      "250/250 [==============================] - 231s 923ms/step - loss: 0.4510 - acc: 0.8234 - recall: 0.7897 - precision: 0.8423 - val_loss: 0.8448 - val_acc: 0.6625 - val_recall: 0.6258 - val_precision: 0.6735\n",
      "Epoch 37/200\n",
      "250/250 [==============================] - 230s 918ms/step - loss: 0.4387 - acc: 0.8195 - recall: 0.7897 - precision: 0.8480 - val_loss: 0.8206 - val_acc: 0.6617 - val_recall: 0.6342 - val_precision: 0.6776\n",
      "Epoch 38/200\n",
      "250/250 [==============================] - 229s 917ms/step - loss: 0.4304 - acc: 0.8312 - recall: 0.8021 - precision: 0.8529 - val_loss: 0.8104 - val_acc: 0.6758 - val_recall: 0.6575 - val_precision: 0.6915\n",
      "Epoch 39/200\n",
      "250/250 [==============================] - 235s 938ms/step - loss: 0.4130 - acc: 0.8434 - recall: 0.8098 - precision: 0.8620 - val_loss: 0.8653 - val_acc: 0.6750 - val_recall: 0.6533 - val_precision: 0.6835\n",
      "Epoch 40/200\n",
      "250/250 [==============================] - 232s 927ms/step - loss: 0.4137 - acc: 0.8456 - recall: 0.8185 - precision: 0.8666 - val_loss: 0.8573 - val_acc: 0.6750 - val_recall: 0.6558 - val_precision: 0.6891\n",
      "Epoch 41/200\n",
      "250/250 [==============================] - 234s 933ms/step - loss: 0.4051 - acc: 0.8392 - recall: 0.8155 - precision: 0.8567 - val_loss: 0.8301 - val_acc: 0.6775 - val_recall: 0.6583 - val_precision: 0.6906\n",
      "Epoch 42/200\n",
      "250/250 [==============================] - 232s 926ms/step - loss: 0.3801 - acc: 0.8536 - recall: 0.8284 - precision: 0.8735 - val_loss: 0.8700 - val_acc: 0.6633 - val_recall: 0.6450 - val_precision: 0.6766\n",
      "Epoch 43/200\n",
      "250/250 [==============================] - 234s 936ms/step - loss: 0.3807 - acc: 0.8478 - recall: 0.8270 - precision: 0.8673 - val_loss: 0.8502 - val_acc: 0.6700 - val_recall: 0.6533 - val_precision: 0.6895\n",
      "Epoch 44/200\n",
      "250/250 [==============================] - 233s 932ms/step - loss: 0.3674 - acc: 0.8570 - recall: 0.8344 - precision: 0.8741 - val_loss: 0.8424 - val_acc: 0.6775 - val_recall: 0.6608 - val_precision: 0.6896\n",
      "Epoch 45/200\n",
      "250/250 [==============================] - 234s 933ms/step - loss: 0.3590 - acc: 0.8624 - recall: 0.8434 - precision: 0.8800 - val_loss: 0.8609 - val_acc: 0.6833 - val_recall: 0.6608 - val_precision: 0.6902\n",
      "Epoch 46/200\n",
      "250/250 [==============================] - 235s 938ms/step - loss: 0.3646 - acc: 0.8554 - recall: 0.8342 - precision: 0.8708 - val_loss: 0.8654 - val_acc: 0.6750 - val_recall: 0.6650 - val_precision: 0.6873\n",
      "Epoch 47/200\n",
      "250/250 [==============================] - 233s 932ms/step - loss: 0.3424 - acc: 0.8670 - recall: 0.8466 - precision: 0.8841 - val_loss: 0.8717 - val_acc: 0.6808 - val_recall: 0.6675 - val_precision: 0.6899\n",
      "Epoch 48/200\n",
      "250/250 [==============================] - 232s 928ms/step - loss: 0.3319 - acc: 0.8766 - recall: 0.8564 - precision: 0.8899 - val_loss: 0.8966 - val_acc: 0.6792 - val_recall: 0.6683 - val_precision: 0.6855\n",
      "Epoch 49/200\n",
      "250/250 [==============================] - 236s 943ms/step - loss: 0.3318 - acc: 0.8692 - recall: 0.8518 - precision: 0.8849 - val_loss: 0.8876 - val_acc: 0.6817 - val_recall: 0.6717 - val_precision: 0.6913\n",
      "Epoch 50/200\n",
      "250/250 [==============================] - 237s 948ms/step - loss: 0.3054 - acc: 0.8830 - recall: 0.8644 - precision: 0.8960 - val_loss: 0.8774 - val_acc: 0.6825 - val_recall: 0.6692 - val_precision: 0.6899\n",
      "Epoch 51/200\n",
      "250/250 [==============================] - 230s 919ms/step - loss: 0.3087 - acc: 0.8774 - recall: 0.8622 - precision: 0.8926 - val_loss: 0.8677 - val_acc: 0.6808 - val_recall: 0.6725 - val_precision: 0.6897\n",
      "Epoch 52/200\n",
      "250/250 [==============================] - 236s 943ms/step - loss: 0.2968 - acc: 0.8933 - recall: 0.8760 - precision: 0.9073 - val_loss: 0.8919 - val_acc: 0.6917 - val_recall: 0.6800 - val_precision: 0.7034\n",
      "Epoch 53/200\n",
      "250/250 [==============================] - 236s 943ms/step - loss: 0.2780 - acc: 0.9017 - recall: 0.8882 - precision: 0.9139 - val_loss: 0.9223 - val_acc: 0.6817 - val_recall: 0.6708 - val_precision: 0.6874\n",
      "Epoch 54/200\n",
      "250/250 [==============================] - 238s 952ms/step - loss: 0.2859 - acc: 0.8943 - recall: 0.8814 - precision: 0.9048 - val_loss: 0.9416 - val_acc: 0.6917 - val_recall: 0.6833 - val_precision: 0.7009\n",
      "Epoch 55/200\n",
      "250/250 [==============================] - 236s 941ms/step - loss: 0.2851 - acc: 0.8876 - recall: 0.8732 - precision: 0.9008 - val_loss: 0.8916 - val_acc: 0.7000 - val_recall: 0.6892 - val_precision: 0.7050\n",
      "Epoch 56/200\n",
      "250/250 [==============================] - 238s 949ms/step - loss: 0.2694 - acc: 0.8985 - recall: 0.8874 - precision: 0.9100 - val_loss: 0.9043 - val_acc: 0.6925 - val_recall: 0.6858 - val_precision: 0.7052\n",
      "Epoch 57/200\n",
      "250/250 [==============================] - 233s 933ms/step - loss: 0.2571 - acc: 0.9045 - recall: 0.8928 - precision: 0.9167 - val_loss: 0.9587 - val_acc: 0.6883 - val_recall: 0.6800 - val_precision: 0.6974\n",
      "Epoch 58/200\n",
      "250/250 [==============================] - 238s 952ms/step - loss: 0.2580 - acc: 0.9083 - recall: 0.8961 - precision: 0.9179 - val_loss: 0.9284 - val_acc: 0.6950 - val_recall: 0.6842 - val_precision: 0.7017\n",
      "Epoch 59/200\n",
      "250/250 [==============================] - 237s 948ms/step - loss: 0.2467 - acc: 0.9107 - recall: 0.9009 - precision: 0.9215 - val_loss: 0.9611 - val_acc: 0.6950 - val_recall: 0.6883 - val_precision: 0.7030\n",
      "Epoch 60/200\n",
      "250/250 [==============================] - 235s 940ms/step - loss: 0.2415 - acc: 0.9071 - recall: 0.8975 - precision: 0.9165 - val_loss: 0.9111 - val_acc: 0.6942 - val_recall: 0.6867 - val_precision: 0.7025\n",
      "Epoch 61/200\n",
      "250/250 [==============================] - 236s 943ms/step - loss: 0.2392 - acc: 0.9115 - recall: 0.9013 - precision: 0.9214 - val_loss: 0.9815 - val_acc: 0.6883 - val_recall: 0.6825 - val_precision: 0.6947\n",
      "Epoch 62/200\n",
      "250/250 [==============================] - 237s 949ms/step - loss: 0.2304 - acc: 0.9125 - recall: 0.9035 - precision: 0.9197 - val_loss: 0.9406 - val_acc: 0.6958 - val_recall: 0.6883 - val_precision: 0.7048\n",
      "Epoch 63/200\n",
      "250/250 [==============================] - 234s 936ms/step - loss: 0.2224 - acc: 0.9159 - recall: 0.9085 - precision: 0.9255 - val_loss: 0.9659 - val_acc: 0.7000 - val_recall: 0.6867 - val_precision: 0.7025\n",
      "Epoch 64/200\n",
      "250/250 [==============================] - 236s 941ms/step - loss: 0.2261 - acc: 0.9195 - recall: 0.9101 - precision: 0.9245 - val_loss: 0.9994 - val_acc: 0.7017 - val_recall: 0.6975 - val_precision: 0.7081\n",
      "Epoch 65/200\n",
      "250/250 [==============================] - 236s 942ms/step - loss: 0.2044 - acc: 0.9251 - recall: 0.9183 - precision: 0.9334 - val_loss: 0.9721 - val_acc: 0.7000 - val_recall: 0.6900 - val_precision: 0.7035\n",
      "Epoch 66/200\n",
      "250/250 [==============================] - 223s 889ms/step - loss: 0.2122 - acc: 0.9229 - recall: 0.9141 - precision: 0.9305 - val_loss: 0.9748 - val_acc: 0.7083 - val_recall: 0.7017 - val_precision: 0.7130\n",
      "Epoch 67/200\n",
      "250/250 [==============================] - 235s 938ms/step - loss: 0.2211 - acc: 0.9165 - recall: 0.9077 - precision: 0.9232 - val_loss: 0.9759 - val_acc: 0.7058 - val_recall: 0.6992 - val_precision: 0.7140\n",
      "Epoch 68/200\n",
      "250/250 [==============================] - 238s 949ms/step - loss: 0.2125 - acc: 0.9231 - recall: 0.9179 - precision: 0.9285 - val_loss: 0.9574 - val_acc: 0.7008 - val_recall: 0.6942 - val_precision: 0.7065\n",
      "Epoch 69/200\n",
      "250/250 [==============================] - 239s 954ms/step - loss: 0.2029 - acc: 0.9297 - recall: 0.9203 - precision: 0.9357 - val_loss: 1.0527 - val_acc: 0.6958 - val_recall: 0.6933 - val_precision: 0.7057\n",
      "Epoch 70/200\n",
      "250/250 [==============================] - 236s 944ms/step - loss: 0.2029 - acc: 0.9259 - recall: 0.9181 - precision: 0.9323 - val_loss: 1.0210 - val_acc: 0.7067 - val_recall: 0.7008 - val_precision: 0.7133\n",
      "Epoch 71/200\n",
      "250/250 [==============================] - 236s 941ms/step - loss: 0.1894 - acc: 0.9279 - recall: 0.9221 - precision: 0.9343 - val_loss: 1.0445 - val_acc: 0.7000 - val_recall: 0.6883 - val_precision: 0.7066\n",
      "Epoch 72/200\n",
      "250/250 [==============================] - 235s 941ms/step - loss: 0.1742 - acc: 0.9379 - recall: 0.9323 - precision: 0.9431 - val_loss: 1.0488 - val_acc: 0.6983 - val_recall: 0.6900 - val_precision: 0.7035\n",
      "Epoch 73/200\n",
      "250/250 [==============================] - 238s 952ms/step - loss: 0.1726 - acc: 0.9363 - recall: 0.9313 - precision: 0.9419 - val_loss: 1.0284 - val_acc: 0.7217 - val_recall: 0.7158 - val_precision: 0.7304\n",
      "Epoch 74/200\n",
      "250/250 [==============================] - 235s 938ms/step - loss: 0.1974 - acc: 0.9285 - recall: 0.9217 - precision: 0.9344 - val_loss: 1.0456 - val_acc: 0.7142 - val_recall: 0.7050 - val_precision: 0.7176\n",
      "Epoch 75/200\n",
      "250/250 [==============================] - 235s 940ms/step - loss: 0.1852 - acc: 0.9329 - recall: 0.9273 - precision: 0.9395 - val_loss: 1.0558 - val_acc: 0.7167 - val_recall: 0.7142 - val_precision: 0.7220\n",
      "Epoch 76/200\n",
      "250/250 [==============================] - 239s 953ms/step - loss: 0.1599 - acc: 0.9403 - recall: 0.9357 - precision: 0.9456 - val_loss: 1.0146 - val_acc: 0.7208 - val_recall: 0.7142 - val_precision: 0.7257\n",
      "Epoch 77/200\n",
      "250/250 [==============================] - 236s 944ms/step - loss: 0.1736 - acc: 0.9371 - recall: 0.9315 - precision: 0.9419 - val_loss: 0.9627 - val_acc: 0.7225 - val_recall: 0.7175 - val_precision: 0.7260\n",
      "Epoch 78/200\n",
      "250/250 [==============================] - 236s 941ms/step - loss: 0.1664 - acc: 0.9379 - recall: 0.9327 - precision: 0.9431 - val_loss: 1.0327 - val_acc: 0.7208 - val_recall: 0.7117 - val_precision: 0.7219\n",
      "Epoch 79/200\n",
      "250/250 [==============================] - 233s 931ms/step - loss: 0.1581 - acc: 0.9395 - recall: 0.9351 - precision: 0.9453 - val_loss: 0.9643 - val_acc: 0.7292 - val_recall: 0.7233 - val_precision: 0.7331\n",
      "Epoch 80/200\n",
      "250/250 [==============================] - 224s 897ms/step - loss: 0.1441 - acc: 0.9485 - recall: 0.9431 - precision: 0.9534 - val_loss: 0.9760 - val_acc: 0.7317 - val_recall: 0.7233 - val_precision: 0.7350\n",
      "Epoch 81/200\n",
      "250/250 [==============================] - 237s 947ms/step - loss: 0.1573 - acc: 0.9391 - recall: 0.9349 - precision: 0.9446 - val_loss: 0.9692 - val_acc: 0.7267 - val_recall: 0.7217 - val_precision: 0.7333\n",
      "Epoch 82/200\n",
      "250/250 [==============================] - 236s 944ms/step - loss: 0.1555 - acc: 0.9447 - recall: 0.9411 - precision: 0.9491 - val_loss: 1.0041 - val_acc: 0.7250 - val_recall: 0.7183 - val_precision: 0.7280\n",
      "Epoch 83/200\n",
      "250/250 [==============================] - 236s 944ms/step - loss: 0.1471 - acc: 0.9469 - recall: 0.9437 - precision: 0.9500 - val_loss: 1.0411 - val_acc: 0.7258 - val_recall: 0.7208 - val_precision: 0.7318\n",
      "Epoch 84/200\n",
      "250/250 [==============================] - 238s 952ms/step - loss: 0.1449 - acc: 0.9469 - recall: 0.9433 - precision: 0.9496 - val_loss: 1.0969 - val_acc: 0.7250 - val_recall: 0.7192 - val_precision: 0.7295\n",
      "Epoch 85/200\n",
      "250/250 [==============================] - 238s 951ms/step - loss: 0.1443 - acc: 0.9489 - recall: 0.9457 - precision: 0.9532 - val_loss: 1.0461 - val_acc: 0.7258 - val_recall: 0.7208 - val_precision: 0.7275\n",
      "Epoch 86/200\n",
      "250/250 [==============================] - 233s 933ms/step - loss: 0.1392 - acc: 0.9499 - recall: 0.9459 - precision: 0.9520 - val_loss: 1.1242 - val_acc: 0.7158 - val_recall: 0.7100 - val_precision: 0.7196\n",
      "Epoch 87/200\n",
      "250/250 [==============================] - 237s 947ms/step - loss: 0.1396 - acc: 0.9521 - recall: 0.9475 - precision: 0.9544 - val_loss: 1.0913 - val_acc: 0.7283 - val_recall: 0.7233 - val_precision: 0.7337\n",
      "Epoch 88/200\n",
      "250/250 [==============================] - 238s 953ms/step - loss: 0.1383 - acc: 0.9491 - recall: 0.9471 - precision: 0.9521 - val_loss: 1.1377 - val_acc: 0.7117 - val_recall: 0.7075 - val_precision: 0.7159\n",
      "Epoch 89/200\n",
      "250/250 [==============================] - 235s 938ms/step - loss: 0.1287 - acc: 0.9537 - recall: 0.9479 - precision: 0.9558 - val_loss: 1.1270 - val_acc: 0.7158 - val_recall: 0.7092 - val_precision: 0.7194\n",
      "Epoch 90/200\n",
      "250/250 [==============================] - 234s 935ms/step - loss: 0.1383 - acc: 0.9509 - recall: 0.9485 - precision: 0.9541 - val_loss: 1.1827 - val_acc: 0.7167 - val_recall: 0.7125 - val_precision: 0.7221\n",
      "Epoch 91/200\n",
      "250/250 [==============================] - 238s 949ms/step - loss: 0.1269 - acc: 0.9567 - recall: 0.9533 - precision: 0.9606 - val_loss: 1.1408 - val_acc: 0.7292 - val_recall: 0.7217 - val_precision: 0.7327\n",
      "Epoch 92/200\n",
      "250/250 [==============================] - 241s 963ms/step - loss: 0.1180 - acc: 0.9595 - recall: 0.9563 - precision: 0.9627 - val_loss: 1.1390 - val_acc: 0.7258 - val_recall: 0.7200 - val_precision: 0.7316\n",
      "Epoch 93/200\n",
      "250/250 [==============================] - 238s 949ms/step - loss: 0.1156 - acc: 0.9579 - recall: 0.9561 - precision: 0.9602 - val_loss: 1.0929 - val_acc: 0.7200 - val_recall: 0.7133 - val_precision: 0.7218\n",
      "Epoch 94/200\n",
      "250/250 [==============================] - 235s 938ms/step - loss: 0.1181 - acc: 0.9573 - recall: 0.9551 - precision: 0.9584 - val_loss: 1.1243 - val_acc: 0.7167 - val_recall: 0.7142 - val_precision: 0.7196\n",
      "Epoch 95/200\n",
      "250/250 [==============================] - 235s 937ms/step - loss: 0.1068 - acc: 0.9637 - recall: 0.9611 - precision: 0.9650 - val_loss: 1.0985 - val_acc: 0.7292 - val_recall: 0.7242 - val_precision: 0.7352\n",
      "Epoch 96/200\n",
      "250/250 [==============================] - 234s 936ms/step - loss: 0.1108 - acc: 0.9631 - recall: 0.9591 - precision: 0.9653 - val_loss: 1.1193 - val_acc: 0.7275 - val_recall: 0.7250 - val_precision: 0.7311\n",
      "Epoch 97/200\n",
      "250/250 [==============================] - 239s 956ms/step - loss: 0.1104 - acc: 0.9601 - recall: 0.9575 - precision: 0.9616 - val_loss: 1.1520 - val_acc: 0.7175 - val_recall: 0.7142 - val_precision: 0.7208\n",
      "Epoch 98/200\n",
      "250/250 [==============================] - 236s 941ms/step - loss: 0.1168 - acc: 0.9571 - recall: 0.9553 - precision: 0.9601 - val_loss: 1.1019 - val_acc: 0.7292 - val_recall: 0.7242 - val_precision: 0.7296\n",
      "Epoch 99/200\n",
      "250/250 [==============================] - 237s 946ms/step - loss: 0.1144 - acc: 0.9603 - recall: 0.9583 - precision: 0.9628 - val_loss: 1.1477 - val_acc: 0.7317 - val_recall: 0.7300 - val_precision: 0.7374\n",
      "Epoch 100/200\n",
      "250/250 [==============================] - 238s 949ms/step - loss: 0.1056 - acc: 0.9629 - recall: 0.9601 - precision: 0.9652 - val_loss: 1.1613 - val_acc: 0.7308 - val_recall: 0.7292 - val_precision: 0.7347\n",
      "Epoch 101/200\n",
      "250/250 [==============================] - 238s 950ms/step - loss: 0.1083 - acc: 0.9629 - recall: 0.9615 - precision: 0.9646 - val_loss: 1.1486 - val_acc: 0.7292 - val_recall: 0.7250 - val_precision: 0.7323\n",
      "Epoch 102/200\n",
      "250/250 [==============================] - 238s 951ms/step - loss: 0.1073 - acc: 0.9595 - recall: 0.9577 - precision: 0.9606 - val_loss: 1.1870 - val_acc: 0.7408 - val_recall: 0.7375 - val_precision: 0.7424\n",
      "Epoch 103/200\n",
      "250/250 [==============================] - 235s 940ms/step - loss: 0.1061 - acc: 0.9605 - recall: 0.9589 - precision: 0.9622 - val_loss: 1.2002 - val_acc: 0.7208 - val_recall: 0.7192 - val_precision: 0.7264\n",
      "Epoch 104/200\n",
      "250/250 [==============================] - 238s 951ms/step - loss: 0.1026 - acc: 0.9644 - recall: 0.9623 - precision: 0.9658 - val_loss: 1.2419 - val_acc: 0.7250 - val_recall: 0.7200 - val_precision: 0.7279\n",
      "Epoch 105/200\n",
      "250/250 [==============================] - 240s 957ms/step - loss: 0.1021 - acc: 0.9666 - recall: 0.9639 - precision: 0.9678 - val_loss: 1.2205 - val_acc: 0.7192 - val_recall: 0.7158 - val_precision: 0.7218\n",
      "Epoch 106/200\n",
      "250/250 [==============================] - 236s 943ms/step - loss: 0.1043 - acc: 0.9629 - recall: 0.9619 - precision: 0.9641 - val_loss: 1.2429 - val_acc: 0.7200 - val_recall: 0.7183 - val_precision: 0.7244\n",
      "Epoch 107/200\n",
      "250/250 [==============================] - 240s 960ms/step - loss: 0.0916 - acc: 0.9712 - recall: 0.9688 - precision: 0.9717 - val_loss: 1.2112 - val_acc: 0.7250 - val_recall: 0.7233 - val_precision: 0.7282\n",
      "Epoch 108/200\n",
      "250/250 [==============================] - 239s 955ms/step - loss: 0.0929 - acc: 0.9674 - recall: 0.9656 - precision: 0.9708 - val_loss: 1.2144 - val_acc: 0.7333 - val_recall: 0.7275 - val_precision: 0.7342\n",
      "Epoch 109/200\n",
      "250/250 [==============================] - 238s 951ms/step - loss: 0.0957 - acc: 0.9672 - recall: 0.9666 - precision: 0.9693 - val_loss: 1.2070 - val_acc: 0.7317 - val_recall: 0.7283 - val_precision: 0.7345\n",
      "Epoch 110/200\n",
      "250/250 [==============================] - 237s 947ms/step - loss: 0.0966 - acc: 0.9654 - recall: 0.9633 - precision: 0.9670 - val_loss: 1.1761 - val_acc: 0.7325 - val_recall: 0.7258 - val_precision: 0.7344\n",
      "Epoch 111/200\n",
      "250/250 [==============================] - 239s 956ms/step - loss: 0.0981 - acc: 0.9650 - recall: 0.9635 - precision: 0.9668 - val_loss: 1.3084 - val_acc: 0.7225 - val_recall: 0.7217 - val_precision: 0.7259\n",
      "Epoch 112/200\n",
      "250/250 [==============================] - 236s 943ms/step - loss: 0.0968 - acc: 0.9644 - recall: 0.9631 - precision: 0.9666 - val_loss: 1.2443 - val_acc: 0.7350 - val_recall: 0.7308 - val_precision: 0.7345\n",
      "Epoch 113/200\n",
      "250/250 [==============================] - 235s 938ms/step - loss: 0.0944 - acc: 0.9637 - recall: 0.9621 - precision: 0.9670 - val_loss: 1.3313 - val_acc: 0.7250 - val_recall: 0.7225 - val_precision: 0.7273\n",
      "Epoch 114/200\n",
      "250/250 [==============================] - 238s 952ms/step - loss: 0.0827 - acc: 0.9726 - recall: 0.9708 - precision: 0.9737 - val_loss: 1.2660 - val_acc: 0.7325 - val_recall: 0.7283 - val_precision: 0.7363\n",
      "Epoch 115/200\n",
      "250/250 [==============================] - 238s 949ms/step - loss: 0.0810 - acc: 0.9720 - recall: 0.9702 - precision: 0.9735 - val_loss: 1.2731 - val_acc: 0.7283 - val_recall: 0.7242 - val_precision: 0.7321\n",
      "Epoch 116/200\n",
      "250/250 [==============================] - 238s 950ms/step - loss: 0.0774 - acc: 0.9734 - recall: 0.9728 - precision: 0.9753 - val_loss: 1.2463 - val_acc: 0.7392 - val_recall: 0.7350 - val_precision: 0.7406\n",
      "Epoch 117/200\n",
      "250/250 [==============================] - 237s 946ms/step - loss: 0.0863 - acc: 0.9676 - recall: 0.9668 - precision: 0.9689 - val_loss: 1.2571 - val_acc: 0.7375 - val_recall: 0.7342 - val_precision: 0.7403\n",
      "Epoch 118/200\n",
      "250/250 [==============================] - 234s 936ms/step - loss: 0.0889 - acc: 0.9698 - recall: 0.9688 - precision: 0.9709 - val_loss: 1.2475 - val_acc: 0.7383 - val_recall: 0.7358 - val_precision: 0.7389\n",
      "Epoch 119/200\n",
      "250/250 [==============================] - 234s 936ms/step - loss: 0.0825 - acc: 0.9684 - recall: 0.9680 - precision: 0.9695 - val_loss: 1.2356 - val_acc: 0.7375 - val_recall: 0.7350 - val_precision: 0.7381\n",
      "Epoch 120/200\n",
      "250/250 [==============================] - 237s 947ms/step - loss: 0.0808 - acc: 0.9722 - recall: 0.9702 - precision: 0.9731 - val_loss: 1.2945 - val_acc: 0.7367 - val_recall: 0.7350 - val_precision: 0.7387\n",
      "Epoch 121/200\n",
      "250/250 [==============================] - 240s 958ms/step - loss: 0.0871 - acc: 0.9714 - recall: 0.9702 - precision: 0.9727 - val_loss: 1.2515 - val_acc: 0.7550 - val_recall: 0.7525 - val_precision: 0.7576\n",
      "Epoch 122/200\n",
      "250/250 [==============================] - 229s 914ms/step - loss: 0.0834 - acc: 0.9710 - recall: 0.9704 - precision: 0.9723 - val_loss: 1.2824 - val_acc: 0.7533 - val_recall: 0.7508 - val_precision: 0.7552\n",
      "Epoch 123/200\n",
      "250/250 [==============================] - 238s 951ms/step - loss: 0.0779 - acc: 0.9732 - recall: 0.9722 - precision: 0.9749 - val_loss: 1.2665 - val_acc: 0.7483 - val_recall: 0.7467 - val_precision: 0.7498\n",
      "Epoch 124/200\n",
      "250/250 [==============================] - 238s 951ms/step - loss: 0.0778 - acc: 0.9734 - recall: 0.9724 - precision: 0.9741 - val_loss: 1.3095 - val_acc: 0.7508 - val_recall: 0.7483 - val_precision: 0.7515\n",
      "Epoch 125/200\n",
      "250/250 [==============================] - 236s 943ms/step - loss: 0.0824 - acc: 0.9708 - recall: 0.9698 - precision: 0.9723 - val_loss: 1.2807 - val_acc: 0.7467 - val_recall: 0.7450 - val_precision: 0.7525\n",
      "Epoch 126/200\n",
      "250/250 [==============================] - 239s 954ms/step - loss: 0.0693 - acc: 0.9756 - recall: 0.9750 - precision: 0.9768 - val_loss: 1.3393 - val_acc: 0.7458 - val_recall: 0.7442 - val_precision: 0.7485\n",
      "Epoch 127/200\n",
      "250/250 [==============================] - 235s 939ms/step - loss: 0.0654 - acc: 0.9778 - recall: 0.9762 - precision: 0.9781 - val_loss: 1.3045 - val_acc: 0.7458 - val_recall: 0.7433 - val_precision: 0.7490\n",
      "Epoch 128/200\n",
      "250/250 [==============================] - 236s 944ms/step - loss: 0.0730 - acc: 0.9734 - recall: 0.9726 - precision: 0.9757 - val_loss: 1.3037 - val_acc: 0.7475 - val_recall: 0.7442 - val_precision: 0.7479\n",
      "Epoch 129/200\n",
      "250/250 [==============================] - 235s 940ms/step - loss: 0.0697 - acc: 0.9764 - recall: 0.9754 - precision: 0.9772 - val_loss: 1.2916 - val_acc: 0.7358 - val_recall: 0.7342 - val_precision: 0.7391\n",
      "Epoch 130/200\n",
      "250/250 [==============================] - 236s 944ms/step - loss: 0.0689 - acc: 0.9776 - recall: 0.9768 - precision: 0.9777 - val_loss: 1.3826 - val_acc: 0.7283 - val_recall: 0.7258 - val_precision: 0.7301\n",
      "Epoch 131/200\n",
      "250/250 [==============================] - 238s 949ms/step - loss: 0.0738 - acc: 0.9740 - recall: 0.9732 - precision: 0.9749 - val_loss: 1.4059 - val_acc: 0.7308 - val_recall: 0.7292 - val_precision: 0.7353\n",
      "Epoch 132/200\n",
      "250/250 [==============================] - 235s 939ms/step - loss: 0.0745 - acc: 0.9712 - recall: 0.9710 - precision: 0.9721 - val_loss: 1.3703 - val_acc: 0.7300 - val_recall: 0.7283 - val_precision: 0.7326\n",
      "Epoch 133/200\n",
      "250/250 [==============================] - 241s 963ms/step - loss: 0.0669 - acc: 0.9802 - recall: 0.9794 - precision: 0.9811 - val_loss: 1.3056 - val_acc: 0.7383 - val_recall: 0.7350 - val_precision: 0.7418\n",
      "Epoch 134/200\n",
      "250/250 [==============================] - 243s 969ms/step - loss: 0.0763 - acc: 0.9730 - recall: 0.9720 - precision: 0.9731 - val_loss: 1.3357 - val_acc: 0.7400 - val_recall: 0.7383 - val_precision: 0.7408\n",
      "Epoch 135/200\n",
      "250/250 [==============================] - 239s 955ms/step - loss: 0.0648 - acc: 0.9810 - recall: 0.9798 - precision: 0.9819 - val_loss: 1.3752 - val_acc: 0.7483 - val_recall: 0.7450 - val_precision: 0.7506\n",
      "Epoch 136/200\n",
      "250/250 [==============================] - 237s 948ms/step - loss: 0.0733 - acc: 0.9750 - recall: 0.9740 - precision: 0.9757 - val_loss: 1.3199 - val_acc: 0.7458 - val_recall: 0.7433 - val_precision: 0.7471\n",
      "Epoch 137/200\n",
      "250/250 [==============================] - 238s 951ms/step - loss: 0.0628 - acc: 0.9780 - recall: 0.9776 - precision: 0.9784 - val_loss: 1.3306 - val_acc: 0.7450 - val_recall: 0.7433 - val_precision: 0.7464\n",
      "Epoch 138/200\n",
      "250/250 [==============================] - 237s 946ms/step - loss: 0.0660 - acc: 0.9774 - recall: 0.9760 - precision: 0.9783 - val_loss: 1.4699 - val_acc: 0.7433 - val_recall: 0.7408 - val_precision: 0.7446\n",
      "Epoch 139/200\n",
      "250/250 [==============================] - 237s 945ms/step - loss: 0.0613 - acc: 0.9770 - recall: 0.9762 - precision: 0.9779 - val_loss: 1.3432 - val_acc: 0.7475 - val_recall: 0.7458 - val_precision: 0.7496\n",
      "Epoch 140/200\n",
      "250/250 [==============================] - 238s 951ms/step - loss: 0.0666 - acc: 0.9790 - recall: 0.9782 - precision: 0.9795 - val_loss: 1.4001 - val_acc: 0.7458 - val_recall: 0.7425 - val_precision: 0.7475\n",
      "Epoch 141/200\n",
      "250/250 [==============================] - 240s 959ms/step - loss: 0.0622 - acc: 0.9778 - recall: 0.9770 - precision: 0.9791 - val_loss: 1.3033 - val_acc: 0.7400 - val_recall: 0.7367 - val_precision: 0.7429\n",
      "Epoch 142/200\n",
      "250/250 [==============================] - 238s 950ms/step - loss: 0.0528 - acc: 0.9802 - recall: 0.9796 - precision: 0.9813 - val_loss: 1.3784 - val_acc: 0.7433 - val_recall: 0.7400 - val_precision: 0.7450\n",
      "Epoch 143/200\n",
      "250/250 [==============================] - 239s 953ms/step - loss: 0.0591 - acc: 0.9802 - recall: 0.9800 - precision: 0.9808 - val_loss: 1.3980 - val_acc: 0.7408 - val_recall: 0.7392 - val_precision: 0.7448\n",
      "Epoch 144/200\n",
      "250/250 [==============================] - 237s 948ms/step - loss: 0.0619 - acc: 0.9786 - recall: 0.9774 - precision: 0.9785 - val_loss: 1.3696 - val_acc: 0.7417 - val_recall: 0.7383 - val_precision: 0.7433\n",
      "Epoch 145/200\n",
      "250/250 [==============================] - 230s 921ms/step - loss: 0.0583 - acc: 0.9794 - recall: 0.9788 - precision: 0.9803 - val_loss: 1.3744 - val_acc: 0.7417 - val_recall: 0.7392 - val_precision: 0.7448\n",
      "Epoch 146/200\n",
      "250/250 [==============================] - 234s 935ms/step - loss: 0.0557 - acc: 0.9806 - recall: 0.9790 - precision: 0.9817 - val_loss: 1.4047 - val_acc: 0.7417 - val_recall: 0.7400 - val_precision: 0.7468\n",
      "Epoch 147/200\n",
      "250/250 [==============================] - 236s 944ms/step - loss: 0.0631 - acc: 0.9768 - recall: 0.9764 - precision: 0.9783 - val_loss: 1.3972 - val_acc: 0.7475 - val_recall: 0.7450 - val_precision: 0.7500\n",
      "Epoch 148/200\n",
      "250/250 [==============================] - 236s 942ms/step - loss: 0.0573 - acc: 0.9778 - recall: 0.9776 - precision: 0.9785 - val_loss: 1.3128 - val_acc: 0.7517 - val_recall: 0.7508 - val_precision: 0.7540\n",
      "Epoch 149/200\n",
      "250/250 [==============================] - 242s 968ms/step - loss: 0.0567 - acc: 0.9808 - recall: 0.9800 - precision: 0.9815 - val_loss: 1.3354 - val_acc: 0.7392 - val_recall: 0.7375 - val_precision: 0.7437\n",
      "Epoch 150/200\n",
      "250/250 [==============================] - 238s 949ms/step - loss: 0.0635 - acc: 0.9770 - recall: 0.9766 - precision: 0.9775 - val_loss: 1.4242 - val_acc: 0.7392 - val_recall: 0.7350 - val_precision: 0.7412\n",
      "Epoch 151/200\n",
      "250/250 [==============================] - 239s 954ms/step - loss: 0.0571 - acc: 0.9788 - recall: 0.9786 - precision: 0.9801 - val_loss: 1.4693 - val_acc: 0.7358 - val_recall: 0.7333 - val_precision: 0.7364\n",
      "Epoch 152/200\n",
      "250/250 [==============================] - 240s 961ms/step - loss: 0.0508 - acc: 0.9814 - recall: 0.9810 - precision: 0.9820 - val_loss: 1.5132 - val_acc: 0.7367 - val_recall: 0.7333 - val_precision: 0.7376\n",
      "Epoch 153/200\n",
      "250/250 [==============================] - 241s 964ms/step - loss: 0.0541 - acc: 0.9814 - recall: 0.9810 - precision: 0.9816 - val_loss: 1.3482 - val_acc: 0.7350 - val_recall: 0.7333 - val_precision: 0.7376\n",
      "Epoch 154/200\n",
      "250/250 [==============================] - 238s 952ms/step - loss: 0.0539 - acc: 0.9824 - recall: 0.9824 - precision: 0.9830 - val_loss: 1.3848 - val_acc: 0.7325 - val_recall: 0.7292 - val_precision: 0.7328\n",
      "Epoch 155/200\n",
      "250/250 [==============================] - 239s 954ms/step - loss: 0.0546 - acc: 0.9804 - recall: 0.9798 - precision: 0.9810 - val_loss: 1.3919 - val_acc: 0.7417 - val_recall: 0.7383 - val_precision: 0.7439\n",
      "Epoch 156/200\n",
      "250/250 [==============================] - 241s 962ms/step - loss: 0.0568 - acc: 0.9788 - recall: 0.9784 - precision: 0.9790 - val_loss: 1.4456 - val_acc: 0.7442 - val_recall: 0.7425 - val_precision: 0.7469\n",
      "Epoch 157/200\n",
      "250/250 [==============================] - 232s 927ms/step - loss: 0.0527 - acc: 0.9832 - recall: 0.9820 - precision: 0.9834 - val_loss: 1.5023 - val_acc: 0.7417 - val_recall: 0.7392 - val_precision: 0.7454\n",
      "Epoch 158/200\n",
      "250/250 [==============================] - 240s 960ms/step - loss: 0.0492 - acc: 0.9844 - recall: 0.9838 - precision: 0.9852 - val_loss: 1.4760 - val_acc: 0.7450 - val_recall: 0.7425 - val_precision: 0.7462\n",
      "Epoch 159/200\n",
      "250/250 [==============================] - 240s 957ms/step - loss: 0.0420 - acc: 0.9838 - recall: 0.9832 - precision: 0.9842 - val_loss: 1.4657 - val_acc: 0.7417 - val_recall: 0.7408 - val_precision: 0.7464\n",
      "Epoch 160/200\n",
      "250/250 [==============================] - 239s 956ms/step - loss: 0.0530 - acc: 0.9816 - recall: 0.9812 - precision: 0.9824 - val_loss: 1.4687 - val_acc: 0.7475 - val_recall: 0.7442 - val_precision: 0.7473\n",
      "Epoch 161/200\n",
      "250/250 [==============================] - 235s 939ms/step - loss: 0.0534 - acc: 0.9802 - recall: 0.9796 - precision: 0.9804 - val_loss: 1.3898 - val_acc: 0.7542 - val_recall: 0.7508 - val_precision: 0.7565\n",
      "Epoch 162/200\n",
      "250/250 [==============================] - 235s 940ms/step - loss: 0.0492 - acc: 0.9828 - recall: 0.9826 - precision: 0.9834 - val_loss: 1.5344 - val_acc: 0.7417 - val_recall: 0.7392 - val_precision: 0.7435\n",
      "Epoch 163/200\n",
      "250/250 [==============================] - 239s 954ms/step - loss: 0.0523 - acc: 0.9812 - recall: 0.9808 - precision: 0.9816 - val_loss: 1.3852 - val_acc: 0.7567 - val_recall: 0.7517 - val_precision: 0.7586\n",
      "Epoch 164/200\n",
      "250/250 [==============================] - 239s 955ms/step - loss: 0.0511 - acc: 0.9820 - recall: 0.9820 - precision: 0.9828 - val_loss: 1.5575 - val_acc: 0.7433 - val_recall: 0.7417 - val_precision: 0.7441\n",
      "Epoch 165/200\n",
      "250/250 [==============================] - 239s 956ms/step - loss: 0.0491 - acc: 0.9820 - recall: 0.9818 - precision: 0.9826 - val_loss: 1.5403 - val_acc: 0.7467 - val_recall: 0.7450 - val_precision: 0.7500\n",
      "Epoch 166/200\n",
      "250/250 [==============================] - 240s 957ms/step - loss: 0.0446 - acc: 0.9846 - recall: 0.9840 - precision: 0.9848 - val_loss: 1.5378 - val_acc: 0.7517 - val_recall: 0.7508 - val_precision: 0.7527\n",
      "Epoch 167/200\n",
      "250/250 [==============================] - 229s 915ms/step - loss: 0.0449 - acc: 0.9872 - recall: 0.9872 - precision: 0.9880 - val_loss: 1.4906 - val_acc: 0.7492 - val_recall: 0.7450 - val_precision: 0.7500\n",
      "Epoch 168/200\n",
      "250/250 [==============================] - 242s 968ms/step - loss: 0.0436 - acc: 0.9848 - recall: 0.9844 - precision: 0.9856 - val_loss: 1.6165 - val_acc: 0.7492 - val_recall: 0.7483 - val_precision: 0.7502\n",
      "Epoch 169/200\n",
      "250/250 [==============================] - 241s 965ms/step - loss: 0.0430 - acc: 0.9842 - recall: 0.9840 - precision: 0.9846 - val_loss: 1.5513 - val_acc: 0.7483 - val_recall: 0.7475 - val_precision: 0.7500\n",
      "Epoch 170/200\n",
      "250/250 [==============================] - 244s 974ms/step - loss: 0.0460 - acc: 0.9840 - recall: 0.9838 - precision: 0.9844 - val_loss: 1.4941 - val_acc: 0.7458 - val_recall: 0.7458 - val_precision: 0.7496\n",
      "Epoch 171/200\n",
      "250/250 [==============================] - 247s 985ms/step - loss: 0.0421 - acc: 0.9872 - recall: 0.9864 - precision: 0.9876 - val_loss: 1.5568 - val_acc: 0.7475 - val_recall: 0.7475 - val_precision: 0.7494\n",
      "Epoch 172/200\n",
      "250/250 [==============================] - 247s 986ms/step - loss: 0.0419 - acc: 0.9858 - recall: 0.9854 - precision: 0.9860 - val_loss: 1.5923 - val_acc: 0.7433 - val_recall: 0.7425 - val_precision: 0.7462\n",
      "Epoch 173/200\n",
      "250/250 [==============================] - 245s 977ms/step - loss: 0.0442 - acc: 0.9852 - recall: 0.9848 - precision: 0.9856 - val_loss: 1.5913 - val_acc: 0.7483 - val_recall: 0.7442 - val_precision: 0.7504\n",
      "Epoch 174/200\n",
      "250/250 [==============================] - 253s 1s/step - loss: 0.0406 - acc: 0.9850 - recall: 0.9844 - precision: 0.9850 - val_loss: 1.6701 - val_acc: 0.7392 - val_recall: 0.7367 - val_precision: 0.7410\n",
      "Epoch 175/200\n",
      "250/250 [==============================] - 250s 997ms/step - loss: 0.0396 - acc: 0.9866 - recall: 0.9860 - precision: 0.9868 - val_loss: 1.5117 - val_acc: 0.7525 - val_recall: 0.7492 - val_precision: 0.7536\n",
      "Epoch 176/200\n",
      "250/250 [==============================] - 245s 977ms/step - loss: 0.0511 - acc: 0.9808 - recall: 0.9808 - precision: 0.9814 - val_loss: 1.6547 - val_acc: 0.7350 - val_recall: 0.7350 - val_precision: 0.7362\n",
      "Epoch 177/200\n",
      "250/250 [==============================] - 252s 1s/step - loss: 0.0425 - acc: 0.9854 - recall: 0.9850 - precision: 0.9858 - val_loss: 1.5127 - val_acc: 0.7525 - val_recall: 0.7525 - val_precision: 0.7531\n",
      "Epoch 178/200\n",
      "250/250 [==============================] - 254s 1s/step - loss: 0.0469 - acc: 0.9832 - recall: 0.9824 - precision: 0.9845 - val_loss: 1.5753 - val_acc: 0.7483 - val_recall: 0.7475 - val_precision: 0.7487\n",
      "Epoch 179/200\n",
      "250/250 [==============================] - 256s 1s/step - loss: 0.0438 - acc: 0.9830 - recall: 0.9824 - precision: 0.9830 - val_loss: 1.5752 - val_acc: 0.7425 - val_recall: 0.7417 - val_precision: 0.7448\n",
      "Epoch 180/200\n",
      "250/250 [==============================] - 250s 998ms/step - loss: 0.0431 - acc: 0.9836 - recall: 0.9828 - precision: 0.9842 - val_loss: 1.5733 - val_acc: 0.7342 - val_recall: 0.7300 - val_precision: 0.7355\n",
      "Epoch 181/200\n",
      "250/250 [==============================] - 250s 1s/step - loss: 0.0463 - acc: 0.9836 - recall: 0.9828 - precision: 0.9838 - val_loss: 1.4202 - val_acc: 0.7533 - val_recall: 0.7533 - val_precision: 0.7565\n",
      "Epoch 182/200\n",
      "250/250 [==============================] - 253s 1s/step - loss: 0.0377 - acc: 0.9868 - recall: 0.9866 - precision: 0.9868 - val_loss: 1.6013 - val_acc: 0.7458 - val_recall: 0.7433 - val_precision: 0.7464\n",
      "Epoch 183/200\n",
      "250/250 [==============================] - 257s 1s/step - loss: 0.0435 - acc: 0.9846 - recall: 0.9844 - precision: 0.9852 - val_loss: 1.5415 - val_acc: 0.7433 - val_recall: 0.7400 - val_precision: 0.7425\n",
      "Epoch 184/200\n",
      "250/250 [==============================] - 255s 1s/step - loss: 0.0397 - acc: 0.9862 - recall: 0.9858 - precision: 0.9866 - val_loss: 1.6405 - val_acc: 0.7458 - val_recall: 0.7442 - val_precision: 0.7479\n",
      "Epoch 185/200\n",
      "250/250 [==============================] - 257s 1s/step - loss: 0.0399 - acc: 0.9866 - recall: 0.9862 - precision: 0.9868 - val_loss: 1.5426 - val_acc: 0.7517 - val_recall: 0.7508 - val_precision: 0.7559\n",
      "Epoch 186/200\n",
      "250/250 [==============================] - 260s 1s/step - loss: 0.0373 - acc: 0.9858 - recall: 0.9858 - precision: 0.9864 - val_loss: 1.5137 - val_acc: 0.7558 - val_recall: 0.7542 - val_precision: 0.7599\n",
      "Epoch 187/200\n",
      "250/250 [==============================] - 253s 1s/step - loss: 0.0379 - acc: 0.9864 - recall: 0.9854 - precision: 0.9870 - val_loss: 1.5840 - val_acc: 0.7525 - val_recall: 0.7517 - val_precision: 0.7561\n",
      "Epoch 188/200\n",
      "250/250 [==============================] - 256s 1s/step - loss: 0.0388 - acc: 0.9852 - recall: 0.9844 - precision: 0.9854 - val_loss: 1.6245 - val_acc: 0.7383 - val_recall: 0.7350 - val_precision: 0.7393\n",
      "Epoch 189/200\n",
      "250/250 [==============================] - 254s 1s/step - loss: 0.0322 - acc: 0.9880 - recall: 0.9876 - precision: 0.9882 - val_loss: 1.6616 - val_acc: 0.7400 - val_recall: 0.7375 - val_precision: 0.7431\n",
      "Epoch 190/200\n",
      "250/250 [==============================] - 255s 1s/step - loss: 0.0457 - acc: 0.9844 - recall: 0.9842 - precision: 0.9846 - val_loss: 1.6185 - val_acc: 0.7458 - val_recall: 0.7442 - val_precision: 0.7467\n",
      "Epoch 191/200\n",
      "250/250 [==============================] - 252s 1s/step - loss: 0.0556 - acc: 0.9806 - recall: 0.9802 - precision: 0.9810 - val_loss: 1.6344 - val_acc: 0.7542 - val_recall: 0.7533 - val_precision: 0.7565\n",
      "Epoch 192/200\n",
      "250/250 [==============================] - 254s 1s/step - loss: 0.0378 - acc: 0.9870 - recall: 0.9866 - precision: 0.9876 - val_loss: 1.6263 - val_acc: 0.7533 - val_recall: 0.7517 - val_precision: 0.7536\n",
      "Epoch 193/200\n",
      "250/250 [==============================] - 256s 1s/step - loss: 0.0370 - acc: 0.9858 - recall: 0.9852 - precision: 0.9862 - val_loss: 1.6851 - val_acc: 0.7433 - val_recall: 0.7425 - val_precision: 0.7450\n",
      "Epoch 194/200\n",
      "250/250 [==============================] - 256s 1s/step - loss: 0.0365 - acc: 0.9882 - recall: 0.9882 - precision: 0.9888 - val_loss: 1.6400 - val_acc: 0.7408 - val_recall: 0.7392 - val_precision: 0.7448\n",
      "Epoch 195/200\n",
      "250/250 [==============================] - 257s 1s/step - loss: 0.0423 - acc: 0.9854 - recall: 0.9850 - precision: 0.9856 - val_loss: 1.6423 - val_acc: 0.7400 - val_recall: 0.7392 - val_precision: 0.7416\n",
      "Epoch 196/200\n",
      "250/250 [==============================] - 258s 1s/step - loss: 0.0473 - acc: 0.9850 - recall: 0.9850 - precision: 0.9852 - val_loss: 1.5741 - val_acc: 0.7600 - val_recall: 0.7583 - val_precision: 0.7615\n",
      "Epoch 197/200\n",
      "250/250 [==============================] - 256s 1s/step - loss: 0.0395 - acc: 0.9860 - recall: 0.9860 - precision: 0.9864 - val_loss: 1.6497 - val_acc: 0.7550 - val_recall: 0.7517 - val_precision: 0.7573\n",
      "Epoch 198/200\n",
      "250/250 [==============================] - 254s 1s/step - loss: 0.0408 - acc: 0.9860 - recall: 0.9858 - precision: 0.9860 - val_loss: 1.6172 - val_acc: 0.7567 - val_recall: 0.7542 - val_precision: 0.7586\n",
      "Epoch 199/200\n",
      "250/250 [==============================] - 256s 1s/step - loss: 0.0370 - acc: 0.9872 - recall: 0.9872 - precision: 0.9880 - val_loss: 1.7064 - val_acc: 0.7475 - val_recall: 0.7467 - val_precision: 0.7498\n",
      "Epoch 200/200\n",
      "250/250 [==============================] - 255s 1s/step - loss: 0.0388 - acc: 0.9862 - recall: 0.9860 - precision: 0.9866 - val_loss: 1.6044 - val_acc: 0.7558 - val_recall: 0.7542 - val_precision: 0.7580\n"
     ]
    }
   ],
   "source": [
    "history = model.fit(train_generator,\n",
    "                    steps_per_epoch=250,\n",
    "                    epochs=200,\n",
    "                    validation_data=valid_generator,\n",
    "                    validation_steps=60,\n",
    "                    callbacks=[checkpoint_cb])\n"
   ]
  },
  {
   "cell_type": "code",
   "execution_count": 21,
   "metadata": {
    "colab": {
     "base_uri": "https://localhost:8080/",
     "height": 596
    },
    "executionInfo": {
     "elapsed": 20,
     "status": "ok",
     "timestamp": 1648062209005,
     "user": {
      "displayName": "NIKHIL",
      "photoUrl": "https://lh3.googleusercontent.com/a/default-user=s64",
      "userId": "08405716228323072971"
     },
     "user_tz": -330
    },
    "id": "MhSs88SOBf7_",
    "outputId": "f7605dde-775e-4428-db2e-e5d0c05abdf4"
   },
   "outputs": [
    {
     "data": {
      "image/png": "[encoded data removed]",
      "text/plain": [
       "<Figure size 720x720 with 1 Axes>"
      ]
     },
     "metadata": {
      "needs_background": "light"
     },
     "output_type": "display_data"
    }
   ],
   "source": [
    "pd.DataFrame(history.history).plot(figsize=(10, 10))\n",
    "plt.ylim((0,2))\n",
    "plt.grid(True)\n",
    "plt.show()"
   ]
  },
  {
   "cell_type": "code",
   "execution_count": 22,
   "metadata": {
    "colab": {
     "base_uri": "https://localhost:8080/"
    },
    "executionInfo": {
     "elapsed": 14401,
     "status": "ok",
     "timestamp": 1648062223397,
     "user": {
      "displayName": "NIKHIL",
      "photoUrl": "https://lh3.googleusercontent.com/a/default-user=s64",
      "userId": "08405716228323072971"
     },
     "user_tz": -330
    },
    "id": "Jb_oN7wQBf5A",
    "outputId": "86ea35d7-4d08-4483-ae62-d7b23ff1ce88"
   },
   "outputs": [
    {
     "name": "stdout",
     "output_type": "stream",
     "text": [
      "83/83 [==============================] - 22s 265ms/step - loss: 1.5265 - acc: 0.7597 - recall: 0.7597 - precision: 0.7616\n"
     ]
    },
    {
     "data": {
      "text/plain": [
       "[1.5265346765518188,\n",
       " 0.7597323656082153,\n",
       " 0.7597323656082153,\n",
       " 0.7615853548049927]"
      ]
     },
     "execution_count": 22,
     "metadata": {},
     "output_type": "execute_result"
    }
   ],
   "source": [
    "model.evaluate(test_generator)"
   ]
  },
  {
   "cell_type": "code",
   "execution_count": 23,
   "metadata": {
    "id": "OCKXMlD6Bfzn"
   },
   "outputs": [],
   "source": [
    "x=model.predict(test_generator)"
   ]
  },
  {
   "cell_type": "code",
   "execution_count": null,
   "metadata": {
    "id": "hBPx87sYxq4k"
   },
   "outputs": [],
   "source": []
  },
  {
   "cell_type": "code",
   "execution_count": 24,
   "metadata": {
    "colab": {
     "base_uri": "https://localhost:8080/"
    },
    "executionInfo": {
     "elapsed": 18,
     "status": "ok",
     "timestamp": 1648062239369,
     "user": {
      "displayName": "NIKHIL",
      "photoUrl": "https://lh3.googleusercontent.com/a/default-user=s64",
      "userId": "08405716228323072971"
     },
     "user_tz": -330
    },
    "id": "UGW6-jy6xs9u",
    "outputId": "07ea9946-be5e-4618-d765-5f82cfb22f0b"
   },
   "outputs": [
    {
     "data": {
      "text/plain": [
       "array([0, 0, 0, ..., 2, 2, 2], dtype=int32)"
      ]
     },
     "execution_count": 24,
     "metadata": {},
     "output_type": "execute_result"
    }
   ],
   "source": [
    "actual=test_generator.labels\n",
    "actual"
   ]
  },
  {
   "cell_type": "code",
   "execution_count": 25,
   "metadata": {
    "id": "sMY4HeSi1pDu"
   },
   "outputs": [],
   "source": [
    "pred=np.argmax(x, axis=-1)"
   ]
  },
  {
   "cell_type": "code",
   "execution_count": 26,
   "metadata": {
    "colab": {
     "base_uri": "https://localhost:8080/"
    },
    "executionInfo": {
     "elapsed": 14,
     "status": "ok",
     "timestamp": 1648062239369,
     "user": {
      "displayName": "NIKHIL",
      "photoUrl": "https://lh3.googleusercontent.com/a/default-user=s64",
      "userId": "08405716228323072971"
     },
     "user_tz": -330
    },
    "id": "MP3xxY6Z4frR",
    "outputId": "3619b97b-90cd-47d6-d7c6-75cec40f0cdb"
   },
   "outputs": [
    {
     "data": {
      "text/plain": [
       "array([[ 46, 156,  86],\n",
       "       [106, 498, 266],\n",
       "       [ 61, 294, 131]])"
      ]
     },
     "execution_count": 26,
     "metadata": {},
     "output_type": "execute_result"
    }
   ],
   "source": [
    "from sklearn.metrics import confusion_matrix\n",
    "confusion_matrix(actual,pred)"
   ]
  },
  {
   "cell_type": "code",
   "execution_count": 27,
   "metadata": {
    "id": "HGPDAt1R5JBQ"
   },
   "outputs": [
    {
     "data": {
      "text/plain": [
       "array([[ 151,  482,  288],\n",
       "       [ 504, 1445,  831],\n",
       "       [ 266,  852,  434]])"
      ]
     },
     "execution_count": 27,
     "metadata": {},
     "output_type": "execute_result"
    }
   ],
   "source": [
    "x=model.predict(train_generator)\n",
    "actual=train_generator.labels\n",
    "pred=np.argmax(x, axis=-1)\n",
    "from sklearn.metrics import confusion_matrix\n",
    "confusion_matrix(actual,pred)"
   ]
  },
  {
   "cell_type": "code",
   "execution_count": 28,
   "metadata": {
    "colab": {
     "base_uri": "https://localhost:8080/"
    },
    "executionInfo": {
     "elapsed": 11231,
     "status": "ok",
     "timestamp": 1648062251474,
     "user": {
      "displayName": "NIKHIL",
      "photoUrl": "https://lh3.googleusercontent.com/a/default-user=s64",
      "userId": "08405716228323072971"
     },
     "user_tz": -330
    },
    "id": "HzbJhmcLJH9V",
    "outputId": "4346f5bc-3d95-4b13-e5ba-c14b5a8e60af"
   },
   "outputs": [
    {
     "data": {
      "text/plain": [
       "array([[ 34, 126,  71],\n",
       "       [ 85, 423, 188],\n",
       "       [ 49, 227, 112]])"
      ]
     },
     "execution_count": 28,
     "metadata": {},
     "output_type": "execute_result"
    }
   ],
   "source": [
    "x=model.predict(valid_generator)\n",
    "actual=valid_generator.labels\n",
    "pred=np.argmax(x, axis=-1)\n",
    "from sklearn.metrics import confusion_matrix\n",
    "confusion_matrix(actual,pred)"
   ]
  },
  {
   "cell_type": "code",
   "execution_count": 29,
   "metadata": {
    "colab": {
     "base_uri": "https://localhost:8080/"
    },
    "executionInfo": {
     "elapsed": 13681,
     "status": "ok",
     "timestamp": 1648062265146,
     "user": {
      "displayName": "NIKHIL",
      "photoUrl": "https://lh3.googleusercontent.com/a/default-user=s64",
      "userId": "08405716228323072971"
     },
     "user_tz": -330
    },
    "id": "SQHV3MgCJNDL",
    "outputId": "12177835-dfff-48ad-c670-4f6302908361"
   },
   "outputs": [
    {
     "data": {
      "text/plain": [
       "array([[ 32, 174,  82],\n",
       "       [121, 490, 259],\n",
       "       [ 60, 284, 142]])"
      ]
     },
     "execution_count": 29,
     "metadata": {},
     "output_type": "execute_result"
    }
   ],
   "source": [
    "x=model.predict(test_generator)\n",
    "actual=test_generator.labels\n",
    "pred=np.argmax(x, axis=-1)\n",
    "from sklearn.metrics import confusion_matrix\n",
    "confusion_matrix(actual,pred)"
   ]
  },
  {
   "cell_type": "code",
   "execution_count": null,
   "metadata": {
    "id": "0KdF-64dJPxe"
   },
   "outputs": [],
   "source": []
  }
 ],
 "metadata": {
  "accelerator": "GPU",
  "colab": {
   "name": "MobileNet AGCCPF.ipynb",
   "provenance": []
  },
  "kernelspec": {
   "display_name": "Python 3",
   "language": "python",
   "name": "python3"
  },
  "language_info": {
   "codemirror_mode": {
    "name": "ipython",
    "version": 3
   },
   "file_extension": ".py",
   "mimetype": "text/x-python",
   "name": "python",
   "nbconvert_exporter": "python",
   "pygments_lexer": "ipython3",
   "version": "3.8.5"
  }
 },
 "nbformat": 4,
 "nbformat_minor": 1
}
