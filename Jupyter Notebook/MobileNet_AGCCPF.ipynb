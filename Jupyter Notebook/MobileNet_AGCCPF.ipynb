{
  "cells": [
    {
      "cell_type": "code",
      "execution_count": 4,
      "metadata": {
        "colab": {
          "base_uri": "https://localhost:8080/"
        },
        "id": "6apL4lLkBJdS",
        "outputId": "5060904f-3b05-41a5-93f6-9cbb5b2685d6"
      },
      "outputs": [
        {
          "output_type": "stream",
          "name": "stdout",
          "text": [
            "Drive already mounted at /content/gdrive; to attempt to forcibly remount, call drive.mount(\"/content/gdrive\", force_remount=True).\n"
          ]
        }
      ],
      "source": [
        "from google.colab import drive\n",
        "drive.mount('/content/gdrive')\n",
        "import cv2\n",
        "import os\n",
        "import random"
      ]
    },
    {
      "cell_type": "code",
      "source": [
        "# %cd /content/gdrive/MyDrive\n",
        "# !unzip /content/gdrive/MyDrive/AGCCPF.zip"
      ],
      "metadata": {
        "id": "HrEquGSzXg8S"
      },
      "execution_count": 5,
      "outputs": []
    },
    {
      "cell_type": "code",
      "execution_count": 6,
      "metadata": {
        "id": "F59wrFLeBgYO"
      },
      "outputs": [],
      "source": [
        "import matplotlib.pyplot as plt\n",
        "import matplotlib as mpl\n",
        "import numpy as np\n",
        "import pandas as pd\n",
        "%matplotlib inline"
      ]
    },
    {
      "cell_type": "code",
      "execution_count": 7,
      "metadata": {
        "id": "5OM6rQxpBgUy"
      },
      "outputs": [],
      "source": [
        "import tensorflow as tf\n",
        "import tensorflow.keras as keras\n"
      ]
    },
    {
      "cell_type": "code",
      "execution_count": 8,
      "metadata": {
        "colab": {
          "base_uri": "https://localhost:8080/",
          "height": 35
        },
        "id": "_hBZjOnK4M82",
        "outputId": "de7c7ddb-003a-4b67-b26f-fc5a140f6673"
      },
      "outputs": [
        {
          "output_type": "execute_result",
          "data": {
            "text/plain": [
              "'2.8.0'"
            ],
            "application/vnd.google.colaboratory.intrinsic+json": {
              "type": "string"
            }
          },
          "metadata": {},
          "execution_count": 8
        }
      ],
      "source": [
        "tf.__version__"
      ]
    },
    {
      "cell_type": "code",
      "execution_count": 9,
      "metadata": {
        "id": "VdU5cuUdBgR-"
      },
      "outputs": [],
      "source": [
        "tf.random.set_seed(42)\n",
        "np.random.seed(42)\n"
      ]
    },
    {
      "cell_type": "code",
      "execution_count": 10,
      "metadata": {
        "id": "oQ8IUIQ8BgPR"
      },
      "outputs": [],
      "source": [
        "train_dir = \"/content/gdrive/MyDrive/AGCCPF/train\"\n",
        "test_dir = \"/content/gdrive/MyDrive/AGCCPF/test\"\n",
        "valid_dir = \"/content/gdrive/MyDrive/AGCCPF/validate\"\n"
      ]
    },
    {
      "cell_type": "code",
      "execution_count": 11,
      "metadata": {
        "id": "qpxzCWqmBgMf"
      },
      "outputs": [],
      "source": [
        "from keras.preprocessing.image import ImageDataGenerator"
      ]
    },
    {
      "cell_type": "code",
      "execution_count": 12,
      "metadata": {
        "id": "mVlMS8YeBgJ-"
      },
      "outputs": [],
      "source": [
        "train_datagen = ImageDataGenerator(\n",
        "    rescale=1./255,\n",
        "    rotation_range=30,\n",
        "    width_shift_range=0.2,\n",
        "    height_shift_range=0.2,\n",
        "    shear_range=0.2,\n",
        "    zoom_range=0.2,\n",
        "    horizontal_flip=False)\n",
        "test_datagen = ImageDataGenerator(rescale=1./255)"
      ]
    },
    {
      "cell_type": "code",
      "execution_count": 12,
      "metadata": {
        "id": "dkPxqWbyVZ8w"
      },
      "outputs": [],
      "source": [
        ""
      ]
    },
    {
      "cell_type": "code",
      "execution_count": 13,
      "metadata": {
        "colab": {
          "base_uri": "https://localhost:8080/"
        },
        "id": "QBWrLPIeBgG-",
        "outputId": "9d59cfb0-5109-4e1f-a934-19a8bfcf1b2b"
      },
      "outputs": [
        {
          "output_type": "stream",
          "name": "stdout",
          "text": [
            "Found 5253 images belonging to 3 classes.\n",
            "Found 1315 images belonging to 3 classes.\n",
            "Found 1644 images belonging to 3 classes.\n"
          ]
        }
      ],
      "source": [
        "\n",
        "train_generator = train_datagen.flow_from_directory(\n",
        "        train_dir,\n",
        "        target_size=(224, 224),\n",
        "        batch_size=20,\n",
        "        class_mode='categorical',\n",
        "        shuffle=True\n",
        "        )\n",
        "\n",
        "valid_generator = test_datagen.flow_from_directory(\n",
        "        valid_dir,\n",
        "        target_size=(224, 224),\n",
        "        batch_size=20,\n",
        "        class_mode='categorical',\n",
        "        shuffle=True\n",
        "        )\n",
        "\n",
        "test_generator = test_datagen.flow_from_directory(\n",
        "        test_dir,\n",
        "        target_size=(224, 224),\n",
        "        batch_size=20,\n",
        "        class_mode='categorical',\n",
        "        shuffle=False\n",
        "        )"
      ]
    },
    {
      "cell_type": "code",
      "execution_count": 14,
      "metadata": {
        "id": "Vn80dmJEHb_K"
      },
      "outputs": [],
      "source": [
        "from tensorflow.keras import layers\n",
        "from tensorflow.keras import models"
      ]
    },
    {
      "cell_type": "code",
      "execution_count": 15,
      "metadata": {
        "id": "HjZAgItjHb4X"
      },
      "outputs": [],
      "source": [
        "from tensorflow.keras import optimizers"
      ]
    },
    {
      "cell_type": "code",
      "execution_count": 16,
      "metadata": {
        "id": "osJjtxI0HHk1"
      },
      "outputs": [],
      "source": [
        "from tensorflow.keras.applications import MobileNet\n",
        "# conv_base = VGG16(weights='imagenet',\n",
        "#                   include_top=False,\n",
        "#                   input_shape=(224, 224, 3))\n",
        "\n",
        "\n",
        "# conv_base = EfficientNetB7(weights='imagenet',\n",
        "#                   include_top=False,\n",
        "#                   input_shape=(150, 150, 3))\n",
        "\n",
        "# conv_base = DenseNet121(weights='imagenet',\n",
        "#                   include_top=False,\n",
        "#                   input_shape=(224, 224, 3))\n",
        "\n",
        "conv_base = MobileNet(weights='imagenet',\n",
        "                  include_top=False,\n",
        "                  input_shape=(224, 224, 3))"
      ]
    },
    {
      "cell_type": "code",
      "execution_count": 17,
      "metadata": {
        "colab": {
          "base_uri": "https://localhost:8080/"
        },
        "id": "55R8Y-_SHHfm",
        "outputId": "4ab6e17c-7658-48e2-a35b-03ce2ba4fde7"
      },
      "outputs": [
        {
          "output_type": "stream",
          "name": "stdout",
          "text": [
            "Model: \"mobilenet_1.00_224\"\n",
            "_________________________________________________________________\n",
            " Layer (type)                Output Shape              Param #   \n",
            "=================================================================\n",
            " input_2 (InputLayer)        [(None, 224, 224, 3)]     0         \n",
            "                                                                 \n",
            " conv1 (Conv2D)              (None, 112, 112, 32)      864       \n",
            "                                                                 \n",
            " conv1_bn (BatchNormalizatio  (None, 112, 112, 32)     128       \n",
            " n)                                                              \n",
            "                                                                 \n",
            " conv1_relu (ReLU)           (None, 112, 112, 32)      0         \n",
            "                                                                 \n",
            " conv_dw_1 (DepthwiseConv2D)  (None, 112, 112, 32)     288       \n",
            "                                                                 \n",
            " conv_dw_1_bn (BatchNormaliz  (None, 112, 112, 32)     128       \n",
            " ation)                                                          \n",
            "                                                                 \n",
            " conv_dw_1_relu (ReLU)       (None, 112, 112, 32)      0         \n",
            "                                                                 \n",
            " conv_pw_1 (Conv2D)          (None, 112, 112, 64)      2048      \n",
            "                                                                 \n",
            " conv_pw_1_bn (BatchNormaliz  (None, 112, 112, 64)     256       \n",
            " ation)                                                          \n",
            "                                                                 \n",
            " conv_pw_1_relu (ReLU)       (None, 112, 112, 64)      0         \n",
            "                                                                 \n",
            " conv_pad_2 (ZeroPadding2D)  (None, 113, 113, 64)      0         \n",
            "                                                                 \n",
            " conv_dw_2 (DepthwiseConv2D)  (None, 56, 56, 64)       576       \n",
            "                                                                 \n",
            " conv_dw_2_bn (BatchNormaliz  (None, 56, 56, 64)       256       \n",
            " ation)                                                          \n",
            "                                                                 \n",
            " conv_dw_2_relu (ReLU)       (None, 56, 56, 64)        0         \n",
            "                                                                 \n",
            " conv_pw_2 (Conv2D)          (None, 56, 56, 128)       8192      \n",
            "                                                                 \n",
            " conv_pw_2_bn (BatchNormaliz  (None, 56, 56, 128)      512       \n",
            " ation)                                                          \n",
            "                                                                 \n",
            " conv_pw_2_relu (ReLU)       (None, 56, 56, 128)       0         \n",
            "                                                                 \n",
            " conv_dw_3 (DepthwiseConv2D)  (None, 56, 56, 128)      1152      \n",
            "                                                                 \n",
            " conv_dw_3_bn (BatchNormaliz  (None, 56, 56, 128)      512       \n",
            " ation)                                                          \n",
            "                                                                 \n",
            " conv_dw_3_relu (ReLU)       (None, 56, 56, 128)       0         \n",
            "                                                                 \n",
            " conv_pw_3 (Conv2D)          (None, 56, 56, 128)       16384     \n",
            "                                                                 \n",
            " conv_pw_3_bn (BatchNormaliz  (None, 56, 56, 128)      512       \n",
            " ation)                                                          \n",
            "                                                                 \n",
            " conv_pw_3_relu (ReLU)       (None, 56, 56, 128)       0         \n",
            "                                                                 \n",
            " conv_pad_4 (ZeroPadding2D)  (None, 57, 57, 128)       0         \n",
            "                                                                 \n",
            " conv_dw_4 (DepthwiseConv2D)  (None, 28, 28, 128)      1152      \n",
            "                                                                 \n",
            " conv_dw_4_bn (BatchNormaliz  (None, 28, 28, 128)      512       \n",
            " ation)                                                          \n",
            "                                                                 \n",
            " conv_dw_4_relu (ReLU)       (None, 28, 28, 128)       0         \n",
            "                                                                 \n",
            " conv_pw_4 (Conv2D)          (None, 28, 28, 256)       32768     \n",
            "                                                                 \n",
            " conv_pw_4_bn (BatchNormaliz  (None, 28, 28, 256)      1024      \n",
            " ation)                                                          \n",
            "                                                                 \n",
            " conv_pw_4_relu (ReLU)       (None, 28, 28, 256)       0         \n",
            "                                                                 \n",
            " conv_dw_5 (DepthwiseConv2D)  (None, 28, 28, 256)      2304      \n",
            "                                                                 \n",
            " conv_dw_5_bn (BatchNormaliz  (None, 28, 28, 256)      1024      \n",
            " ation)                                                          \n",
            "                                                                 \n",
            " conv_dw_5_relu (ReLU)       (None, 28, 28, 256)       0         \n",
            "                                                                 \n",
            " conv_pw_5 (Conv2D)          (None, 28, 28, 256)       65536     \n",
            "                                                                 \n",
            " conv_pw_5_bn (BatchNormaliz  (None, 28, 28, 256)      1024      \n",
            " ation)                                                          \n",
            "                                                                 \n",
            " conv_pw_5_relu (ReLU)       (None, 28, 28, 256)       0         \n",
            "                                                                 \n",
            " conv_pad_6 (ZeroPadding2D)  (None, 29, 29, 256)       0         \n",
            "                                                                 \n",
            " conv_dw_6 (DepthwiseConv2D)  (None, 14, 14, 256)      2304      \n",
            "                                                                 \n",
            " conv_dw_6_bn (BatchNormaliz  (None, 14, 14, 256)      1024      \n",
            " ation)                                                          \n",
            "                                                                 \n",
            " conv_dw_6_relu (ReLU)       (None, 14, 14, 256)       0         \n",
            "                                                                 \n",
            " conv_pw_6 (Conv2D)          (None, 14, 14, 512)       131072    \n",
            "                                                                 \n",
            " conv_pw_6_bn (BatchNormaliz  (None, 14, 14, 512)      2048      \n",
            " ation)                                                          \n",
            "                                                                 \n",
            " conv_pw_6_relu (ReLU)       (None, 14, 14, 512)       0         \n",
            "                                                                 \n",
            " conv_dw_7 (DepthwiseConv2D)  (None, 14, 14, 512)      4608      \n",
            "                                                                 \n",
            " conv_dw_7_bn (BatchNormaliz  (None, 14, 14, 512)      2048      \n",
            " ation)                                                          \n",
            "                                                                 \n",
            " conv_dw_7_relu (ReLU)       (None, 14, 14, 512)       0         \n",
            "                                                                 \n",
            " conv_pw_7 (Conv2D)          (None, 14, 14, 512)       262144    \n",
            "                                                                 \n",
            " conv_pw_7_bn (BatchNormaliz  (None, 14, 14, 512)      2048      \n",
            " ation)                                                          \n",
            "                                                                 \n",
            " conv_pw_7_relu (ReLU)       (None, 14, 14, 512)       0         \n",
            "                                                                 \n",
            " conv_dw_8 (DepthwiseConv2D)  (None, 14, 14, 512)      4608      \n",
            "                                                                 \n",
            " conv_dw_8_bn (BatchNormaliz  (None, 14, 14, 512)      2048      \n",
            " ation)                                                          \n",
            "                                                                 \n",
            " conv_dw_8_relu (ReLU)       (None, 14, 14, 512)       0         \n",
            "                                                                 \n",
            " conv_pw_8 (Conv2D)          (None, 14, 14, 512)       262144    \n",
            "                                                                 \n",
            " conv_pw_8_bn (BatchNormaliz  (None, 14, 14, 512)      2048      \n",
            " ation)                                                          \n",
            "                                                                 \n",
            " conv_pw_8_relu (ReLU)       (None, 14, 14, 512)       0         \n",
            "                                                                 \n",
            " conv_dw_9 (DepthwiseConv2D)  (None, 14, 14, 512)      4608      \n",
            "                                                                 \n",
            " conv_dw_9_bn (BatchNormaliz  (None, 14, 14, 512)      2048      \n",
            " ation)                                                          \n",
            "                                                                 \n",
            " conv_dw_9_relu (ReLU)       (None, 14, 14, 512)       0         \n",
            "                                                                 \n",
            " conv_pw_9 (Conv2D)          (None, 14, 14, 512)       262144    \n",
            "                                                                 \n",
            " conv_pw_9_bn (BatchNormaliz  (None, 14, 14, 512)      2048      \n",
            " ation)                                                          \n",
            "                                                                 \n",
            " conv_pw_9_relu (ReLU)       (None, 14, 14, 512)       0         \n",
            "                                                                 \n",
            " conv_dw_10 (DepthwiseConv2D  (None, 14, 14, 512)      4608      \n",
            " )                                                               \n",
            "                                                                 \n",
            " conv_dw_10_bn (BatchNormali  (None, 14, 14, 512)      2048      \n",
            " zation)                                                         \n",
            "                                                                 \n",
            " conv_dw_10_relu (ReLU)      (None, 14, 14, 512)       0         \n",
            "                                                                 \n",
            " conv_pw_10 (Conv2D)         (None, 14, 14, 512)       262144    \n",
            "                                                                 \n",
            " conv_pw_10_bn (BatchNormali  (None, 14, 14, 512)      2048      \n",
            " zation)                                                         \n",
            "                                                                 \n",
            " conv_pw_10_relu (ReLU)      (None, 14, 14, 512)       0         \n",
            "                                                                 \n",
            " conv_dw_11 (DepthwiseConv2D  (None, 14, 14, 512)      4608      \n",
            " )                                                               \n",
            "                                                                 \n",
            " conv_dw_11_bn (BatchNormali  (None, 14, 14, 512)      2048      \n",
            " zation)                                                         \n",
            "                                                                 \n",
            " conv_dw_11_relu (ReLU)      (None, 14, 14, 512)       0         \n",
            "                                                                 \n",
            " conv_pw_11 (Conv2D)         (None, 14, 14, 512)       262144    \n",
            "                                                                 \n",
            " conv_pw_11_bn (BatchNormali  (None, 14, 14, 512)      2048      \n",
            " zation)                                                         \n",
            "                                                                 \n",
            " conv_pw_11_relu (ReLU)      (None, 14, 14, 512)       0         \n",
            "                                                                 \n",
            " conv_pad_12 (ZeroPadding2D)  (None, 15, 15, 512)      0         \n",
            "                                                                 \n",
            " conv_dw_12 (DepthwiseConv2D  (None, 7, 7, 512)        4608      \n",
            " )                                                               \n",
            "                                                                 \n",
            " conv_dw_12_bn (BatchNormali  (None, 7, 7, 512)        2048      \n",
            " zation)                                                         \n",
            "                                                                 \n",
            " conv_dw_12_relu (ReLU)      (None, 7, 7, 512)         0         \n",
            "                                                                 \n",
            " conv_pw_12 (Conv2D)         (None, 7, 7, 1024)        524288    \n",
            "                                                                 \n",
            " conv_pw_12_bn (BatchNormali  (None, 7, 7, 1024)       4096      \n",
            " zation)                                                         \n",
            "                                                                 \n",
            " conv_pw_12_relu (ReLU)      (None, 7, 7, 1024)        0         \n",
            "                                                                 \n",
            " conv_dw_13 (DepthwiseConv2D  (None, 7, 7, 1024)       9216      \n",
            " )                                                               \n",
            "                                                                 \n",
            " conv_dw_13_bn (BatchNormali  (None, 7, 7, 1024)       4096      \n",
            " zation)                                                         \n",
            "                                                                 \n",
            " conv_dw_13_relu (ReLU)      (None, 7, 7, 1024)        0         \n",
            "                                                                 \n",
            " conv_pw_13 (Conv2D)         (None, 7, 7, 1024)        1048576   \n",
            "                                                                 \n",
            " conv_pw_13_bn (BatchNormali  (None, 7, 7, 1024)       4096      \n",
            " zation)                                                         \n",
            "                                                                 \n",
            " conv_pw_13_relu (ReLU)      (None, 7, 7, 1024)        0         \n",
            "                                                                 \n",
            "=================================================================\n",
            "Total params: 3,228,864\n",
            "Trainable params: 3,206,976\n",
            "Non-trainable params: 21,888\n",
            "_________________________________________________________________\n"
          ]
        }
      ],
      "source": [
        "conv_base.summary()"
      ]
    },
    {
      "cell_type": "code",
      "execution_count": 18,
      "metadata": {
        "id": "SPfa-BxXIxx7"
      },
      "outputs": [],
      "source": [
        "model = keras.models.Sequential()\n",
        "model.add(conv_base)\n",
        "model.add(keras.layers.Flatten())\n",
        "model.add(keras.layers.Dense(256, activation='relu'))\n",
        "model.add(keras.layers.Dense(3, activation='softmax'))\n",
        "\n"
      ]
    },
    {
      "cell_type": "code",
      "execution_count": 19,
      "metadata": {
        "colab": {
          "base_uri": "https://localhost:8080/"
        },
        "id": "bDBxETADe8jD",
        "outputId": "76bcaf1e-cc20-4c68-aaf7-0c4c0af82776"
      },
      "outputs": [
        {
          "output_type": "stream",
          "name": "stderr",
          "text": [
            "/usr/local/lib/python3.7/dist-packages/keras/optimizer_v2/rmsprop.py:130: UserWarning: The `lr` argument is deprecated, use `learning_rate` instead.\n",
            "  super(RMSprop, self).__init__(name, **kwargs)\n"
          ]
        }
      ],
      "source": [
        "# model = models.Sequential()\n",
        "# model.add(layers.Conv2D(32, (3, 3), activation='relu',\n",
        "#                         input_shape=(150, 150, 3)))\n",
        "# model.add(layers.MaxPooling2D((2, 2)))\n",
        "# model.add(layers.Conv2D(64, (3, 3), activation='relu'))\n",
        "# model.add(layers.MaxPooling2D((2, 2)))\n",
        "# model.add(layers.Conv2D(128, (3, 3), activation='relu'))\n",
        "# model.add(layers.MaxPooling2D((2, 2)))\n",
        "# model.add(layers.Conv2D(128, (3, 3), activation='relu'))\n",
        "# model.add(layers.MaxPooling2D((2, 2)))\n",
        "# model.add(layers.Flatten())\n",
        "# model.add(layers.Dropout(0.5))\n",
        "# model.add(layers.Dense(512, activation='relu'))\n",
        "# model.add(layers.Dense(3, activation='softmax'))\n",
        "\n",
        "model.compile(loss='categorical_crossentropy',\n",
        "              optimizer=optimizers.RMSprop(lr=1e-5),\n",
        "              metrics=['acc',tf.keras.metrics.Recall(),tf.keras.metrics.Precision()])"
      ]
    },
    {
      "cell_type": "code",
      "execution_count": 19,
      "metadata": {
        "id": "qB0BSqiFIxvN"
      },
      "outputs": [],
      "source": [
        ""
      ]
    },
    {
      "cell_type": "code",
      "execution_count": 20,
      "metadata": {
        "colab": {
          "base_uri": "https://localhost:8080/"
        },
        "id": "pZWLWDwPIxsL",
        "outputId": "b187ed26-d1a9-4ce5-89a3-ed3891e59dc1"
      },
      "outputs": [
        {
          "output_type": "stream",
          "name": "stdout",
          "text": [
            "/content/gdrive/MyDrive\n"
          ]
        }
      ],
      "source": [
        "%cd /content/gdrive/MyDrive/"
      ]
    },
    {
      "cell_type": "code",
      "execution_count": 20,
      "metadata": {
        "id": "9SPJWRvYIxmB"
      },
      "outputs": [],
      "source": [
        ""
      ]
    },
    {
      "cell_type": "code",
      "execution_count": 20,
      "metadata": {
        "id": "b4D4xfzYIxiT"
      },
      "outputs": [],
      "source": [
        ""
      ]
    },
    {
      "cell_type": "code",
      "execution_count": 21,
      "metadata": {
        "id": "4EXrUrX_BgEO"
      },
      "outputs": [],
      "source": [
        "checkpoint_cb = keras.callbacks.ModelCheckpoint(\n",
        "    \"/content/gdrive/MyDrive/model.h5\", save_best_only=True)\n",
        "earlystop_cb = keras.callbacks.EarlyStopping(\n",
        "    patience=5, restore_best_weights=True)\n"
      ]
    },
    {
      "cell_type": "code",
      "execution_count": 22,
      "metadata": {
        "colab": {
          "base_uri": "https://localhost:8080/"
        },
        "id": "gMjWqC11BgBf",
        "outputId": "9493514a-cb81-4f00-f06d-33540c478b66"
      },
      "outputs": [
        {
          "output_type": "stream",
          "name": "stdout",
          "text": [
            "Model: \"sequential\"\n",
            "_________________________________________________________________\n",
            " Layer (type)                Output Shape              Param #   \n",
            "=================================================================\n",
            " mobilenet_1.00_224 (Functio  (None, 7, 7, 1024)       3228864   \n",
            " nal)                                                            \n",
            "                                                                 \n",
            " flatten (Flatten)           (None, 50176)             0         \n",
            "                                                                 \n",
            " dense (Dense)               (None, 256)               12845312  \n",
            "                                                                 \n",
            " dense_1 (Dense)             (None, 3)                 771       \n",
            "                                                                 \n",
            "=================================================================\n",
            "Total params: 16,074,947\n",
            "Trainable params: 16,053,059\n",
            "Non-trainable params: 21,888\n",
            "_________________________________________________________________\n"
          ]
        }
      ],
      "source": [
        "model.summary(0)\n"
      ]
    },
    {
      "cell_type": "code",
      "execution_count": 23,
      "metadata": {
        "colab": {
          "base_uri": "https://localhost:8080/"
        },
        "id": "NfgjeN5mBf-u",
        "outputId": "0320753b-beac-4e64-ae20-ac19ffb56d87"
      },
      "outputs": [
        {
          "output_type": "stream",
          "name": "stdout",
          "text": [
            "Epoch 1/50\n",
            "260/260 [==============================] - 151s 515ms/step - loss: 1.3261 - acc: 0.4660 - recall: 0.4200 - precision: 0.4764 - val_loss: 1.0969 - val_acc: 0.5217 - val_recall: 0.4633 - val_precision: 0.5451\n",
            "Epoch 2/50\n",
            "260/260 [==============================] - 126s 483ms/step - loss: 1.0174 - acc: 0.5213 - recall: 0.4365 - precision: 0.5390 - val_loss: 1.0045 - val_acc: 0.5308 - val_recall: 0.4258 - val_precision: 0.5448\n",
            "Epoch 3/50\n",
            "260/260 [==============================] - 129s 495ms/step - loss: 0.9511 - acc: 0.5507 - recall: 0.4668 - precision: 0.5762 - val_loss: 1.0312 - val_acc: 0.5350 - val_recall: 0.4833 - val_precision: 0.5540\n",
            "Epoch 4/50\n",
            "260/260 [==============================] - 128s 492ms/step - loss: 0.9391 - acc: 0.5602 - recall: 0.4822 - precision: 0.5867 - val_loss: 1.0062 - val_acc: 0.5175 - val_recall: 0.4450 - val_precision: 0.5432\n",
            "Epoch 5/50\n",
            "260/260 [==============================] - 129s 496ms/step - loss: 0.9120 - acc: 0.5785 - recall: 0.5055 - precision: 0.6062 - val_loss: 0.9709 - val_acc: 0.5725 - val_recall: 0.5108 - val_precision: 0.5969\n",
            "Epoch 6/50\n",
            "260/260 [==============================] - 127s 487ms/step - loss: 0.8913 - acc: 0.5866 - recall: 0.5165 - precision: 0.6208 - val_loss: 0.9594 - val_acc: 0.5633 - val_recall: 0.4767 - val_precision: 0.5807\n",
            "Epoch 7/50\n",
            "260/260 [==============================] - 123s 474ms/step - loss: 0.8805 - acc: 0.5968 - recall: 0.5274 - precision: 0.6259 - val_loss: 0.9700 - val_acc: 0.5683 - val_recall: 0.5200 - val_precision: 0.5943\n",
            "Epoch 8/50\n",
            "260/260 [==============================] - 127s 488ms/step - loss: 0.8613 - acc: 0.6066 - recall: 0.5434 - precision: 0.6342 - val_loss: 0.9420 - val_acc: 0.5808 - val_recall: 0.5325 - val_precision: 0.6080\n",
            "Epoch 9/50\n",
            "260/260 [==============================] - 125s 479ms/step - loss: 0.8309 - acc: 0.6179 - recall: 0.5654 - precision: 0.6538 - val_loss: 0.9535 - val_acc: 0.5658 - val_recall: 0.5217 - val_precision: 0.5834\n",
            "Epoch 10/50\n",
            "260/260 [==============================] - 129s 496ms/step - loss: 0.8105 - acc: 0.6341 - recall: 0.5823 - precision: 0.6645 - val_loss: 0.9244 - val_acc: 0.5867 - val_recall: 0.5475 - val_precision: 0.6112\n",
            "Epoch 11/50\n",
            "260/260 [==============================] - 128s 492ms/step - loss: 0.8009 - acc: 0.6391 - recall: 0.5850 - precision: 0.6702 - val_loss: 0.9024 - val_acc: 0.6000 - val_recall: 0.5558 - val_precision: 0.6210\n",
            "Epoch 12/50\n",
            "260/260 [==============================] - 126s 485ms/step - loss: 0.7913 - acc: 0.6459 - recall: 0.5900 - precision: 0.6736 - val_loss: 0.9261 - val_acc: 0.6208 - val_recall: 0.5792 - val_precision: 0.6216\n",
            "Epoch 13/50\n",
            "260/260 [==============================] - 125s 481ms/step - loss: 0.7656 - acc: 0.6593 - recall: 0.6089 - precision: 0.6837 - val_loss: 0.9082 - val_acc: 0.6175 - val_recall: 0.5825 - val_precision: 0.6337\n",
            "Epoch 14/50\n",
            "260/260 [==============================] - 127s 490ms/step - loss: 0.7570 - acc: 0.6728 - recall: 0.6193 - precision: 0.6999 - val_loss: 0.8870 - val_acc: 0.6058 - val_recall: 0.5617 - val_precision: 0.6264\n",
            "Epoch 15/50\n",
            "260/260 [==============================] - 126s 482ms/step - loss: 0.7423 - acc: 0.6755 - recall: 0.6237 - precision: 0.7011 - val_loss: 0.9252 - val_acc: 0.6242 - val_recall: 0.5858 - val_precision: 0.6328\n",
            "Epoch 16/50\n",
            "260/260 [==============================] - 127s 489ms/step - loss: 0.7247 - acc: 0.6738 - recall: 0.6276 - precision: 0.7037 - val_loss: 0.8996 - val_acc: 0.6342 - val_recall: 0.5917 - val_precision: 0.6490\n",
            "Epoch 17/50\n",
            "260/260 [==============================] - 127s 489ms/step - loss: 0.6954 - acc: 0.6973 - recall: 0.6553 - precision: 0.7242 - val_loss: 0.9713 - val_acc: 0.6383 - val_recall: 0.6225 - val_precision: 0.6581\n",
            "Epoch 18/50\n",
            "260/260 [==============================] - 127s 489ms/step - loss: 0.6952 - acc: 0.6948 - recall: 0.6615 - precision: 0.7241 - val_loss: 0.8946 - val_acc: 0.6225 - val_recall: 0.5967 - val_precision: 0.6404\n",
            "Epoch 19/50\n",
            "260/260 [==============================] - 126s 484ms/step - loss: 0.6852 - acc: 0.7011 - recall: 0.6659 - precision: 0.7242 - val_loss: 0.9870 - val_acc: 0.6308 - val_recall: 0.6108 - val_precision: 0.6352\n",
            "Epoch 20/50\n",
            "260/260 [==============================] - 127s 487ms/step - loss: 0.6680 - acc: 0.7090 - recall: 0.6740 - precision: 0.7331 - val_loss: 0.8657 - val_acc: 0.6583 - val_recall: 0.6342 - val_precision: 0.6740\n",
            "Epoch 21/50\n",
            "260/260 [==============================] - 125s 481ms/step - loss: 0.6553 - acc: 0.7179 - recall: 0.6780 - precision: 0.7399 - val_loss: 0.9830 - val_acc: 0.6342 - val_recall: 0.6150 - val_precision: 0.6508\n",
            "Epoch 22/50\n",
            "260/260 [==============================] - 123s 474ms/step - loss: 0.6468 - acc: 0.7294 - recall: 0.6963 - precision: 0.7511 - val_loss: 0.8915 - val_acc: 0.6433 - val_recall: 0.6217 - val_precision: 0.6590\n",
            "Epoch 23/50\n",
            "260/260 [==============================] - 124s 474ms/step - loss: 0.6328 - acc: 0.7293 - recall: 0.6959 - precision: 0.7515 - val_loss: 0.9684 - val_acc: 0.6417 - val_recall: 0.6317 - val_precision: 0.6484\n",
            "Epoch 24/50\n",
            "260/260 [==============================] - 127s 487ms/step - loss: 0.6067 - acc: 0.7418 - recall: 0.7088 - precision: 0.7651 - val_loss: 0.9765 - val_acc: 0.6492 - val_recall: 0.6333 - val_precision: 0.6524\n",
            "Epoch 25/50\n",
            "260/260 [==============================] - 127s 486ms/step - loss: 0.5937 - acc: 0.7495 - recall: 0.7181 - precision: 0.7687 - val_loss: 0.9192 - val_acc: 0.6600 - val_recall: 0.6325 - val_precision: 0.6705\n",
            "Epoch 26/50\n",
            "260/260 [==============================] - 124s 475ms/step - loss: 0.5915 - acc: 0.7500 - recall: 0.7237 - precision: 0.7729 - val_loss: 0.8750 - val_acc: 0.6475 - val_recall: 0.6075 - val_precision: 0.6573\n",
            "Epoch 27/50\n",
            "260/260 [==============================] - 125s 481ms/step - loss: 0.5645 - acc: 0.7660 - recall: 0.7368 - precision: 0.7816 - val_loss: 0.9280 - val_acc: 0.6633 - val_recall: 0.6458 - val_precision: 0.6710\n",
            "Epoch 28/50\n",
            "260/260 [==============================] - 124s 475ms/step - loss: 0.5608 - acc: 0.7703 - recall: 0.7408 - precision: 0.7895 - val_loss: 0.9478 - val_acc: 0.6658 - val_recall: 0.6508 - val_precision: 0.6681\n",
            "Epoch 29/50\n",
            "260/260 [==============================] - 128s 492ms/step - loss: 0.5446 - acc: 0.7759 - recall: 0.7502 - precision: 0.7962 - val_loss: 0.9477 - val_acc: 0.6600 - val_recall: 0.6458 - val_precision: 0.6751\n",
            "Epoch 30/50\n",
            "260/260 [==============================] - 127s 487ms/step - loss: 0.5503 - acc: 0.7676 - recall: 0.7404 - precision: 0.7876 - val_loss: 0.8549 - val_acc: 0.6717 - val_recall: 0.6517 - val_precision: 0.6866\n",
            "Epoch 31/50\n",
            "260/260 [==============================] - 127s 488ms/step - loss: 0.5386 - acc: 0.7726 - recall: 0.7439 - precision: 0.7913 - val_loss: 0.9959 - val_acc: 0.6567 - val_recall: 0.6458 - val_precision: 0.6670\n",
            "Epoch 32/50\n",
            "260/260 [==============================] - 131s 502ms/step - loss: 0.5149 - acc: 0.7764 - recall: 0.7551 - precision: 0.7940 - val_loss: 0.9419 - val_acc: 0.6600 - val_recall: 0.6458 - val_precision: 0.6710\n",
            "Epoch 33/50\n",
            "260/260 [==============================] - 132s 508ms/step - loss: 0.4806 - acc: 0.8047 - recall: 0.7824 - precision: 0.8253 - val_loss: 0.9532 - val_acc: 0.6775 - val_recall: 0.6617 - val_precision: 0.6869\n",
            "Epoch 34/50\n",
            "260/260 [==============================] - 124s 478ms/step - loss: 0.4884 - acc: 0.8013 - recall: 0.7799 - precision: 0.8179 - val_loss: 0.9063 - val_acc: 0.6825 - val_recall: 0.6683 - val_precision: 0.6956\n",
            "Epoch 35/50\n",
            "260/260 [==============================] - 125s 479ms/step - loss: 0.4781 - acc: 0.8063 - recall: 0.7843 - precision: 0.8248 - val_loss: 0.9962 - val_acc: 0.6717 - val_recall: 0.6542 - val_precision: 0.6791\n",
            "Epoch 36/50\n",
            "260/260 [==============================] - 124s 478ms/step - loss: 0.4609 - acc: 0.8080 - recall: 0.7897 - precision: 0.8270 - val_loss: 0.9057 - val_acc: 0.6933 - val_recall: 0.6800 - val_precision: 0.6992\n",
            "Epoch 37/50\n",
            "260/260 [==============================] - 125s 480ms/step - loss: 0.4603 - acc: 0.8124 - recall: 0.7945 - precision: 0.8278 - val_loss: 0.9020 - val_acc: 0.6983 - val_recall: 0.6783 - val_precision: 0.7084\n",
            "Epoch 38/50\n",
            "260/260 [==============================] - 124s 478ms/step - loss: 0.4659 - acc: 0.8113 - recall: 0.7915 - precision: 0.8270 - val_loss: 0.8840 - val_acc: 0.6967 - val_recall: 0.6767 - val_precision: 0.7036\n",
            "Epoch 39/50\n",
            "260/260 [==============================] - 123s 473ms/step - loss: 0.4328 - acc: 0.8176 - recall: 0.8022 - precision: 0.8330 - val_loss: 1.0316 - val_acc: 0.6792 - val_recall: 0.6675 - val_precision: 0.6840\n",
            "Epoch 40/50\n",
            "260/260 [==============================] - 125s 479ms/step - loss: 0.4442 - acc: 0.8199 - recall: 0.8028 - precision: 0.8346 - val_loss: 0.9151 - val_acc: 0.6808 - val_recall: 0.6725 - val_precision: 0.6874\n",
            "Epoch 41/50\n",
            "260/260 [==============================] - 127s 486ms/step - loss: 0.4266 - acc: 0.8317 - recall: 0.8178 - precision: 0.8467 - val_loss: 0.8980 - val_acc: 0.7008 - val_recall: 0.6792 - val_precision: 0.7032\n",
            "Epoch 42/50\n",
            "260/260 [==============================] - 122s 468ms/step - loss: 0.4148 - acc: 0.8329 - recall: 0.8163 - precision: 0.8470 - val_loss: 0.9651 - val_acc: 0.6825 - val_recall: 0.6692 - val_precision: 0.6887\n",
            "Epoch 43/50\n",
            "260/260 [==============================] - 122s 470ms/step - loss: 0.4048 - acc: 0.8305 - recall: 0.8134 - precision: 0.8468 - val_loss: 0.9176 - val_acc: 0.6858 - val_recall: 0.6717 - val_precision: 0.6918\n",
            "Epoch 44/50\n",
            "260/260 [==============================] - 128s 492ms/step - loss: 0.4005 - acc: 0.8396 - recall: 0.8244 - precision: 0.8497 - val_loss: 0.9342 - val_acc: 0.7083 - val_recall: 0.6975 - val_precision: 0.7160\n",
            "Epoch 45/50\n",
            "260/260 [==============================] - 125s 479ms/step - loss: 0.3894 - acc: 0.8477 - recall: 0.8292 - precision: 0.8578 - val_loss: 0.8988 - val_acc: 0.7108 - val_recall: 0.7000 - val_precision: 0.7204\n",
            "Epoch 46/50\n",
            "260/260 [==============================] - 124s 476ms/step - loss: 0.3679 - acc: 0.8583 - recall: 0.8463 - precision: 0.8712 - val_loss: 0.9670 - val_acc: 0.7008 - val_recall: 0.6875 - val_precision: 0.7075\n",
            "Epoch 47/50\n",
            "260/260 [==============================] - 122s 470ms/step - loss: 0.3695 - acc: 0.8510 - recall: 0.8382 - precision: 0.8630 - val_loss: 0.9687 - val_acc: 0.7075 - val_recall: 0.6975 - val_precision: 0.7142\n",
            "Epoch 48/50\n",
            "260/260 [==============================] - 122s 470ms/step - loss: 0.3599 - acc: 0.8592 - recall: 0.8461 - precision: 0.8722 - val_loss: 1.0089 - val_acc: 0.6992 - val_recall: 0.6950 - val_precision: 0.7062\n",
            "Epoch 49/50\n",
            "260/260 [==============================] - 124s 477ms/step - loss: 0.3613 - acc: 0.8585 - recall: 0.8459 - precision: 0.8704 - val_loss: 0.9598 - val_acc: 0.7125 - val_recall: 0.6992 - val_precision: 0.7165\n",
            "Epoch 50/50\n",
            "260/260 [==============================] - 122s 470ms/step - loss: 0.3429 - acc: 0.8581 - recall: 0.8461 - precision: 0.8691 - val_loss: 0.9849 - val_acc: 0.7017 - val_recall: 0.6925 - val_precision: 0.7103\n"
          ]
        }
      ],
      "source": [
        "history = model.fit(train_generator,\n",
        "                    steps_per_epoch=260,\n",
        "                    epochs=50,\n",
        "                    validation_data=valid_generator,\n",
        "                    validation_steps=60,\n",
        "                    callbacks=[checkpoint_cb])\n"
      ]
    },
    {
      "cell_type": "code",
      "execution_count": 24,
      "metadata": {
        "id": "MhSs88SOBf7_",
        "colab": {
          "base_uri": "https://localhost:8080/",
          "height": 596
        },
        "outputId": "50820224-d0d8-4e67-a36a-02e6d02f9d32"
      },
      "outputs": [
        {
          "output_type": "display_data",
          "data": {
            "text/plain": [
              "<Figure size 720x720 with 1 Axes>"
            ],
            "image/png": "[encoded data removed]"
          },
          "metadata": {
            "needs_background": "light"
          }
        }
      ],
      "source": [
        "pd.DataFrame(history.history).plot(figsize=(10, 10))\n",
        "plt.ylim((0,2))\n",
        "plt.grid(True)\n",
        "plt.show()"
      ]
    },
    {
      "cell_type": "code",
      "execution_count": 25,
      "metadata": {
        "id": "Jb_oN7wQBf5A",
        "colab": {
          "base_uri": "https://localhost:8080/"
        },
        "outputId": "9bc77df1-fe89-476a-c92c-a59ab25e7bd8"
      },
      "outputs": [
        {
          "output_type": "stream",
          "name": "stdout",
          "text": [
            "83/83 [==============================] - 15s 174ms/step - loss: 1.0011 - acc: 0.7226 - recall: 0.7117 - precision: 0.7272\n"
          ]
        },
        {
          "output_type": "execute_result",
          "data": {
            "text/plain": [
              "[1.0010653734207153,\n",
              " 0.7226277589797974,\n",
              " 0.7116788029670715,\n",
              " 0.7271597385406494]"
            ]
          },
          "metadata": {},
          "execution_count": 25
        }
      ],
      "source": [
        "model.evaluate(test_generator)"
      ]
    },
    {
      "cell_type": "code",
      "execution_count": 25,
      "metadata": {
        "id": "OCKXMlD6Bfzn"
      },
      "outputs": [],
      "source": [
        ""
      ]
    },
    {
      "cell_type": "code",
      "execution_count": 25,
      "metadata": {
        "id": "asmCecks8XRR"
      },
      "outputs": [],
      "source": [
        ""
      ]
    },
    {
      "cell_type": "code",
      "execution_count": 26,
      "metadata": {
        "id": "NNUNQXk2PqeA",
        "colab": {
          "base_uri": "https://localhost:8080/"
        },
        "outputId": "a99df275-bdb8-40fc-928f-2713a068a776"
      },
      "outputs": [
        {
          "output_type": "execute_result",
          "data": {
            "text/plain": [
              "array([[171,  92,  25],\n",
              "       [ 31, 735, 104],\n",
              "       [ 10, 194, 282]])"
            ]
          },
          "metadata": {},
          "execution_count": 26
        }
      ],
      "source": [
        "x=model.predict(test_generator)\n",
        "actual=test_generator.labels\n",
        "pred=np.argmax(x, axis=1)\n",
        "from sklearn.metrics import confusion_matrix\n",
        "confusion_matrix(actual,pred)"
      ]
    },
    {
      "cell_type": "code",
      "source": [
        ""
      ],
      "metadata": {
        "id": "s1AgJL3zYO-a"
      },
      "execution_count": 26,
      "outputs": []
    }
  ],
  "metadata": {
    "accelerator": "GPU",
    "colab": {
      "collapsed_sections": [],
      "name": "MobileNet AGCCPF.ipynb",
      "provenance": []
    },
    "kernelspec": {
      "display_name": "Python 3",
      "language": "python",
      "name": "python3"
    },
    "language_info": {
      "codemirror_mode": {
        "name": "ipython",
        "version": 3
      },
      "file_extension": ".py",
      "mimetype": "text/x-python",
      "name": "python",
      "nbconvert_exporter": "python",
      "pygments_lexer": "ipython3",
      "version": "3.8.5"
    }
  },
  "nbformat": 4,
  "nbformat_minor": 0
}