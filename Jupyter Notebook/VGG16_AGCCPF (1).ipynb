{
  "cells": [
    {
      "cell_type": "code",
      "execution_count": 1,
      "metadata": {
        "colab": {
          "base_uri": "https://localhost:8080/"
        },
        "id": "6apL4lLkBJdS",
        "outputId": "5ed4c027-8688-43a9-e9e3-67fd22604f09"
      },
      "outputs": [
        {
          "output_type": "stream",
          "name": "stdout",
          "text": [
            "Drive already mounted at /content/gdrive; to attempt to forcibly remount, call drive.mount(\"/content/gdrive\", force_remount=True).\n"
          ]
        }
      ],
      "source": [
        "from google.colab import drive\n",
        "drive.mount('/content/gdrive')\n",
        "import cv2\n",
        "import os\n",
        "import random"
      ]
    },
    {
      "cell_type": "code",
      "execution_count": 2,
      "metadata": {
        "id": "F59wrFLeBgYO"
      },
      "outputs": [],
      "source": [
        "import matplotlib.pyplot as plt\n",
        "import matplotlib as mpl\n",
        "import numpy as np\n",
        "import pandas as pd\n",
        "%matplotlib inline"
      ]
    },
    {
      "cell_type": "code",
      "source": [
        ""
      ],
      "metadata": {
        "id": "JhKuI0ijVE2B"
      },
      "execution_count": 2,
      "outputs": []
    },
    {
      "cell_type": "code",
      "source": [
        ""
      ],
      "metadata": {
        "id": "FFFuiE-WVNux"
      },
      "execution_count": 2,
      "outputs": []
    },
    {
      "cell_type": "code",
      "execution_count": 3,
      "metadata": {
        "id": "5OM6rQxpBgUy"
      },
      "outputs": [],
      "source": [
        "import tensorflow as tf\n",
        "import tensorflow.keras as keras\n"
      ]
    },
    {
      "cell_type": "code",
      "execution_count": 4,
      "metadata": {
        "colab": {
          "base_uri": "https://localhost:8080/",
          "height": 35
        },
        "id": "_hBZjOnK4M82",
        "outputId": "6e0e59bf-0120-427a-ad5c-bf2974b48bea"
      },
      "outputs": [
        {
          "output_type": "execute_result",
          "data": {
            "text/plain": [
              "'2.8.0'"
            ],
            "application/vnd.google.colaboratory.intrinsic+json": {
              "type": "string"
            }
          },
          "metadata": {},
          "execution_count": 4
        }
      ],
      "source": [
        "tf.__version__"
      ]
    },
    {
      "cell_type": "code",
      "execution_count": 5,
      "metadata": {
        "id": "VdU5cuUdBgR-"
      },
      "outputs": [],
      "source": [
        "tf.random.set_seed(42)\n",
        "np.random.seed(42)\n"
      ]
    },
    {
      "cell_type": "code",
      "execution_count": 6,
      "metadata": {
        "id": "oQ8IUIQ8BgPR"
      },
      "outputs": [],
      "source": [
        "train_dir = \"/content/gdrive/MyDrive/AGCCPF/train\"\n",
        "test_dir = \"/content/gdrive/MyDrive/AGCCPF/test\"\n",
        "valid_dir = \"/content/gdrive/MyDrive/AGCCPF/validate\"\n"
      ]
    },
    {
      "cell_type": "code",
      "execution_count": 7,
      "metadata": {
        "id": "qpxzCWqmBgMf"
      },
      "outputs": [],
      "source": [
        "from keras.preprocessing.image import ImageDataGenerator"
      ]
    },
    {
      "cell_type": "code",
      "execution_count": 8,
      "metadata": {
        "id": "mVlMS8YeBgJ-"
      },
      "outputs": [],
      "source": [
        "train_datagen = ImageDataGenerator(\n",
        "    rescale=1./255,\n",
        "    rotation_range=30,\n",
        "    width_shift_range=0.2,\n",
        "    height_shift_range=0.2,\n",
        "    shear_range=0.2,\n",
        "    zoom_range=0.2,\n",
        "    horizontal_flip=False)\n",
        "test_datagen = ImageDataGenerator(rescale=1./255)"
      ]
    },
    {
      "cell_type": "code",
      "execution_count": 8,
      "metadata": {
        "id": "dkPxqWbyVZ8w"
      },
      "outputs": [],
      "source": [
        ""
      ]
    },
    {
      "cell_type": "code",
      "execution_count": 9,
      "metadata": {
        "colab": {
          "base_uri": "https://localhost:8080/"
        },
        "id": "QBWrLPIeBgG-",
        "outputId": "2810f215-46c9-4efc-d610-860fbf62b445"
      },
      "outputs": [
        {
          "output_type": "stream",
          "name": "stdout",
          "text": [
            "Found 5253 images belonging to 3 classes.\n",
            "Found 1315 images belonging to 3 classes.\n",
            "Found 1644 images belonging to 3 classes.\n"
          ]
        }
      ],
      "source": [
        "\n",
        "train_generator = train_datagen.flow_from_directory(\n",
        "        train_dir,\n",
        "        target_size=(224, 224),\n",
        "        batch_size=20,\n",
        "        class_mode='categorical',\n",
        "        shuffle=True\n",
        "        )\n",
        "\n",
        "valid_generator = test_datagen.flow_from_directory(\n",
        "        valid_dir,\n",
        "        target_size=(224, 224),\n",
        "        batch_size=20,\n",
        "        class_mode='categorical',\n",
        "        shuffle=True\n",
        "        )\n",
        "\n",
        "test_generator = test_datagen.flow_from_directory(\n",
        "        test_dir,\n",
        "        target_size=(224, 224),\n",
        "        batch_size=20,\n",
        "        class_mode='categorical',\n",
        "        shuffle=False\n",
        "        )"
      ]
    },
    {
      "cell_type": "code",
      "execution_count": 10,
      "metadata": {
        "id": "Vn80dmJEHb_K"
      },
      "outputs": [],
      "source": [
        "from tensorflow.keras import layers\n",
        "from tensorflow.keras import models"
      ]
    },
    {
      "cell_type": "code",
      "execution_count": 11,
      "metadata": {
        "id": "HjZAgItjHb4X"
      },
      "outputs": [],
      "source": [
        "from tensorflow.keras import optimizers"
      ]
    },
    {
      "cell_type": "code",
      "execution_count": 12,
      "metadata": {
        "id": "osJjtxI0HHk1"
      },
      "outputs": [],
      "source": [
        "from tensorflow.keras.applications import VGG16\n",
        "conv_base = VGG16(\n",
        "                  include_top=False,\n",
        "                  input_shape=(224, 224, 3))\n",
        "\n",
        "\n",
        "# conv_base = EfficientNetB7(weights='imagenet',\n",
        "#                   include_top=False,\n",
        "#                   input_shape=(150, 150, 3))\n",
        "\n",
        "# conv_base = DenseNet121(weights='imagenet',\n",
        "#                   include_top=False,\n",
        "#                   input_shape=(150, 150, 3))\n",
        "\n",
        "# conv_base = MobileNet(weights='imagenet',\n",
        "#                   include_top=False,\n",
        "#                   input_shape=(150, 150, 3))"
      ]
    },
    {
      "cell_type": "code",
      "execution_count": 13,
      "metadata": {
        "colab": {
          "base_uri": "https://localhost:8080/"
        },
        "id": "55R8Y-_SHHfm",
        "outputId": "26710216-d5ed-4eb0-d99c-aef4ee529cb5"
      },
      "outputs": [
        {
          "output_type": "stream",
          "name": "stdout",
          "text": [
            "Model: \"vgg16\"\n",
            "_________________________________________________________________\n",
            " Layer (type)                Output Shape              Param #   \n",
            "=================================================================\n",
            " input_1 (InputLayer)        [(None, 224, 224, 3)]     0         \n",
            "                                                                 \n",
            " block1_conv1 (Conv2D)       (None, 224, 224, 64)      1792      \n",
            "                                                                 \n",
            " block1_conv2 (Conv2D)       (None, 224, 224, 64)      36928     \n",
            "                                                                 \n",
            " block1_pool (MaxPooling2D)  (None, 112, 112, 64)      0         \n",
            "                                                                 \n",
            " block2_conv1 (Conv2D)       (None, 112, 112, 128)     73856     \n",
            "                                                                 \n",
            " block2_conv2 (Conv2D)       (None, 112, 112, 128)     147584    \n",
            "                                                                 \n",
            " block2_pool (MaxPooling2D)  (None, 56, 56, 128)       0         \n",
            "                                                                 \n",
            " block3_conv1 (Conv2D)       (None, 56, 56, 256)       295168    \n",
            "                                                                 \n",
            " block3_conv2 (Conv2D)       (None, 56, 56, 256)       590080    \n",
            "                                                                 \n",
            " block3_conv3 (Conv2D)       (None, 56, 56, 256)       590080    \n",
            "                                                                 \n",
            " block3_pool (MaxPooling2D)  (None, 28, 28, 256)       0         \n",
            "                                                                 \n",
            " block4_conv1 (Conv2D)       (None, 28, 28, 512)       1180160   \n",
            "                                                                 \n",
            " block4_conv2 (Conv2D)       (None, 28, 28, 512)       2359808   \n",
            "                                                                 \n",
            " block4_conv3 (Conv2D)       (None, 28, 28, 512)       2359808   \n",
            "                                                                 \n",
            " block4_pool (MaxPooling2D)  (None, 14, 14, 512)       0         \n",
            "                                                                 \n",
            " block5_conv1 (Conv2D)       (None, 14, 14, 512)       2359808   \n",
            "                                                                 \n",
            " block5_conv2 (Conv2D)       (None, 14, 14, 512)       2359808   \n",
            "                                                                 \n",
            " block5_conv3 (Conv2D)       (None, 14, 14, 512)       2359808   \n",
            "                                                                 \n",
            " block5_pool (MaxPooling2D)  (None, 7, 7, 512)         0         \n",
            "                                                                 \n",
            "=================================================================\n",
            "Total params: 14,714,688\n",
            "Trainable params: 14,714,688\n",
            "Non-trainable params: 0\n",
            "_________________________________________________________________\n"
          ]
        }
      ],
      "source": [
        "conv_base.summary()"
      ]
    },
    {
      "cell_type": "code",
      "execution_count": 14,
      "metadata": {
        "id": "SPfa-BxXIxx7"
      },
      "outputs": [],
      "source": [
        "model = keras.models.Sequential()\n",
        "model.add(conv_base)\n",
        "model.add(keras.layers.Flatten())\n",
        "model.add(keras.layers.Dense(256, activation='relu'))\n",
        "model.add(keras.layers.Dense(3, activation='softmax'))\n",
        "\n"
      ]
    },
    {
      "cell_type": "code",
      "execution_count": 15,
      "metadata": {
        "colab": {
          "base_uri": "https://localhost:8080/"
        },
        "id": "bDBxETADe8jD",
        "outputId": "112aeba5-4d49-459a-f1a0-02d10cc93fd7"
      },
      "outputs": [
        {
          "output_type": "stream",
          "name": "stderr",
          "text": [
            "/usr/local/lib/python3.7/dist-packages/keras/optimizer_v2/rmsprop.py:130: UserWarning: The `lr` argument is deprecated, use `learning_rate` instead.\n",
            "  super(RMSprop, self).__init__(name, **kwargs)\n"
          ]
        }
      ],
      "source": [
        "# model = models.Sequential()\n",
        "# model.add(layers.Conv2D(32, (3, 3), activation='relu',\n",
        "#                         input_shape=(150, 150, 3)))\n",
        "# model.add(layers.MaxPooling2D((2, 2)))\n",
        "# model.add(layers.Conv2D(64, (3, 3), activation='relu'))\n",
        "# model.add(layers.MaxPooling2D((2, 2)))\n",
        "# model.add(layers.Conv2D(128, (3, 3), activation='relu'))\n",
        "# model.add(layers.MaxPooling2D((2, 2)))\n",
        "# model.add(layers.Conv2D(128, (3, 3), activation='relu'))\n",
        "# model.add(layers.MaxPooling2D((2, 2)))\n",
        "# model.add(layers.Flatten())\n",
        "# model.add(layers.Dropout(0.5))\n",
        "# model.add(layers.Dense(512, activation='relu'))\n",
        "# model.add(layers.Dense(3, activation='softmax'))\n",
        "\n",
        "model.compile(loss='categorical_crossentropy',\n",
        "              optimizer=optimizers.RMSprop(lr=1e-5),\n",
        "              metrics=['acc',tf.keras.metrics.Recall(),tf.keras.metrics.Precision()])"
      ]
    },
    {
      "cell_type": "code",
      "execution_count": 15,
      "metadata": {
        "id": "qB0BSqiFIxvN"
      },
      "outputs": [],
      "source": [
        ""
      ]
    },
    {
      "cell_type": "code",
      "execution_count": 16,
      "metadata": {
        "colab": {
          "base_uri": "https://localhost:8080/"
        },
        "id": "pZWLWDwPIxsL",
        "outputId": "e7be35b8-4423-43de-fb7a-2340548aee51"
      },
      "outputs": [
        {
          "output_type": "stream",
          "name": "stdout",
          "text": [
            "/content/gdrive/MyDrive\n"
          ]
        }
      ],
      "source": [
        "%cd /content/gdrive/MyDrive/"
      ]
    },
    {
      "cell_type": "code",
      "execution_count": 16,
      "metadata": {
        "id": "9SPJWRvYIxmB"
      },
      "outputs": [],
      "source": [
        ""
      ]
    },
    {
      "cell_type": "code",
      "execution_count": 16,
      "metadata": {
        "id": "b4D4xfzYIxiT"
      },
      "outputs": [],
      "source": [
        ""
      ]
    },
    {
      "cell_type": "code",
      "execution_count": 17,
      "metadata": {
        "id": "4EXrUrX_BgEO"
      },
      "outputs": [],
      "source": [
        "checkpoint_cb = keras.callbacks.ModelCheckpoint(\n",
        "    \"/content/gdrive/MyDrive/model.h5\", save_best_only=True)\n",
        "earlystop_cb = keras.callbacks.EarlyStopping(\n",
        "    patience=5, restore_best_weights=True)\n"
      ]
    },
    {
      "cell_type": "code",
      "execution_count": 18,
      "metadata": {
        "colab": {
          "base_uri": "https://localhost:8080/"
        },
        "id": "gMjWqC11BgBf",
        "outputId": "3fc8c989-6c08-4e88-82d8-7a6ac30983e3"
      },
      "outputs": [
        {
          "output_type": "stream",
          "name": "stdout",
          "text": [
            "Model: \"sequential\"\n",
            "_________________________________________________________________\n",
            " Layer (type)                Output Shape              Param #   \n",
            "=================================================================\n",
            " vgg16 (Functional)          (None, 7, 7, 512)         14714688  \n",
            "                                                                 \n",
            " flatten (Flatten)           (None, 25088)             0         \n",
            "                                                                 \n",
            " dense (Dense)               (None, 256)               6422784   \n",
            "                                                                 \n",
            " dense_1 (Dense)             (None, 3)                 771       \n",
            "                                                                 \n",
            "=================================================================\n",
            "Total params: 21,138,243\n",
            "Trainable params: 21,138,243\n",
            "Non-trainable params: 0\n",
            "_________________________________________________________________\n"
          ]
        }
      ],
      "source": [
        "model.summary(0)\n"
      ]
    },
    {
      "cell_type": "code",
      "execution_count": 19,
      "metadata": {
        "colab": {
          "base_uri": "https://localhost:8080/"
        },
        "id": "NfgjeN5mBf-u",
        "outputId": "4e537a71-1263-4a66-9b76-0925afe6c330"
      },
      "outputs": [
        {
          "output_type": "stream",
          "name": "stdout",
          "text": [
            "Epoch 1/50\n",
            "260/260 [==============================] - 137s 473ms/step - loss: 0.9952 - acc: 0.5203 - recall: 0.3846 - precision: 0.5344 - val_loss: 0.9935 - val_acc: 0.5008 - val_recall: 0.4383 - val_precision: 0.5152\n",
            "Epoch 2/50\n",
            "260/260 [==============================] - 119s 457ms/step - loss: 0.9547 - acc: 0.5392 - recall: 0.3978 - precision: 0.5640 - val_loss: 0.9492 - val_acc: 0.5433 - val_recall: 0.4950 - val_precision: 0.5630\n",
            "Epoch 3/50\n",
            "260/260 [==============================] - 119s 458ms/step - loss: 0.9193 - acc: 0.5602 - recall: 0.4235 - precision: 0.5907 - val_loss: 0.9282 - val_acc: 0.5558 - val_recall: 0.5208 - val_precision: 0.5782\n",
            "Epoch 4/50\n",
            "260/260 [==============================] - 119s 457ms/step - loss: 0.8966 - acc: 0.5658 - recall: 0.4431 - precision: 0.6123 - val_loss: 0.8783 - val_acc: 0.5775 - val_recall: 0.4133 - val_precision: 0.6640\n",
            "Epoch 5/50\n",
            "260/260 [==============================] - 118s 452ms/step - loss: 0.8659 - acc: 0.5852 - recall: 0.4660 - precision: 0.6328 - val_loss: 0.8894 - val_acc: 0.5725 - val_recall: 0.5250 - val_precision: 0.5882\n",
            "Epoch 6/50\n",
            "260/260 [==============================] - 120s 461ms/step - loss: 0.8434 - acc: 0.6050 - recall: 0.4916 - precision: 0.6513 - val_loss: 0.8747 - val_acc: 0.5958 - val_recall: 0.5550 - val_precision: 0.6133\n",
            "Epoch 7/50\n",
            "260/260 [==============================] - 118s 453ms/step - loss: 0.8103 - acc: 0.6241 - recall: 0.5242 - precision: 0.6696 - val_loss: 0.9145 - val_acc: 0.5633 - val_recall: 0.4425 - val_precision: 0.6055\n",
            "Epoch 8/50\n",
            "260/260 [==============================] - 119s 456ms/step - loss: 0.7895 - acc: 0.6357 - recall: 0.5311 - precision: 0.6892 - val_loss: 0.8185 - val_acc: 0.6108 - val_recall: 0.5392 - val_precision: 0.6522\n",
            "Epoch 9/50\n",
            "260/260 [==============================] - 117s 450ms/step - loss: 0.7641 - acc: 0.6511 - recall: 0.5638 - precision: 0.7083 - val_loss: 0.8288 - val_acc: 0.5992 - val_recall: 0.5525 - val_precision: 0.6363\n",
            "Epoch 10/50\n",
            "260/260 [==============================] - 120s 459ms/step - loss: 0.7472 - acc: 0.6586 - recall: 0.5708 - precision: 0.7099 - val_loss: 0.7943 - val_acc: 0.6367 - val_recall: 0.5767 - val_precision: 0.6732\n",
            "Epoch 11/50\n",
            "260/260 [==============================] - 117s 450ms/step - loss: 0.7025 - acc: 0.6911 - recall: 0.6139 - precision: 0.7388 - val_loss: 0.8296 - val_acc: 0.6275 - val_recall: 0.5875 - val_precision: 0.6516\n",
            "Epoch 12/50\n",
            "260/260 [==============================] - 117s 450ms/step - loss: 0.6891 - acc: 0.6921 - recall: 0.6181 - precision: 0.7395 - val_loss: 0.8123 - val_acc: 0.6458 - val_recall: 0.5917 - val_precision: 0.6717\n",
            "Epoch 13/50\n",
            "260/260 [==============================] - 118s 455ms/step - loss: 0.6463 - acc: 0.7129 - recall: 0.6426 - precision: 0.7521 - val_loss: 0.7654 - val_acc: 0.6717 - val_recall: 0.6125 - val_precision: 0.6960\n",
            "Epoch 14/50\n",
            "260/260 [==============================] - 117s 450ms/step - loss: 0.6110 - acc: 0.7331 - recall: 0.6707 - precision: 0.7713 - val_loss: 0.9678 - val_acc: 0.6408 - val_recall: 0.6075 - val_precision: 0.6682\n",
            "Epoch 15/50\n",
            "260/260 [==============================] - 117s 450ms/step - loss: 0.5929 - acc: 0.7443 - recall: 0.6896 - precision: 0.7843 - val_loss: 0.8311 - val_acc: 0.6600 - val_recall: 0.6142 - val_precision: 0.6933\n",
            "Epoch 16/50\n",
            "260/260 [==============================] - 118s 451ms/step - loss: 0.5593 - acc: 0.7641 - recall: 0.7090 - precision: 0.8003 - val_loss: 0.8184 - val_acc: 0.6742 - val_recall: 0.6275 - val_precision: 0.7077\n",
            "Epoch 17/50\n",
            "260/260 [==============================] - 117s 451ms/step - loss: 0.5370 - acc: 0.7699 - recall: 0.7248 - precision: 0.8070 - val_loss: 0.7843 - val_acc: 0.6850 - val_recall: 0.6400 - val_precision: 0.7131\n",
            "Epoch 18/50\n",
            "260/260 [==============================] - 117s 451ms/step - loss: 0.5173 - acc: 0.7811 - recall: 0.7404 - precision: 0.8170 - val_loss: 0.8441 - val_acc: 0.6742 - val_recall: 0.6408 - val_precision: 0.7023\n",
            "Epoch 19/50\n",
            "260/260 [==============================] - 119s 458ms/step - loss: 0.4852 - acc: 0.7955 - recall: 0.7560 - precision: 0.8279 - val_loss: 0.7561 - val_acc: 0.7117 - val_recall: 0.6708 - val_precision: 0.7419\n",
            "Epoch 20/50\n",
            "260/260 [==============================] - 117s 449ms/step - loss: 0.4727 - acc: 0.8088 - recall: 0.7687 - precision: 0.8397 - val_loss: 0.9491 - val_acc: 0.6625 - val_recall: 0.6358 - val_precision: 0.6800\n",
            "Epoch 21/50\n",
            "260/260 [==============================] - 117s 449ms/step - loss: 0.4387 - acc: 0.8180 - recall: 0.7851 - precision: 0.8490 - val_loss: 1.0792 - val_acc: 0.6633 - val_recall: 0.6458 - val_precision: 0.6763\n",
            "Epoch 22/50\n",
            "260/260 [==============================] - 117s 449ms/step - loss: 0.4244 - acc: 0.8352 - recall: 0.8007 - precision: 0.8607 - val_loss: 1.0101 - val_acc: 0.6925 - val_recall: 0.6675 - val_precision: 0.7039\n",
            "Epoch 23/50\n",
            "260/260 [==============================] - 117s 449ms/step - loss: 0.3903 - acc: 0.8394 - recall: 0.8124 - precision: 0.8663 - val_loss: 1.0172 - val_acc: 0.6925 - val_recall: 0.6750 - val_precision: 0.7099\n",
            "Epoch 24/50\n",
            "260/260 [==============================] - 117s 449ms/step - loss: 0.3835 - acc: 0.8461 - recall: 0.8205 - precision: 0.8678 - val_loss: 0.9334 - val_acc: 0.7125 - val_recall: 0.7017 - val_precision: 0.7277\n",
            "Epoch 25/50\n",
            "260/260 [==============================] - 117s 449ms/step - loss: 0.3527 - acc: 0.8556 - recall: 0.8355 - precision: 0.8785 - val_loss: 0.9924 - val_acc: 0.7017 - val_recall: 0.6825 - val_precision: 0.7097\n",
            "Epoch 26/50\n",
            "260/260 [==============================] - 117s 450ms/step - loss: 0.3531 - acc: 0.8565 - recall: 0.8359 - precision: 0.8789 - val_loss: 0.8910 - val_acc: 0.7400 - val_recall: 0.7192 - val_precision: 0.7544\n",
            "Epoch 27/50\n",
            "260/260 [==============================] - 117s 450ms/step - loss: 0.3236 - acc: 0.8660 - recall: 0.8500 - precision: 0.8853 - val_loss: 0.9429 - val_acc: 0.7292 - val_recall: 0.7117 - val_precision: 0.7420\n",
            "Epoch 28/50\n",
            "260/260 [==============================] - 117s 450ms/step - loss: 0.3081 - acc: 0.8793 - recall: 0.8608 - precision: 0.8944 - val_loss: 1.0697 - val_acc: 0.7075 - val_recall: 0.6933 - val_precision: 0.7191\n",
            "Epoch 29/50\n",
            "260/260 [==============================] - 117s 449ms/step - loss: 0.2852 - acc: 0.8847 - recall: 0.8702 - precision: 0.9009 - val_loss: 0.9412 - val_acc: 0.7392 - val_recall: 0.7208 - val_precision: 0.7515\n",
            "Epoch 30/50\n",
            "260/260 [==============================] - 117s 449ms/step - loss: 0.2949 - acc: 0.8808 - recall: 0.8667 - precision: 0.8988 - val_loss: 1.0117 - val_acc: 0.7050 - val_recall: 0.6908 - val_precision: 0.7159\n",
            "Epoch 31/50\n",
            "260/260 [==============================] - 117s 448ms/step - loss: 0.2600 - acc: 0.9043 - recall: 0.8914 - precision: 0.9201 - val_loss: 1.0947 - val_acc: 0.6717 - val_recall: 0.6633 - val_precision: 0.6856\n",
            "Epoch 32/50\n",
            "260/260 [==============================] - 116s 447ms/step - loss: 0.2626 - acc: 0.9004 - recall: 0.8897 - precision: 0.9111 - val_loss: 1.0960 - val_acc: 0.7408 - val_recall: 0.7292 - val_precision: 0.7491\n",
            "Epoch 33/50\n",
            "260/260 [==============================] - 117s 448ms/step - loss: 0.2349 - acc: 0.9085 - recall: 0.8956 - precision: 0.9199 - val_loss: 1.5995 - val_acc: 0.7275 - val_recall: 0.7192 - val_precision: 0.7314\n",
            "Epoch 34/50\n",
            "260/260 [==============================] - 117s 451ms/step - loss: 0.2402 - acc: 0.9078 - recall: 0.8968 - precision: 0.9209 - val_loss: 0.9230 - val_acc: 0.7175 - val_recall: 0.7067 - val_precision: 0.7323\n",
            "Epoch 35/50\n",
            "260/260 [==============================] - 117s 448ms/step - loss: 0.2271 - acc: 0.9139 - recall: 0.9033 - precision: 0.9242 - val_loss: 1.0504 - val_acc: 0.7058 - val_recall: 0.6950 - val_precision: 0.7215\n",
            "Epoch 36/50\n",
            "260/260 [==============================] - 117s 448ms/step - loss: 0.2094 - acc: 0.9228 - recall: 0.9118 - precision: 0.9306 - val_loss: 1.1579 - val_acc: 0.7333 - val_recall: 0.7175 - val_precision: 0.7384\n",
            "Epoch 37/50\n",
            "260/260 [==============================] - 117s 448ms/step - loss: 0.2035 - acc: 0.9237 - recall: 0.9151 - precision: 0.9318 - val_loss: 1.2788 - val_acc: 0.7342 - val_recall: 0.7267 - val_precision: 0.7421\n",
            "Epoch 38/50\n",
            "260/260 [==============================] - 117s 450ms/step - loss: 0.1899 - acc: 0.9262 - recall: 0.9178 - precision: 0.9367 - val_loss: 1.8383 - val_acc: 0.7142 - val_recall: 0.7075 - val_precision: 0.7177\n",
            "Epoch 39/50\n",
            "260/260 [==============================] - 117s 449ms/step - loss: 0.1833 - acc: 0.9349 - recall: 0.9286 - precision: 0.9407 - val_loss: 1.1256 - val_acc: 0.6900 - val_recall: 0.6817 - val_precision: 0.7009\n",
            "Epoch 40/50\n",
            "260/260 [==============================] - 117s 450ms/step - loss: 0.1847 - acc: 0.9311 - recall: 0.9237 - precision: 0.9376 - val_loss: 1.1343 - val_acc: 0.7333 - val_recall: 0.7233 - val_precision: 0.7394\n",
            "Epoch 41/50\n",
            "260/260 [==============================] - 117s 448ms/step - loss: 0.1809 - acc: 0.9336 - recall: 0.9274 - precision: 0.9388 - val_loss: 1.7005 - val_acc: 0.5900 - val_recall: 0.5750 - val_precision: 0.5979\n",
            "Epoch 42/50\n",
            "260/260 [==============================] - 117s 450ms/step - loss: 0.1754 - acc: 0.9370 - recall: 0.9301 - precision: 0.9415 - val_loss: 1.8075 - val_acc: 0.7233 - val_recall: 0.7192 - val_precision: 0.7277\n",
            "Epoch 43/50\n",
            "260/260 [==============================] - 117s 451ms/step - loss: 0.1637 - acc: 0.9391 - recall: 0.9349 - precision: 0.9462 - val_loss: 1.3898 - val_acc: 0.7425 - val_recall: 0.7333 - val_precision: 0.7509\n",
            "Epoch 44/50\n",
            "260/260 [==============================] - 117s 450ms/step - loss: 0.1545 - acc: 0.9438 - recall: 0.9382 - precision: 0.9479 - val_loss: 1.2589 - val_acc: 0.7150 - val_recall: 0.7083 - val_precision: 0.7216\n",
            "Epoch 45/50\n",
            "260/260 [==============================] - 119s 457ms/step - loss: 0.1708 - acc: 0.9370 - recall: 0.9320 - precision: 0.9426 - val_loss: 1.1966 - val_acc: 0.7392 - val_recall: 0.7333 - val_precision: 0.7483\n",
            "Epoch 46/50\n",
            "260/260 [==============================] - 117s 450ms/step - loss: 0.1647 - acc: 0.9380 - recall: 0.9341 - precision: 0.9454 - val_loss: 1.4150 - val_acc: 0.7342 - val_recall: 0.7300 - val_precision: 0.7392\n",
            "Epoch 47/50\n",
            "260/260 [==============================] - 118s 453ms/step - loss: 0.1506 - acc: 0.9470 - recall: 0.9418 - precision: 0.9499 - val_loss: 1.3620 - val_acc: 0.7467 - val_recall: 0.7358 - val_precision: 0.7509\n",
            "Epoch 48/50\n",
            "260/260 [==============================] - 117s 450ms/step - loss: 0.1437 - acc: 0.9492 - recall: 0.9438 - precision: 0.9529 - val_loss: 1.3174 - val_acc: 0.7458 - val_recall: 0.7358 - val_precision: 0.7534\n",
            "Epoch 49/50\n",
            "260/260 [==============================] - 117s 451ms/step - loss: 0.1374 - acc: 0.9505 - recall: 0.9474 - precision: 0.9546 - val_loss: 1.5384 - val_acc: 0.7508 - val_recall: 0.7475 - val_precision: 0.7570\n",
            "Epoch 50/50\n",
            "260/260 [==============================] - 117s 451ms/step - loss: 0.1371 - acc: 0.9480 - recall: 0.9451 - precision: 0.9519 - val_loss: 1.8852 - val_acc: 0.7358 - val_recall: 0.7333 - val_precision: 0.7414\n"
          ]
        }
      ],
      "source": [
        "history = model.fit(train_generator,\n",
        "                    steps_per_epoch=260,\n",
        "                    epochs=50,\n",
        "                    validation_data=valid_generator,\n",
        "                    validation_steps=60,\n",
        "                    callbacks=[checkpoint_cb])\n"
      ]
    },
    {
      "cell_type": "code",
      "execution_count": 20,
      "metadata": {
        "id": "MhSs88SOBf7_",
        "colab": {
          "base_uri": "https://localhost:8080/",
          "height": 596
        },
        "outputId": "64afcff2-47e4-4b89-f0b0-1c3c5d194716"
      },
      "outputs": [
        {
          "output_type": "display_data",
          "data": {
            "text/plain": [
              "<Figure size 720x720 with 1 Axes>"
            ],
            "image/png": "[encoded data removed]"
          },
          "metadata": {
            "needs_background": "light"
          }
        }
      ],
      "source": [
        "pd.DataFrame(history.history).plot(figsize=(10, 10))\n",
        "plt.ylim((0,2))\n",
        "plt.grid(True)\n",
        "plt.show()"
      ]
    },
    {
      "cell_type": "code",
      "execution_count": 21,
      "metadata": {
        "id": "Jb_oN7wQBf5A",
        "colab": {
          "base_uri": "https://localhost:8080/"
        },
        "outputId": "e8e9aa77-11a0-4c71-9499-f636eba9583e"
      },
      "outputs": [
        {
          "output_type": "stream",
          "name": "stdout",
          "text": [
            "83/83 [==============================] - 14s 163ms/step - loss: 1.8036 - acc: 0.7457 - recall: 0.7439 - precision: 0.7498\n"
          ]
        },
        {
          "output_type": "execute_result",
          "data": {
            "text/plain": [
              "[1.8035876750946045,\n",
              " 0.7457420825958252,\n",
              " 0.7439172863960266,\n",
              " 0.7498466968536377]"
            ]
          },
          "metadata": {},
          "execution_count": 21
        }
      ],
      "source": [
        "model.evaluate(test_generator)"
      ]
    },
    {
      "cell_type": "code",
      "execution_count": null,
      "metadata": {
        "id": "OCKXMlD6Bfzn"
      },
      "outputs": [],
      "source": [
        ""
      ]
    },
    {
      "cell_type": "code",
      "execution_count": null,
      "metadata": {
        "id": "asmCecks8XRR"
      },
      "outputs": [],
      "source": [
        ""
      ]
    },
    {
      "cell_type": "code",
      "execution_count": 22,
      "metadata": {
        "id": "NNUNQXk2PqeA",
        "colab": {
          "base_uri": "https://localhost:8080/"
        },
        "outputId": "9b87575f-4b31-46ef-cefa-7cfb1e92a8d2"
      },
      "outputs": [
        {
          "output_type": "execute_result",
          "data": {
            "text/plain": [
              "array([[170,  99,  19],\n",
              "       [ 17, 792,  61],\n",
              "       [ 15, 207, 264]])"
            ]
          },
          "metadata": {},
          "execution_count": 22
        }
      ],
      "source": [
        "x=model.predict(test_generator)\n",
        "actual=test_generator.labels\n",
        "pred=np.argmax(x, axis=1)\n",
        "from sklearn.metrics import confusion_matrix\n",
        "confusion_matrix(actual,pred)"
      ]
    },
    {
      "cell_type": "code",
      "source": [
        ""
      ],
      "metadata": {
        "id": "-3z354gzXq8E"
      },
      "execution_count": 22,
      "outputs": []
    }
  ],
  "metadata": {
    "accelerator": "GPU",
    "colab": {
      "collapsed_sections": [],
      "name": "VGG16 AGCCPF.ipynb",
      "provenance": []
    },
    "kernelspec": {
      "display_name": "Python 3",
      "language": "python",
      "name": "python3"
    },
    "language_info": {
      "codemirror_mode": {
        "name": "ipython",
        "version": 3
      },
      "file_extension": ".py",
      "mimetype": "text/x-python",
      "name": "python",
      "nbconvert_exporter": "python",
      "pygments_lexer": "ipython3",
      "version": "3.8.5"
    }
  },
  "nbformat": 4,
  "nbformat_minor": 0
}