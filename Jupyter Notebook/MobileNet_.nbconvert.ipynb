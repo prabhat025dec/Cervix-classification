{
 "cells": [
  {
   "cell_type": "code",
   "execution_count": 1,
   "metadata": {},
   "outputs": [],
   "source": [
    "!module purge\n",
    "!module load apps/anaconda3\n",
    "!module load compilers/nvidia/cuda/11.2\n",
    "!module load compilers/gcc/8.3.0"
   ]
  },
  {
   "cell_type": "code",
   "execution_count": 2,
   "metadata": {
    "colab": {
     "base_uri": "https://localhost:8080/"
    },
    "executionInfo": {
     "elapsed": 53880,
     "status": "ok",
     "timestamp": 1649439371855,
     "user": {
      "displayName": "Nikhil kansliwal",
      "userId": "14896650983382194700"
     },
     "user_tz": -330
    },
    "id": "6apL4lLkBJdS",
    "outputId": "5324c35e-1c1a-40bb-cec4-7e3c33cb2273"
   },
   "outputs": [],
   "source": [
    "\n",
    "import cv2\n",
    "import os\n",
    "import random"
   ]
  },
  {
   "cell_type": "code",
   "execution_count": 3,
   "metadata": {
    "executionInfo": {
     "elapsed": 666,
     "status": "ok",
     "timestamp": 1649439372517,
     "user": {
      "displayName": "Nikhil kansliwal",
      "userId": "14896650983382194700"
     },
     "user_tz": -330
    },
    "id": "F59wrFLeBgYO"
   },
   "outputs": [],
   "source": [
    "import matplotlib.pyplot as plt\n",
    "import matplotlib as mpl\n",
    "import numpy as np\n",
    "import pandas as pd\n",
    "%matplotlib inline"
   ]
  },
  {
   "cell_type": "code",
   "execution_count": 4,
   "metadata": {
    "executionInfo": {
     "elapsed": 18135,
     "status": "ok",
     "timestamp": 1649439390648,
     "user": {
      "displayName": "Nikhil kansliwal",
      "userId": "14896650983382194700"
     },
     "user_tz": -330
    },
    "id": "5OM6rQxpBgUy"
   },
   "outputs": [],
   "source": [
    "import tensorflow as tf\n",
    "import tensorflow.keras as keras\n"
   ]
  },
  {
   "cell_type": "code",
   "execution_count": 5,
   "metadata": {
    "colab": {
     "base_uri": "https://localhost:8080/",
     "height": 36
    },
    "executionInfo": {
     "elapsed": 33,
     "status": "ok",
     "timestamp": 1649439390650,
     "user": {
      "displayName": "Nikhil kansliwal",
      "userId": "14896650983382194700"
     },
     "user_tz": -330
    },
    "id": "_hBZjOnK4M82",
    "outputId": "52ee0f90-c6c3-4b26-dd79-b0ce2da29487"
   },
   "outputs": [
    {
     "data": {
      "text/plain": [
       "'2.7.0'"
      ]
     },
     "execution_count": 5,
     "metadata": {},
     "output_type": "execute_result"
    }
   ],
   "source": [
    "tf.__version__"
   ]
  },
  {
   "cell_type": "code",
   "execution_count": 6,
   "metadata": {
    "executionInfo": {
     "elapsed": 25,
     "status": "ok",
     "timestamp": 1649439390651,
     "user": {
      "displayName": "Nikhil kansliwal",
      "userId": "14896650983382194700"
     },
     "user_tz": -330
    },
    "id": "VdU5cuUdBgR-"
   },
   "outputs": [],
   "source": [
    "tf.random.set_seed(42)\n",
    "np.random.seed(42)\n"
   ]
  },
  {
   "cell_type": "code",
   "execution_count": 7,
   "metadata": {
    "executionInfo": {
     "elapsed": 26,
     "status": "ok",
     "timestamp": 1649439390652,
     "user": {
      "displayName": "Nikhil kansliwal",
      "userId": "14896650983382194700"
     },
     "user_tz": -330
    },
    "id": "oQ8IUIQ8BgPR"
   },
   "outputs": [],
   "source": [
    "train_dir = \"/home/191112024/splited_dataset/AGCCPF/train\"\n",
    "test_dir = \"/home/191112024/splited_dataset/AGCCPF/test\"\n",
    "valid_dir = \"/home/191112024/splited_dataset/AGCCPF/validate\"\n"
   ]
  },
  {
   "cell_type": "code",
   "execution_count": 8,
   "metadata": {
    "executionInfo": {
     "elapsed": 26,
     "status": "ok",
     "timestamp": 1649439390653,
     "user": {
      "displayName": "Nikhil kansliwal",
      "userId": "14896650983382194700"
     },
     "user_tz": -330
    },
    "id": "qpxzCWqmBgMf"
   },
   "outputs": [],
   "source": [
    "from keras.preprocessing.image import ImageDataGenerator"
   ]
  },
  {
   "cell_type": "code",
   "execution_count": 9,
   "metadata": {
    "executionInfo": {
     "elapsed": 25,
     "status": "ok",
     "timestamp": 1649439390653,
     "user": {
      "displayName": "Nikhil kansliwal",
      "userId": "14896650983382194700"
     },
     "user_tz": -330
    },
    "id": "mVlMS8YeBgJ-"
   },
   "outputs": [],
   "source": [
    "train_datagen = ImageDataGenerator(\n",
    "    rescale=1./255,\n",
    "    rotation_range=30,\n",
    "    width_shift_range=0.2,\n",
    "    height_shift_range=0.2,\n",
    "    shear_range=0.2,\n",
    "    zoom_range=0.2,\n",
    "    horizontal_flip=False)\n",
    "test_datagen = ImageDataGenerator(rescale=1./255)"
   ]
  },
  {
   "cell_type": "code",
   "execution_count": null,
   "metadata": {
    "executionInfo": {
     "elapsed": 25,
     "status": "ok",
     "timestamp": 1649439390654,
     "user": {
      "displayName": "Nikhil kansliwal",
      "userId": "14896650983382194700"
     },
     "user_tz": -330
    },
    "id": "dkPxqWbyVZ8w"
   },
   "outputs": [],
   "source": []
  },
  {
   "cell_type": "code",
   "execution_count": 10,
   "metadata": {
    "colab": {
     "base_uri": "https://localhost:8080/"
    },
    "executionInfo": {
     "elapsed": 1246,
     "status": "ok",
     "timestamp": 1649439391877,
     "user": {
      "displayName": "Nikhil kansliwal",
      "userId": "14896650983382194700"
     },
     "user_tz": -330
    },
    "id": "QBWrLPIeBgG-",
    "outputId": "fb9888cb-141d-4ff2-d839-d19327e2f68f"
   },
   "outputs": [
    {
     "name": "stdout",
     "output_type": "stream",
     "text": [
      "Found 5253 images belonging to 3 classes.\n",
      "Found 1315 images belonging to 3 classes.\n",
      "Found 1644 images belonging to 3 classes.\n"
     ]
    }
   ],
   "source": [
    "\n",
    "train_generator = train_datagen.flow_from_directory(\n",
    "        train_dir,\n",
    "        target_size=(224, 224),\n",
    "        batch_size=20,\n",
    "        class_mode='categorical',\n",
    "        shuffle=True\n",
    "        )\n",
    "\n",
    "valid_generator = test_datagen.flow_from_directory(\n",
    "        valid_dir,\n",
    "        target_size=(224, 224),\n",
    "        batch_size=20,\n",
    "        class_mode='categorical',\n",
    "        shuffle=True\n",
    "        )\n",
    "\n",
    "test_generator = test_datagen.flow_from_directory(\n",
    "        test_dir,\n",
    "        target_size=(224, 224),\n",
    "        batch_size=20,\n",
    "        class_mode='categorical',\n",
    "        shuffle=False\n",
    "        )"
   ]
  },
  {
   "cell_type": "code",
   "execution_count": 11,
   "metadata": {
    "executionInfo": {
     "elapsed": 4,
     "status": "ok",
     "timestamp": 1649439391877,
     "user": {
      "displayName": "Nikhil kansliwal",
      "userId": "14896650983382194700"
     },
     "user_tz": -330
    },
    "id": "Vn80dmJEHb_K"
   },
   "outputs": [],
   "source": [
    "from tensorflow.keras import layers\n",
    "from tensorflow.keras import models"
   ]
  },
  {
   "cell_type": "code",
   "execution_count": 12,
   "metadata": {
    "executionInfo": {
     "elapsed": 3,
     "status": "ok",
     "timestamp": 1649439391877,
     "user": {
      "displayName": "Nikhil kansliwal",
      "userId": "14896650983382194700"
     },
     "user_tz": -330
    },
    "id": "HjZAgItjHb4X"
   },
   "outputs": [],
   "source": [
    "from tensorflow.keras import optimizers"
   ]
  },
  {
   "cell_type": "code",
   "execution_count": 13,
   "metadata": {
    "colab": {
     "base_uri": "https://localhost:8080/"
    },
    "executionInfo": {
     "elapsed": 6732,
     "status": "ok",
     "timestamp": 1649439398606,
     "user": {
      "displayName": "Nikhil kansliwal",
      "userId": "14896650983382194700"
     },
     "user_tz": -330
    },
    "id": "osJjtxI0HHk1",
    "outputId": "9105220d-dfe8-4322-f557-9c51be554a07"
   },
   "outputs": [],
   "source": [
    "from tensorflow.keras.applications import MobileNet\n",
    "# conv_base = VGG16(weights='imagenet',\n",
    "#                   include_top=False,\n",
    "#                   input_shape=(200, 200, 3))\n",
    "\n",
    "\n",
    "# conv_base = EfficientNetB7(weights='imagenet',\n",
    "#                   include_top=False,\n",
    "#                   input_shape=(150, 150, 3))\n",
    "\n",
    "# conv_base = DenseNet121(weights='imagenet',\n",
    "#                   include_top=False,\n",
    "#                   input_shape=(224, 224, 3))\n",
    "\n",
    "conv_base = MobileNet(weights='imagenet',\n",
    "                  include_top=False,\n",
    "                  input_shape=(224, 224, 3))"
   ]
  },
  {
   "cell_type": "code",
   "execution_count": 14,
   "metadata": {
    "colab": {
     "base_uri": "https://localhost:8080/"
    },
    "executionInfo": {
     "elapsed": 7021,
     "status": "ok",
     "timestamp": 1649439405612,
     "user": {
      "displayName": "Nikhil kansliwal",
      "userId": "14896650983382194700"
     },
     "user_tz": -330
    },
    "id": "55R8Y-_SHHfm",
    "outputId": "2cdc10f0-cd4b-42e0-9dcd-2b5bd26ad5a9"
   },
   "outputs": [
    {
     "name": "stdout",
     "output_type": "stream",
     "text": [
      "Model: \"mobilenet_1.00_224\"\n",
      "_________________________________________________________________\n",
      " Layer (type)                Output Shape              Param #   \n",
      "=================================================================\n",
      " input_1 (InputLayer)        [(None, 224, 224, 3)]     0         \n",
      "                                                                 \n",
      " conv1 (Conv2D)              (None, 112, 112, 32)      864       \n",
      "                                                                 \n",
      " conv1_bn (BatchNormalizatio  (None, 112, 112, 32)     128       \n",
      " n)                                                              \n",
      "                                                                 \n",
      " conv1_relu (ReLU)           (None, 112, 112, 32)      0         \n",
      "                                                                 \n",
      " conv_dw_1 (DepthwiseConv2D)  (None, 112, 112, 32)     288       \n",
      "                                                                 \n",
      " conv_dw_1_bn (BatchNormaliz  (None, 112, 112, 32)     128       \n",
      " ation)                                                          \n",
      "                                                                 \n",
      " conv_dw_1_relu (ReLU)       (None, 112, 112, 32)      0         \n",
      "                                                                 \n",
      " conv_pw_1 (Conv2D)          (None, 112, 112, 64)      2048      \n",
      "                                                                 \n",
      " conv_pw_1_bn (BatchNormaliz  (None, 112, 112, 64)     256       \n",
      " ation)                                                          \n",
      "                                                                 \n",
      " conv_pw_1_relu (ReLU)       (None, 112, 112, 64)      0         \n",
      "                                                                 \n",
      " conv_pad_2 (ZeroPadding2D)  (None, 113, 113, 64)      0         \n",
      "                                                                 \n",
      " conv_dw_2 (DepthwiseConv2D)  (None, 56, 56, 64)       576       \n",
      "                                                                 \n",
      " conv_dw_2_bn (BatchNormaliz  (None, 56, 56, 64)       256       \n",
      " ation)                                                          \n",
      "                                                                 \n",
      " conv_dw_2_relu (ReLU)       (None, 56, 56, 64)        0         \n",
      "                                                                 \n",
      " conv_pw_2 (Conv2D)          (None, 56, 56, 128)       8192      \n",
      "                                                                 \n",
      " conv_pw_2_bn (BatchNormaliz  (None, 56, 56, 128)      512       \n",
      " ation)                                                          \n",
      "                                                                 \n",
      " conv_pw_2_relu (ReLU)       (None, 56, 56, 128)       0         \n",
      "                                                                 \n",
      " conv_dw_3 (DepthwiseConv2D)  (None, 56, 56, 128)      1152      \n",
      "                                                                 \n",
      " conv_dw_3_bn (BatchNormaliz  (None, 56, 56, 128)      512       \n",
      " ation)                                                          \n",
      "                                                                 \n",
      " conv_dw_3_relu (ReLU)       (None, 56, 56, 128)       0         \n",
      "                                                                 \n",
      " conv_pw_3 (Conv2D)          (None, 56, 56, 128)       16384     \n",
      "                                                                 \n",
      " conv_pw_3_bn (BatchNormaliz  (None, 56, 56, 128)      512       \n",
      " ation)                                                          \n",
      "                                                                 \n",
      " conv_pw_3_relu (ReLU)       (None, 56, 56, 128)       0         \n",
      "                                                                 \n",
      " conv_pad_4 (ZeroPadding2D)  (None, 57, 57, 128)       0         \n",
      "                                                                 \n",
      " conv_dw_4 (DepthwiseConv2D)  (None, 28, 28, 128)      1152      \n",
      "                                                                 \n",
      " conv_dw_4_bn (BatchNormaliz  (None, 28, 28, 128)      512       \n",
      " ation)                                                          \n",
      "                                                                 \n",
      " conv_dw_4_relu (ReLU)       (None, 28, 28, 128)       0         \n",
      "                                                                 \n",
      " conv_pw_4 (Conv2D)          (None, 28, 28, 256)       32768     \n",
      "                                                                 \n",
      " conv_pw_4_bn (BatchNormaliz  (None, 28, 28, 256)      1024      \n",
      " ation)                                                          \n",
      "                                                                 \n",
      " conv_pw_4_relu (ReLU)       (None, 28, 28, 256)       0         \n",
      "                                                                 \n",
      " conv_dw_5 (DepthwiseConv2D)  (None, 28, 28, 256)      2304      \n",
      "                                                                 \n",
      " conv_dw_5_bn (BatchNormaliz  (None, 28, 28, 256)      1024      \n",
      " ation)                                                          \n",
      "                                                                 \n",
      " conv_dw_5_relu (ReLU)       (None, 28, 28, 256)       0         \n",
      "                                                                 \n",
      " conv_pw_5 (Conv2D)          (None, 28, 28, 256)       65536     \n",
      "                                                                 \n",
      " conv_pw_5_bn (BatchNormaliz  (None, 28, 28, 256)      1024      \n",
      " ation)                                                          \n",
      "                                                                 \n",
      " conv_pw_5_relu (ReLU)       (None, 28, 28, 256)       0         \n",
      "                                                                 \n",
      " conv_pad_6 (ZeroPadding2D)  (None, 29, 29, 256)       0         \n",
      "                                                                 \n",
      " conv_dw_6 (DepthwiseConv2D)  (None, 14, 14, 256)      2304      \n",
      "                                                                 \n",
      " conv_dw_6_bn (BatchNormaliz  (None, 14, 14, 256)      1024      \n",
      " ation)                                                          \n",
      "                                                                 \n",
      " conv_dw_6_relu (ReLU)       (None, 14, 14, 256)       0         \n",
      "                                                                 \n",
      " conv_pw_6 (Conv2D)          (None, 14, 14, 512)       131072    \n",
      "                                                                 \n",
      " conv_pw_6_bn (BatchNormaliz  (None, 14, 14, 512)      2048      \n",
      " ation)                                                          \n",
      "                                                                 \n",
      " conv_pw_6_relu (ReLU)       (None, 14, 14, 512)       0         \n",
      "                                                                 \n",
      " conv_dw_7 (DepthwiseConv2D)  (None, 14, 14, 512)      4608      \n",
      "                                                                 \n",
      " conv_dw_7_bn (BatchNormaliz  (None, 14, 14, 512)      2048      \n",
      " ation)                                                          \n",
      "                                                                 \n",
      " conv_dw_7_relu (ReLU)       (None, 14, 14, 512)       0         \n",
      "                                                                 \n",
      " conv_pw_7 (Conv2D)          (None, 14, 14, 512)       262144    \n",
      "                                                                 \n",
      " conv_pw_7_bn (BatchNormaliz  (None, 14, 14, 512)      2048      \n",
      " ation)                                                          \n",
      "                                                                 \n",
      " conv_pw_7_relu (ReLU)       (None, 14, 14, 512)       0         \n",
      "                                                                 \n",
      " conv_dw_8 (DepthwiseConv2D)  (None, 14, 14, 512)      4608      \n",
      "                                                                 \n",
      " conv_dw_8_bn (BatchNormaliz  (None, 14, 14, 512)      2048      \n",
      " ation)                                                          \n",
      "                                                                 \n",
      " conv_dw_8_relu (ReLU)       (None, 14, 14, 512)       0         \n",
      "                                                                 \n",
      " conv_pw_8 (Conv2D)          (None, 14, 14, 512)       262144    \n",
      "                                                                 \n",
      " conv_pw_8_bn (BatchNormaliz  (None, 14, 14, 512)      2048      \n",
      " ation)                                                          \n",
      "                                                                 \n",
      " conv_pw_8_relu (ReLU)       (None, 14, 14, 512)       0         \n",
      "                                                                 \n",
      " conv_dw_9 (DepthwiseConv2D)  (None, 14, 14, 512)      4608      \n",
      "                                                                 \n",
      " conv_dw_9_bn (BatchNormaliz  (None, 14, 14, 512)      2048      \n",
      " ation)                                                          \n",
      "                                                                 \n",
      " conv_dw_9_relu (ReLU)       (None, 14, 14, 512)       0         \n",
      "                                                                 \n",
      " conv_pw_9 (Conv2D)          (None, 14, 14, 512)       262144    \n",
      "                                                                 \n",
      " conv_pw_9_bn (BatchNormaliz  (None, 14, 14, 512)      2048      \n",
      " ation)                                                          \n",
      "                                                                 \n",
      " conv_pw_9_relu (ReLU)       (None, 14, 14, 512)       0         \n",
      "                                                                 \n",
      " conv_dw_10 (DepthwiseConv2D  (None, 14, 14, 512)      4608      \n",
      " )                                                               \n",
      "                                                                 \n",
      " conv_dw_10_bn (BatchNormali  (None, 14, 14, 512)      2048      \n",
      " zation)                                                         \n",
      "                                                                 \n",
      " conv_dw_10_relu (ReLU)      (None, 14, 14, 512)       0         \n",
      "                                                                 \n",
      " conv_pw_10 (Conv2D)         (None, 14, 14, 512)       262144    \n",
      "                                                                 \n",
      " conv_pw_10_bn (BatchNormali  (None, 14, 14, 512)      2048      \n",
      " zation)                                                         \n",
      "                                                                 \n",
      " conv_pw_10_relu (ReLU)      (None, 14, 14, 512)       0         \n",
      "                                                                 \n",
      " conv_dw_11 (DepthwiseConv2D  (None, 14, 14, 512)      4608      \n",
      " )                                                               \n",
      "                                                                 \n",
      " conv_dw_11_bn (BatchNormali  (None, 14, 14, 512)      2048      \n",
      " zation)                                                         \n",
      "                                                                 \n",
      " conv_dw_11_relu (ReLU)      (None, 14, 14, 512)       0         \n",
      "                                                                 \n",
      " conv_pw_11 (Conv2D)         (None, 14, 14, 512)       262144    \n",
      "                                                                 \n",
      " conv_pw_11_bn (BatchNormali  (None, 14, 14, 512)      2048      \n",
      " zation)                                                         \n",
      "                                                                 \n",
      " conv_pw_11_relu (ReLU)      (None, 14, 14, 512)       0         \n",
      "                                                                 \n",
      " conv_pad_12 (ZeroPadding2D)  (None, 15, 15, 512)      0         \n",
      "                                                                 \n",
      " conv_dw_12 (DepthwiseConv2D  (None, 7, 7, 512)        4608      \n",
      " )                                                               \n",
      "                                                                 \n",
      " conv_dw_12_bn (BatchNormali  (None, 7, 7, 512)        2048      \n",
      " zation)                                                         \n",
      "                                                                 \n",
      " conv_dw_12_relu (ReLU)      (None, 7, 7, 512)         0         \n",
      "                                                                 \n",
      " conv_pw_12 (Conv2D)         (None, 7, 7, 1024)        524288    \n",
      "                                                                 \n",
      " conv_pw_12_bn (BatchNormali  (None, 7, 7, 1024)       4096      \n",
      " zation)                                                         \n",
      "                                                                 \n",
      " conv_pw_12_relu (ReLU)      (None, 7, 7, 1024)        0         \n",
      "                                                                 \n",
      " conv_dw_13 (DepthwiseConv2D  (None, 7, 7, 1024)       9216      \n",
      " )                                                               \n",
      "                                                                 \n",
      " conv_dw_13_bn (BatchNormali  (None, 7, 7, 1024)       4096      \n",
      " zation)                                                         \n",
      "                                                                 \n",
      " conv_dw_13_relu (ReLU)      (None, 7, 7, 1024)        0         \n",
      "                                                                 \n",
      " conv_pw_13 (Conv2D)         (None, 7, 7, 1024)        1048576   \n",
      "                                                                 \n",
      " conv_pw_13_bn (BatchNormali  (None, 7, 7, 1024)       4096      \n",
      " zation)                                                         \n",
      "                                                                 \n",
      " conv_pw_13_relu (ReLU)      (None, 7, 7, 1024)        0         \n",
      "                                                                 \n",
      "=================================================================\n",
      "Total params: 3,228,864\n",
      "Trainable params: 3,206,976\n",
      "Non-trainable params: 21,888\n",
      "_________________________________________________________________\n"
     ]
    }
   ],
   "source": [
    "conv_base.summary()"
   ]
  },
  {
   "cell_type": "code",
   "execution_count": 15,
   "metadata": {
    "executionInfo": {
     "elapsed": 29,
     "status": "ok",
     "timestamp": 1649439405612,
     "user": {
      "displayName": "Nikhil kansliwal",
      "userId": "14896650983382194700"
     },
     "user_tz": -330
    },
    "id": "SPfa-BxXIxx7"
   },
   "outputs": [],
   "source": [
    "model = keras.models.Sequential()\n",
    "model.add(conv_base)\n",
    "model.add(keras.layers.GlobalAveragePooling2D())\n",
    "model.add(keras.layers.Dense(3, activation='softmax'))\n",
    "\n"
   ]
  },
  {
   "cell_type": "code",
   "execution_count": 16,
   "metadata": {
    "colab": {
     "base_uri": "https://localhost:8080/"
    },
    "executionInfo": {
     "elapsed": 28,
     "status": "ok",
     "timestamp": 1649439405612,
     "user": {
      "displayName": "Nikhil kansliwal",
      "userId": "14896650983382194700"
     },
     "user_tz": -330
    },
    "id": "bDBxETADe8jD",
    "outputId": "b1fe2207-af2f-4929-9f07-93bf57ca0df2"
   },
   "outputs": [
    {
     "name": "stderr",
     "output_type": "stream",
     "text": [
      "/home/191112024/.local/lib/python3.8/site-packages/keras/optimizer_v2/rmsprop.py:130: UserWarning: The `lr` argument is deprecated, use `learning_rate` instead.\n",
      "  super(RMSprop, self).__init__(name, **kwargs)\n"
     ]
    }
   ],
   "source": [
    "# model = models.Sequential()\n",
    "# model.add(layers.Conv2D(32, (3, 3), activation='relu',\n",
    "#                         input_shape=(150, 150, 3)))\n",
    "# model.add(layers.MaxPooling2D((2, 2)))\n",
    "# model.add(layers.Conv2D(64, (3, 3), activation='relu'))\n",
    "# model.add(layers.MaxPooling2D((2, 2)))\n",
    "# model.add(layers.Conv2D(128, (3, 3), activation='relu'))\n",
    "# model.add(layers.MaxPooling2D((2, 2)))\n",
    "# model.add(layers.Conv2D(128, (3, 3), activation='relu'))\n",
    "# model.add(layers.MaxPooling2D((2, 2)))\n",
    "# model.add(layers.Flatten())\n",
    "# model.add(layers.Dropout(0.5))\n",
    "# model.add(layers.Dense(512, activation='relu'))\n",
    "# model.add(layers.Dense(3, activation='softmax'))\n",
    "\n",
    "model.compile(loss='categorical_crossentropy',\n",
    "              optimizer=optimizers.RMSprop(lr=1e-5),\n",
    "              metrics=['acc',tf.keras.metrics.Recall(),tf.keras.metrics.Precision()])"
   ]
  },
  {
   "cell_type": "code",
   "execution_count": null,
   "metadata": {
    "executionInfo": {
     "elapsed": 9,
     "status": "ok",
     "timestamp": 1649439405613,
     "user": {
      "displayName": "Nikhil kansliwal",
      "userId": "14896650983382194700"
     },
     "user_tz": -330
    },
    "id": "qB0BSqiFIxvN"
   },
   "outputs": [],
   "source": []
  },
  {
   "cell_type": "code",
   "execution_count": 15,
   "metadata": {
    "executionInfo": {
     "elapsed": 8,
     "status": "ok",
     "timestamp": 1649439405613,
     "user": {
      "displayName": "Nikhil kansliwal",
      "userId": "14896650983382194700"
     },
     "user_tz": -330
    },
    "id": "pZWLWDwPIxsL"
   },
   "outputs": [],
   "source": []
  },
  {
   "cell_type": "code",
   "execution_count": 15,
   "metadata": {
    "executionInfo": {
     "elapsed": 9,
     "status": "ok",
     "timestamp": 1649439405614,
     "user": {
      "displayName": "Nikhil kansliwal",
      "userId": "14896650983382194700"
     },
     "user_tz": -330
    },
    "id": "9SPJWRvYIxmB"
   },
   "outputs": [],
   "source": []
  },
  {
   "cell_type": "code",
   "execution_count": 15,
   "metadata": {
    "executionInfo": {
     "elapsed": 9,
     "status": "ok",
     "timestamp": 1649439405614,
     "user": {
      "displayName": "Nikhil kansliwal",
      "userId": "14896650983382194700"
     },
     "user_tz": -330
    },
    "id": "b4D4xfzYIxiT"
   },
   "outputs": [],
   "source": []
  },
  {
   "cell_type": "code",
   "execution_count": 17,
   "metadata": {
    "executionInfo": {
     "elapsed": 10,
     "status": "ok",
     "timestamp": 1649439405615,
     "user": {
      "displayName": "Nikhil kansliwal",
      "userId": "14896650983382194700"
     },
     "user_tz": -330
    },
    "id": "4EXrUrX_BgEO"
   },
   "outputs": [],
   "source": [
    "checkpoint_cb = keras.callbacks.ModelCheckpoint(\n",
    "    \"model_MobileNet_.h5\", save_best_only=True)\n",
    "earlystop_cb = keras.callbacks.EarlyStopping(\n",
    "    patience=5, restore_best_weights=True)\n"
   ]
  },
  {
   "cell_type": "code",
   "execution_count": 18,
   "metadata": {
    "colab": {
     "base_uri": "https://localhost:8080/"
    },
    "executionInfo": {
     "elapsed": 10,
     "status": "ok",
     "timestamp": 1649439405615,
     "user": {
      "displayName": "Nikhil kansliwal",
      "userId": "14896650983382194700"
     },
     "user_tz": -330
    },
    "id": "gMjWqC11BgBf",
    "outputId": "f2debe16-93f4-434e-b94c-862ab56223c5"
   },
   "outputs": [
    {
     "name": "stdout",
     "output_type": "stream",
     "text": [
      "Model: \"sequential\"\n",
      "_________________________________________________________________\n",
      " Layer (type)                Output Shape              Param #   \n",
      "=================================================================\n",
      " mobilenet_1.00_224 (Functio  (None, 7, 7, 1024)       3228864   \n",
      " nal)                                                            \n",
      "                                                                 \n",
      " global_average_pooling2d (G  (None, 1024)             0         \n",
      " lobalAveragePooling2D)                                          \n",
      "                                                                 \n",
      " dense (Dense)               (None, 3)                 3075      \n",
      "                                                                 \n",
      "=================================================================\n",
      "Total params: 3,231,939\n",
      "Trainable params: 3,210,051\n",
      "Non-trainable params: 21,888\n",
      "_________________________________________________________________\n"
     ]
    }
   ],
   "source": [
    "model.summary(0)\n"
   ]
  },
  {
   "cell_type": "code",
   "execution_count": 19,
   "metadata": {
    "colab": {
     "base_uri": "https://localhost:8080/"
    },
    "id": "NfgjeN5mBf-u",
    "outputId": "d3cf11e8-3732-43e5-dd8c-2f0b4aa6420e"
   },
   "outputs": [
    {
     "name": "stdout",
     "output_type": "stream",
     "text": [
      "Epoch 1/50\n",
      "260/260 [==============================] - 183s 684ms/step - loss: 1.0790 - acc: 0.5014 - recall: 0.3942 - precision: 0.5222 - val_loss: 1.0571 - val_acc: 0.5192 - val_recall: 0.4483 - val_precision: 0.5380\n",
      "Epoch 2/50\n",
      "260/260 [==============================] - 173s 665ms/step - loss: 0.9929 - acc: 0.5272 - recall: 0.4229 - precision: 0.5567 - val_loss: 1.0386 - val_acc: 0.5100 - val_recall: 0.4025 - val_precision: 0.5222\n",
      "Epoch 3/50\n",
      "260/260 [==============================] - 173s 663ms/step - loss: 0.9385 - acc: 0.5532 - recall: 0.4591 - precision: 0.5902 - val_loss: 0.9794 - val_acc: 0.5342 - val_recall: 0.4183 - val_precision: 0.5565\n",
      "Epoch 4/50\n",
      "260/260 [==============================] - 174s 668ms/step - loss: 0.9182 - acc: 0.5715 - recall: 0.4760 - precision: 0.6006 - val_loss: 0.9573 - val_acc: 0.5400 - val_recall: 0.4283 - val_precision: 0.5692\n",
      "Epoch 5/50\n",
      "260/260 [==============================] - 173s 665ms/step - loss: 0.8818 - acc: 0.5858 - recall: 0.4918 - precision: 0.6175 - val_loss: 0.9403 - val_acc: 0.5717 - val_recall: 0.5175 - val_precision: 0.6029\n",
      "Epoch 6/50\n",
      "260/260 [==============================] - 172s 660ms/step - loss: 0.8567 - acc: 0.5970 - recall: 0.5097 - precision: 0.6334 - val_loss: 0.8973 - val_acc: 0.5808 - val_recall: 0.4833 - val_precision: 0.6112\n",
      "Epoch 7/50\n",
      "260/260 [==============================] - 171s 657ms/step - loss: 0.8362 - acc: 0.6176 - recall: 0.5296 - precision: 0.6512 - val_loss: 0.9169 - val_acc: 0.5758 - val_recall: 0.5258 - val_precision: 0.5953\n",
      "Epoch 8/50\n",
      "260/260 [==============================] - 171s 657ms/step - loss: 0.8102 - acc: 0.6260 - recall: 0.5359 - precision: 0.6585 - val_loss: 0.8991 - val_acc: 0.5892 - val_recall: 0.5250 - val_precision: 0.6064\n",
      "Epoch 9/50\n",
      "260/260 [==============================] - 173s 663ms/step - loss: 0.7919 - acc: 0.6337 - recall: 0.5490 - precision: 0.6730 - val_loss: 0.9088 - val_acc: 0.5700 - val_recall: 0.4883 - val_precision: 0.6047\n",
      "Epoch 10/50\n",
      "260/260 [==============================] - 173s 664ms/step - loss: 0.7725 - acc: 0.6588 - recall: 0.5767 - precision: 0.6967 - val_loss: 0.8782 - val_acc: 0.5867 - val_recall: 0.5258 - val_precision: 0.6050\n",
      "Epoch 11/50\n",
      "260/260 [==============================] - 172s 661ms/step - loss: 0.7422 - acc: 0.6644 - recall: 0.5823 - precision: 0.7079 - val_loss: 0.8815 - val_acc: 0.5808 - val_recall: 0.5225 - val_precision: 0.6159\n",
      "Epoch 12/50\n",
      "260/260 [==============================] - 172s 662ms/step - loss: 0.7230 - acc: 0.6878 - recall: 0.6145 - precision: 0.7327 - val_loss: 0.8641 - val_acc: 0.5908 - val_recall: 0.5392 - val_precision: 0.6203\n",
      "Epoch 13/50\n",
      "260/260 [==============================] - 172s 662ms/step - loss: 0.7363 - acc: 0.6736 - recall: 0.6004 - precision: 0.7069 - val_loss: 0.8514 - val_acc: 0.6042 - val_recall: 0.5517 - val_precision: 0.6275\n",
      "Epoch 14/50\n",
      "260/260 [==============================] - 174s 667ms/step - loss: 0.7117 - acc: 0.6878 - recall: 0.6174 - precision: 0.7291 - val_loss: 0.8651 - val_acc: 0.6000 - val_recall: 0.5342 - val_precision: 0.6359\n",
      "Epoch 15/50\n",
      "260/260 [==============================] - 173s 665ms/step - loss: 0.6854 - acc: 0.6990 - recall: 0.6322 - precision: 0.7414 - val_loss: 0.8454 - val_acc: 0.6217 - val_recall: 0.5583 - val_precision: 0.6467\n",
      "Epoch 16/50\n",
      "260/260 [==============================] - 173s 662ms/step - loss: 0.6645 - acc: 0.7140 - recall: 0.6472 - precision: 0.7572 - val_loss: 0.8436 - val_acc: 0.6158 - val_recall: 0.5608 - val_precision: 0.6459\n",
      "Epoch 17/50\n",
      "260/260 [==============================] - 171s 657ms/step - loss: 0.6581 - acc: 0.7223 - recall: 0.6572 - precision: 0.7586 - val_loss: 0.8087 - val_acc: 0.6308 - val_recall: 0.5875 - val_precision: 0.6528\n",
      "Epoch 18/50\n",
      "260/260 [==============================] - 173s 666ms/step - loss: 0.6402 - acc: 0.7331 - recall: 0.6723 - precision: 0.7705 - val_loss: 0.8007 - val_acc: 0.6267 - val_recall: 0.5717 - val_precision: 0.6622\n",
      "Epoch 19/50\n",
      "260/260 [==============================] - 174s 668ms/step - loss: 0.6228 - acc: 0.7402 - recall: 0.6794 - precision: 0.7795 - val_loss: 0.8012 - val_acc: 0.6450 - val_recall: 0.5833 - val_precision: 0.6705\n",
      "Epoch 20/50\n",
      "260/260 [==============================] - 175s 672ms/step - loss: 0.6154 - acc: 0.7408 - recall: 0.6871 - precision: 0.7856 - val_loss: 0.7803 - val_acc: 0.6650 - val_recall: 0.6000 - val_precision: 0.6877\n",
      "Epoch 21/50\n",
      "260/260 [==============================] - 172s 660ms/step - loss: 0.5959 - acc: 0.7495 - recall: 0.6927 - precision: 0.7847 - val_loss: 0.8044 - val_acc: 0.6442 - val_recall: 0.5950 - val_precision: 0.6648\n",
      "Epoch 22/50\n",
      "260/260 [==============================] - 174s 669ms/step - loss: 0.5792 - acc: 0.7616 - recall: 0.7085 - precision: 0.7980 - val_loss: 0.7981 - val_acc: 0.6533 - val_recall: 0.6125 - val_precision: 0.6694\n",
      "Epoch 23/50\n",
      "260/260 [==============================] - 173s 664ms/step - loss: 0.5760 - acc: 0.7645 - recall: 0.7098 - precision: 0.7973 - val_loss: 0.7608 - val_acc: 0.6558 - val_recall: 0.6158 - val_precision: 0.6755\n",
      "Epoch 24/50\n",
      "260/260 [==============================] - 171s 658ms/step - loss: 0.5518 - acc: 0.7791 - recall: 0.7267 - precision: 0.8135 - val_loss: 0.7756 - val_acc: 0.6642 - val_recall: 0.6217 - val_precision: 0.6907\n",
      "Epoch 25/50\n",
      "260/260 [==============================] - 176s 676ms/step - loss: 0.5503 - acc: 0.7764 - recall: 0.7325 - precision: 0.8120 - val_loss: 0.7745 - val_acc: 0.6700 - val_recall: 0.6225 - val_precision: 0.6988\n",
      "Epoch 26/50\n",
      "260/260 [==============================] - 173s 663ms/step - loss: 0.5328 - acc: 0.7878 - recall: 0.7404 - precision: 0.8195 - val_loss: 0.7741 - val_acc: 0.6717 - val_recall: 0.6333 - val_precision: 0.6928\n",
      "Epoch 27/50\n",
      "260/260 [==============================] - 172s 662ms/step - loss: 0.5185 - acc: 0.7963 - recall: 0.7439 - precision: 0.8297 - val_loss: 0.7522 - val_acc: 0.6692 - val_recall: 0.6300 - val_precision: 0.6936\n",
      "Epoch 28/50\n",
      "260/260 [==============================] - 173s 665ms/step - loss: 0.5187 - acc: 0.7974 - recall: 0.7543 - precision: 0.8285 - val_loss: 0.7656 - val_acc: 0.6750 - val_recall: 0.6333 - val_precision: 0.6966\n",
      "Epoch 29/50\n",
      "260/260 [==============================] - 174s 669ms/step - loss: 0.5008 - acc: 0.8084 - recall: 0.7655 - precision: 0.8349 - val_loss: 0.7567 - val_acc: 0.6725 - val_recall: 0.6375 - val_precision: 0.6986\n",
      "Epoch 30/50\n",
      "260/260 [==============================] - 175s 673ms/step - loss: 0.4848 - acc: 0.8047 - recall: 0.7647 - precision: 0.8365 - val_loss: 0.7545 - val_acc: 0.6725 - val_recall: 0.6417 - val_precision: 0.6987\n",
      "Epoch 31/50\n",
      "260/260 [==============================] - 173s 664ms/step - loss: 0.4766 - acc: 0.8163 - recall: 0.7745 - precision: 0.8430 - val_loss: 0.7550 - val_acc: 0.6725 - val_recall: 0.6392 - val_precision: 0.6916\n",
      "Epoch 32/50\n",
      "260/260 [==============================] - 175s 671ms/step - loss: 0.4670 - acc: 0.8155 - recall: 0.7830 - precision: 0.8489 - val_loss: 0.7443 - val_acc: 0.6700 - val_recall: 0.6292 - val_precision: 0.7089\n",
      "Epoch 33/50\n",
      "260/260 [==============================] - 173s 666ms/step - loss: 0.4583 - acc: 0.8217 - recall: 0.7834 - precision: 0.8512 - val_loss: 0.7336 - val_acc: 0.6892 - val_recall: 0.6525 - val_precision: 0.7237\n",
      "Epoch 34/50\n",
      "260/260 [==============================] - 172s 661ms/step - loss: 0.4350 - acc: 0.8379 - recall: 0.8024 - precision: 0.8643 - val_loss: 0.7538 - val_acc: 0.6792 - val_recall: 0.6542 - val_precision: 0.6990\n",
      "Epoch 35/50\n",
      "260/260 [==============================] - 175s 672ms/step - loss: 0.4260 - acc: 0.8423 - recall: 0.8076 - precision: 0.8689 - val_loss: 0.7649 - val_acc: 0.6717 - val_recall: 0.6400 - val_precision: 0.7046\n",
      "Epoch 36/50\n",
      "260/260 [==============================] - 174s 668ms/step - loss: 0.4207 - acc: 0.8423 - recall: 0.8132 - precision: 0.8652 - val_loss: 0.7383 - val_acc: 0.6867 - val_recall: 0.6525 - val_precision: 0.7203\n",
      "Epoch 37/50\n",
      "260/260 [==============================] - 174s 669ms/step - loss: 0.4161 - acc: 0.8475 - recall: 0.8151 - precision: 0.8740 - val_loss: 0.7139 - val_acc: 0.7025 - val_recall: 0.6742 - val_precision: 0.7282\n",
      "Epoch 38/50\n",
      "260/260 [==============================] - 174s 668ms/step - loss: 0.3968 - acc: 0.8538 - recall: 0.8238 - precision: 0.8766 - val_loss: 0.7199 - val_acc: 0.6967 - val_recall: 0.6725 - val_precision: 0.7212\n",
      "Epoch 39/50\n",
      "260/260 [==============================] - 173s 666ms/step - loss: 0.3780 - acc: 0.8621 - recall: 0.8392 - precision: 0.8847 - val_loss: 0.7025 - val_acc: 0.7075 - val_recall: 0.6867 - val_precision: 0.7305\n",
      "Epoch 40/50\n",
      "260/260 [==============================] - 175s 672ms/step - loss: 0.3743 - acc: 0.8708 - recall: 0.8419 - precision: 0.8881 - val_loss: 0.7335 - val_acc: 0.6917 - val_recall: 0.6608 - val_precision: 0.7203\n",
      "Epoch 41/50\n",
      "260/260 [==============================] - 172s 661ms/step - loss: 0.3663 - acc: 0.8673 - recall: 0.8407 - precision: 0.8897 - val_loss: 0.7069 - val_acc: 0.7042 - val_recall: 0.6750 - val_precision: 0.7297\n",
      "Epoch 42/50\n",
      "260/260 [==============================] - 173s 664ms/step - loss: 0.3568 - acc: 0.8700 - recall: 0.8427 - precision: 0.8918 - val_loss: 0.7195 - val_acc: 0.7092 - val_recall: 0.6817 - val_precision: 0.7297\n",
      "Epoch 43/50\n",
      "260/260 [==============================] - 172s 662ms/step - loss: 0.3498 - acc: 0.8733 - recall: 0.8488 - precision: 0.8925 - val_loss: 0.7426 - val_acc: 0.6867 - val_recall: 0.6625 - val_precision: 0.7079\n",
      "Epoch 44/50\n",
      "260/260 [==============================] - 173s 663ms/step - loss: 0.3373 - acc: 0.8796 - recall: 0.8602 - precision: 0.8988 - val_loss: 0.7200 - val_acc: 0.7033 - val_recall: 0.6742 - val_precision: 0.7256\n",
      "Epoch 45/50\n",
      "260/260 [==============================] - 175s 671ms/step - loss: 0.3324 - acc: 0.8808 - recall: 0.8587 - precision: 0.8988 - val_loss: 0.7575 - val_acc: 0.6833 - val_recall: 0.6650 - val_precision: 0.6963\n",
      "Epoch 46/50\n",
      "260/260 [==============================] - 172s 661ms/step - loss: 0.3271 - acc: 0.8835 - recall: 0.8602 - precision: 0.8997 - val_loss: 0.7244 - val_acc: 0.7083 - val_recall: 0.6783 - val_precision: 0.7261\n",
      "Epoch 47/50\n",
      "260/260 [==============================] - 172s 661ms/step - loss: 0.3208 - acc: 0.8883 - recall: 0.8698 - precision: 0.9063 - val_loss: 0.6924 - val_acc: 0.7142 - val_recall: 0.6842 - val_precision: 0.7343\n",
      "Epoch 48/50\n",
      "260/260 [==============================] - 172s 659ms/step - loss: 0.3122 - acc: 0.8927 - recall: 0.8727 - precision: 0.9075 - val_loss: 0.7193 - val_acc: 0.7042 - val_recall: 0.6850 - val_precision: 0.7198\n",
      "Epoch 49/50\n",
      "260/260 [==============================] - 173s 662ms/step - loss: 0.2954 - acc: 0.8970 - recall: 0.8793 - precision: 0.9130 - val_loss: 0.7145 - val_acc: 0.7050 - val_recall: 0.6892 - val_precision: 0.7332\n",
      "Epoch 50/50\n",
      "260/260 [==============================] - 172s 662ms/step - loss: 0.2829 - acc: 0.9037 - recall: 0.8862 - precision: 0.9187 - val_loss: 0.7196 - val_acc: 0.7125 - val_recall: 0.6900 - val_precision: 0.7238\n"
     ]
    }
   ],
   "source": [
    "history = model.fit(train_generator,\n",
    "                    steps_per_epoch=260,\n",
    "                    epochs=50,\n",
    "                    validation_data=valid_generator,\n",
    "                    validation_steps=60,\n",
    "                    callbacks=[checkpoint_cb])\n"
   ]
  },
  {
   "cell_type": "code",
   "execution_count": 20,
   "metadata": {
    "id": "MhSs88SOBf7_"
   },
   "outputs": [
    {
     "data": {
      "image/png": "[encoded data removed]",
      "text/plain": [
       "<Figure size 720x720 with 1 Axes>"
      ]
     },
     "metadata": {
      "needs_background": "light"
     },
     "output_type": "display_data"
    }
   ],
   "source": [
    "pd.DataFrame(history.history).plot(figsize=(10, 10))\n",
    "plt.ylim((0,2))\n",
    "plt.grid(True)\n",
    "plt.show()"
   ]
  },
  {
   "cell_type": "code",
   "execution_count": 21,
   "metadata": {
    "id": "Jb_oN7wQBf5A"
   },
   "outputs": [
    {
     "name": "stdout",
     "output_type": "stream",
     "text": [
      "83/83 [==============================] - 21s 251ms/step - loss: 0.7343 - acc: 0.7299 - recall: 0.7080 - precision: 0.7466\n"
     ]
    },
    {
     "data": {
      "text/plain": [
       "[0.7343425750732422, 0.7299270033836365, 0.7080292105674744, 0.74663245677948]"
      ]
     },
     "execution_count": 21,
     "metadata": {},
     "output_type": "execute_result"
    }
   ],
   "source": [
    "model.evaluate(test_generator)"
   ]
  },
  {
   "cell_type": "code",
   "execution_count": 24,
   "metadata": {
    "id": "Mijzk6QnJKwX"
   },
   "outputs": [
    {
     "data": {
      "text/plain": [
       "array([[176,  76,  36],\n",
       "       [ 52, 685, 133],\n",
       "       [ 15, 132, 339]])"
      ]
     },
     "execution_count": 24,
     "metadata": {},
     "output_type": "execute_result"
    }
   ],
   "source": [
    "x=model.predict(test_generator)\n",
    "actual=test_generator.labels\n",
    "pred=np.argmax(x, axis=-1)\n",
    "from sklearn.metrics import confusion_matrix\n",
    "confusion_matrix(actual,pred)"
   ]
  },
  {
   "cell_type": "code",
   "execution_count": null,
   "metadata": {
    "id": "osqMrL7vJQqp"
   },
   "outputs": [],
   "source": []
  }
 ],
 "metadata": {
  "accelerator": "GPU",
  "colab": {
   "collapsed_sections": [],
   "name": "DenseNet AGCCPF.ipynb",
   "provenance": []
  },
  "kernelspec": {
   "display_name": "Python 3",
   "language": "python",
   "name": "python3"
  },
  "language_info": {
   "codemirror_mode": {
    "name": "ipython",
    "version": 3
   },
   "file_extension": ".py",
   "mimetype": "text/x-python",
   "name": "python",
   "nbconvert_exporter": "python",
   "pygments_lexer": "ipython3",
   "version": "3.8.5"
  }
 },
 "nbformat": 4,
 "nbformat_minor": 1
}
