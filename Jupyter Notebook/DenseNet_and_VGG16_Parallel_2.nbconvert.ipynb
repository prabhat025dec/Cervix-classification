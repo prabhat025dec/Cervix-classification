{
 "cells": [
  {
   "cell_type": "code",
   "execution_count": 1,
   "metadata": {},
   "outputs": [],
   "source": [
    "!module purge\n",
    "!module load apps/anaconda3\n",
    "!module load compilers/nvidia/cuda/11.2\n",
    "!module load compilers/gcc/8.3.0"
   ]
  },
  {
   "cell_type": "code",
   "execution_count": 2,
   "metadata": {
    "colab": {
     "base_uri": "https://localhost:8080/"
    },
    "executionInfo": {
     "elapsed": 20099,
     "status": "ok",
     "timestamp": 1649574200311,
     "user": {
      "displayName": "NIKHIL",
      "userId": "08405716228323072971"
     },
     "user_tz": -330
    },
    "id": "6apL4lLkBJdS",
    "outputId": "1cbedf1d-fe8f-4724-c2f4-5341ba0e9926"
   },
   "outputs": [],
   "source": [
    "\n",
    "import cv2\n",
    "import os\n",
    "import random"
   ]
  },
  {
   "cell_type": "code",
   "execution_count": 3,
   "metadata": {
    "executionInfo": {
     "elapsed": 712,
     "status": "ok",
     "timestamp": 1649574329096,
     "user": {
      "displayName": "NIKHIL",
      "userId": "08405716228323072971"
     },
     "user_tz": -330
    },
    "id": "F59wrFLeBgYO"
   },
   "outputs": [],
   "source": [
    "import matplotlib.pyplot as plt\n",
    "import matplotlib as mpl\n",
    "import numpy as np\n",
    "import pandas as pd\n",
    "%matplotlib inline"
   ]
  },
  {
   "cell_type": "code",
   "execution_count": 4,
   "metadata": {
    "executionInfo": {
     "elapsed": 3059,
     "status": "ok",
     "timestamp": 1649574332152,
     "user": {
      "displayName": "NIKHIL",
      "userId": "08405716228323072971"
     },
     "user_tz": -330
    },
    "id": "5OM6rQxpBgUy"
   },
   "outputs": [],
   "source": [
    "import tensorflow as tf\n",
    "import tensorflow.keras as keras\n"
   ]
  },
  {
   "cell_type": "code",
   "execution_count": 5,
   "metadata": {
    "colab": {
     "base_uri": "https://localhost:8080/",
     "height": 36
    },
    "executionInfo": {
     "elapsed": 10,
     "status": "ok",
     "timestamp": 1649574332153,
     "user": {
      "displayName": "NIKHIL",
      "userId": "08405716228323072971"
     },
     "user_tz": -330
    },
    "id": "_hBZjOnK4M82",
    "outputId": "8ea47a63-19a5-4115-d11a-c91db40c509b"
   },
   "outputs": [
    {
     "data": {
      "text/plain": [
       "'2.7.0'"
      ]
     },
     "execution_count": 5,
     "metadata": {},
     "output_type": "execute_result"
    }
   ],
   "source": [
    "tf.__version__"
   ]
  },
  {
   "cell_type": "code",
   "execution_count": 6,
   "metadata": {
    "executionInfo": {
     "elapsed": 6,
     "status": "ok",
     "timestamp": 1649574332153,
     "user": {
      "displayName": "NIKHIL",
      "userId": "08405716228323072971"
     },
     "user_tz": -330
    },
    "id": "VdU5cuUdBgR-"
   },
   "outputs": [],
   "source": [
    "tf.random.set_seed(42)\n",
    "np.random.seed(42)\n"
   ]
  },
  {
   "cell_type": "code",
   "execution_count": 7,
   "metadata": {
    "executionInfo": {
     "elapsed": 5,
     "status": "ok",
     "timestamp": 1649574332153,
     "user": {
      "displayName": "NIKHIL",
      "userId": "08405716228323072971"
     },
     "user_tz": -330
    },
    "id": "oQ8IUIQ8BgPR"
   },
   "outputs": [],
   "source": [
    "train_dir = \"/home/191112024/splited_dataset/AGCCPF/train\"\n",
    "test_dir = \"/home/191112024/splited_dataset/AGCCPF/test\"\n",
    "valid_dir = \"/home/191112024/splited_dataset/AGCCPF/validate\"\n"
   ]
  },
  {
   "cell_type": "code",
   "execution_count": 8,
   "metadata": {
    "executionInfo": {
     "elapsed": 6,
     "status": "ok",
     "timestamp": 1649574332154,
     "user": {
      "displayName": "NIKHIL",
      "userId": "08405716228323072971"
     },
     "user_tz": -330
    },
    "id": "qpxzCWqmBgMf"
   },
   "outputs": [],
   "source": [
    "from keras.preprocessing.image import ImageDataGenerator"
   ]
  },
  {
   "cell_type": "code",
   "execution_count": 9,
   "metadata": {
    "executionInfo": {
     "elapsed": 6,
     "status": "ok",
     "timestamp": 1649574332154,
     "user": {
      "displayName": "NIKHIL",
      "userId": "08405716228323072971"
     },
     "user_tz": -330
    },
    "id": "mVlMS8YeBgJ-"
   },
   "outputs": [],
   "source": [
    "train_datagen = ImageDataGenerator(\n",
    "    rescale=1./255,\n",
    "    rotation_range=30,\n",
    "    width_shift_range=0.2,\n",
    "    height_shift_range=0.2,\n",
    "    shear_range=0.2,\n",
    "    zoom_range=0.2,\n",
    "    horizontal_flip=False)\n",
    "test_datagen = ImageDataGenerator(rescale=1./255)"
   ]
  },
  {
   "cell_type": "code",
   "execution_count": 10,
   "metadata": {
    "executionInfo": {
     "elapsed": 3,
     "status": "ok",
     "timestamp": 1649574333114,
     "user": {
      "displayName": "NIKHIL",
      "userId": "08405716228323072971"
     },
     "user_tz": -330
    },
    "id": "dkPxqWbyVZ8w"
   },
   "outputs": [],
   "source": [
    "# !unzip AGCCPF.zip"
   ]
  },
  {
   "cell_type": "code",
   "execution_count": 11,
   "metadata": {
    "colab": {
     "base_uri": "https://localhost:8080/"
    },
    "executionInfo": {
     "elapsed": 17230,
     "status": "ok",
     "timestamp": 1649574350819,
     "user": {
      "displayName": "NIKHIL",
      "userId": "08405716228323072971"
     },
     "user_tz": -330
    },
    "id": "QBWrLPIeBgG-",
    "outputId": "7bf3a692-9a0b-4e86-9752-85eb50ca2ba4"
   },
   "outputs": [
    {
     "name": "stdout",
     "output_type": "stream",
     "text": [
      "Found 5253 images belonging to 3 classes.\n",
      "Found 1315 images belonging to 3 classes.\n",
      "Found 1644 images belonging to 3 classes.\n"
     ]
    }
   ],
   "source": [
    "\n",
    "train_generator = train_datagen.flow_from_directory(\n",
    "        train_dir,\n",
    "        target_size=(224, 224),\n",
    "        batch_size=20,\n",
    "        class_mode='categorical',\n",
    "        shuffle=True\n",
    "        )\n",
    "\n",
    "valid_generator = test_datagen.flow_from_directory(\n",
    "        valid_dir,\n",
    "        target_size=(224, 224),\n",
    "        batch_size=20,\n",
    "        class_mode='categorical',\n",
    "        shuffle=True\n",
    "        )\n",
    "\n",
    "test_generator = test_datagen.flow_from_directory(\n",
    "        test_dir,\n",
    "        target_size=(224, 224),\n",
    "        batch_size=20,\n",
    "        class_mode='categorical',\n",
    "        shuffle=False\n",
    "        )"
   ]
  },
  {
   "cell_type": "code",
   "execution_count": 10,
   "metadata": {
    "executionInfo": {
     "elapsed": 335,
     "status": "ok",
     "timestamp": 1649574354044,
     "user": {
      "displayName": "NIKHIL",
      "userId": "08405716228323072971"
     },
     "user_tz": -330
    },
    "id": "be2MaA9-IUdd"
   },
   "outputs": [],
   "source": []
  },
  {
   "cell_type": "code",
   "execution_count": 12,
   "metadata": {
    "executionInfo": {
     "elapsed": 349,
     "status": "ok",
     "timestamp": 1649574354772,
     "user": {
      "displayName": "NIKHIL",
      "userId": "08405716228323072971"
     },
     "user_tz": -330
    },
    "id": "Vn80dmJEHb_K"
   },
   "outputs": [],
   "source": [
    "from tensorflow.keras import layers\n",
    "from tensorflow.keras import models"
   ]
  },
  {
   "cell_type": "code",
   "execution_count": 13,
   "metadata": {
    "executionInfo": {
     "elapsed": 713,
     "status": "ok",
     "timestamp": 1649574356812,
     "user": {
      "displayName": "NIKHIL",
      "userId": "08405716228323072971"
     },
     "user_tz": -330
    },
    "id": "HjZAgItjHb4X"
   },
   "outputs": [],
   "source": [
    "from tensorflow.keras import optimizers"
   ]
  },
  {
   "cell_type": "code",
   "execution_count": 14,
   "metadata": {
    "executionInfo": {
     "elapsed": 5452,
     "status": "ok",
     "timestamp": 1649574968440,
     "user": {
      "displayName": "NIKHIL",
      "userId": "08405716228323072971"
     },
     "user_tz": -330
    },
    "id": "osJjtxI0HHk1"
   },
   "outputs": [],
   "source": [
    "input_layer=layers.Input((224, 224, 3))\n",
    "from tensorflow.keras.applications import VGG16,DenseNet121\n",
    "conv_base_1 = VGG16(weights='imagenet',\n",
    "                  include_top=False,\n",
    "                  input_shape=(224, 224, 3))(input_layer)\n",
    "\n",
    "\n",
    "# conv_base = EfficientNetB7(weights='imagenet',\n",
    "#                   include_top=False,\n",
    "#                   input_shape=(200, 200, 3))\n",
    "\n",
    "conv_base_2 = DenseNet121(weights='imagenet',\n",
    "                  include_top=False,\n",
    "                  input_shape=(224, 224, 3))(input_layer)\n",
    "\n",
    "# conv_base = MobileNetV2(weights='imagenet',\n",
    "#                   include_top=False,\n",
    "#                   input_shape=(224, 224, 3))"
   ]
  },
  {
   "cell_type": "code",
   "execution_count": 17,
   "metadata": {
    "executionInfo": {
     "elapsed": 401,
     "status": "ok",
     "timestamp": 1649574971563,
     "user": {
      "displayName": "NIKHIL",
      "userId": "08405716228323072971"
     },
     "user_tz": -330
    },
    "id": "55R8Y-_SHHfm"
   },
   "outputs": [],
   "source": []
  },
  {
   "cell_type": "code",
   "execution_count": 15,
   "metadata": {
    "executionInfo": {
     "elapsed": 344,
     "status": "ok",
     "timestamp": 1649575096217,
     "user": {
      "displayName": "NIKHIL",
      "userId": "08405716228323072971"
     },
     "user_tz": -330
    },
    "id": "SPfa-BxXIxx7"
   },
   "outputs": [],
   "source": [
    "# model_1 = keras.models.Sequential()\n",
    "model_1=conv_base_1\n",
    "model_1=keras.layers.GlobalAveragePooling2D()(model_1)\n",
    "model_1=keras.layers.Dense(3, activation='relu')(model_1)\n",
    "\n",
    "# model_2 = keras.models.Sequential()\n",
    "model_2=conv_base_2\n",
    "model_2=keras.layers.GlobalAveragePooling2D()(model_2)\n",
    "model_2=keras.layers.Dense(3, activation='relu')(model_2)\n",
    "\n",
    "merge=layers.Concatenate()([model_1,model_2])\n",
    "result=layers.Dense(3, activation='softmax')(merge)\n",
    "\n",
    "model=keras.models.Model(input_layer,result)\n",
    "\n"
   ]
  },
  {
   "cell_type": "code",
   "execution_count": 16,
   "metadata": {
    "colab": {
     "base_uri": "https://localhost:8080/"
    },
    "executionInfo": {
     "elapsed": 362,
     "status": "ok",
     "timestamp": 1649575101316,
     "user": {
      "displayName": "NIKHIL",
      "userId": "08405716228323072971"
     },
     "user_tz": -330
    },
    "id": "bDBxETADe8jD",
    "outputId": "13e851a1-3966-4f2b-ad9e-2e80ec613b5d"
   },
   "outputs": [
    {
     "name": "stderr",
     "output_type": "stream",
     "text": [
      "/home/191112024/.local/lib/python3.8/site-packages/keras/optimizer_v2/rmsprop.py:130: UserWarning: The `lr` argument is deprecated, use `learning_rate` instead.\n",
      "  super(RMSprop, self).__init__(name, **kwargs)\n"
     ]
    }
   ],
   "source": [
    "# model = models.Sequential()\n",
    "# model.add(layers.Conv2D(32, (3, 3), activation='relu',\n",
    "#                         input_shape=(150, 150, 3)))\n",
    "# model.add(layers.MaxPooling2D((2, 2)))\n",
    "# model.add(layers.Conv2D(64, (3, 3), activation='relu'))\n",
    "# model.add(layers.MaxPooling2D((2, 2)))\n",
    "# model.add(layers.Conv2D(128, (3, 3), activation='relu'))\n",
    "# model.add(layers.MaxPooling2D((2, 2)))\n",
    "# model.add(layers.Conv2D(128, (3, 3), activation='relu'))\n",
    "# model.add(layers.MaxPooling2D((2, 2)))\n",
    "# model.add(layers.Flatten())\n",
    "# model.add(layers.Dropout(0.5))\n",
    "# model.add(layers.Dense(512, activation='relu'))\n",
    "# model.add(layers.Dense(3, activation='softmax'))\n",
    "\n",
    "model.compile(loss='categorical_crossentropy',\n",
    "              optimizer=optimizers.RMSprop(lr=1e-5),\n",
    "              metrics=['acc',tf.keras.metrics.Recall(),tf.keras.metrics.Precision()])"
   ]
  },
  {
   "cell_type": "code",
   "execution_count": 20,
   "metadata": {
    "executionInfo": {
     "elapsed": 337,
     "status": "ok",
     "timestamp": 1649575103872,
     "user": {
      "displayName": "NIKHIL",
      "userId": "08405716228323072971"
     },
     "user_tz": -330
    },
    "id": "qB0BSqiFIxvN"
   },
   "outputs": [],
   "source": []
  },
  {
   "cell_type": "code",
   "execution_count": 20,
   "metadata": {
    "executionInfo": {
     "elapsed": 2,
     "status": "ok",
     "timestamp": 1649575104327,
     "user": {
      "displayName": "NIKHIL",
      "userId": "08405716228323072971"
     },
     "user_tz": -330
    },
    "id": "pZWLWDwPIxsL"
   },
   "outputs": [],
   "source": []
  },
  {
   "cell_type": "code",
   "execution_count": 20,
   "metadata": {
    "executionInfo": {
     "elapsed": 2,
     "status": "ok",
     "timestamp": 1649575105449,
     "user": {
      "displayName": "NIKHIL",
      "userId": "08405716228323072971"
     },
     "user_tz": -330
    },
    "id": "9SPJWRvYIxmB"
   },
   "outputs": [],
   "source": []
  },
  {
   "cell_type": "code",
   "execution_count": 20,
   "metadata": {
    "executionInfo": {
     "elapsed": 3,
     "status": "ok",
     "timestamp": 1649575105822,
     "user": {
      "displayName": "NIKHIL",
      "userId": "08405716228323072971"
     },
     "user_tz": -330
    },
    "id": "b4D4xfzYIxiT"
   },
   "outputs": [],
   "source": []
  },
  {
   "cell_type": "code",
   "execution_count": 17,
   "metadata": {
    "executionInfo": {
     "elapsed": 3,
     "status": "ok",
     "timestamp": 1649575106710,
     "user": {
      "displayName": "NIKHIL",
      "userId": "08405716228323072971"
     },
     "user_tz": -330
    },
    "id": "4EXrUrX_BgEO"
   },
   "outputs": [],
   "source": [
    "checkpoint_cb = keras.callbacks.ModelCheckpoint(\n",
    "    \"MobileNet_model.h5\", save_best_only=True)\n",
    "earlystop_cb = keras.callbacks.EarlyStopping(\n",
    "    patience=5, restore_best_weights=True)\n"
   ]
  },
  {
   "cell_type": "code",
   "execution_count": 18,
   "metadata": {
    "colab": {
     "base_uri": "https://localhost:8080/"
    },
    "executionInfo": {
     "elapsed": 453,
     "status": "ok",
     "timestamp": 1649575109041,
     "user": {
      "displayName": "NIKHIL",
      "userId": "08405716228323072971"
     },
     "user_tz": -330
    },
    "id": "gMjWqC11BgBf",
    "outputId": "3fed2bdb-d55d-4e3f-9008-ca7897305630"
   },
   "outputs": [
    {
     "name": "stdout",
     "output_type": "stream",
     "text": [
      "Model: \"model\"\n",
      "__________________________________________________________________________________________________\n",
      " Layer (type)                   Output Shape         Param #     Connected to                     \n",
      "==================================================================================================\n",
      " input_1 (InputLayer)           [(None, 224, 224, 3  0           []                               \n",
      "                                )]                                                                \n",
      "                                                                                                  \n",
      " vgg16 (Functional)             (None, 7, 7, 512)    14714688    ['input_1[0][0]']                \n",
      "                                                                                                  \n",
      " densenet121 (Functional)       (None, 7, 7, 1024)   7037504     ['input_1[0][0]']                \n",
      "                                                                                                  \n",
      " global_average_pooling2d (Glob  (None, 512)         0           ['vgg16[0][0]']                  \n",
      " alAveragePooling2D)                                                                              \n",
      "                                                                                                  \n",
      " global_average_pooling2d_1 (Gl  (None, 1024)        0           ['densenet121[0][0]']            \n",
      " obalAveragePooling2D)                                                                            \n",
      "                                                                                                  \n",
      " dense (Dense)                  (None, 3)            1539        ['global_average_pooling2d[0][0]'\n",
      "                                                                 ]                                \n",
      "                                                                                                  \n",
      " dense_1 (Dense)                (None, 3)            3075        ['global_average_pooling2d_1[0][0\n",
      "                                                                 ]']                              \n",
      "                                                                                                  \n",
      " concatenate (Concatenate)      (None, 6)            0           ['dense[0][0]',                  \n",
      "                                                                  'dense_1[0][0]']                \n",
      "                                                                                                  \n",
      " dense_2 (Dense)                (None, 3)            21          ['concatenate[0][0]']            \n",
      "                                                                                                  \n",
      "==================================================================================================\n",
      "Total params: 21,756,827\n",
      "Trainable params: 21,673,179\n",
      "Non-trainable params: 83,648\n",
      "__________________________________________________________________________________________________\n"
     ]
    }
   ],
   "source": [
    "model.summary(0)\n"
   ]
  },
  {
   "cell_type": "code",
   "execution_count": 19,
   "metadata": {
    "colab": {
     "base_uri": "https://localhost:8080/"
    },
    "id": "NfgjeN5mBf-u",
    "outputId": "1c43ffc2-501b-43ac-fc18-579950295673"
   },
   "outputs": [
    {
     "name": "stdout",
     "output_type": "stream",
     "text": [
      "Epoch 1/50\n",
      "260/260 [==============================] - 824s 3s/step - loss: 1.0577 - acc: 0.4129 - recall: 0.1090 - precision: 0.5970 - val_loss: 1.0292 - val_acc: 0.4842 - val_recall: 0.1758 - val_precision: 0.5877\n",
      "Epoch 2/50\n",
      "260/260 [==============================] - 809s 3s/step - loss: 0.9953 - acc: 0.5036 - recall: 0.2336 - precision: 0.6237 - val_loss: 0.9705 - val_acc: 0.5317 - val_recall: 0.3175 - val_precision: 0.6236\n",
      "Epoch 3/50\n",
      "260/260 [==============================] - 810s 3s/step - loss: 0.9391 - acc: 0.5575 - recall: 0.3174 - precision: 0.6522 - val_loss: 0.9376 - val_acc: 0.5500 - val_recall: 0.3825 - val_precision: 0.6322\n",
      "Epoch 4/50\n",
      "260/260 [==============================] - 810s 3s/step - loss: 0.8965 - acc: 0.5921 - recall: 0.3888 - precision: 0.6826 - val_loss: 0.9283 - val_acc: 0.5758 - val_recall: 0.4600 - val_precision: 0.6273\n",
      "Epoch 5/50\n",
      "260/260 [==============================] - 810s 3s/step - loss: 0.8645 - acc: 0.6081 - recall: 0.4365 - precision: 0.6933 - val_loss: 0.8782 - val_acc: 0.5908 - val_recall: 0.4758 - val_precision: 0.6518\n",
      "Epoch 6/50\n",
      "260/260 [==============================] - 805s 3s/step - loss: 0.8162 - acc: 0.6355 - recall: 0.4857 - precision: 0.7171 - val_loss: 0.9911 - val_acc: 0.5900 - val_recall: 0.5250 - val_precision: 0.6256\n",
      "Epoch 7/50\n",
      "260/260 [==============================] - 804s 3s/step - loss: 0.7890 - acc: 0.6541 - recall: 0.5246 - precision: 0.7237 - val_loss: 0.8486 - val_acc: 0.6108 - val_recall: 0.5275 - val_precision: 0.6656\n",
      "Epoch 8/50\n",
      "260/260 [==============================] - 807s 3s/step - loss: 0.7544 - acc: 0.6801 - recall: 0.5625 - precision: 0.7402 - val_loss: 0.8381 - val_acc: 0.6242 - val_recall: 0.5408 - val_precision: 0.6670\n",
      "Epoch 9/50\n",
      "260/260 [==============================] - 804s 3s/step - loss: 0.7184 - acc: 0.6880 - recall: 0.5846 - precision: 0.7491 - val_loss: 0.8038 - val_acc: 0.6375 - val_recall: 0.5425 - val_precision: 0.6955\n",
      "Epoch 10/50\n",
      "260/260 [==============================] - 806s 3s/step - loss: 0.6854 - acc: 0.7019 - recall: 0.6131 - precision: 0.7676 - val_loss: 0.8585 - val_acc: 0.6275 - val_recall: 0.5608 - val_precision: 0.6553\n",
      "Epoch 11/50\n",
      "260/260 [==============================] - 806s 3s/step - loss: 0.6564 - acc: 0.7269 - recall: 0.6513 - precision: 0.7836 - val_loss: 0.8154 - val_acc: 0.6517 - val_recall: 0.5883 - val_precision: 0.6828\n",
      "Epoch 12/50\n",
      "260/260 [==============================] - 806s 3s/step - loss: 0.6235 - acc: 0.7437 - recall: 0.6694 - precision: 0.7940 - val_loss: 0.8341 - val_acc: 0.6483 - val_recall: 0.5883 - val_precision: 0.6788\n",
      "Epoch 13/50\n",
      "260/260 [==============================] - 804s 3s/step - loss: 0.5978 - acc: 0.7539 - recall: 0.6853 - precision: 0.8027 - val_loss: 0.8528 - val_acc: 0.6542 - val_recall: 0.6125 - val_precision: 0.6876\n",
      "Epoch 14/50\n",
      "260/260 [==============================] - 806s 3s/step - loss: 0.5669 - acc: 0.7707 - recall: 0.7127 - precision: 0.8183 - val_loss: 0.7865 - val_acc: 0.6717 - val_recall: 0.6242 - val_precision: 0.7013\n",
      "Epoch 15/50\n",
      "260/260 [==============================] - 806s 3s/step - loss: 0.5519 - acc: 0.7728 - recall: 0.7185 - precision: 0.8220 - val_loss: 0.7408 - val_acc: 0.6833 - val_recall: 0.6325 - val_precision: 0.7154\n",
      "Epoch 16/50\n",
      "260/260 [==============================] - 805s 3s/step - loss: 0.5079 - acc: 0.8011 - recall: 0.7499 - precision: 0.8374 - val_loss: 0.8286 - val_acc: 0.6717 - val_recall: 0.6408 - val_precision: 0.6972\n",
      "Epoch 17/50\n",
      "260/260 [==============================] - 807s 3s/step - loss: 0.4917 - acc: 0.8134 - recall: 0.7699 - precision: 0.8472 - val_loss: 0.7257 - val_acc: 0.7025 - val_recall: 0.6692 - val_precision: 0.7353\n",
      "Epoch 18/50\n",
      "260/260 [==============================] - 806s 3s/step - loss: 0.4642 - acc: 0.8144 - recall: 0.7803 - precision: 0.8468 - val_loss: 0.7491 - val_acc: 0.6933 - val_recall: 0.6600 - val_precision: 0.7193\n",
      "Epoch 19/50\n",
      "260/260 [==============================] - 806s 3s/step - loss: 0.4355 - acc: 0.8352 - recall: 0.8040 - precision: 0.8680 - val_loss: 0.7520 - val_acc: 0.6933 - val_recall: 0.6608 - val_precision: 0.7157\n",
      "Epoch 20/50\n",
      "260/260 [==============================] - 805s 3s/step - loss: 0.4116 - acc: 0.8461 - recall: 0.8176 - precision: 0.8749 - val_loss: 0.7384 - val_acc: 0.7008 - val_recall: 0.6708 - val_precision: 0.7181\n",
      "Epoch 21/50\n",
      "260/260 [==============================] - 803s 3s/step - loss: 0.3990 - acc: 0.8500 - recall: 0.8234 - precision: 0.8768 - val_loss: 0.7135 - val_acc: 0.7158 - val_recall: 0.6933 - val_precision: 0.7435\n",
      "Epoch 22/50\n",
      "260/260 [==============================] - 806s 3s/step - loss: 0.3916 - acc: 0.8515 - recall: 0.8257 - precision: 0.8783 - val_loss: 0.7777 - val_acc: 0.7092 - val_recall: 0.6783 - val_precision: 0.7300\n",
      "Epoch 23/50\n",
      "260/260 [==============================] - 806s 3s/step - loss: 0.3579 - acc: 0.8689 - recall: 0.8454 - precision: 0.8921 - val_loss: 0.6958 - val_acc: 0.7342 - val_recall: 0.7108 - val_precision: 0.7575\n",
      "Epoch 24/50\n",
      "260/260 [==============================] - 807s 3s/step - loss: 0.3342 - acc: 0.8773 - recall: 0.8540 - precision: 0.9012 - val_loss: 0.7475 - val_acc: 0.7342 - val_recall: 0.7125 - val_precision: 0.7487\n",
      "Epoch 25/50\n",
      "260/260 [==============================] - 806s 3s/step - loss: 0.3331 - acc: 0.8750 - recall: 0.8560 - precision: 0.8976 - val_loss: 0.7554 - val_acc: 0.7292 - val_recall: 0.7058 - val_precision: 0.7449\n",
      "Epoch 26/50\n",
      "260/260 [==============================] - 805s 3s/step - loss: 0.3131 - acc: 0.8839 - recall: 0.8673 - precision: 0.8990 - val_loss: 0.7742 - val_acc: 0.7458 - val_recall: 0.7258 - val_precision: 0.7600\n",
      "Epoch 27/50\n",
      "260/260 [==============================] - 807s 3s/step - loss: 0.2813 - acc: 0.8976 - recall: 0.8789 - precision: 0.9172 - val_loss: 0.6883 - val_acc: 0.7433 - val_recall: 0.7275 - val_precision: 0.7552\n",
      "Epoch 28/50\n",
      "260/260 [==============================] - 806s 3s/step - loss: 0.2819 - acc: 0.8951 - recall: 0.8812 - precision: 0.9112 - val_loss: 0.8931 - val_acc: 0.7308 - val_recall: 0.7133 - val_precision: 0.7456\n",
      "Epoch 29/50\n",
      "260/260 [==============================] - 804s 3s/step - loss: 0.2659 - acc: 0.9037 - recall: 0.8900 - precision: 0.9198 - val_loss: 0.7604 - val_acc: 0.7450 - val_recall: 0.7283 - val_precision: 0.7547\n",
      "Epoch 30/50\n",
      "260/260 [==============================] - 806s 3s/step - loss: 0.2619 - acc: 0.9039 - recall: 0.8900 - precision: 0.9187 - val_loss: 0.7397 - val_acc: 0.7467 - val_recall: 0.7242 - val_precision: 0.7609\n",
      "Epoch 31/50\n",
      "260/260 [==============================] - 806s 3s/step - loss: 0.2419 - acc: 0.9157 - recall: 0.9053 - precision: 0.9298 - val_loss: 0.8200 - val_acc: 0.7475 - val_recall: 0.7367 - val_precision: 0.7614\n",
      "Epoch 32/50\n",
      "260/260 [==============================] - 805s 3s/step - loss: 0.2375 - acc: 0.9147 - recall: 0.9043 - precision: 0.9271 - val_loss: 0.7487 - val_acc: 0.7450 - val_recall: 0.7350 - val_precision: 0.7590\n",
      "Epoch 33/50\n",
      "260/260 [==============================] - 806s 3s/step - loss: 0.2300 - acc: 0.9162 - recall: 0.9035 - precision: 0.9311 - val_loss: 0.8439 - val_acc: 0.7358 - val_recall: 0.7258 - val_precision: 0.7483\n",
      "Epoch 34/50\n",
      "260/260 [==============================] - 806s 3s/step - loss: 0.2069 - acc: 0.9241 - recall: 0.9139 - precision: 0.9368 - val_loss: 0.7954 - val_acc: 0.7350 - val_recall: 0.7175 - val_precision: 0.7455\n",
      "Epoch 35/50\n",
      "260/260 [==============================] - 805s 3s/step - loss: 0.2084 - acc: 0.9249 - recall: 0.9151 - precision: 0.9373 - val_loss: 0.8067 - val_acc: 0.7500 - val_recall: 0.7358 - val_precision: 0.7566\n",
      "Epoch 36/50\n",
      "260/260 [==============================] - 805s 3s/step - loss: 0.1979 - acc: 0.9264 - recall: 0.9172 - precision: 0.9389 - val_loss: 0.9445 - val_acc: 0.7442 - val_recall: 0.7342 - val_precision: 0.7562\n",
      "Epoch 37/50\n",
      "260/260 [==============================] - 804s 3s/step - loss: 0.1842 - acc: 0.9345 - recall: 0.9264 - precision: 0.9422 - val_loss: 0.8691 - val_acc: 0.7492 - val_recall: 0.7367 - val_precision: 0.7575\n",
      "Epoch 38/50\n",
      "260/260 [==============================] - 806s 3s/step - loss: 0.1866 - acc: 0.9332 - recall: 0.9247 - precision: 0.9451 - val_loss: 0.7794 - val_acc: 0.7417 - val_recall: 0.7317 - val_precision: 0.7549\n",
      "Epoch 39/50\n",
      "260/260 [==============================] - 805s 3s/step - loss: 0.1739 - acc: 0.9353 - recall: 0.9297 - precision: 0.9469 - val_loss: 0.7821 - val_acc: 0.7550 - val_recall: 0.7442 - val_precision: 0.7692\n",
      "Epoch 40/50\n",
      "260/260 [==============================] - 806s 3s/step - loss: 0.1732 - acc: 0.9380 - recall: 0.9320 - precision: 0.9466 - val_loss: 0.8696 - val_acc: 0.7508 - val_recall: 0.7392 - val_precision: 0.7640\n",
      "Epoch 41/50\n",
      "260/260 [==============================] - 805s 3s/step - loss: 0.1587 - acc: 0.9443 - recall: 0.9386 - precision: 0.9542 - val_loss: 0.8355 - val_acc: 0.7625 - val_recall: 0.7558 - val_precision: 0.7726\n",
      "Epoch 42/50\n",
      "260/260 [==============================] - 807s 3s/step - loss: 0.1532 - acc: 0.9432 - recall: 0.9349 - precision: 0.9535 - val_loss: 0.8527 - val_acc: 0.7700 - val_recall: 0.7592 - val_precision: 0.7786\n",
      "Epoch 43/50\n",
      "260/260 [==============================] - 805s 3s/step - loss: 0.1505 - acc: 0.9434 - recall: 0.9382 - precision: 0.9542 - val_loss: 0.8903 - val_acc: 0.7575 - val_recall: 0.7417 - val_precision: 0.7686\n",
      "Epoch 44/50\n",
      "260/260 [==============================] - 808s 3s/step - loss: 0.1525 - acc: 0.9480 - recall: 0.9401 - precision: 0.9574 - val_loss: 0.8102 - val_acc: 0.7683 - val_recall: 0.7550 - val_precision: 0.7817\n",
      "Epoch 45/50\n",
      "260/260 [==============================] - 804s 3s/step - loss: 0.1395 - acc: 0.9478 - recall: 0.9413 - precision: 0.9566 - val_loss: 0.8285 - val_acc: 0.7733 - val_recall: 0.7592 - val_precision: 0.7881\n",
      "Epoch 46/50\n",
      "260/260 [==============================] - 806s 3s/step - loss: 0.1383 - acc: 0.9486 - recall: 0.9424 - precision: 0.9579 - val_loss: 0.8410 - val_acc: 0.7783 - val_recall: 0.7650 - val_precision: 0.7880\n",
      "Epoch 47/50\n",
      "260/260 [==============================] - 806s 3s/step - loss: 0.1410 - acc: 0.9461 - recall: 0.9391 - precision: 0.9542 - val_loss: 0.8682 - val_acc: 0.7567 - val_recall: 0.7467 - val_precision: 0.7684\n",
      "Epoch 48/50\n",
      "260/260 [==============================] - 807s 3s/step - loss: 0.1236 - acc: 0.9565 - recall: 0.9515 - precision: 0.9613 - val_loss: 0.9196 - val_acc: 0.7550 - val_recall: 0.7433 - val_precision: 0.7624\n",
      "Epoch 49/50\n",
      "260/260 [==============================] - 806s 3s/step - loss: 0.1266 - acc: 0.9528 - recall: 0.9469 - precision: 0.9600 - val_loss: 0.8830 - val_acc: 0.7833 - val_recall: 0.7725 - val_precision: 0.7964\n",
      "Epoch 50/50\n",
      "260/260 [==============================] - 806s 3s/step - loss: 0.1179 - acc: 0.9590 - recall: 0.9532 - precision: 0.9655 - val_loss: 0.8822 - val_acc: 0.7667 - val_recall: 0.7558 - val_precision: 0.7785\n"
     ]
    }
   ],
   "source": [
    "history = model.fit(train_generator,\n",
    "                    steps_per_epoch=260,\n",
    "                    epochs=50,\n",
    "                    validation_data=valid_generator,\n",
    "                    validation_steps=60,\n",
    "                    callbacks=[checkpoint_cb])\n"
   ]
  },
  {
   "cell_type": "code",
   "execution_count": 20,
   "metadata": {
    "id": "MhSs88SOBf7_"
   },
   "outputs": [
    {
     "data": {
      "image/png": "[encoded data removed]",
      "text/plain": [
       "<Figure size 720x720 with 1 Axes>"
      ]
     },
     "metadata": {
      "needs_background": "light"
     },
     "output_type": "display_data"
    }
   ],
   "source": [
    "pd.DataFrame(history.history).plot(figsize=(10, 10))\n",
    "plt.ylim((0,2))\n",
    "plt.grid(True)\n",
    "plt.show()"
   ]
  },
  {
   "cell_type": "code",
   "execution_count": 21,
   "metadata": {
    "id": "Jb_oN7wQBf5A"
   },
   "outputs": [
    {
     "name": "stdout",
     "output_type": "stream",
     "text": [
      "83/83 [==============================] - 30s 365ms/step - loss: 0.9078 - acc: 0.7682 - recall: 0.7591 - precision: 0.7761\n"
     ]
    },
    {
     "data": {
      "text/plain": [
       "[0.9078066349029541,\n",
       " 0.7682482004165649,\n",
       " 0.7591241002082825,\n",
       " 0.7761194109916687]"
      ]
     },
     "execution_count": 21,
     "metadata": {},
     "output_type": "execute_result"
    }
   ],
   "source": [
    "model.evaluate(test_generator)"
   ]
  },
  {
   "cell_type": "code",
   "execution_count": 22,
   "metadata": {
    "id": "OCKXMlD6Bfzn"
   },
   "outputs": [],
   "source": [
    "x=model.predict(test_generator)"
   ]
  },
  {
   "cell_type": "code",
   "execution_count": 23,
   "metadata": {
    "id": "hBPx87sYxq4k"
   },
   "outputs": [
    {
     "data": {
      "text/plain": [
       "array([0, 0, 0, ..., 1, 2, 2])"
      ]
     },
     "execution_count": 23,
     "metadata": {},
     "output_type": "execute_result"
    }
   ],
   "source": [
    "pred=np.argmax(x, axis=-1)\n",
    "pred"
   ]
  },
  {
   "cell_type": "code",
   "execution_count": 24,
   "metadata": {
    "id": "UGW6-jy6xs9u"
   },
   "outputs": [
    {
     "data": {
      "text/plain": [
       "array([0, 0, 0, ..., 2, 2, 2], dtype=int32)"
      ]
     },
     "execution_count": 24,
     "metadata": {},
     "output_type": "execute_result"
    }
   ],
   "source": [
    "actual=test_generator.labels\n",
    "actual"
   ]
  },
  {
   "cell_type": "code",
   "execution_count": 25,
   "metadata": {
    "id": "sMY4HeSi1pDu"
   },
   "outputs": [],
   "source": [
    "pred=np.argmax(x, axis=-1)"
   ]
  },
  {
   "cell_type": "code",
   "execution_count": 26,
   "metadata": {
    "id": "MP3xxY6Z4frR"
   },
   "outputs": [
    {
     "data": {
      "text/plain": [
       "array([[185,  69,  34],\n",
       "       [ 37, 724, 109],\n",
       "       [ 10, 122, 354]])"
      ]
     },
     "execution_count": 26,
     "metadata": {},
     "output_type": "execute_result"
    }
   ],
   "source": [
    "from sklearn.metrics import confusion_matrix\n",
    "confusion_matrix(actual,pred)"
   ]
  },
  {
   "cell_type": "code",
   "execution_count": 27,
   "metadata": {
    "id": "SQHV3MgCJNDL"
   },
   "outputs": [
    {
     "data": {
      "text/plain": [
       "array([[185,  69,  34],\n",
       "       [ 37, 724, 109],\n",
       "       [ 10, 122, 354]])"
      ]
     },
     "execution_count": 27,
     "metadata": {},
     "output_type": "execute_result"
    }
   ],
   "source": [
    "x=model.predict(test_generator)\n",
    "actual=test_generator.labels\n",
    "pred=np.argmax(x, axis=-1)\n",
    "from sklearn.metrics import confusion_matrix\n",
    "confusion_matrix(actual,pred)"
   ]
  },
  {
   "cell_type": "code",
   "execution_count": null,
   "metadata": {
    "id": "0KdF-64dJPxe"
   },
   "outputs": [],
   "source": []
  }
 ],
 "metadata": {
  "accelerator": "GPU",
  "colab": {
   "collapsed_sections": [],
   "name": "DenseNet and VGG16 Parallel.ipynb",
   "provenance": []
  },
  "kernelspec": {
   "display_name": "Python 3",
   "name": "python3"
  },
  "language_info": {
   "codemirror_mode": {
    "name": "ipython",
    "version": 3
   },
   "file_extension": ".py",
   "mimetype": "text/x-python",
   "name": "python",
   "nbconvert_exporter": "python",
   "pygments_lexer": "ipython3",
   "version": "3.8.5"
  }
 },
 "nbformat": 4,
 "nbformat_minor": 0
}
