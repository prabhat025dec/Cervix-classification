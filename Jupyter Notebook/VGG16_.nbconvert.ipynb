{
 "cells": [
  {
   "cell_type": "code",
   "execution_count": 1,
   "metadata": {},
   "outputs": [],
   "source": [
    "!module purge\n",
    "!module load apps/anaconda3\n",
    "!module load compilers/nvidia/cuda/11.2\n",
    "!module load compilers/gcc/8.3.0"
   ]
  },
  {
   "cell_type": "code",
   "execution_count": 2,
   "metadata": {
    "colab": {
     "base_uri": "https://localhost:8080/"
    },
    "executionInfo": {
     "elapsed": 53880,
     "status": "ok",
     "timestamp": 1649439371855,
     "user": {
      "displayName": "Nikhil kansliwal",
      "userId": "14896650983382194700"
     },
     "user_tz": -330
    },
    "id": "6apL4lLkBJdS",
    "outputId": "5324c35e-1c1a-40bb-cec4-7e3c33cb2273"
   },
   "outputs": [],
   "source": [
    "\n",
    "import cv2\n",
    "import os\n",
    "import random"
   ]
  },
  {
   "cell_type": "code",
   "execution_count": 3,
   "metadata": {
    "executionInfo": {
     "elapsed": 666,
     "status": "ok",
     "timestamp": 1649439372517,
     "user": {
      "displayName": "Nikhil kansliwal",
      "userId": "14896650983382194700"
     },
     "user_tz": -330
    },
    "id": "F59wrFLeBgYO"
   },
   "outputs": [],
   "source": [
    "import matplotlib.pyplot as plt\n",
    "import matplotlib as mpl\n",
    "import numpy as np\n",
    "import pandas as pd\n",
    "%matplotlib inline"
   ]
  },
  {
   "cell_type": "code",
   "execution_count": 4,
   "metadata": {
    "executionInfo": {
     "elapsed": 18135,
     "status": "ok",
     "timestamp": 1649439390648,
     "user": {
      "displayName": "Nikhil kansliwal",
      "userId": "14896650983382194700"
     },
     "user_tz": -330
    },
    "id": "5OM6rQxpBgUy"
   },
   "outputs": [],
   "source": [
    "import tensorflow as tf\n",
    "import tensorflow.keras as keras\n"
   ]
  },
  {
   "cell_type": "code",
   "execution_count": 5,
   "metadata": {
    "colab": {
     "base_uri": "https://localhost:8080/",
     "height": 36
    },
    "executionInfo": {
     "elapsed": 33,
     "status": "ok",
     "timestamp": 1649439390650,
     "user": {
      "displayName": "Nikhil kansliwal",
      "userId": "14896650983382194700"
     },
     "user_tz": -330
    },
    "id": "_hBZjOnK4M82",
    "outputId": "52ee0f90-c6c3-4b26-dd79-b0ce2da29487"
   },
   "outputs": [
    {
     "data": {
      "text/plain": [
       "'2.7.0'"
      ]
     },
     "execution_count": 5,
     "metadata": {},
     "output_type": "execute_result"
    }
   ],
   "source": [
    "tf.__version__"
   ]
  },
  {
   "cell_type": "code",
   "execution_count": 6,
   "metadata": {
    "executionInfo": {
     "elapsed": 25,
     "status": "ok",
     "timestamp": 1649439390651,
     "user": {
      "displayName": "Nikhil kansliwal",
      "userId": "14896650983382194700"
     },
     "user_tz": -330
    },
    "id": "VdU5cuUdBgR-"
   },
   "outputs": [],
   "source": [
    "tf.random.set_seed(42)\n",
    "np.random.seed(42)\n"
   ]
  },
  {
   "cell_type": "code",
   "execution_count": 7,
   "metadata": {
    "executionInfo": {
     "elapsed": 26,
     "status": "ok",
     "timestamp": 1649439390652,
     "user": {
      "displayName": "Nikhil kansliwal",
      "userId": "14896650983382194700"
     },
     "user_tz": -330
    },
    "id": "oQ8IUIQ8BgPR"
   },
   "outputs": [],
   "source": [
    "train_dir = \"/home/191112024/splited_dataset/AGCCPF/train\"\n",
    "test_dir = \"/home/191112024/splited_dataset/AGCCPF/test\"\n",
    "valid_dir = \"/home/191112024/splited_dataset/AGCCPF/validate\"\n"
   ]
  },
  {
   "cell_type": "code",
   "execution_count": 8,
   "metadata": {
    "executionInfo": {
     "elapsed": 26,
     "status": "ok",
     "timestamp": 1649439390653,
     "user": {
      "displayName": "Nikhil kansliwal",
      "userId": "14896650983382194700"
     },
     "user_tz": -330
    },
    "id": "qpxzCWqmBgMf"
   },
   "outputs": [],
   "source": [
    "from keras.preprocessing.image import ImageDataGenerator"
   ]
  },
  {
   "cell_type": "code",
   "execution_count": 9,
   "metadata": {
    "executionInfo": {
     "elapsed": 25,
     "status": "ok",
     "timestamp": 1649439390653,
     "user": {
      "displayName": "Nikhil kansliwal",
      "userId": "14896650983382194700"
     },
     "user_tz": -330
    },
    "id": "mVlMS8YeBgJ-"
   },
   "outputs": [],
   "source": [
    "train_datagen = ImageDataGenerator(\n",
    "    rescale=1./255,\n",
    "    rotation_range=30,\n",
    "    width_shift_range=0.2,\n",
    "    height_shift_range=0.2,\n",
    "    shear_range=0.2,\n",
    "    zoom_range=0.2,\n",
    "    horizontal_flip=False)\n",
    "test_datagen = ImageDataGenerator(rescale=1./255)"
   ]
  },
  {
   "cell_type": "code",
   "execution_count": 8,
   "metadata": {
    "executionInfo": {
     "elapsed": 25,
     "status": "ok",
     "timestamp": 1649439390654,
     "user": {
      "displayName": "Nikhil kansliwal",
      "userId": "14896650983382194700"
     },
     "user_tz": -330
    },
    "id": "dkPxqWbyVZ8w"
   },
   "outputs": [],
   "source": []
  },
  {
   "cell_type": "code",
   "execution_count": 10,
   "metadata": {
    "colab": {
     "base_uri": "https://localhost:8080/"
    },
    "executionInfo": {
     "elapsed": 1246,
     "status": "ok",
     "timestamp": 1649439391877,
     "user": {
      "displayName": "Nikhil kansliwal",
      "userId": "14896650983382194700"
     },
     "user_tz": -330
    },
    "id": "QBWrLPIeBgG-",
    "outputId": "fb9888cb-141d-4ff2-d839-d19327e2f68f"
   },
   "outputs": [
    {
     "name": "stdout",
     "output_type": "stream",
     "text": [
      "Found 5253 images belonging to 3 classes.\n",
      "Found 1315 images belonging to 3 classes.\n",
      "Found 1644 images belonging to 3 classes.\n"
     ]
    }
   ],
   "source": [
    "\n",
    "train_generator = train_datagen.flow_from_directory(\n",
    "        train_dir,\n",
    "        target_size=(224, 224),\n",
    "        batch_size=20,\n",
    "        class_mode='categorical',\n",
    "        shuffle=True\n",
    "        )\n",
    "\n",
    "valid_generator = test_datagen.flow_from_directory(\n",
    "        valid_dir,\n",
    "        target_size=(224, 224),\n",
    "        batch_size=20,\n",
    "        class_mode='categorical',\n",
    "        shuffle=True\n",
    "        )\n",
    "\n",
    "test_generator = test_datagen.flow_from_directory(\n",
    "        test_dir,\n",
    "        target_size=(224, 224),\n",
    "        batch_size=20,\n",
    "        class_mode='categorical',\n",
    "        shuffle=False\n",
    "        )"
   ]
  },
  {
   "cell_type": "code",
   "execution_count": 11,
   "metadata": {
    "executionInfo": {
     "elapsed": 4,
     "status": "ok",
     "timestamp": 1649439391877,
     "user": {
      "displayName": "Nikhil kansliwal",
      "userId": "14896650983382194700"
     },
     "user_tz": -330
    },
    "id": "Vn80dmJEHb_K"
   },
   "outputs": [],
   "source": [
    "from tensorflow.keras import layers\n",
    "from tensorflow.keras import models"
   ]
  },
  {
   "cell_type": "code",
   "execution_count": 12,
   "metadata": {
    "executionInfo": {
     "elapsed": 3,
     "status": "ok",
     "timestamp": 1649439391877,
     "user": {
      "displayName": "Nikhil kansliwal",
      "userId": "14896650983382194700"
     },
     "user_tz": -330
    },
    "id": "HjZAgItjHb4X"
   },
   "outputs": [],
   "source": [
    "from tensorflow.keras import optimizers"
   ]
  },
  {
   "cell_type": "code",
   "execution_count": 13,
   "metadata": {
    "colab": {
     "base_uri": "https://localhost:8080/"
    },
    "executionInfo": {
     "elapsed": 6732,
     "status": "ok",
     "timestamp": 1649439398606,
     "user": {
      "displayName": "Nikhil kansliwal",
      "userId": "14896650983382194700"
     },
     "user_tz": -330
    },
    "id": "osJjtxI0HHk1",
    "outputId": "9105220d-dfe8-4322-f557-9c51be554a07"
   },
   "outputs": [],
   "source": [
    "from tensorflow.keras.applications import VGG16\n",
    "conv_base = VGG16(weights='imagenet',\n",
    "                  include_top=False,\n",
    "                  input_shape=(224, 224, 3))\n",
    "\n",
    "\n",
    "# conv_base = EfficientNetB7(weights='imagenet',\n",
    "#                   include_top=False,\n",
    "#                   input_shape=(150, 150, 3))\n",
    "\n",
    "# conv_base = DenseNet121(weights='imagenet',\n",
    "#                   include_top=False,\n",
    "#                   input_shape=(224, 224, 3))\n",
    "\n",
    "# conv_base = MobileNet(weights='imagenet',\n",
    "#                   include_top=False,\n",
    "#                   input_shape=(150, 150, 3))"
   ]
  },
  {
   "cell_type": "code",
   "execution_count": 14,
   "metadata": {
    "colab": {
     "base_uri": "https://localhost:8080/"
    },
    "executionInfo": {
     "elapsed": 7021,
     "status": "ok",
     "timestamp": 1649439405612,
     "user": {
      "displayName": "Nikhil kansliwal",
      "userId": "14896650983382194700"
     },
     "user_tz": -330
    },
    "id": "55R8Y-_SHHfm",
    "outputId": "2cdc10f0-cd4b-42e0-9dcd-2b5bd26ad5a9"
   },
   "outputs": [
    {
     "name": "stdout",
     "output_type": "stream",
     "text": [
      "Model: \"vgg16\"\n",
      "_________________________________________________________________\n",
      " Layer (type)                Output Shape              Param #   \n",
      "=================================================================\n",
      " input_1 (InputLayer)        [(None, 224, 224, 3)]     0         \n",
      "                                                                 \n",
      " block1_conv1 (Conv2D)       (None, 224, 224, 64)      1792      \n",
      "                                                                 \n",
      " block1_conv2 (Conv2D)       (None, 224, 224, 64)      36928     \n",
      "                                                                 \n",
      " block1_pool (MaxPooling2D)  (None, 112, 112, 64)      0         \n",
      "                                                                 \n",
      " block2_conv1 (Conv2D)       (None, 112, 112, 128)     73856     \n",
      "                                                                 \n",
      " block2_conv2 (Conv2D)       (None, 112, 112, 128)     147584    \n",
      "                                                                 \n",
      " block2_pool (MaxPooling2D)  (None, 56, 56, 128)       0         \n",
      "                                                                 \n",
      " block3_conv1 (Conv2D)       (None, 56, 56, 256)       295168    \n",
      "                                                                 \n",
      " block3_conv2 (Conv2D)       (None, 56, 56, 256)       590080    \n",
      "                                                                 \n",
      " block3_conv3 (Conv2D)       (None, 56, 56, 256)       590080    \n",
      "                                                                 \n",
      " block3_pool (MaxPooling2D)  (None, 28, 28, 256)       0         \n",
      "                                                                 \n",
      " block4_conv1 (Conv2D)       (None, 28, 28, 512)       1180160   \n",
      "                                                                 \n",
      " block4_conv2 (Conv2D)       (None, 28, 28, 512)       2359808   \n",
      "                                                                 \n",
      " block4_conv3 (Conv2D)       (None, 28, 28, 512)       2359808   \n",
      "                                                                 \n",
      " block4_pool (MaxPooling2D)  (None, 14, 14, 512)       0         \n",
      "                                                                 \n",
      " block5_conv1 (Conv2D)       (None, 14, 14, 512)       2359808   \n",
      "                                                                 \n",
      " block5_conv2 (Conv2D)       (None, 14, 14, 512)       2359808   \n",
      "                                                                 \n",
      " block5_conv3 (Conv2D)       (None, 14, 14, 512)       2359808   \n",
      "                                                                 \n",
      " block5_pool (MaxPooling2D)  (None, 7, 7, 512)         0         \n",
      "                                                                 \n",
      "=================================================================\n",
      "Total params: 14,714,688\n",
      "Trainable params: 14,714,688\n",
      "Non-trainable params: 0\n",
      "_________________________________________________________________\n"
     ]
    }
   ],
   "source": [
    "conv_base.summary()"
   ]
  },
  {
   "cell_type": "code",
   "execution_count": 15,
   "metadata": {
    "executionInfo": {
     "elapsed": 29,
     "status": "ok",
     "timestamp": 1649439405612,
     "user": {
      "displayName": "Nikhil kansliwal",
      "userId": "14896650983382194700"
     },
     "user_tz": -330
    },
    "id": "SPfa-BxXIxx7"
   },
   "outputs": [],
   "source": [
    "model = keras.models.Sequential()\n",
    "model.add(conv_base)\n",
    "model.add(keras.layers.GlobalAveragePooling2D())\n",
    "model.add(keras.layers.Dense(3, activation='softmax'))\n",
    "\n"
   ]
  },
  {
   "cell_type": "code",
   "execution_count": 16,
   "metadata": {
    "colab": {
     "base_uri": "https://localhost:8080/"
    },
    "executionInfo": {
     "elapsed": 28,
     "status": "ok",
     "timestamp": 1649439405612,
     "user": {
      "displayName": "Nikhil kansliwal",
      "userId": "14896650983382194700"
     },
     "user_tz": -330
    },
    "id": "bDBxETADe8jD",
    "outputId": "b1fe2207-af2f-4929-9f07-93bf57ca0df2"
   },
   "outputs": [
    {
     "name": "stderr",
     "output_type": "stream",
     "text": [
      "/home/191112024/.local/lib/python3.8/site-packages/keras/optimizer_v2/rmsprop.py:130: UserWarning: The `lr` argument is deprecated, use `learning_rate` instead.\n",
      "  super(RMSprop, self).__init__(name, **kwargs)\n"
     ]
    }
   ],
   "source": [
    "# model = models.Sequential()\n",
    "# model.add(layers.Conv2D(32, (3, 3), activation='relu',\n",
    "#                         input_shape=(150, 150, 3)))\n",
    "# model.add(layers.MaxPooling2D((2, 2)))\n",
    "# model.add(layers.Conv2D(64, (3, 3), activation='relu'))\n",
    "# model.add(layers.MaxPooling2D((2, 2)))\n",
    "# model.add(layers.Conv2D(128, (3, 3), activation='relu'))\n",
    "# model.add(layers.MaxPooling2D((2, 2)))\n",
    "# model.add(layers.Conv2D(128, (3, 3), activation='relu'))\n",
    "# model.add(layers.MaxPooling2D((2, 2)))\n",
    "# model.add(layers.Flatten())\n",
    "# model.add(layers.Dropout(0.5))\n",
    "# model.add(layers.Dense(512, activation='relu'))\n",
    "# model.add(layers.Dense(3, activation='softmax'))\n",
    "\n",
    "model.compile(loss='categorical_crossentropy',\n",
    "              optimizer=optimizers.RMSprop(lr=1e-5),\n",
    "              metrics=['acc',tf.keras.metrics.Recall(),tf.keras.metrics.Precision()])"
   ]
  },
  {
   "cell_type": "code",
   "execution_count": 15,
   "metadata": {
    "executionInfo": {
     "elapsed": 9,
     "status": "ok",
     "timestamp": 1649439405613,
     "user": {
      "displayName": "Nikhil kansliwal",
      "userId": "14896650983382194700"
     },
     "user_tz": -330
    },
    "id": "qB0BSqiFIxvN"
   },
   "outputs": [],
   "source": []
  },
  {
   "cell_type": "code",
   "execution_count": 15,
   "metadata": {
    "executionInfo": {
     "elapsed": 8,
     "status": "ok",
     "timestamp": 1649439405613,
     "user": {
      "displayName": "Nikhil kansliwal",
      "userId": "14896650983382194700"
     },
     "user_tz": -330
    },
    "id": "pZWLWDwPIxsL"
   },
   "outputs": [],
   "source": []
  },
  {
   "cell_type": "code",
   "execution_count": 15,
   "metadata": {
    "executionInfo": {
     "elapsed": 9,
     "status": "ok",
     "timestamp": 1649439405614,
     "user": {
      "displayName": "Nikhil kansliwal",
      "userId": "14896650983382194700"
     },
     "user_tz": -330
    },
    "id": "9SPJWRvYIxmB"
   },
   "outputs": [],
   "source": []
  },
  {
   "cell_type": "code",
   "execution_count": 15,
   "metadata": {
    "executionInfo": {
     "elapsed": 9,
     "status": "ok",
     "timestamp": 1649439405614,
     "user": {
      "displayName": "Nikhil kansliwal",
      "userId": "14896650983382194700"
     },
     "user_tz": -330
    },
    "id": "b4D4xfzYIxiT"
   },
   "outputs": [],
   "source": []
  },
  {
   "cell_type": "code",
   "execution_count": 17,
   "metadata": {
    "executionInfo": {
     "elapsed": 10,
     "status": "ok",
     "timestamp": 1649439405615,
     "user": {
      "displayName": "Nikhil kansliwal",
      "userId": "14896650983382194700"
     },
     "user_tz": -330
    },
    "id": "4EXrUrX_BgEO"
   },
   "outputs": [],
   "source": [
    "checkpoint_cb = keras.callbacks.ModelCheckpoint(\n",
    "    \"model_VGG16_.h5\", save_best_only=True)\n",
    "earlystop_cb = keras.callbacks.EarlyStopping(\n",
    "    patience=5, restore_best_weights=True)\n"
   ]
  },
  {
   "cell_type": "code",
   "execution_count": 18,
   "metadata": {
    "colab": {
     "base_uri": "https://localhost:8080/"
    },
    "executionInfo": {
     "elapsed": 10,
     "status": "ok",
     "timestamp": 1649439405615,
     "user": {
      "displayName": "Nikhil kansliwal",
      "userId": "14896650983382194700"
     },
     "user_tz": -330
    },
    "id": "gMjWqC11BgBf",
    "outputId": "f2debe16-93f4-434e-b94c-862ab56223c5"
   },
   "outputs": [
    {
     "name": "stdout",
     "output_type": "stream",
     "text": [
      "Model: \"sequential\"\n",
      "_________________________________________________________________\n",
      " Layer (type)                Output Shape              Param #   \n",
      "=================================================================\n",
      " vgg16 (Functional)          (None, 7, 7, 512)         14714688  \n",
      "                                                                 \n",
      " global_average_pooling2d (G  (None, 512)              0         \n",
      " lobalAveragePooling2D)                                          \n",
      "                                                                 \n",
      " dense (Dense)               (None, 3)                 1539      \n",
      "                                                                 \n",
      "=================================================================\n",
      "Total params: 14,716,227\n",
      "Trainable params: 14,716,227\n",
      "Non-trainable params: 0\n",
      "_________________________________________________________________\n"
     ]
    }
   ],
   "source": [
    "model.summary(0)\n"
   ]
  },
  {
   "cell_type": "code",
   "execution_count": 19,
   "metadata": {
    "colab": {
     "base_uri": "https://localhost:8080/"
    },
    "id": "NfgjeN5mBf-u",
    "outputId": "d3cf11e8-3732-43e5-dd8c-2f0b4aa6420e"
   },
   "outputs": [
    {
     "name": "stdout",
     "output_type": "stream",
     "text": [
      "Epoch 1/50\n",
      "260/260 [==============================] - 852s 3s/step - loss: 0.9918 - acc: 0.5190 - recall: 0.3457 - precision: 0.5413 - val_loss: 0.9684 - val_acc: 0.5150 - val_recall: 0.3092 - val_precision: 0.5880\n",
      "Epoch 2/50\n",
      "260/260 [==============================] - 907s 3s/step - loss: 0.9389 - acc: 0.5403 - recall: 0.3953 - precision: 0.5767 - val_loss: 0.9269 - val_acc: 0.5450 - val_recall: 0.4950 - val_precision: 0.5663\n",
      "Epoch 3/50\n",
      "260/260 [==============================] - 902s 3s/step - loss: 0.8961 - acc: 0.5708 - recall: 0.4475 - precision: 0.6030 - val_loss: 0.8906 - val_acc: 0.5842 - val_recall: 0.4367 - val_precision: 0.6231\n",
      "Epoch 4/50\n",
      "260/260 [==============================] - 905s 3s/step - loss: 0.8678 - acc: 0.5731 - recall: 0.4697 - precision: 0.6165 - val_loss: 0.8869 - val_acc: 0.5642 - val_recall: 0.4842 - val_precision: 0.5990\n",
      "Epoch 5/50\n",
      "260/260 [==============================] - 910s 3s/step - loss: 0.8411 - acc: 0.6037 - recall: 0.5028 - precision: 0.6423 - val_loss: 0.8716 - val_acc: 0.5875 - val_recall: 0.5408 - val_precision: 0.6100\n",
      "Epoch 6/50\n",
      "260/260 [==============================] - 909s 3s/step - loss: 0.8226 - acc: 0.6185 - recall: 0.5255 - precision: 0.6555 - val_loss: 0.8817 - val_acc: 0.5667 - val_recall: 0.4508 - val_precision: 0.6134\n",
      "Epoch 7/50\n",
      "260/260 [==============================] - 904s 3s/step - loss: 0.7909 - acc: 0.6335 - recall: 0.5475 - precision: 0.6745 - val_loss: 0.8481 - val_acc: 0.6075 - val_recall: 0.5650 - val_precision: 0.6260\n",
      "Epoch 8/50\n",
      "260/260 [==============================] - 902s 3s/step - loss: 0.7708 - acc: 0.6428 - recall: 0.5640 - precision: 0.6898 - val_loss: 0.8406 - val_acc: 0.5992 - val_recall: 0.5392 - val_precision: 0.6245\n",
      "Epoch 9/50\n",
      "260/260 [==============================] - 913s 4s/step - loss: 0.7400 - acc: 0.6649 - recall: 0.5939 - precision: 0.7098 - val_loss: 0.8027 - val_acc: 0.6442 - val_recall: 0.5958 - val_precision: 0.6602\n",
      "Epoch 10/50\n",
      "260/260 [==============================] - 902s 3s/step - loss: 0.7181 - acc: 0.6771 - recall: 0.6056 - precision: 0.7218 - val_loss: 0.7819 - val_acc: 0.6392 - val_recall: 0.5433 - val_precision: 0.6849\n",
      "Epoch 11/50\n",
      "260/260 [==============================] - 743s 3s/step - loss: 0.7031 - acc: 0.6865 - recall: 0.6141 - precision: 0.7294 - val_loss: 0.7765 - val_acc: 0.6650 - val_recall: 0.6067 - val_precision: 0.6940\n",
      "Epoch 12/50\n",
      "260/260 [==============================] - 733s 3s/step - loss: 0.6588 - acc: 0.7113 - recall: 0.6470 - precision: 0.7503 - val_loss: 0.9313 - val_acc: 0.6217 - val_recall: 0.5925 - val_precision: 0.6320\n",
      "Epoch 13/50\n",
      "260/260 [==============================] - 733s 3s/step - loss: 0.6548 - acc: 0.7108 - recall: 0.6486 - precision: 0.7484 - val_loss: 0.8619 - val_acc: 0.6317 - val_recall: 0.6067 - val_precision: 0.6420\n",
      "Epoch 14/50\n",
      "260/260 [==============================] - 732s 3s/step - loss: 0.6234 - acc: 0.7335 - recall: 0.6801 - precision: 0.7705 - val_loss: 0.7814 - val_acc: 0.6558 - val_recall: 0.6292 - val_precision: 0.6711\n",
      "Epoch 15/50\n",
      "260/260 [==============================] - 734s 3s/step - loss: 0.5945 - acc: 0.7447 - recall: 0.6952 - precision: 0.7777 - val_loss: 0.7914 - val_acc: 0.6575 - val_recall: 0.5967 - val_precision: 0.6891\n",
      "Epoch 16/50\n",
      "260/260 [==============================] - 734s 3s/step - loss: 0.5764 - acc: 0.7487 - recall: 0.7019 - precision: 0.7849 - val_loss: 0.7691 - val_acc: 0.6792 - val_recall: 0.6475 - val_precision: 0.6994\n",
      "Epoch 17/50\n",
      "260/260 [==============================] - 736s 3s/step - loss: 0.5567 - acc: 0.7626 - recall: 0.7198 - precision: 0.7940 - val_loss: 0.7615 - val_acc: 0.6800 - val_recall: 0.6508 - val_precision: 0.7011\n",
      "Epoch 18/50\n",
      "260/260 [==============================] - 735s 3s/step - loss: 0.5362 - acc: 0.7753 - recall: 0.7333 - precision: 0.8012 - val_loss: 0.9224 - val_acc: 0.6358 - val_recall: 0.6092 - val_precision: 0.6527\n",
      "Epoch 19/50\n",
      "260/260 [==============================] - 732s 3s/step - loss: 0.5099 - acc: 0.7849 - recall: 0.7487 - precision: 0.8115 - val_loss: 0.7271 - val_acc: 0.6917 - val_recall: 0.6658 - val_precision: 0.7128\n",
      "Epoch 20/50\n",
      "260/260 [==============================] - 732s 3s/step - loss: 0.4971 - acc: 0.7924 - recall: 0.7541 - precision: 0.8194 - val_loss: 0.7334 - val_acc: 0.6917 - val_recall: 0.6700 - val_precision: 0.7140\n",
      "Epoch 21/50\n",
      "260/260 [==============================] - 726s 3s/step - loss: 0.4686 - acc: 0.8094 - recall: 0.7733 - precision: 0.8311 - val_loss: 0.8611 - val_acc: 0.6450 - val_recall: 0.5950 - val_precision: 0.6787\n",
      "Epoch 22/50\n",
      "260/260 [==============================] - 734s 3s/step - loss: 0.4434 - acc: 0.8199 - recall: 0.7889 - precision: 0.8425 - val_loss: 0.7453 - val_acc: 0.6883 - val_recall: 0.6500 - val_precision: 0.7196\n",
      "Epoch 23/50\n",
      "260/260 [==============================] - 733s 3s/step - loss: 0.4273 - acc: 0.8250 - recall: 0.7934 - precision: 0.8484 - val_loss: 0.8427 - val_acc: 0.7000 - val_recall: 0.6808 - val_precision: 0.7129\n",
      "Epoch 24/50\n",
      "260/260 [==============================] - 733s 3s/step - loss: 0.4184 - acc: 0.8303 - recall: 0.8005 - precision: 0.8503 - val_loss: 0.7732 - val_acc: 0.7000 - val_recall: 0.6558 - val_precision: 0.7194\n",
      "Epoch 25/50\n",
      "260/260 [==============================] - 735s 3s/step - loss: 0.3960 - acc: 0.8394 - recall: 0.8122 - precision: 0.8580 - val_loss: 0.7561 - val_acc: 0.7317 - val_recall: 0.7142 - val_precision: 0.7472\n",
      "Epoch 26/50\n",
      "260/260 [==============================] - 748s 3s/step - loss: 0.3743 - acc: 0.8511 - recall: 0.8296 - precision: 0.8710 - val_loss: 0.7589 - val_acc: 0.7125 - val_recall: 0.6883 - val_precision: 0.7290\n",
      "Epoch 27/50\n",
      "260/260 [==============================] - 769s 3s/step - loss: 0.3699 - acc: 0.8465 - recall: 0.8259 - precision: 0.8672 - val_loss: 0.9589 - val_acc: 0.6992 - val_recall: 0.6900 - val_precision: 0.7132\n",
      "Epoch 28/50\n",
      "260/260 [==============================] - 775s 3s/step - loss: 0.3484 - acc: 0.8567 - recall: 0.8381 - precision: 0.8760 - val_loss: 0.8474 - val_acc: 0.7175 - val_recall: 0.6992 - val_precision: 0.7366\n",
      "Epoch 29/50\n",
      "260/260 [==============================] - 782s 3s/step - loss: 0.3449 - acc: 0.8654 - recall: 0.8479 - precision: 0.8837 - val_loss: 0.8434 - val_acc: 0.7133 - val_recall: 0.7050 - val_precision: 0.7206\n",
      "Epoch 30/50\n",
      "260/260 [==============================] - 795s 3s/step - loss: 0.3301 - acc: 0.8704 - recall: 0.8488 - precision: 0.8878 - val_loss: 0.8663 - val_acc: 0.7325 - val_recall: 0.7142 - val_precision: 0.7394\n",
      "Epoch 31/50\n",
      "260/260 [==============================] - 795s 3s/step - loss: 0.3179 - acc: 0.8689 - recall: 0.8517 - precision: 0.8869 - val_loss: 0.8021 - val_acc: 0.7317 - val_recall: 0.7125 - val_precision: 0.7513\n",
      "Epoch 32/50\n",
      "260/260 [==============================] - 795s 3s/step - loss: 0.2837 - acc: 0.8906 - recall: 0.8781 - precision: 0.9023 - val_loss: 0.9270 - val_acc: 0.7150 - val_recall: 0.7108 - val_precision: 0.7223\n",
      "Epoch 33/50\n",
      "260/260 [==============================] - 792s 3s/step - loss: 0.2804 - acc: 0.8916 - recall: 0.8798 - precision: 0.9053 - val_loss: 0.9165 - val_acc: 0.7358 - val_recall: 0.7275 - val_precision: 0.7500\n",
      "Epoch 34/50\n",
      "260/260 [==============================] - 798s 3s/step - loss: 0.2784 - acc: 0.8939 - recall: 0.8800 - precision: 0.9067 - val_loss: 1.0191 - val_acc: 0.7125 - val_recall: 0.7008 - val_precision: 0.7231\n",
      "Epoch 35/50\n",
      "260/260 [==============================] - 797s 3s/step - loss: 0.2662 - acc: 0.9012 - recall: 0.8893 - precision: 0.9126 - val_loss: 1.1224 - val_acc: 0.7017 - val_recall: 0.6900 - val_precision: 0.7120\n",
      "Epoch 36/50\n",
      "260/260 [==============================] - 799s 3s/step - loss: 0.2528 - acc: 0.9001 - recall: 0.8912 - precision: 0.9117 - val_loss: 1.0447 - val_acc: 0.7233 - val_recall: 0.7150 - val_precision: 0.7308\n",
      "Epoch 37/50\n",
      "260/260 [==============================] - 797s 3s/step - loss: 0.2401 - acc: 0.9037 - recall: 0.8935 - precision: 0.9170 - val_loss: 0.8199 - val_acc: 0.7533 - val_recall: 0.7442 - val_precision: 0.7685\n",
      "Epoch 38/50\n",
      "260/260 [==============================] - 801s 3s/step - loss: 0.2405 - acc: 0.9091 - recall: 0.8999 - precision: 0.9192 - val_loss: 0.9698 - val_acc: 0.7500 - val_recall: 0.7458 - val_precision: 0.7578\n",
      "Epoch 39/50\n",
      "260/260 [==============================] - 797s 3s/step - loss: 0.2207 - acc: 0.9168 - recall: 0.9097 - precision: 0.9265 - val_loss: 1.3505 - val_acc: 0.6817 - val_recall: 0.6750 - val_precision: 0.6830\n",
      "Epoch 40/50\n",
      "260/260 [==============================] - 798s 3s/step - loss: 0.2157 - acc: 0.9178 - recall: 0.9118 - precision: 0.9264 - val_loss: 1.0527 - val_acc: 0.7533 - val_recall: 0.7417 - val_precision: 0.7594\n",
      "Epoch 41/50\n",
      "260/260 [==============================] - 793s 3s/step - loss: 0.2087 - acc: 0.9201 - recall: 0.9101 - precision: 0.9270 - val_loss: 0.9227 - val_acc: 0.7417 - val_recall: 0.7292 - val_precision: 0.7511\n",
      "Epoch 42/50\n",
      "260/260 [==============================] - 623s 2s/step - loss: 0.1904 - acc: 0.9316 - recall: 0.9232 - precision: 0.9363 - val_loss: 1.0883 - val_acc: 0.7400 - val_recall: 0.7317 - val_precision: 0.7453\n",
      "Epoch 43/50\n",
      "260/260 [==============================] - 603s 2s/step - loss: 0.1958 - acc: 0.9226 - recall: 0.9160 - precision: 0.9295 - val_loss: 0.9408 - val_acc: 0.7492 - val_recall: 0.7442 - val_precision: 0.7587\n",
      "Epoch 44/50\n",
      "260/260 [==============================] - 602s 2s/step - loss: 0.1874 - acc: 0.9262 - recall: 0.9207 - precision: 0.9334 - val_loss: 1.0053 - val_acc: 0.7400 - val_recall: 0.7317 - val_precision: 0.7466\n",
      "Epoch 45/50\n",
      "260/260 [==============================] - 602s 2s/step - loss: 0.1793 - acc: 0.9332 - recall: 0.9257 - precision: 0.9396 - val_loss: 1.1142 - val_acc: 0.7175 - val_recall: 0.7142 - val_precision: 0.7250\n",
      "Epoch 46/50\n",
      "260/260 [==============================] - 602s 2s/step - loss: 0.1900 - acc: 0.9328 - recall: 0.9261 - precision: 0.9385 - val_loss: 0.9475 - val_acc: 0.7608 - val_recall: 0.7558 - val_precision: 0.7686\n",
      "Epoch 47/50\n",
      "260/260 [==============================] - 600s 2s/step - loss: 0.1777 - acc: 0.9339 - recall: 0.9274 - precision: 0.9410 - val_loss: 1.0160 - val_acc: 0.7367 - val_recall: 0.7308 - val_precision: 0.7457\n",
      "Epoch 48/50\n",
      "260/260 [==============================] - 603s 2s/step - loss: 0.1676 - acc: 0.9393 - recall: 0.9330 - precision: 0.9454 - val_loss: 0.9803 - val_acc: 0.7317 - val_recall: 0.7258 - val_precision: 0.7425\n",
      "Epoch 49/50\n",
      "260/260 [==============================] - 621s 2s/step - loss: 0.1654 - acc: 0.9401 - recall: 0.9351 - precision: 0.9447 - val_loss: 1.2113 - val_acc: 0.6992 - val_recall: 0.6942 - val_precision: 0.7077\n",
      "Epoch 50/50\n",
      "260/260 [==============================] - 627s 2s/step - loss: 0.1549 - acc: 0.9417 - recall: 0.9370 - precision: 0.9480 - val_loss: 1.2384 - val_acc: 0.7433 - val_recall: 0.7392 - val_precision: 0.7492\n"
     ]
    }
   ],
   "source": [
    "history = model.fit(train_generator,\n",
    "                    steps_per_epoch=260,\n",
    "                    epochs=50,\n",
    "                    validation_data=valid_generator,\n",
    "                    validation_steps=60,\n",
    "                    callbacks=[checkpoint_cb])\n"
   ]
  },
  {
   "cell_type": "code",
   "execution_count": 20,
   "metadata": {
    "id": "MhSs88SOBf7_"
   },
   "outputs": [
    {
     "data": {
      "image/png": "[encoded data removed]",
      "text/plain": [
       "<Figure size 720x720 with 1 Axes>"
      ]
     },
     "metadata": {
      "needs_background": "light"
     },
     "output_type": "display_data"
    }
   ],
   "source": [
    "pd.DataFrame(history.history).plot(figsize=(10, 10))\n",
    "plt.ylim((0,2))\n",
    "plt.grid(True)\n",
    "plt.show()"
   ]
  },
  {
   "cell_type": "code",
   "execution_count": 21,
   "metadata": {
    "id": "Jb_oN7wQBf5A"
   },
   "outputs": [
    {
     "name": "stdout",
     "output_type": "stream",
     "text": [
      "83/83 [==============================] - 23s 275ms/step - loss: 1.0911 - acc: 0.7689 - recall: 0.7634 - precision: 0.7704\n"
     ]
    },
    {
     "data": {
      "text/plain": [
       "[1.091094970703125, 0.7688564658164978, 0.7633820176124573, 0.7704113125801086]"
      ]
     },
     "execution_count": 21,
     "metadata": {},
     "output_type": "execute_result"
    }
   ],
   "source": [
    "model.evaluate(test_generator)"
   ]
  },
  {
   "cell_type": "code",
   "execution_count": 24,
   "metadata": {
    "id": "Mijzk6QnJKwX"
   },
   "outputs": [
    {
     "data": {
      "text/plain": [
       "array([[175,  93,  20],\n",
       "       [ 25, 775,  70],\n",
       "       [  9, 163, 314]])"
      ]
     },
     "execution_count": 24,
     "metadata": {},
     "output_type": "execute_result"
    }
   ],
   "source": [
    "x=model.predict(test_generator)\n",
    "actual=test_generator.labels\n",
    "pred=np.argmax(x, axis=-1)\n",
    "from sklearn.metrics import confusion_matrix\n",
    "confusion_matrix(actual,pred)"
   ]
  },
  {
   "cell_type": "code",
   "execution_count": null,
   "metadata": {
    "id": "osqMrL7vJQqp"
   },
   "outputs": [],
   "source": []
  }
 ],
 "metadata": {
  "accelerator": "GPU",
  "colab": {
   "collapsed_sections": [],
   "name": "DenseNet AGCCPF.ipynb",
   "provenance": []
  },
  "kernelspec": {
   "display_name": "Python 3",
   "name": "python3"
  },
  "language_info": {
   "codemirror_mode": {
    "name": "ipython",
    "version": 3
   },
   "file_extension": ".py",
   "mimetype": "text/x-python",
   "name": "python",
   "nbconvert_exporter": "python",
   "pygments_lexer": "ipython3",
   "version": "3.8.5"
  }
 },
 "nbformat": 4,
 "nbformat_minor": 0
}
