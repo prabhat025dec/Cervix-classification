{
  "cells": [
    {
      "cell_type": "code",
      "execution_count": 2,
      "metadata": {
        "colab": {
          "base_uri": "https://localhost:8080/"
        },
        "id": "6apL4lLkBJdS",
        "outputId": "6021380a-ce33-4d80-fa77-4847fc1d8e96"
      },
      "outputs": [
        {
          "output_type": "stream",
          "name": "stdout",
          "text": [
            "Mounted at /content/gdrive\n"
          ]
        }
      ],
      "source": [
        "from google.colab import drive\n",
        "drive.mount('/content/gdrive')\n",
        "import cv2\n",
        "import os\n",
        "import random"
      ]
    },
    {
      "cell_type": "code",
      "execution_count": 3,
      "metadata": {
        "id": "F59wrFLeBgYO"
      },
      "outputs": [],
      "source": [
        "import matplotlib.pyplot as plt\n",
        "import matplotlib as mpl\n",
        "import numpy as np\n",
        "import pandas as pd\n",
        "%matplotlib inline"
      ]
    },
    {
      "cell_type": "code",
      "source": [
        ""
      ],
      "metadata": {
        "id": "JhKuI0ijVE2B"
      },
      "execution_count": null,
      "outputs": []
    },
    {
      "cell_type": "code",
      "source": [
        ""
      ],
      "metadata": {
        "id": "FFFuiE-WVNux"
      },
      "execution_count": null,
      "outputs": []
    },
    {
      "cell_type": "code",
      "execution_count": 4,
      "metadata": {
        "id": "5OM6rQxpBgUy"
      },
      "outputs": [],
      "source": [
        "import tensorflow as tf\n",
        "import tensorflow.keras as keras\n"
      ]
    },
    {
      "cell_type": "code",
      "execution_count": 5,
      "metadata": {
        "colab": {
          "base_uri": "https://localhost:8080/",
          "height": 35
        },
        "id": "_hBZjOnK4M82",
        "outputId": "fd11829b-2a9d-43fd-8a57-1ba7df574d7a"
      },
      "outputs": [
        {
          "output_type": "execute_result",
          "data": {
            "text/plain": [
              "'2.8.0'"
            ],
            "application/vnd.google.colaboratory.intrinsic+json": {
              "type": "string"
            }
          },
          "metadata": {},
          "execution_count": 5
        }
      ],
      "source": [
        "tf.__version__"
      ]
    },
    {
      "cell_type": "code",
      "execution_count": 6,
      "metadata": {
        "id": "VdU5cuUdBgR-"
      },
      "outputs": [],
      "source": [
        "tf.random.set_seed(42)\n",
        "np.random.seed(42)\n"
      ]
    },
    {
      "cell_type": "code",
      "execution_count": 7,
      "metadata": {
        "id": "oQ8IUIQ8BgPR"
      },
      "outputs": [],
      "source": [
        "train_dir = \"/content/gdrive/MyDrive/AGCCPF/train\"\n",
        "test_dir = \"/content/gdrive/MyDrive/AGCCPF/test\"\n",
        "valid_dir = \"/content/gdrive/MyDrive/AGCCPF/validate\"\n"
      ]
    },
    {
      "cell_type": "code",
      "execution_count": 8,
      "metadata": {
        "id": "qpxzCWqmBgMf"
      },
      "outputs": [],
      "source": [
        "from keras.preprocessing.image import ImageDataGenerator"
      ]
    },
    {
      "cell_type": "code",
      "execution_count": 9,
      "metadata": {
        "id": "mVlMS8YeBgJ-"
      },
      "outputs": [],
      "source": [
        "train_datagen = ImageDataGenerator(\n",
        "    rescale=1./255,\n",
        "    rotation_range=30,\n",
        "    width_shift_range=0.2,\n",
        "    height_shift_range=0.2,\n",
        "    shear_range=0.2,\n",
        "    zoom_range=0.2,\n",
        "    horizontal_flip=False)\n",
        "test_datagen = ImageDataGenerator(rescale=1./255)"
      ]
    },
    {
      "cell_type": "code",
      "execution_count": null,
      "metadata": {
        "id": "dkPxqWbyVZ8w"
      },
      "outputs": [],
      "source": [
        ""
      ]
    },
    {
      "cell_type": "code",
      "execution_count": 10,
      "metadata": {
        "colab": {
          "base_uri": "https://localhost:8080/"
        },
        "id": "QBWrLPIeBgG-",
        "outputId": "76a04a74-07e4-4a28-fedd-6c480eebf8ea"
      },
      "outputs": [
        {
          "output_type": "stream",
          "name": "stdout",
          "text": [
            "Found 5253 images belonging to 3 classes.\n",
            "Found 1315 images belonging to 3 classes.\n",
            "Found 1644 images belonging to 3 classes.\n"
          ]
        }
      ],
      "source": [
        "\n",
        "train_generator = train_datagen.flow_from_directory(\n",
        "        train_dir,\n",
        "        target_size=(224, 224),\n",
        "        batch_size=20,\n",
        "        class_mode='categorical',\n",
        "        shuffle=True\n",
        "        )\n",
        "\n",
        "valid_generator = test_datagen.flow_from_directory(\n",
        "        valid_dir,\n",
        "        target_size=(224, 224),\n",
        "        batch_size=20,\n",
        "        class_mode='categorical',\n",
        "        shuffle=True\n",
        "        )\n",
        "\n",
        "test_generator = test_datagen.flow_from_directory(\n",
        "        test_dir,\n",
        "        target_size=(224, 224),\n",
        "        batch_size=20,\n",
        "        class_mode='categorical',\n",
        "        shuffle=False\n",
        "        )"
      ]
    },
    {
      "cell_type": "code",
      "execution_count": 11,
      "metadata": {
        "id": "Vn80dmJEHb_K"
      },
      "outputs": [],
      "source": [
        "from tensorflow.keras import layers\n",
        "from tensorflow.keras import models"
      ]
    },
    {
      "cell_type": "code",
      "execution_count": 12,
      "metadata": {
        "id": "HjZAgItjHb4X"
      },
      "outputs": [],
      "source": [
        "from tensorflow.keras import optimizers"
      ]
    },
    {
      "cell_type": "code",
      "execution_count": 13,
      "metadata": {
        "id": "osJjtxI0HHk1",
        "colab": {
          "base_uri": "https://localhost:8080/"
        },
        "outputId": "5ed2d720-4946-41f5-9a05-db97603a5313"
      },
      "outputs": [
        {
          "output_type": "stream",
          "name": "stdout",
          "text": [
            "Downloading data from https://storage.googleapis.com/tensorflow/keras-applications/mobilenet/mobilenet_1_0_224_tf_no_top.h5\n",
            "17227776/17225924 [==============================] - 0s 0us/step\n",
            "17235968/17225924 [==============================] - 0s 0us/step\n"
          ]
        }
      ],
      "source": [
        "from tensorflow.keras.applications import MobileNet\n",
        "conv_base = MobileNet(\n",
        "                  include_top=False,\n",
        "                  input_shape=(224, 224, 3))\n",
        "\n",
        "\n",
        "# conv_base = EfficientNetB7(weights='imagenet',\n",
        "#                   include_top=False,\n",
        "#                   input_shape=(150, 150, 3))\n",
        "\n",
        "# conv_base = DenseNet121(weights='imagenet',\n",
        "#                   include_top=False,\n",
        "#                   input_shape=(150, 150, 3))\n",
        "\n",
        "# conv_base = MobileNet(weights='imagenet',\n",
        "#                   include_top=False,\n",
        "#                   input_shape=(150, 150, 3))"
      ]
    },
    {
      "cell_type": "code",
      "execution_count": 14,
      "metadata": {
        "colab": {
          "base_uri": "https://localhost:8080/"
        },
        "id": "55R8Y-_SHHfm",
        "outputId": "8cf1378c-4b62-414c-9b6c-46e3e644194f"
      },
      "outputs": [
        {
          "output_type": "stream",
          "name": "stdout",
          "text": [
            "Model: \"mobilenet_1.00_224\"\n",
            "_________________________________________________________________\n",
            " Layer (type)                Output Shape              Param #   \n",
            "=================================================================\n",
            " input_1 (InputLayer)        [(None, 224, 224, 3)]     0         \n",
            "                                                                 \n",
            " conv1 (Conv2D)              (None, 112, 112, 32)      864       \n",
            "                                                                 \n",
            " conv1_bn (BatchNormalizatio  (None, 112, 112, 32)     128       \n",
            " n)                                                              \n",
            "                                                                 \n",
            " conv1_relu (ReLU)           (None, 112, 112, 32)      0         \n",
            "                                                                 \n",
            " conv_dw_1 (DepthwiseConv2D)  (None, 112, 112, 32)     288       \n",
            "                                                                 \n",
            " conv_dw_1_bn (BatchNormaliz  (None, 112, 112, 32)     128       \n",
            " ation)                                                          \n",
            "                                                                 \n",
            " conv_dw_1_relu (ReLU)       (None, 112, 112, 32)      0         \n",
            "                                                                 \n",
            " conv_pw_1 (Conv2D)          (None, 112, 112, 64)      2048      \n",
            "                                                                 \n",
            " conv_pw_1_bn (BatchNormaliz  (None, 112, 112, 64)     256       \n",
            " ation)                                                          \n",
            "                                                                 \n",
            " conv_pw_1_relu (ReLU)       (None, 112, 112, 64)      0         \n",
            "                                                                 \n",
            " conv_pad_2 (ZeroPadding2D)  (None, 113, 113, 64)      0         \n",
            "                                                                 \n",
            " conv_dw_2 (DepthwiseConv2D)  (None, 56, 56, 64)       576       \n",
            "                                                                 \n",
            " conv_dw_2_bn (BatchNormaliz  (None, 56, 56, 64)       256       \n",
            " ation)                                                          \n",
            "                                                                 \n",
            " conv_dw_2_relu (ReLU)       (None, 56, 56, 64)        0         \n",
            "                                                                 \n",
            " conv_pw_2 (Conv2D)          (None, 56, 56, 128)       8192      \n",
            "                                                                 \n",
            " conv_pw_2_bn (BatchNormaliz  (None, 56, 56, 128)      512       \n",
            " ation)                                                          \n",
            "                                                                 \n",
            " conv_pw_2_relu (ReLU)       (None, 56, 56, 128)       0         \n",
            "                                                                 \n",
            " conv_dw_3 (DepthwiseConv2D)  (None, 56, 56, 128)      1152      \n",
            "                                                                 \n",
            " conv_dw_3_bn (BatchNormaliz  (None, 56, 56, 128)      512       \n",
            " ation)                                                          \n",
            "                                                                 \n",
            " conv_dw_3_relu (ReLU)       (None, 56, 56, 128)       0         \n",
            "                                                                 \n",
            " conv_pw_3 (Conv2D)          (None, 56, 56, 128)       16384     \n",
            "                                                                 \n",
            " conv_pw_3_bn (BatchNormaliz  (None, 56, 56, 128)      512       \n",
            " ation)                                                          \n",
            "                                                                 \n",
            " conv_pw_3_relu (ReLU)       (None, 56, 56, 128)       0         \n",
            "                                                                 \n",
            " conv_pad_4 (ZeroPadding2D)  (None, 57, 57, 128)       0         \n",
            "                                                                 \n",
            " conv_dw_4 (DepthwiseConv2D)  (None, 28, 28, 128)      1152      \n",
            "                                                                 \n",
            " conv_dw_4_bn (BatchNormaliz  (None, 28, 28, 128)      512       \n",
            " ation)                                                          \n",
            "                                                                 \n",
            " conv_dw_4_relu (ReLU)       (None, 28, 28, 128)       0         \n",
            "                                                                 \n",
            " conv_pw_4 (Conv2D)          (None, 28, 28, 256)       32768     \n",
            "                                                                 \n",
            " conv_pw_4_bn (BatchNormaliz  (None, 28, 28, 256)      1024      \n",
            " ation)                                                          \n",
            "                                                                 \n",
            " conv_pw_4_relu (ReLU)       (None, 28, 28, 256)       0         \n",
            "                                                                 \n",
            " conv_dw_5 (DepthwiseConv2D)  (None, 28, 28, 256)      2304      \n",
            "                                                                 \n",
            " conv_dw_5_bn (BatchNormaliz  (None, 28, 28, 256)      1024      \n",
            " ation)                                                          \n",
            "                                                                 \n",
            " conv_dw_5_relu (ReLU)       (None, 28, 28, 256)       0         \n",
            "                                                                 \n",
            " conv_pw_5 (Conv2D)          (None, 28, 28, 256)       65536     \n",
            "                                                                 \n",
            " conv_pw_5_bn (BatchNormaliz  (None, 28, 28, 256)      1024      \n",
            " ation)                                                          \n",
            "                                                                 \n",
            " conv_pw_5_relu (ReLU)       (None, 28, 28, 256)       0         \n",
            "                                                                 \n",
            " conv_pad_6 (ZeroPadding2D)  (None, 29, 29, 256)       0         \n",
            "                                                                 \n",
            " conv_dw_6 (DepthwiseConv2D)  (None, 14, 14, 256)      2304      \n",
            "                                                                 \n",
            " conv_dw_6_bn (BatchNormaliz  (None, 14, 14, 256)      1024      \n",
            " ation)                                                          \n",
            "                                                                 \n",
            " conv_dw_6_relu (ReLU)       (None, 14, 14, 256)       0         \n",
            "                                                                 \n",
            " conv_pw_6 (Conv2D)          (None, 14, 14, 512)       131072    \n",
            "                                                                 \n",
            " conv_pw_6_bn (BatchNormaliz  (None, 14, 14, 512)      2048      \n",
            " ation)                                                          \n",
            "                                                                 \n",
            " conv_pw_6_relu (ReLU)       (None, 14, 14, 512)       0         \n",
            "                                                                 \n",
            " conv_dw_7 (DepthwiseConv2D)  (None, 14, 14, 512)      4608      \n",
            "                                                                 \n",
            " conv_dw_7_bn (BatchNormaliz  (None, 14, 14, 512)      2048      \n",
            " ation)                                                          \n",
            "                                                                 \n",
            " conv_dw_7_relu (ReLU)       (None, 14, 14, 512)       0         \n",
            "                                                                 \n",
            " conv_pw_7 (Conv2D)          (None, 14, 14, 512)       262144    \n",
            "                                                                 \n",
            " conv_pw_7_bn (BatchNormaliz  (None, 14, 14, 512)      2048      \n",
            " ation)                                                          \n",
            "                                                                 \n",
            " conv_pw_7_relu (ReLU)       (None, 14, 14, 512)       0         \n",
            "                                                                 \n",
            " conv_dw_8 (DepthwiseConv2D)  (None, 14, 14, 512)      4608      \n",
            "                                                                 \n",
            " conv_dw_8_bn (BatchNormaliz  (None, 14, 14, 512)      2048      \n",
            " ation)                                                          \n",
            "                                                                 \n",
            " conv_dw_8_relu (ReLU)       (None, 14, 14, 512)       0         \n",
            "                                                                 \n",
            " conv_pw_8 (Conv2D)          (None, 14, 14, 512)       262144    \n",
            "                                                                 \n",
            " conv_pw_8_bn (BatchNormaliz  (None, 14, 14, 512)      2048      \n",
            " ation)                                                          \n",
            "                                                                 \n",
            " conv_pw_8_relu (ReLU)       (None, 14, 14, 512)       0         \n",
            "                                                                 \n",
            " conv_dw_9 (DepthwiseConv2D)  (None, 14, 14, 512)      4608      \n",
            "                                                                 \n",
            " conv_dw_9_bn (BatchNormaliz  (None, 14, 14, 512)      2048      \n",
            " ation)                                                          \n",
            "                                                                 \n",
            " conv_dw_9_relu (ReLU)       (None, 14, 14, 512)       0         \n",
            "                                                                 \n",
            " conv_pw_9 (Conv2D)          (None, 14, 14, 512)       262144    \n",
            "                                                                 \n",
            " conv_pw_9_bn (BatchNormaliz  (None, 14, 14, 512)      2048      \n",
            " ation)                                                          \n",
            "                                                                 \n",
            " conv_pw_9_relu (ReLU)       (None, 14, 14, 512)       0         \n",
            "                                                                 \n",
            " conv_dw_10 (DepthwiseConv2D  (None, 14, 14, 512)      4608      \n",
            " )                                                               \n",
            "                                                                 \n",
            " conv_dw_10_bn (BatchNormali  (None, 14, 14, 512)      2048      \n",
            " zation)                                                         \n",
            "                                                                 \n",
            " conv_dw_10_relu (ReLU)      (None, 14, 14, 512)       0         \n",
            "                                                                 \n",
            " conv_pw_10 (Conv2D)         (None, 14, 14, 512)       262144    \n",
            "                                                                 \n",
            " conv_pw_10_bn (BatchNormali  (None, 14, 14, 512)      2048      \n",
            " zation)                                                         \n",
            "                                                                 \n",
            " conv_pw_10_relu (ReLU)      (None, 14, 14, 512)       0         \n",
            "                                                                 \n",
            " conv_dw_11 (DepthwiseConv2D  (None, 14, 14, 512)      4608      \n",
            " )                                                               \n",
            "                                                                 \n",
            " conv_dw_11_bn (BatchNormali  (None, 14, 14, 512)      2048      \n",
            " zation)                                                         \n",
            "                                                                 \n",
            " conv_dw_11_relu (ReLU)      (None, 14, 14, 512)       0         \n",
            "                                                                 \n",
            " conv_pw_11 (Conv2D)         (None, 14, 14, 512)       262144    \n",
            "                                                                 \n",
            " conv_pw_11_bn (BatchNormali  (None, 14, 14, 512)      2048      \n",
            " zation)                                                         \n",
            "                                                                 \n",
            " conv_pw_11_relu (ReLU)      (None, 14, 14, 512)       0         \n",
            "                                                                 \n",
            " conv_pad_12 (ZeroPadding2D)  (None, 15, 15, 512)      0         \n",
            "                                                                 \n",
            " conv_dw_12 (DepthwiseConv2D  (None, 7, 7, 512)        4608      \n",
            " )                                                               \n",
            "                                                                 \n",
            " conv_dw_12_bn (BatchNormali  (None, 7, 7, 512)        2048      \n",
            " zation)                                                         \n",
            "                                                                 \n",
            " conv_dw_12_relu (ReLU)      (None, 7, 7, 512)         0         \n",
            "                                                                 \n",
            " conv_pw_12 (Conv2D)         (None, 7, 7, 1024)        524288    \n",
            "                                                                 \n",
            " conv_pw_12_bn (BatchNormali  (None, 7, 7, 1024)       4096      \n",
            " zation)                                                         \n",
            "                                                                 \n",
            " conv_pw_12_relu (ReLU)      (None, 7, 7, 1024)        0         \n",
            "                                                                 \n",
            " conv_dw_13 (DepthwiseConv2D  (None, 7, 7, 1024)       9216      \n",
            " )                                                               \n",
            "                                                                 \n",
            " conv_dw_13_bn (BatchNormali  (None, 7, 7, 1024)       4096      \n",
            " zation)                                                         \n",
            "                                                                 \n",
            " conv_dw_13_relu (ReLU)      (None, 7, 7, 1024)        0         \n",
            "                                                                 \n",
            " conv_pw_13 (Conv2D)         (None, 7, 7, 1024)        1048576   \n",
            "                                                                 \n",
            " conv_pw_13_bn (BatchNormali  (None, 7, 7, 1024)       4096      \n",
            " zation)                                                         \n",
            "                                                                 \n",
            " conv_pw_13_relu (ReLU)      (None, 7, 7, 1024)        0         \n",
            "                                                                 \n",
            "=================================================================\n",
            "Total params: 3,228,864\n",
            "Trainable params: 3,206,976\n",
            "Non-trainable params: 21,888\n",
            "_________________________________________________________________\n"
          ]
        }
      ],
      "source": [
        "conv_base.summary()"
      ]
    },
    {
      "cell_type": "code",
      "execution_count": 15,
      "metadata": {
        "id": "SPfa-BxXIxx7"
      },
      "outputs": [],
      "source": [
        "model = keras.models.Sequential()\n",
        "model.add(conv_base)\n",
        "model.add(keras.layers.Flatten())\n",
        "model.add(keras.layers.Dense(256, activation='relu'))\n",
        "model.add(keras.layers.Dense(3, activation='softmax'))\n",
        "\n"
      ]
    },
    {
      "cell_type": "code",
      "execution_count": 20,
      "metadata": {
        "colab": {
          "base_uri": "https://localhost:8080/"
        },
        "id": "bDBxETADe8jD",
        "outputId": "50cc37c3-cba5-480c-f4e3-46c3ddac1500"
      },
      "outputs": [
        {
          "output_type": "stream",
          "name": "stderr",
          "text": [
            "/usr/local/lib/python3.7/dist-packages/keras/optimizer_v2/rmsprop.py:130: UserWarning: The `lr` argument is deprecated, use `learning_rate` instead.\n",
            "  super(RMSprop, self).__init__(name, **kwargs)\n"
          ]
        }
      ],
      "source": [
        "# model = models.Sequential()\n",
        "# model.add(layers.Conv2D(32, (3, 3), activation='relu',\n",
        "#                         input_shape=(150, 150, 3)))\n",
        "# model.add(layers.MaxPooling2D((2, 2)))\n",
        "# model.add(layers.Conv2D(64, (3, 3), activation='relu'))\n",
        "# model.add(layers.MaxPooling2D((2, 2)))\n",
        "# model.add(layers.Conv2D(128, (3, 3), activation='relu'))\n",
        "# model.add(layers.MaxPooling2D((2, 2)))\n",
        "# model.add(layers.Conv2D(128, (3, 3), activation='relu'))\n",
        "# model.add(layers.MaxPooling2D((2, 2)))\n",
        "# model.add(layers.Flatten())\n",
        "# model.add(layers.Dropout(0.5))\n",
        "# model.add(layers.Dense(512, activation='relu'))\n",
        "# model.add(layers.Dense(3, activation='softmax'))\n",
        "\n",
        "model.compile(loss='categorical_crossentropy',\n",
        "              optimizer=optimizers.RMSprop(lr=1e-5),\n",
        "              metrics=['acc',tf.keras.metrics.Recall(),tf.keras.metrics.Precision()])"
      ]
    },
    {
      "cell_type": "code",
      "execution_count": null,
      "metadata": {
        "id": "qB0BSqiFIxvN"
      },
      "outputs": [],
      "source": [
        ""
      ]
    },
    {
      "cell_type": "code",
      "execution_count": 21,
      "metadata": {
        "colab": {
          "base_uri": "https://localhost:8080/"
        },
        "id": "pZWLWDwPIxsL",
        "outputId": "675ef51f-5370-4083-a567-c82339bd45fe"
      },
      "outputs": [
        {
          "output_type": "stream",
          "name": "stdout",
          "text": [
            "/content/gdrive/MyDrive\n"
          ]
        }
      ],
      "source": [
        "%cd /content/gdrive/MyDrive/"
      ]
    },
    {
      "cell_type": "code",
      "execution_count": null,
      "metadata": {
        "id": "9SPJWRvYIxmB"
      },
      "outputs": [],
      "source": [
        ""
      ]
    },
    {
      "cell_type": "code",
      "execution_count": null,
      "metadata": {
        "id": "b4D4xfzYIxiT"
      },
      "outputs": [],
      "source": [
        ""
      ]
    },
    {
      "cell_type": "code",
      "execution_count": 22,
      "metadata": {
        "id": "4EXrUrX_BgEO"
      },
      "outputs": [],
      "source": [
        "checkpoint_cb = keras.callbacks.ModelCheckpoint(\n",
        "    \"/content/gdrive/MyDrive/model.h5\", save_best_only=True)\n",
        "earlystop_cb = keras.callbacks.EarlyStopping(\n",
        "    patience=5, restore_best_weights=True)\n"
      ]
    },
    {
      "cell_type": "code",
      "execution_count": 23,
      "metadata": {
        "colab": {
          "base_uri": "https://localhost:8080/"
        },
        "id": "gMjWqC11BgBf",
        "outputId": "18b72eea-dde4-4245-c2c7-3814669d93dd"
      },
      "outputs": [
        {
          "output_type": "stream",
          "name": "stdout",
          "text": [
            "Model: \"sequential\"\n",
            "_________________________________________________________________\n",
            " Layer (type)                Output Shape              Param #   \n",
            "=================================================================\n",
            " mobilenet_1.00_224 (Functio  (None, 7, 7, 1024)       3228864   \n",
            " nal)                                                            \n",
            "                                                                 \n",
            " flatten (Flatten)           (None, 50176)             0         \n",
            "                                                                 \n",
            " dense (Dense)               (None, 256)               12845312  \n",
            "                                                                 \n",
            " dense_1 (Dense)             (None, 3)                 771       \n",
            "                                                                 \n",
            "=================================================================\n",
            "Total params: 16,074,947\n",
            "Trainable params: 16,053,059\n",
            "Non-trainable params: 21,888\n",
            "_________________________________________________________________\n"
          ]
        }
      ],
      "source": [
        "model.summary(0)\n"
      ]
    },
    {
      "cell_type": "code",
      "execution_count": 24,
      "metadata": {
        "colab": {
          "base_uri": "https://localhost:8080/"
        },
        "id": "NfgjeN5mBf-u",
        "outputId": "66a71106-6018-40fb-be52-5ffe1d5a4909"
      },
      "outputs": [
        {
          "output_type": "stream",
          "name": "stdout",
          "text": [
            "Epoch 1/50\n",
            "260/260 [==============================] - 1290s 5s/step - loss: 1.3220 - acc: 0.4685 - recall: 0.4156 - precision: 0.4797 - val_loss: 1.0934 - val_acc: 0.5142 - val_recall: 0.4517 - val_precision: 0.5283\n",
            "Epoch 2/50\n",
            "260/260 [==============================] - 154s 591ms/step - loss: 1.0318 - acc: 0.5192 - recall: 0.4450 - precision: 0.5441 - val_loss: 1.0124 - val_acc: 0.5217 - val_recall: 0.4133 - val_precision: 0.5439\n",
            "Epoch 3/50\n",
            "260/260 [==============================] - 134s 516ms/step - loss: 0.9597 - acc: 0.5413 - recall: 0.4597 - precision: 0.5728 - val_loss: 0.9791 - val_acc: 0.5575 - val_recall: 0.4792 - val_precision: 0.5727\n",
            "Epoch 4/50\n",
            "260/260 [==============================] - 135s 519ms/step - loss: 0.9312 - acc: 0.5656 - recall: 0.4909 - precision: 0.5979 - val_loss: 0.9778 - val_acc: 0.5533 - val_recall: 0.4908 - val_precision: 0.5763\n",
            "Epoch 5/50\n",
            "260/260 [==============================] - 135s 518ms/step - loss: 0.9091 - acc: 0.5733 - recall: 0.4980 - precision: 0.5981 - val_loss: 0.9384 - val_acc: 0.5775 - val_recall: 0.5133 - val_precision: 0.6045\n",
            "Epoch 6/50\n",
            "260/260 [==============================] - 132s 508ms/step - loss: 0.9040 - acc: 0.5723 - recall: 0.5016 - precision: 0.6005 - val_loss: 0.9409 - val_acc: 0.5642 - val_recall: 0.4850 - val_precision: 0.5849\n",
            "Epoch 7/50\n",
            "260/260 [==============================] - 136s 522ms/step - loss: 0.8716 - acc: 0.5952 - recall: 0.5301 - precision: 0.6236 - val_loss: 0.9329 - val_acc: 0.5583 - val_recall: 0.4908 - val_precision: 0.6004\n",
            "Epoch 8/50\n",
            "260/260 [==============================] - 138s 529ms/step - loss: 0.8413 - acc: 0.6147 - recall: 0.5542 - precision: 0.6427 - val_loss: 0.9235 - val_acc: 0.6000 - val_recall: 0.5342 - val_precision: 0.6116\n",
            "Epoch 9/50\n",
            "260/260 [==============================] - 134s 516ms/step - loss: 0.8312 - acc: 0.6210 - recall: 0.5623 - precision: 0.6501 - val_loss: 0.9398 - val_acc: 0.5883 - val_recall: 0.5283 - val_precision: 0.6155\n",
            "Epoch 10/50\n",
            "260/260 [==============================] - 135s 518ms/step - loss: 0.8200 - acc: 0.6260 - recall: 0.5692 - precision: 0.6572 - val_loss: 0.9134 - val_acc: 0.5967 - val_recall: 0.5333 - val_precision: 0.6208\n",
            "Epoch 11/50\n",
            "260/260 [==============================] - 131s 502ms/step - loss: 0.7961 - acc: 0.6407 - recall: 0.5833 - precision: 0.6651 - val_loss: 1.0064 - val_acc: 0.5792 - val_recall: 0.5467 - val_precision: 0.5905\n",
            "Epoch 12/50\n",
            "260/260 [==============================] - 131s 504ms/step - loss: 0.7978 - acc: 0.6401 - recall: 0.5891 - precision: 0.6700 - val_loss: 0.9113 - val_acc: 0.6083 - val_recall: 0.5492 - val_precision: 0.6386\n",
            "Epoch 13/50\n",
            "260/260 [==============================] - 131s 503ms/step - loss: 0.7565 - acc: 0.6555 - recall: 0.6066 - precision: 0.6796 - val_loss: 0.9301 - val_acc: 0.6000 - val_recall: 0.5600 - val_precision: 0.6188\n",
            "Epoch 14/50\n",
            "260/260 [==============================] - 131s 505ms/step - loss: 0.7454 - acc: 0.6775 - recall: 0.6308 - precision: 0.7001 - val_loss: 0.9381 - val_acc: 0.6258 - val_recall: 0.5917 - val_precision: 0.6362\n",
            "Epoch 15/50\n",
            "260/260 [==============================] - 129s 497ms/step - loss: 0.7406 - acc: 0.6794 - recall: 0.6339 - precision: 0.7034 - val_loss: 0.9475 - val_acc: 0.6175 - val_recall: 0.5658 - val_precision: 0.6293\n",
            "Epoch 16/50\n",
            "260/260 [==============================] - 129s 494ms/step - loss: 0.7190 - acc: 0.6890 - recall: 0.6459 - precision: 0.7139 - val_loss: 1.0358 - val_acc: 0.6100 - val_recall: 0.5750 - val_precision: 0.6128\n",
            "Epoch 17/50\n",
            "260/260 [==============================] - 131s 501ms/step - loss: 0.7049 - acc: 0.6919 - recall: 0.6528 - precision: 0.7158 - val_loss: 0.9263 - val_acc: 0.6167 - val_recall: 0.5892 - val_precision: 0.6433\n",
            "Epoch 18/50\n",
            "260/260 [==============================] - 132s 507ms/step - loss: 0.6920 - acc: 0.7025 - recall: 0.6605 - precision: 0.7258 - val_loss: 0.9607 - val_acc: 0.6192 - val_recall: 0.5983 - val_precision: 0.6399\n",
            "Epoch 19/50\n",
            "260/260 [==============================] - 133s 511ms/step - loss: 0.6738 - acc: 0.7133 - recall: 0.6778 - precision: 0.7355 - val_loss: 0.9284 - val_acc: 0.6383 - val_recall: 0.6125 - val_precision: 0.6562\n",
            "Epoch 20/50\n",
            "260/260 [==============================] - 136s 522ms/step - loss: 0.6685 - acc: 0.7104 - recall: 0.6803 - precision: 0.7353 - val_loss: 0.9358 - val_acc: 0.6425 - val_recall: 0.6108 - val_precision: 0.6527\n",
            "Epoch 21/50\n",
            "260/260 [==============================] - 137s 527ms/step - loss: 0.6532 - acc: 0.7200 - recall: 0.6848 - precision: 0.7442 - val_loss: 0.9093 - val_acc: 0.6408 - val_recall: 0.6175 - val_precision: 0.6616\n",
            "Epoch 22/50\n",
            "260/260 [==============================] - 133s 510ms/step - loss: 0.6339 - acc: 0.7335 - recall: 0.7008 - precision: 0.7564 - val_loss: 0.9555 - val_acc: 0.6242 - val_recall: 0.6033 - val_precision: 0.6499\n",
            "Epoch 23/50\n",
            "260/260 [==============================] - 133s 512ms/step - loss: 0.6337 - acc: 0.7291 - recall: 0.6965 - precision: 0.7514 - val_loss: 0.9085 - val_acc: 0.6508 - val_recall: 0.6375 - val_precision: 0.6623\n",
            "Epoch 24/50\n",
            "260/260 [==============================] - 131s 505ms/step - loss: 0.6084 - acc: 0.7383 - recall: 0.7115 - precision: 0.7615 - val_loss: 0.9868 - val_acc: 0.6400 - val_recall: 0.6200 - val_precision: 0.6509\n",
            "Epoch 25/50\n",
            "260/260 [==============================] - 134s 514ms/step - loss: 0.5968 - acc: 0.7566 - recall: 0.7287 - precision: 0.7746 - val_loss: 0.9800 - val_acc: 0.6392 - val_recall: 0.6217 - val_precision: 0.6515\n",
            "Epoch 26/50\n",
            "260/260 [==============================] - 132s 508ms/step - loss: 0.5730 - acc: 0.7635 - recall: 0.7354 - precision: 0.7839 - val_loss: 1.0121 - val_acc: 0.6517 - val_recall: 0.6383 - val_precision: 0.6603\n",
            "Epoch 27/50\n",
            "260/260 [==============================] - 131s 502ms/step - loss: 0.5581 - acc: 0.7591 - recall: 0.7345 - precision: 0.7832 - val_loss: 0.9784 - val_acc: 0.6442 - val_recall: 0.6233 - val_precision: 0.6516\n",
            "Epoch 28/50\n",
            "260/260 [==============================] - 132s 506ms/step - loss: 0.5530 - acc: 0.7687 - recall: 0.7477 - precision: 0.7907 - val_loss: 0.8936 - val_acc: 0.6642 - val_recall: 0.6425 - val_precision: 0.6745\n",
            "Epoch 29/50\n",
            "260/260 [==============================] - 133s 509ms/step - loss: 0.5429 - acc: 0.7722 - recall: 0.7500 - precision: 0.7894 - val_loss: 0.8848 - val_acc: 0.6567 - val_recall: 0.6300 - val_precision: 0.6720\n",
            "Epoch 30/50\n",
            "260/260 [==============================] - 132s 507ms/step - loss: 0.5383 - acc: 0.7760 - recall: 0.7500 - precision: 0.7933 - val_loss: 0.9439 - val_acc: 0.6550 - val_recall: 0.6350 - val_precision: 0.6684\n",
            "Epoch 31/50\n",
            "260/260 [==============================] - 133s 511ms/step - loss: 0.5189 - acc: 0.7855 - recall: 0.7626 - precision: 0.8047 - val_loss: 0.9238 - val_acc: 0.6625 - val_recall: 0.6508 - val_precision: 0.6756\n",
            "Epoch 32/50\n",
            "260/260 [==============================] - 135s 520ms/step - loss: 0.5137 - acc: 0.7866 - recall: 0.7676 - precision: 0.8038 - val_loss: 0.9486 - val_acc: 0.6542 - val_recall: 0.6408 - val_precision: 0.6687\n",
            "Epoch 33/50\n",
            "260/260 [==============================] - 130s 497ms/step - loss: 0.4969 - acc: 0.7934 - recall: 0.7718 - precision: 0.8077 - val_loss: 0.8762 - val_acc: 0.6808 - val_recall: 0.6600 - val_precision: 0.6935\n",
            "Epoch 34/50\n",
            "260/260 [==============================] - 128s 493ms/step - loss: 0.4901 - acc: 0.8011 - recall: 0.7784 - precision: 0.8187 - val_loss: 0.9217 - val_acc: 0.6775 - val_recall: 0.6600 - val_precision: 0.6911\n",
            "Epoch 35/50\n",
            "260/260 [==============================] - 130s 499ms/step - loss: 0.4828 - acc: 0.8017 - recall: 0.7799 - precision: 0.8200 - val_loss: 0.9426 - val_acc: 0.6750 - val_recall: 0.6633 - val_precision: 0.6874\n",
            "Epoch 36/50\n",
            "260/260 [==============================] - 130s 499ms/step - loss: 0.4652 - acc: 0.8159 - recall: 0.7972 - precision: 0.8305 - val_loss: 0.8848 - val_acc: 0.6783 - val_recall: 0.6625 - val_precision: 0.6883\n",
            "Epoch 37/50\n",
            "260/260 [==============================] - 130s 498ms/step - loss: 0.4575 - acc: 0.8169 - recall: 0.7966 - precision: 0.8334 - val_loss: 0.9019 - val_acc: 0.6658 - val_recall: 0.6550 - val_precision: 0.6817\n",
            "Epoch 38/50\n",
            "260/260 [==============================] - 130s 498ms/step - loss: 0.4503 - acc: 0.8169 - recall: 0.8001 - precision: 0.8313 - val_loss: 0.9323 - val_acc: 0.6800 - val_recall: 0.6667 - val_precision: 0.6926\n",
            "Epoch 39/50\n",
            "260/260 [==============================] - 130s 499ms/step - loss: 0.4438 - acc: 0.8228 - recall: 0.8063 - precision: 0.8381 - val_loss: 0.9604 - val_acc: 0.6742 - val_recall: 0.6642 - val_precision: 0.6859\n",
            "Epoch 40/50\n",
            "260/260 [==============================] - 131s 501ms/step - loss: 0.4297 - acc: 0.8267 - recall: 0.8107 - precision: 0.8408 - val_loss: 0.9564 - val_acc: 0.6875 - val_recall: 0.6683 - val_precision: 0.6920\n",
            "Epoch 41/50\n",
            "260/260 [==============================] - 130s 500ms/step - loss: 0.4197 - acc: 0.8377 - recall: 0.8223 - precision: 0.8503 - val_loss: 1.0980 - val_acc: 0.6742 - val_recall: 0.6675 - val_precision: 0.6805\n",
            "Epoch 42/50\n",
            "260/260 [==============================] - 130s 501ms/step - loss: 0.4087 - acc: 0.8325 - recall: 0.8190 - precision: 0.8472 - val_loss: 0.9143 - val_acc: 0.7017 - val_recall: 0.6850 - val_precision: 0.7092\n",
            "Epoch 43/50\n",
            "260/260 [==============================] - 131s 501ms/step - loss: 0.4018 - acc: 0.8433 - recall: 0.8298 - precision: 0.8550 - val_loss: 1.0513 - val_acc: 0.6783 - val_recall: 0.6692 - val_precision: 0.6834\n",
            "Epoch 44/50\n",
            "260/260 [==============================] - 131s 505ms/step - loss: 0.4093 - acc: 0.8375 - recall: 0.8228 - precision: 0.8531 - val_loss: 0.9937 - val_acc: 0.6975 - val_recall: 0.6883 - val_precision: 0.7012\n",
            "Epoch 45/50\n",
            "260/260 [==============================] - 131s 504ms/step - loss: 0.3883 - acc: 0.8461 - recall: 0.8323 - precision: 0.8555 - val_loss: 0.9292 - val_acc: 0.7100 - val_recall: 0.7008 - val_precision: 0.7188\n",
            "Epoch 46/50\n",
            "260/260 [==============================] - 134s 514ms/step - loss: 0.3726 - acc: 0.8542 - recall: 0.8379 - precision: 0.8640 - val_loss: 1.0216 - val_acc: 0.6850 - val_recall: 0.6742 - val_precision: 0.6926\n",
            "Epoch 47/50\n",
            "260/260 [==============================] - 130s 498ms/step - loss: 0.3724 - acc: 0.8506 - recall: 0.8388 - precision: 0.8617 - val_loss: 0.9374 - val_acc: 0.7075 - val_recall: 0.7000 - val_precision: 0.7149\n",
            "Epoch 48/50\n",
            "260/260 [==============================] - 132s 507ms/step - loss: 0.3724 - acc: 0.8542 - recall: 0.8392 - precision: 0.8638 - val_loss: 0.9604 - val_acc: 0.6967 - val_recall: 0.6908 - val_precision: 0.7055\n",
            "Epoch 49/50\n",
            "260/260 [==============================] - 132s 506ms/step - loss: 0.3513 - acc: 0.8639 - recall: 0.8540 - precision: 0.8751 - val_loss: 0.9930 - val_acc: 0.7008 - val_recall: 0.6942 - val_precision: 0.7065\n",
            "Epoch 50/50\n",
            "260/260 [==============================] - 131s 504ms/step - loss: 0.3537 - acc: 0.8631 - recall: 0.8504 - precision: 0.8695 - val_loss: 1.0678 - val_acc: 0.6967 - val_recall: 0.6817 - val_precision: 0.7009\n"
          ]
        }
      ],
      "source": [
        "history = model.fit(train_generator,\n",
        "                    steps_per_epoch=260,\n",
        "                    epochs=50,\n",
        "                    validation_data=valid_generator,\n",
        "                    validation_steps=60,\n",
        "                    callbacks=[checkpoint_cb])\n"
      ]
    },
    {
      "cell_type": "code",
      "execution_count": 25,
      "metadata": {
        "id": "MhSs88SOBf7_",
        "colab": {
          "base_uri": "https://localhost:8080/",
          "height": 596
        },
        "outputId": "b3312be4-8263-40ec-d941-3f5674e6ad0a"
      },
      "outputs": [
        {
          "output_type": "display_data",
          "data": {
            "text/plain": [
              "<Figure size 720x720 with 1 Axes>"
            ],
            "image/png": "[encoded data removed]"
          },
          "metadata": {
            "needs_background": "light"
          }
        }
      ],
      "source": [
        "pd.DataFrame(history.history).plot(figsize=(10, 10))\n",
        "plt.ylim((0,2))\n",
        "plt.grid(True)\n",
        "plt.show()"
      ]
    },
    {
      "cell_type": "code",
      "execution_count": 26,
      "metadata": {
        "id": "Jb_oN7wQBf5A",
        "colab": {
          "base_uri": "https://localhost:8080/"
        },
        "outputId": "707069f9-080e-4bca-80ba-e2c5b8357eff"
      },
      "outputs": [
        {
          "output_type": "stream",
          "name": "stdout",
          "text": [
            "83/83 [==============================] - 292s 4s/step - loss: 1.0478 - acc: 0.7226 - recall: 0.7141 - precision: 0.7274\n"
          ]
        },
        {
          "output_type": "execute_result",
          "data": {
            "text/plain": [
              "[1.0478484630584717, 0.7226277589797974, 0.7141119241714478, 0.727385401725769]"
            ]
          },
          "metadata": {},
          "execution_count": 26
        }
      ],
      "source": [
        "model.evaluate(test_generator)"
      ]
    },
    {
      "cell_type": "code",
      "execution_count": null,
      "metadata": {
        "id": "OCKXMlD6Bfzn"
      },
      "outputs": [],
      "source": [
        ""
      ]
    },
    {
      "cell_type": "code",
      "execution_count": null,
      "metadata": {
        "id": "asmCecks8XRR"
      },
      "outputs": [],
      "source": [
        ""
      ]
    },
    {
      "cell_type": "code",
      "execution_count": 27,
      "metadata": {
        "id": "NNUNQXk2PqeA",
        "colab": {
          "base_uri": "https://localhost:8080/"
        },
        "outputId": "c58d0972-8634-4e91-9a6e-21737a380be2"
      },
      "outputs": [
        {
          "output_type": "execute_result",
          "data": {
            "text/plain": [
              "array([[173,  97,  18],\n",
              "       [ 38, 741,  91],\n",
              "       [ 11, 201, 274]])"
            ]
          },
          "metadata": {},
          "execution_count": 27
        }
      ],
      "source": [
        "x=model.predict(test_generator)\n",
        "actual=test_generator.labels\n",
        "pred=np.argmax(x, axis=1)\n",
        "from sklearn.metrics import confusion_matrix\n",
        "confusion_matrix(actual,pred)"
      ]
    },
    {
      "cell_type": "code",
      "source": [
        ""
      ],
      "metadata": {
        "id": "-3z354gzXq8E"
      },
      "execution_count": null,
      "outputs": []
    }
  ],
  "metadata": {
    "accelerator": "GPU",
    "colab": {
      "collapsed_sections": [],
      "name": "Mobile net AGCCPF.ipynb",
      "provenance": []
    },
    "kernelspec": {
      "display_name": "Python 3",
      "language": "python",
      "name": "python3"
    },
    "language_info": {
      "codemirror_mode": {
        "name": "ipython",
        "version": 3
      },
      "file_extension": ".py",
      "mimetype": "text/x-python",
      "name": "python",
      "nbconvert_exporter": "python",
      "pygments_lexer": "ipython3",
      "version": "3.8.5"
    }
  },
  "nbformat": 4,
  "nbformat_minor": 0
}