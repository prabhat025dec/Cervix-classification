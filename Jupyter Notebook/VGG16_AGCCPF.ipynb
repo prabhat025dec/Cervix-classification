{
  "cells": [
    {
      "cell_type": "code",
      "execution_count": 1,
      "metadata": {
        "colab": {
          "base_uri": "https://localhost:8080/"
        },
        "id": "6apL4lLkBJdS",
        "outputId": "292842a4-6929-46a6-e558-b8dfb7d38d6a"
      },
      "outputs": [
        {
          "name": "stdout",
          "output_type": "stream",
          "text": [
            "Mounted at /content/gdrive\n"
          ]
        }
      ],
      "source": [
        "from google.colab import drive\n",
        "drive.mount('/content/gdrive')\n",
        "import cv2\n",
        "import os\n",
        "import random"
      ]
    },
    {
      "cell_type": "code",
      "execution_count": 12,
      "metadata": {
        "id": "F59wrFLeBgYO"
      },
      "outputs": [],
      "source": [
        "import matplotlib.pyplot as plt\n",
        "import matplotlib as mpl\n",
        "import numpy as np\n",
        "import pandas as pd\n",
        "%matplotlib inline"
      ]
    },
    {
      "cell_type": "code",
      "execution_count": 13,
      "metadata": {
        "id": "5OM6rQxpBgUy"
      },
      "outputs": [],
      "source": [
        "import tensorflow as tf\n",
        "import tensorflow.keras as keras\n"
      ]
    },
    {
      "cell_type": "code",
      "execution_count": 14,
      "metadata": {
        "colab": {
          "base_uri": "https://localhost:8080/",
          "height": 35
        },
        "id": "_hBZjOnK4M82",
        "outputId": "63cf132b-cf9f-4cba-eeeb-54d173a7bc17"
      },
      "outputs": [
        {
          "data": {
            "application/vnd.google.colaboratory.intrinsic+json": {
              "type": "string"
            },
            "text/plain": [
              "'2.8.0'"
            ]
          },
          "execution_count": 14,
          "metadata": {},
          "output_type": "execute_result"
        }
      ],
      "source": [
        "tf.__version__"
      ]
    },
    {
      "cell_type": "code",
      "execution_count": 15,
      "metadata": {
        "id": "VdU5cuUdBgR-"
      },
      "outputs": [],
      "source": [
        "tf.random.set_seed(42)\n",
        "np.random.seed(42)\n"
      ]
    },
    {
      "cell_type": "code",
      "execution_count": 16,
      "metadata": {
        "id": "oQ8IUIQ8BgPR"
      },
      "outputs": [],
      "source": [
        "train_dir = \"/content/gdrive/MyDrive/AGCCPF/train\"\n",
        "test_dir = \"/content/gdrive/MyDrive/AGCCPF/test\"\n",
        "valid_dir = \"/content/gdrive/MyDrive/AGCCPF/validate\"\n"
      ]
    },
    {
      "cell_type": "code",
      "execution_count": 17,
      "metadata": {
        "id": "qpxzCWqmBgMf"
      },
      "outputs": [],
      "source": [
        "from keras.preprocessing.image import ImageDataGenerator"
      ]
    },
    {
      "cell_type": "code",
      "execution_count": 18,
      "metadata": {
        "id": "mVlMS8YeBgJ-"
      },
      "outputs": [],
      "source": [
        "train_datagen = ImageDataGenerator(\n",
        "    rescale=1./255,\n",
        "    rotation_range=30,\n",
        "    width_shift_range=0.2,\n",
        "    height_shift_range=0.2,\n",
        "    shear_range=0.2,\n",
        "    zoom_range=0.2,\n",
        "    horizontal_flip=False)\n",
        "test_datagen = ImageDataGenerator(rescale=1./255)"
      ]
    },
    {
      "cell_type": "code",
      "execution_count": 18,
      "metadata": {
        "id": "dkPxqWbyVZ8w"
      },
      "outputs": [],
      "source": []
    },
    {
      "cell_type": "code",
      "execution_count": 19,
      "metadata": {
        "colab": {
          "base_uri": "https://localhost:8080/"
        },
        "id": "QBWrLPIeBgG-",
        "outputId": "3e94a312-ad3d-4877-d720-5147e4eee82a"
      },
      "outputs": [
        {
          "name": "stdout",
          "output_type": "stream",
          "text": [
            "Found 5253 images belonging to 3 classes.\n",
            "Found 1315 images belonging to 3 classes.\n",
            "Found 1644 images belonging to 3 classes.\n"
          ]
        }
      ],
      "source": [
        "\n",
        "train_generator = train_datagen.flow_from_directory(\n",
        "        train_dir,\n",
        "        target_size=(224, 224),\n",
        "        batch_size=20,\n",
        "        class_mode='categorical',\n",
        "        shuffle=True\n",
        "        )\n",
        "\n",
        "valid_generator = test_datagen.flow_from_directory(\n",
        "        valid_dir,\n",
        "        target_size=(224, 224),\n",
        "        batch_size=20,\n",
        "        class_mode='categorical',\n",
        "        shuffle=True\n",
        "        )\n",
        "\n",
        "test_generator = test_datagen.flow_from_directory(\n",
        "        test_dir,\n",
        "        target_size=(224, 224),\n",
        "        batch_size=20,\n",
        "        class_mode='categorical',\n",
        "        shuffle=False\n",
        "        )"
      ]
    },
    {
      "cell_type": "code",
      "execution_count": 20,
      "metadata": {
        "id": "Vn80dmJEHb_K"
      },
      "outputs": [],
      "source": [
        "from tensorflow.keras import layers\n",
        "from tensorflow.keras import models"
      ]
    },
    {
      "cell_type": "code",
      "execution_count": 21,
      "metadata": {
        "id": "HjZAgItjHb4X"
      },
      "outputs": [],
      "source": [
        "from tensorflow.keras import optimizers"
      ]
    },
    {
      "cell_type": "code",
      "execution_count": 22,
      "metadata": {
        "colab": {
          "base_uri": "https://localhost:8080/"
        },
        "id": "osJjtxI0HHk1",
        "outputId": "f07b3186-99be-410a-fe20-e8450469c4df"
      },
      "outputs": [
        {
          "name": "stdout",
          "output_type": "stream",
          "text": [
            "Downloading data from https://storage.googleapis.com/tensorflow/keras-applications/vgg16/vgg16_weights_tf_dim_ordering_tf_kernels_notop.h5\n",
            "58892288/58889256 [==============================] - 0s 0us/step\n",
            "58900480/58889256 [==============================] - 0s 0us/step\n"
          ]
        }
      ],
      "source": [
        "from tensorflow.keras.applications import VGG16\n",
        "conv_base = VGG16(weights='imagenet',\n",
        "                  include_top=False,\n",
        "                  input_shape=(224, 224, 3))\n",
        "\n",
        "\n",
        "# conv_base = EfficientNetB7(weights='imagenet',\n",
        "#                   include_top=False,\n",
        "#                   input_shape=(150, 150, 3))\n",
        "\n",
        "# conv_base = DenseNet121(weights='imagenet',\n",
        "#                   include_top=False,\n",
        "#                   input_shape=(150, 150, 3))\n",
        "\n",
        "# conv_base = MobileNet(weights='imagenet',\n",
        "#                   include_top=False,\n",
        "#                   input_shape=(150, 150, 3))"
      ]
    },
    {
      "cell_type": "code",
      "execution_count": 23,
      "metadata": {
        "colab": {
          "base_uri": "https://localhost:8080/"
        },
        "id": "55R8Y-_SHHfm",
        "outputId": "17cb7364-3f16-4877-bb78-5df716503a1c"
      },
      "outputs": [
        {
          "name": "stdout",
          "output_type": "stream",
          "text": [
            "Model: \"vgg16\"\n",
            "_________________________________________________________________\n",
            " Layer (type)                Output Shape              Param #   \n",
            "=================================================================\n",
            " input_1 (InputLayer)        [(None, 224, 224, 3)]     0         \n",
            "                                                                 \n",
            " block1_conv1 (Conv2D)       (None, 224, 224, 64)      1792      \n",
            "                                                                 \n",
            " block1_conv2 (Conv2D)       (None, 224, 224, 64)      36928     \n",
            "                                                                 \n",
            " block1_pool (MaxPooling2D)  (None, 112, 112, 64)      0         \n",
            "                                                                 \n",
            " block2_conv1 (Conv2D)       (None, 112, 112, 128)     73856     \n",
            "                                                                 \n",
            " block2_conv2 (Conv2D)       (None, 112, 112, 128)     147584    \n",
            "                                                                 \n",
            " block2_pool (MaxPooling2D)  (None, 56, 56, 128)       0         \n",
            "                                                                 \n",
            " block3_conv1 (Conv2D)       (None, 56, 56, 256)       295168    \n",
            "                                                                 \n",
            " block3_conv2 (Conv2D)       (None, 56, 56, 256)       590080    \n",
            "                                                                 \n",
            " block3_conv3 (Conv2D)       (None, 56, 56, 256)       590080    \n",
            "                                                                 \n",
            " block3_pool (MaxPooling2D)  (None, 28, 28, 256)       0         \n",
            "                                                                 \n",
            " block4_conv1 (Conv2D)       (None, 28, 28, 512)       1180160   \n",
            "                                                                 \n",
            " block4_conv2 (Conv2D)       (None, 28, 28, 512)       2359808   \n",
            "                                                                 \n",
            " block4_conv3 (Conv2D)       (None, 28, 28, 512)       2359808   \n",
            "                                                                 \n",
            " block4_pool (MaxPooling2D)  (None, 14, 14, 512)       0         \n",
            "                                                                 \n",
            " block5_conv1 (Conv2D)       (None, 14, 14, 512)       2359808   \n",
            "                                                                 \n",
            " block5_conv2 (Conv2D)       (None, 14, 14, 512)       2359808   \n",
            "                                                                 \n",
            " block5_conv3 (Conv2D)       (None, 14, 14, 512)       2359808   \n",
            "                                                                 \n",
            " block5_pool (MaxPooling2D)  (None, 7, 7, 512)         0         \n",
            "                                                                 \n",
            "=================================================================\n",
            "Total params: 14,714,688\n",
            "Trainable params: 14,714,688\n",
            "Non-trainable params: 0\n",
            "_________________________________________________________________\n"
          ]
        }
      ],
      "source": [
        "conv_base.summary()"
      ]
    },
    {
      "cell_type": "code",
      "execution_count": 24,
      "metadata": {
        "id": "SPfa-BxXIxx7"
      },
      "outputs": [],
      "source": [
        "model = keras.models.Sequential()\n",
        "model.add(conv_base)\n",
        "model.add(keras.layers.Flatten())\n",
        "model.add(keras.layers.Dense(256, activation='relu'))\n",
        "model.add(keras.layers.Dense(3, activation='softmax'))\n",
        "\n"
      ]
    },
    {
      "cell_type": "code",
      "execution_count": 25,
      "metadata": {
        "colab": {
          "base_uri": "https://localhost:8080/"
        },
        "id": "bDBxETADe8jD",
        "outputId": "5f5ba605-cda7-4774-a4fe-512a5b484b65"
      },
      "outputs": [
        {
          "name": "stderr",
          "output_type": "stream",
          "text": [
            "/usr/local/lib/python3.7/dist-packages/keras/optimizer_v2/rmsprop.py:130: UserWarning: The `lr` argument is deprecated, use `learning_rate` instead.\n",
            "  super(RMSprop, self).__init__(name, **kwargs)\n"
          ]
        }
      ],
      "source": [
        "# model = models.Sequential()\n",
        "# model.add(layers.Conv2D(32, (3, 3), activation='relu',\n",
        "#                         input_shape=(150, 150, 3)))\n",
        "# model.add(layers.MaxPooling2D((2, 2)))\n",
        "# model.add(layers.Conv2D(64, (3, 3), activation='relu'))\n",
        "# model.add(layers.MaxPooling2D((2, 2)))\n",
        "# model.add(layers.Conv2D(128, (3, 3), activation='relu'))\n",
        "# model.add(layers.MaxPooling2D((2, 2)))\n",
        "# model.add(layers.Conv2D(128, (3, 3), activation='relu'))\n",
        "# model.add(layers.MaxPooling2D((2, 2)))\n",
        "# model.add(layers.Flatten())\n",
        "# model.add(layers.Dropout(0.5))\n",
        "# model.add(layers.Dense(512, activation='relu'))\n",
        "# model.add(layers.Dense(3, activation='softmax'))\n",
        "\n",
        "model.compile(loss='categorical_crossentropy',\n",
        "              optimizer=optimizers.RMSprop(lr=1e-5),\n",
        "              metrics=['acc',tf.keras.metrics.Recall(),tf.keras.metrics.Precision()])"
      ]
    },
    {
      "cell_type": "code",
      "execution_count": 25,
      "metadata": {
        "id": "qB0BSqiFIxvN"
      },
      "outputs": [],
      "source": []
    },
    {
      "cell_type": "code",
      "execution_count": 26,
      "metadata": {
        "colab": {
          "base_uri": "https://localhost:8080/"
        },
        "id": "pZWLWDwPIxsL",
        "outputId": "23e732c1-a293-4e76-988a-9d308082993d"
      },
      "outputs": [
        {
          "name": "stdout",
          "output_type": "stream",
          "text": [
            "/content/gdrive/MyDrive\n"
          ]
        }
      ],
      "source": [
        "%cd /content/gdrive/MyDrive/"
      ]
    },
    {
      "cell_type": "code",
      "execution_count": 26,
      "metadata": {
        "id": "9SPJWRvYIxmB"
      },
      "outputs": [],
      "source": []
    },
    {
      "cell_type": "code",
      "execution_count": 26,
      "metadata": {
        "id": "b4D4xfzYIxiT"
      },
      "outputs": [],
      "source": []
    },
    {
      "cell_type": "code",
      "execution_count": 27,
      "metadata": {
        "id": "4EXrUrX_BgEO"
      },
      "outputs": [],
      "source": [
        "checkpoint_cb = keras.callbacks.ModelCheckpoint(\n",
        "    \"/content/gdrive/MyDrive/model.h5\", save_best_only=True)\n",
        "earlystop_cb = keras.callbacks.EarlyStopping(\n",
        "    patience=5, restore_best_weights=True)\n"
      ]
    },
    {
      "cell_type": "code",
      "execution_count": 28,
      "metadata": {
        "colab": {
          "base_uri": "https://localhost:8080/"
        },
        "id": "gMjWqC11BgBf",
        "outputId": "f6dd7f45-433c-4316-c7b1-e63b08e315bc"
      },
      "outputs": [
        {
          "name": "stdout",
          "output_type": "stream",
          "text": [
            "Model: \"sequential\"\n",
            "_________________________________________________________________\n",
            " Layer (type)                Output Shape              Param #   \n",
            "=================================================================\n",
            " vgg16 (Functional)          (None, 7, 7, 512)         14714688  \n",
            "                                                                 \n",
            " flatten (Flatten)           (None, 25088)             0         \n",
            "                                                                 \n",
            " dense (Dense)               (None, 256)               6422784   \n",
            "                                                                 \n",
            " dense_1 (Dense)             (None, 3)                 771       \n",
            "                                                                 \n",
            "=================================================================\n",
            "Total params: 21,138,243\n",
            "Trainable params: 21,138,243\n",
            "Non-trainable params: 0\n",
            "_________________________________________________________________\n"
          ]
        }
      ],
      "source": [
        "model.summary(0)\n"
      ]
    },
    {
      "cell_type": "code",
      "execution_count": 29,
      "metadata": {
        "colab": {
          "base_uri": "https://localhost:8080/"
        },
        "id": "NfgjeN5mBf-u",
        "outputId": "8479c012-680e-40c6-ca50-545589f44188"
      },
      "outputs": [
        {
          "name": "stdout",
          "output_type": "stream",
          "text": [
            "Epoch 1/50\n",
            "260/260 [==============================] - 207s 725ms/step - loss: 0.9950 - acc: 0.5249 - recall: 0.3643 - precision: 0.5471 - val_loss: 0.9631 - val_acc: 0.5250 - val_recall: 0.3533 - val_precision: 0.5668\n",
            "Epoch 2/50\n",
            "260/260 [==============================] - 185s 709ms/step - loss: 0.9476 - acc: 0.5390 - recall: 0.3774 - precision: 0.5721 - val_loss: 0.9788 - val_acc: 0.5258 - val_recall: 0.4667 - val_precision: 0.5432\n",
            "Epoch 3/50\n",
            "260/260 [==============================] - 187s 717ms/step - loss: 0.9103 - acc: 0.5559 - recall: 0.4129 - precision: 0.5975 - val_loss: 0.9424 - val_acc: 0.5167 - val_recall: 0.3650 - val_precision: 0.5455\n",
            "Epoch 4/50\n",
            "260/260 [==============================] - 183s 703ms/step - loss: 0.8736 - acc: 0.5738 - recall: 0.4498 - precision: 0.6238 - val_loss: 1.0153 - val_acc: 0.5375 - val_recall: 0.5183 - val_precision: 0.5451\n",
            "Epoch 5/50\n",
            "260/260 [==============================] - 186s 713ms/step - loss: 0.8389 - acc: 0.6025 - recall: 0.4945 - precision: 0.6436 - val_loss: 0.8533 - val_acc: 0.5983 - val_recall: 0.4708 - val_precision: 0.6391\n",
            "Epoch 6/50\n",
            "260/260 [==============================] - 184s 707ms/step - loss: 0.8177 - acc: 0.6224 - recall: 0.5159 - precision: 0.6653 - val_loss: 0.8867 - val_acc: 0.5742 - val_recall: 0.5242 - val_precision: 0.5973\n",
            "Epoch 7/50\n",
            "260/260 [==============================] - 185s 711ms/step - loss: 0.7775 - acc: 0.6370 - recall: 0.5446 - precision: 0.6788 - val_loss: 0.8254 - val_acc: 0.6175 - val_recall: 0.4875 - val_precision: 0.6842\n",
            "Epoch 8/50\n",
            "260/260 [==============================] - 185s 709ms/step - loss: 0.7621 - acc: 0.6559 - recall: 0.5588 - precision: 0.6991 - val_loss: 0.8169 - val_acc: 0.6183 - val_recall: 0.5342 - val_precision: 0.6629\n",
            "Epoch 9/50\n",
            "260/260 [==============================] - 186s 713ms/step - loss: 0.7235 - acc: 0.6696 - recall: 0.5966 - precision: 0.7200 - val_loss: 0.8152 - val_acc: 0.6258 - val_recall: 0.5575 - val_precision: 0.6630\n",
            "Epoch 10/50\n",
            "260/260 [==============================] - 184s 707ms/step - loss: 0.6926 - acc: 0.6853 - recall: 0.6079 - precision: 0.7299 - val_loss: 0.8312 - val_acc: 0.6342 - val_recall: 0.5842 - val_precision: 0.6570\n",
            "Epoch 11/50\n",
            "260/260 [==============================] - 187s 717ms/step - loss: 0.6549 - acc: 0.7083 - recall: 0.6418 - precision: 0.7525 - val_loss: 0.7918 - val_acc: 0.6625 - val_recall: 0.6017 - val_precision: 0.6962\n",
            "Epoch 12/50\n",
            "260/260 [==============================] - 186s 712ms/step - loss: 0.6221 - acc: 0.7264 - recall: 0.6661 - precision: 0.7653 - val_loss: 0.7455 - val_acc: 0.6767 - val_recall: 0.5975 - val_precision: 0.7113\n",
            "Epoch 13/50\n",
            "260/260 [==============================] - 185s 709ms/step - loss: 0.5971 - acc: 0.7422 - recall: 0.6836 - precision: 0.7807 - val_loss: 0.8185 - val_acc: 0.6758 - val_recall: 0.6300 - val_precision: 0.6910\n",
            "Epoch 14/50\n",
            "260/260 [==============================] - 184s 708ms/step - loss: 0.5791 - acc: 0.7510 - recall: 0.7015 - precision: 0.7890 - val_loss: 0.7818 - val_acc: 0.6683 - val_recall: 0.6108 - val_precision: 0.6994\n",
            "Epoch 15/50\n",
            "260/260 [==============================] - 185s 712ms/step - loss: 0.5258 - acc: 0.7757 - recall: 0.7319 - precision: 0.8101 - val_loss: 0.7287 - val_acc: 0.7042 - val_recall: 0.6517 - val_precision: 0.7455\n",
            "Epoch 16/50\n",
            "260/260 [==============================] - 183s 703ms/step - loss: 0.5022 - acc: 0.7866 - recall: 0.7437 - precision: 0.8165 - val_loss: 0.8297 - val_acc: 0.6625 - val_recall: 0.6083 - val_precision: 0.7012\n",
            "Epoch 17/50\n",
            "260/260 [==============================] - 185s 708ms/step - loss: 0.4751 - acc: 0.8051 - recall: 0.7683 - precision: 0.8356 - val_loss: 0.8008 - val_acc: 0.7008 - val_recall: 0.6683 - val_precision: 0.7278\n",
            "Epoch 18/50\n",
            "260/260 [==============================] - 184s 708ms/step - loss: 0.4536 - acc: 0.8132 - recall: 0.7795 - precision: 0.8419 - val_loss: 0.8335 - val_acc: 0.6858 - val_recall: 0.6483 - val_precision: 0.7125\n",
            "Epoch 19/50\n",
            "260/260 [==============================] - 184s 707ms/step - loss: 0.4310 - acc: 0.8215 - recall: 0.7930 - precision: 0.8447 - val_loss: 0.9116 - val_acc: 0.6950 - val_recall: 0.6583 - val_precision: 0.7288\n",
            "Epoch 20/50\n",
            "260/260 [==============================] - 183s 704ms/step - loss: 0.4069 - acc: 0.8361 - recall: 0.8059 - precision: 0.8608 - val_loss: 0.7609 - val_acc: 0.7208 - val_recall: 0.6933 - val_precision: 0.7415\n",
            "Epoch 21/50\n",
            "260/260 [==============================] - 184s 707ms/step - loss: 0.3700 - acc: 0.8513 - recall: 0.8246 - precision: 0.8744 - val_loss: 0.8412 - val_acc: 0.7367 - val_recall: 0.7133 - val_precision: 0.7542\n",
            "Epoch 22/50\n",
            "260/260 [==============================] - 184s 707ms/step - loss: 0.3536 - acc: 0.8542 - recall: 0.8332 - precision: 0.8773 - val_loss: 1.0752 - val_acc: 0.6958 - val_recall: 0.6817 - val_precision: 0.7076\n",
            "Epoch 23/50\n",
            "260/260 [==============================] - 184s 707ms/step - loss: 0.3336 - acc: 0.8692 - recall: 0.8469 - precision: 0.8897 - val_loss: 0.8910 - val_acc: 0.7233 - val_recall: 0.7033 - val_precision: 0.7346\n",
            "Epoch 24/50\n",
            "260/260 [==============================] - 183s 704ms/step - loss: 0.3216 - acc: 0.8710 - recall: 0.8535 - precision: 0.8910 - val_loss: 0.9817 - val_acc: 0.7292 - val_recall: 0.7075 - val_precision: 0.7402\n",
            "Epoch 25/50\n",
            "260/260 [==============================] - 184s 707ms/step - loss: 0.2985 - acc: 0.8833 - recall: 0.8669 - precision: 0.8986 - val_loss: 0.9044 - val_acc: 0.7308 - val_recall: 0.7083 - val_precision: 0.7476\n",
            "Epoch 26/50\n",
            "260/260 [==============================] - 184s 707ms/step - loss: 0.2812 - acc: 0.8947 - recall: 0.8777 - precision: 0.9085 - val_loss: 0.9709 - val_acc: 0.6850 - val_recall: 0.6575 - val_precision: 0.7001\n",
            "Epoch 27/50\n",
            "260/260 [==============================] - 184s 708ms/step - loss: 0.2697 - acc: 0.8960 - recall: 0.8804 - precision: 0.9097 - val_loss: 0.9591 - val_acc: 0.7508 - val_recall: 0.7400 - val_precision: 0.7635\n",
            "Epoch 28/50\n",
            "260/260 [==============================] - 183s 703ms/step - loss: 0.2681 - acc: 0.8968 - recall: 0.8808 - precision: 0.9093 - val_loss: 1.1982 - val_acc: 0.7258 - val_recall: 0.7100 - val_precision: 0.7364\n",
            "Epoch 29/50\n",
            "260/260 [==============================] - 184s 707ms/step - loss: 0.2505 - acc: 0.9031 - recall: 0.8912 - precision: 0.9152 - val_loss: 1.0128 - val_acc: 0.7450 - val_recall: 0.7350 - val_precision: 0.7584\n",
            "Epoch 30/50\n",
            "260/260 [==============================] - 184s 707ms/step - loss: 0.2370 - acc: 0.9133 - recall: 0.8995 - precision: 0.9251 - val_loss: 1.0318 - val_acc: 0.7283 - val_recall: 0.7142 - val_precision: 0.7420\n",
            "Epoch 31/50\n",
            "260/260 [==============================] - 184s 706ms/step - loss: 0.2282 - acc: 0.9166 - recall: 0.9068 - precision: 0.9261 - val_loss: 0.9590 - val_acc: 0.7392 - val_recall: 0.7225 - val_precision: 0.7487\n",
            "Epoch 32/50\n",
            "260/260 [==============================] - 183s 703ms/step - loss: 0.2079 - acc: 0.9184 - recall: 0.9118 - precision: 0.9272 - val_loss: 1.6942 - val_acc: 0.7283 - val_recall: 0.7267 - val_precision: 0.7334\n",
            "Epoch 33/50\n",
            "260/260 [==============================] - 185s 711ms/step - loss: 0.2087 - acc: 0.9195 - recall: 0.9108 - precision: 0.9302 - val_loss: 1.0023 - val_acc: 0.7408 - val_recall: 0.7325 - val_precision: 0.7474\n",
            "Epoch 34/50\n",
            "260/260 [==============================] - 184s 708ms/step - loss: 0.1928 - acc: 0.9282 - recall: 0.9187 - precision: 0.9359 - val_loss: 1.0430 - val_acc: 0.7533 - val_recall: 0.7475 - val_precision: 0.7634\n",
            "Epoch 35/50\n",
            "260/260 [==============================] - 184s 707ms/step - loss: 0.1896 - acc: 0.9289 - recall: 0.9203 - precision: 0.9361 - val_loss: 1.1405 - val_acc: 0.7500 - val_recall: 0.7450 - val_precision: 0.7551\n",
            "Epoch 36/50\n",
            "260/260 [==============================] - 183s 703ms/step - loss: 0.1796 - acc: 0.9345 - recall: 0.9251 - precision: 0.9409 - val_loss: 1.1109 - val_acc: 0.7467 - val_recall: 0.7358 - val_precision: 0.7502\n",
            "Epoch 37/50\n",
            "260/260 [==============================] - 184s 707ms/step - loss: 0.1713 - acc: 0.9361 - recall: 0.9305 - precision: 0.9404 - val_loss: 1.5059 - val_acc: 0.7442 - val_recall: 0.7358 - val_precision: 0.7477\n",
            "Epoch 38/50\n",
            "260/260 [==============================] - 184s 707ms/step - loss: 0.1665 - acc: 0.9397 - recall: 0.9343 - precision: 0.9464 - val_loss: 1.2125 - val_acc: 0.7333 - val_recall: 0.7275 - val_precision: 0.7405\n",
            "Epoch 39/50\n",
            "260/260 [==============================] - 184s 707ms/step - loss: 0.1692 - acc: 0.9413 - recall: 0.9361 - precision: 0.9454 - val_loss: 1.3189 - val_acc: 0.7492 - val_recall: 0.7417 - val_precision: 0.7542\n",
            "Epoch 40/50\n",
            "260/260 [==============================] - 183s 703ms/step - loss: 0.1605 - acc: 0.9403 - recall: 0.9351 - precision: 0.9447 - val_loss: 1.2269 - val_acc: 0.7500 - val_recall: 0.7408 - val_precision: 0.7566\n",
            "Epoch 41/50\n",
            "260/260 [==============================] - 184s 706ms/step - loss: 0.1437 - acc: 0.9461 - recall: 0.9409 - precision: 0.9508 - val_loss: 1.1784 - val_acc: 0.7467 - val_recall: 0.7408 - val_precision: 0.7547\n",
            "Epoch 42/50\n",
            "260/260 [==============================] - 184s 707ms/step - loss: 0.1505 - acc: 0.9426 - recall: 0.9391 - precision: 0.9477 - val_loss: 1.1956 - val_acc: 0.7517 - val_recall: 0.7433 - val_precision: 0.7572\n",
            "Epoch 43/50\n",
            "260/260 [==============================] - 184s 708ms/step - loss: 0.1390 - acc: 0.9530 - recall: 0.9490 - precision: 0.9569 - val_loss: 1.3266 - val_acc: 0.7492 - val_recall: 0.7458 - val_precision: 0.7566\n",
            "Epoch 44/50\n",
            "260/260 [==============================] - 183s 703ms/step - loss: 0.1455 - acc: 0.9509 - recall: 0.9470 - precision: 0.9542 - val_loss: 1.3056 - val_acc: 0.7267 - val_recall: 0.7175 - val_precision: 0.7284\n",
            "Epoch 45/50\n",
            "260/260 [==============================] - 184s 708ms/step - loss: 0.1420 - acc: 0.9499 - recall: 0.9455 - precision: 0.9553 - val_loss: 1.1680 - val_acc: 0.7500 - val_recall: 0.7408 - val_precision: 0.7585\n",
            "Epoch 46/50\n",
            "260/260 [==============================] - 184s 708ms/step - loss: 0.1331 - acc: 0.9538 - recall: 0.9507 - precision: 0.9583 - val_loss: 1.3482 - val_acc: 0.7692 - val_recall: 0.7625 - val_precision: 0.7741\n",
            "Epoch 47/50\n",
            "260/260 [==============================] - 184s 707ms/step - loss: 0.1383 - acc: 0.9536 - recall: 0.9497 - precision: 0.9575 - val_loss: 1.1022 - val_acc: 0.7683 - val_recall: 0.7608 - val_precision: 0.7744\n",
            "Epoch 48/50\n",
            "260/260 [==============================] - 183s 703ms/step - loss: 0.1284 - acc: 0.9551 - recall: 0.9515 - precision: 0.9590 - val_loss: 1.5307 - val_acc: 0.7650 - val_recall: 0.7583 - val_precision: 0.7686\n",
            "Epoch 49/50\n",
            "260/260 [==============================] - 185s 708ms/step - loss: 0.1197 - acc: 0.9574 - recall: 0.9549 - precision: 0.9610 - val_loss: 1.5366 - val_acc: 0.7642 - val_recall: 0.7625 - val_precision: 0.7670\n",
            "Epoch 50/50\n",
            "260/260 [==============================] - 184s 706ms/step - loss: 0.1220 - acc: 0.9569 - recall: 0.9528 - precision: 0.9591 - val_loss: 1.6591 - val_acc: 0.7300 - val_recall: 0.7275 - val_precision: 0.7342\n"
          ]
        }
      ],
      "source": [
        "history = model.fit(train_generator,\n",
        "                    steps_per_epoch=260,\n",
        "                    epochs=50,\n",
        "                    validation_data=valid_generator,\n",
        "                    validation_steps=60,\n",
        "                    callbacks=[checkpoint_cb])\n"
      ]
    },
    {
      "cell_type": "code",
      "execution_count": 30,
      "metadata": {
        "colab": {
          "base_uri": "https://localhost:8080/",
          "height": 596
        },
        "id": "MhSs88SOBf7_",
        "outputId": "4887033c-a885-41d7-99e4-86f189c21fd2"
      },
      "outputs": [
        {
          "data": {
            "image/png": "[encoded data removed]",
            "text/plain": [
              "<Figure size 720x720 with 1 Axes>"
            ]
          },
          "metadata": {
            "needs_background": "light"
          },
          "output_type": "display_data"
        }
      ],
      "source": [
        "pd.DataFrame(history.history).plot(figsize=(10, 10))\n",
        "plt.ylim((0,2))\n",
        "plt.grid(True)\n",
        "plt.show()"
      ]
    },
    {
      "cell_type": "code",
      "execution_count": 31,
      "metadata": {
        "colab": {
          "base_uri": "https://localhost:8080/"
        },
        "id": "Jb_oN7wQBf5A",
        "outputId": "a9c3bf66-3854-4d5b-cf98-8d6708c4427c"
      },
      "outputs": [
        {
          "name": "stdout",
          "output_type": "stream",
          "text": [
            "83/83 [==============================] - 21s 254ms/step - loss: 1.5341 - acc: 0.7506 - recall: 0.7470 - precision: 0.7548\n"
          ]
        },
        {
          "data": {
            "text/plain": [
              "[1.534058928489685, 0.7506082653999329, 0.7469586133956909, 0.7547633647918701]"
            ]
          },
          "execution_count": 31,
          "metadata": {},
          "output_type": "execute_result"
        }
      ],
      "source": [
        "model.evaluate(test_generator)"
      ]
    },
    {
      "cell_type": "code",
      "execution_count": 31,
      "metadata": {
        "id": "OCKXMlD6Bfzn"
      },
      "outputs": [],
      "source": []
    },
    {
      "cell_type": "code",
      "execution_count": 31,
      "metadata": {
        "id": "asmCecks8XRR"
      },
      "outputs": [],
      "source": []
    },
    {
      "cell_type": "code",
      "execution_count": 32,
      "metadata": {
        "colab": {
          "base_uri": "https://localhost:8080/"
        },
        "id": "NNUNQXk2PqeA",
        "outputId": "0ff471ac-600e-411f-d7c7-31e7fd42cf69"
      },
      "outputs": [
        {
          "data": {
            "text/plain": [
              "array([[221,  55,  12],\n",
              "       [ 86, 738,  46],\n",
              "       [ 31, 180, 275]])"
            ]
          },
          "execution_count": 32,
          "metadata": {},
          "output_type": "execute_result"
        }
      ],
      "source": [
        "x=model.predict(test_generator)\n",
        "actual=test_generator.labels\n",
        "pred=np.argmax(x, axis=1)\n",
        "from sklearn.metrics import confusion_matrix\n",
        "confusion_matrix(actual,pred)"
      ]
    },
    {
      "cell_type": "code",
      "execution_count": 32,
      "metadata": {
        "id": "vI37RxC5UTay"
      },
      "outputs": [],
      "source": []
    }
  ],
  "metadata": {
    "accelerator": "GPU",
    "colab": {
      "collapsed_sections": [],
      "name": "VGG16 AGCCPF.ipynb",
      "provenance": []
    },
    "kernelspec": {
      "display_name": "Python 3",
      "language": "python",
      "name": "python3"
    },
    "language_info": {
      "codemirror_mode": {
        "name": "ipython",
        "version": 3
      },
      "file_extension": ".py",
      "mimetype": "text/x-python",
      "name": "python",
      "nbconvert_exporter": "python",
      "pygments_lexer": "ipython3",
      "version": "3.8.5"
    }
  },
  "nbformat": 4,
  "nbformat_minor": 0
}
