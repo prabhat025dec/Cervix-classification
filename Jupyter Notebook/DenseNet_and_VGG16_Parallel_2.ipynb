{
 "cells": [
  {
   "cell_type": "code",
   "execution_count": 1,
   "metadata": {},
   "outputs": [],
   "source": [
    "!module purge\n",
    "!module load apps/anaconda3\n",
    "!module load compilers/nvidia/cuda/11.2\n",
    "!module load compilers/gcc/8.3.0"
   ]
  },
  {
   "cell_type": "code",
   "execution_count": 2,
   "metadata": {
    "colab": {
     "base_uri": "https://localhost:8080/"
    },
    "executionInfo": {
     "elapsed": 20099,
     "status": "ok",
     "timestamp": 1649574200311,
     "user": {
      "displayName": "NIKHIL",
      "userId": "08405716228323072971"
     },
     "user_tz": -330
    },
    "id": "6apL4lLkBJdS",
    "outputId": "1cbedf1d-fe8f-4724-c2f4-5341ba0e9926"
   },
   "outputs": [],
   "source": [
    "\n",
    "import cv2\n",
    "import os\n",
    "import random"
   ]
  },
  {
   "cell_type": "code",
   "execution_count": 3,
   "metadata": {
    "executionInfo": {
     "elapsed": 712,
     "status": "ok",
     "timestamp": 1649574329096,
     "user": {
      "displayName": "NIKHIL",
      "userId": "08405716228323072971"
     },
     "user_tz": -330
    },
    "id": "F59wrFLeBgYO"
   },
   "outputs": [],
   "source": [
    "import matplotlib.pyplot as plt\n",
    "import matplotlib as mpl\n",
    "import numpy as np\n",
    "import pandas as pd\n",
    "%matplotlib inline"
   ]
  },
  {
   "cell_type": "code",
   "execution_count": 4,
   "metadata": {
    "executionInfo": {
     "elapsed": 3059,
     "status": "ok",
     "timestamp": 1649574332152,
     "user": {
      "displayName": "NIKHIL",
      "userId": "08405716228323072971"
     },
     "user_tz": -330
    },
    "id": "5OM6rQxpBgUy"
   },
   "outputs": [],
   "source": [
    "import tensorflow as tf\n",
    "import tensorflow.keras as keras\n"
   ]
  },
  {
   "cell_type": "code",
   "execution_count": 5,
   "metadata": {
    "colab": {
     "base_uri": "https://localhost:8080/",
     "height": 36
    },
    "executionInfo": {
     "elapsed": 10,
     "status": "ok",
     "timestamp": 1649574332153,
     "user": {
      "displayName": "NIKHIL",
      "userId": "08405716228323072971"
     },
     "user_tz": -330
    },
    "id": "_hBZjOnK4M82",
    "outputId": "8ea47a63-19a5-4115-d11a-c91db40c509b"
   },
   "outputs": [
    {
     "data": {
      "text/plain": [
       "'2.7.0'"
      ]
     },
     "execution_count": 5,
     "metadata": {},
     "output_type": "execute_result"
    }
   ],
   "source": [
    "tf.__version__"
   ]
  },
  {
   "cell_type": "code",
   "execution_count": 6,
   "metadata": {
    "executionInfo": {
     "elapsed": 6,
     "status": "ok",
     "timestamp": 1649574332153,
     "user": {
      "displayName": "NIKHIL",
      "userId": "08405716228323072971"
     },
     "user_tz": -330
    },
    "id": "VdU5cuUdBgR-"
   },
   "outputs": [],
   "source": [
    "tf.random.set_seed(42)\n",
    "np.random.seed(42)\n"
   ]
  },
  {
   "cell_type": "code",
   "execution_count": 7,
   "metadata": {
    "executionInfo": {
     "elapsed": 5,
     "status": "ok",
     "timestamp": 1649574332153,
     "user": {
      "displayName": "NIKHIL",
      "userId": "08405716228323072971"
     },
     "user_tz": -330
    },
    "id": "oQ8IUIQ8BgPR"
   },
   "outputs": [],
   "source": [
    "train_dir = \"/home/191112024/splited_dataset/AGCCPF/train\"\n",
    "test_dir = \"/home/191112024/splited_dataset/AGCCPF/test\"\n",
    "valid_dir = \"/home/191112024/splited_dataset/AGCCPF/validate\"\n"
   ]
  },
  {
   "cell_type": "code",
   "execution_count": 8,
   "metadata": {
    "executionInfo": {
     "elapsed": 6,
     "status": "ok",
     "timestamp": 1649574332154,
     "user": {
      "displayName": "NIKHIL",
      "userId": "08405716228323072971"
     },
     "user_tz": -330
    },
    "id": "qpxzCWqmBgMf"
   },
   "outputs": [],
   "source": [
    "from keras.preprocessing.image import ImageDataGenerator"
   ]
  },
  {
   "cell_type": "code",
   "execution_count": 9,
   "metadata": {
    "executionInfo": {
     "elapsed": 6,
     "status": "ok",
     "timestamp": 1649574332154,
     "user": {
      "displayName": "NIKHIL",
      "userId": "08405716228323072971"
     },
     "user_tz": -330
    },
    "id": "mVlMS8YeBgJ-"
   },
   "outputs": [],
   "source": [
    "train_datagen = ImageDataGenerator(\n",
    "    rescale=1./255,\n",
    "    rotation_range=30,\n",
    "    width_shift_range=0.2,\n",
    "    height_shift_range=0.2,\n",
    "    shear_range=0.2,\n",
    "    zoom_range=0.2,\n",
    "    horizontal_flip=False)\n",
    "test_datagen = ImageDataGenerator(rescale=1./255)"
   ]
  },
  {
   "cell_type": "code",
   "execution_count": 10,
   "metadata": {
    "executionInfo": {
     "elapsed": 3,
     "status": "ok",
     "timestamp": 1649574333114,
     "user": {
      "displayName": "NIKHIL",
      "userId": "08405716228323072971"
     },
     "user_tz": -330
    },
    "id": "dkPxqWbyVZ8w"
   },
   "outputs": [],
   "source": [
    "# !unzip AGCCPF.zip"
   ]
  },
  {
   "cell_type": "code",
   "execution_count": 11,
   "metadata": {
    "colab": {
     "base_uri": "https://localhost:8080/"
    },
    "executionInfo": {
     "elapsed": 17230,
     "status": "ok",
     "timestamp": 1649574350819,
     "user": {
      "displayName": "NIKHIL",
      "userId": "08405716228323072971"
     },
     "user_tz": -330
    },
    "id": "QBWrLPIeBgG-",
    "outputId": "7bf3a692-9a0b-4e86-9752-85eb50ca2ba4"
   },
   "outputs": [
    {
     "name": "stdout",
     "output_type": "stream",
     "text": [
      "Found 5253 images belonging to 3 classes.\n",
      "Found 1315 images belonging to 3 classes.\n",
      "Found 1644 images belonging to 3 classes.\n"
     ]
    }
   ],
   "source": [
    "\n",
    "train_generator = train_datagen.flow_from_directory(\n",
    "        train_dir,\n",
    "        target_size=(224, 224),\n",
    "        batch_size=20,\n",
    "        class_mode='categorical',\n",
    "        shuffle=True\n",
    "        )\n",
    "\n",
    "valid_generator = test_datagen.flow_from_directory(\n",
    "        valid_dir,\n",
    "        target_size=(224, 224),\n",
    "        batch_size=20,\n",
    "        class_mode='categorical',\n",
    "        shuffle=True\n",
    "        )\n",
    "\n",
    "test_generator = test_datagen.flow_from_directory(\n",
    "        test_dir,\n",
    "        target_size=(224, 224),\n",
    "        batch_size=20,\n",
    "        class_mode='categorical',\n",
    "        shuffle=False\n",
    "        )"
   ]
  },
  {
   "cell_type": "code",
   "execution_count": 10,
   "metadata": {
    "executionInfo": {
     "elapsed": 335,
     "status": "ok",
     "timestamp": 1649574354044,
     "user": {
      "displayName": "NIKHIL",
      "userId": "08405716228323072971"
     },
     "user_tz": -330
    },
    "id": "be2MaA9-IUdd"
   },
   "outputs": [],
   "source": []
  },
  {
   "cell_type": "code",
   "execution_count": 12,
   "metadata": {
    "executionInfo": {
     "elapsed": 349,
     "status": "ok",
     "timestamp": 1649574354772,
     "user": {
      "displayName": "NIKHIL",
      "userId": "08405716228323072971"
     },
     "user_tz": -330
    },
    "id": "Vn80dmJEHb_K"
   },
   "outputs": [],
   "source": [
    "from tensorflow.keras import layers\n",
    "from tensorflow.keras import models"
   ]
  },
  {
   "cell_type": "code",
   "execution_count": 13,
   "metadata": {
    "executionInfo": {
     "elapsed": 713,
     "status": "ok",
     "timestamp": 1649574356812,
     "user": {
      "displayName": "NIKHIL",
      "userId": "08405716228323072971"
     },
     "user_tz": -330
    },
    "id": "HjZAgItjHb4X"
   },
   "outputs": [],
   "source": [
    "from tensorflow.keras import optimizers"
   ]
  },
  {
   "cell_type": "code",
   "execution_count": 14,
   "metadata": {
    "executionInfo": {
     "elapsed": 5452,
     "status": "ok",
     "timestamp": 1649574968440,
     "user": {
      "displayName": "NIKHIL",
      "userId": "08405716228323072971"
     },
     "user_tz": -330
    },
    "id": "osJjtxI0HHk1"
   },
   "outputs": [],
   "source": [
    "input_layer=layers.Input((224, 224, 3))\n",
    "from tensorflow.keras.applications import VGG16,DenseNet121\n",
    "conv_base_1 = VGG16(weights='imagenet',\n",
    "                  include_top=False,\n",
    "                  input_shape=(224, 224, 3))(input_layer)\n",
    "\n",
    "\n",
    "# conv_base = EfficientNetB7(weights='imagenet',\n",
    "#                   include_top=False,\n",
    "#                   input_shape=(200, 200, 3))\n",
    "\n",
    "conv_base_2 = DenseNet121(weights='imagenet',\n",
    "                  include_top=False,\n",
    "                  input_shape=(224, 224, 3))(input_layer)\n",
    "\n",
    "# conv_base = MobileNetV2(weights='imagenet',\n",
    "#                   include_top=False,\n",
    "#                   input_shape=(224, 224, 3))"
   ]
  },
  {
   "cell_type": "code",
   "execution_count": 17,
   "metadata": {
    "executionInfo": {
     "elapsed": 401,
     "status": "ok",
     "timestamp": 1649574971563,
     "user": {
      "displayName": "NIKHIL",
      "userId": "08405716228323072971"
     },
     "user_tz": -330
    },
    "id": "55R8Y-_SHHfm"
   },
   "outputs": [],
   "source": []
  },
  {
   "cell_type": "code",
   "execution_count": 15,
   "metadata": {
    "executionInfo": {
     "elapsed": 344,
     "status": "ok",
     "timestamp": 1649575096217,
     "user": {
      "displayName": "NIKHIL",
      "userId": "08405716228323072971"
     },
     "user_tz": -330
    },
    "id": "SPfa-BxXIxx7"
   },
   "outputs": [],
   "source": [
    "# model_1 = keras.models.Sequential()\n",
    "model_1=conv_base_1\n",
    "model_1=keras.layers.GlobalAveragePooling2D()(model_1)\n",
    "model_1=keras.layers.Dense(3, activation='relu')(model_1)\n",
    "\n",
    "# model_2 = keras.models.Sequential()\n",
    "model_2=conv_base_2\n",
    "model_2=keras.layers.GlobalAveragePooling2D()(model_2)\n",
    "model_2=keras.layers.Dense(3, activation='relu')(model_2)\n",
    "\n",
    "merge=layers.Concatenate()([model_1,model_2])\n",
    "result=layers.Dense(3, activation='softmax')(merge)\n",
    "\n",
    "model=keras.models.Model(input_layer,result)\n",
    "\n"
   ]
  },
  {
   "cell_type": "code",
   "execution_count": 16,
   "metadata": {
    "colab": {
     "base_uri": "https://localhost:8080/"
    },
    "executionInfo": {
     "elapsed": 362,
     "status": "ok",
     "timestamp": 1649575101316,
     "user": {
      "displayName": "NIKHIL",
      "userId": "08405716228323072971"
     },
     "user_tz": -330
    },
    "id": "bDBxETADe8jD",
    "outputId": "13e851a1-3966-4f2b-ad9e-2e80ec613b5d"
   },
   "outputs": [
    {
     "name": "stderr",
     "output_type": "stream",
     "text": [
      "/home/191112024/.local/lib/python3.8/site-packages/keras/optimizer_v2/rmsprop.py:130: UserWarning: The `lr` argument is deprecated, use `learning_rate` instead.\n",
      "  super(RMSprop, self).__init__(name, **kwargs)\n"
     ]
    }
   ],
   "source": [
    "# model = models.Sequential()\n",
    "# model.add(layers.Conv2D(32, (3, 3), activation='relu',\n",
    "#                         input_shape=(150, 150, 3)))\n",
    "# model.add(layers.MaxPooling2D((2, 2)))\n",
    "# model.add(layers.Conv2D(64, (3, 3), activation='relu'))\n",
    "# model.add(layers.MaxPooling2D((2, 2)))\n",
    "# model.add(layers.Conv2D(128, (3, 3), activation='relu'))\n",
    "# model.add(layers.MaxPooling2D((2, 2)))\n",
    "# model.add(layers.Conv2D(128, (3, 3), activation='relu'))\n",
    "# model.add(layers.MaxPooling2D((2, 2)))\n",
    "# model.add(layers.Flatten())\n",
    "# model.add(layers.Dropout(0.5))\n",
    "# model.add(layers.Dense(512, activation='relu'))\n",
    "# model.add(layers.Dense(3, activation='softmax'))\n",
    "\n",
    "model.compile(loss='categorical_crossentropy',\n",
    "              optimizer=optimizers.RMSprop(lr=1e-5),\n",
    "              metrics=['acc',tf.keras.metrics.Recall(),tf.keras.metrics.Precision()])"
   ]
  },
  {
   "cell_type": "code",
   "execution_count": 20,
   "metadata": {
    "executionInfo": {
     "elapsed": 337,
     "status": "ok",
     "timestamp": 1649575103872,
     "user": {
      "displayName": "NIKHIL",
      "userId": "08405716228323072971"
     },
     "user_tz": -330
    },
    "id": "qB0BSqiFIxvN"
   },
   "outputs": [],
   "source": []
  },
  {
   "cell_type": "code",
   "execution_count": 20,
   "metadata": {
    "executionInfo": {
     "elapsed": 2,
     "status": "ok",
     "timestamp": 1649575104327,
     "user": {
      "displayName": "NIKHIL",
      "userId": "08405716228323072971"
     },
     "user_tz": -330
    },
    "id": "pZWLWDwPIxsL"
   },
   "outputs": [],
   "source": []
  },
  {
   "cell_type": "code",
   "execution_count": 20,
   "metadata": {
    "executionInfo": {
     "elapsed": 2,
     "status": "ok",
     "timestamp": 1649575105449,
     "user": {
      "displayName": "NIKHIL",
      "userId": "08405716228323072971"
     },
     "user_tz": -330
    },
    "id": "9SPJWRvYIxmB"
   },
   "outputs": [],
   "source": []
  },
  {
   "cell_type": "code",
   "execution_count": 20,
   "metadata": {
    "executionInfo": {
     "elapsed": 3,
     "status": "ok",
     "timestamp": 1649575105822,
     "user": {
      "displayName": "NIKHIL",
      "userId": "08405716228323072971"
     },
     "user_tz": -330
    },
    "id": "b4D4xfzYIxiT"
   },
   "outputs": [],
   "source": []
  },
  {
   "cell_type": "code",
   "execution_count": 17,
   "metadata": {
    "executionInfo": {
     "elapsed": 3,
     "status": "ok",
     "timestamp": 1649575106710,
     "user": {
      "displayName": "NIKHIL",
      "userId": "08405716228323072971"
     },
     "user_tz": -330
    },
    "id": "4EXrUrX_BgEO"
   },
   "outputs": [],
   "source": [
    "checkpoint_cb = keras.callbacks.ModelCheckpoint(\n",
    "    \"MobileNet_model.h5\", save_best_only=True)\n",
    "earlystop_cb = keras.callbacks.EarlyStopping(\n",
    "    patience=5, restore_best_weights=True)\n"
   ]
  },
  {
   "cell_type": "code",
   "execution_count": 18,
   "metadata": {
    "colab": {
     "base_uri": "https://localhost:8080/"
    },
    "executionInfo": {
     "elapsed": 453,
     "status": "ok",
     "timestamp": 1649575109041,
     "user": {
      "displayName": "NIKHIL",
      "userId": "08405716228323072971"
     },
     "user_tz": -330
    },
    "id": "gMjWqC11BgBf",
    "outputId": "3fed2bdb-d55d-4e3f-9008-ca7897305630"
   },
   "outputs": [
    {
     "name": "stdout",
     "output_type": "stream",
     "text": [
      "Model: \"model\"\n",
      "__________________________________________________________________________________________________\n",
      " Layer (type)                   Output Shape         Param #     Connected to                     \n",
      "==================================================================================================\n",
      " input_1 (InputLayer)           [(None, 224, 224, 3  0           []                               \n",
      "                                )]                                                                \n",
      "                                                                                                  \n",
      " vgg16 (Functional)             (None, 7, 7, 512)    14714688    ['input_1[0][0]']                \n",
      "                                                                                                  \n",
      " densenet121 (Functional)       (None, 7, 7, 1024)   7037504     ['input_1[0][0]']                \n",
      "                                                                                                  \n",
      " global_average_pooling2d (Glob  (None, 512)         0           ['vgg16[0][0]']                  \n",
      " alAveragePooling2D)                                                                              \n",
      "                                                                                                  \n",
      " global_average_pooling2d_1 (Gl  (None, 1024)        0           ['densenet121[0][0]']            \n",
      " obalAveragePooling2D)                                                                            \n",
      "                                                                                                  \n",
      " dense (Dense)                  (None, 3)            1539        ['global_average_pooling2d[0][0]'\n",
      "                                                                 ]                                \n",
      "                                                                                                  \n",
      " dense_1 (Dense)                (None, 3)            3075        ['global_average_pooling2d_1[0][0\n",
      "                                                                 ]']                              \n",
      "                                                                                                  \n",
      " concatenate (Concatenate)      (None, 6)            0           ['dense[0][0]',                  \n",
      "                                                                  'dense_1[0][0]']                \n",
      "                                                                                                  \n",
      " dense_2 (Dense)                (None, 3)            21          ['concatenate[0][0]']            \n",
      "                                                                                                  \n",
      "==================================================================================================\n",
      "Total params: 21,756,827\n",
      "Trainable params: 21,673,179\n",
      "Non-trainable params: 83,648\n",
      "__________________________________________________________________________________________________\n"
     ]
    }
   ],
   "source": [
    "model.summary(0)\n"
   ]
  },
  {
   "cell_type": "code",
   "execution_count": 19,
   "metadata": {
    "colab": {
     "base_uri": "https://localhost:8080/"
    },
    "id": "NfgjeN5mBf-u",
    "outputId": "1c43ffc2-501b-43ac-fc18-579950295673"
   },
   "outputs": [
    {
     "name": "stdout",
     "output_type": "stream",
     "text": [
      "Epoch 1/50\n",
      "260/260 [==============================] - 828s 3s/step - loss: 1.0326 - acc: 0.5078 - recall: 0.1205 - precision: 0.6298 - val_loss: 1.0316 - val_acc: 0.4833 - val_recall: 0.1958 - val_precision: 0.6250\n",
      "Epoch 2/50\n",
      "260/260 [==============================] - 813s 3s/step - loss: 0.9873 - acc: 0.5492 - recall: 0.2552 - precision: 0.6451 - val_loss: 0.9777 - val_acc: 0.5433 - val_recall: 0.3358 - val_precision: 0.6346\n",
      "Epoch 3/50\n",
      "260/260 [==============================] - 811s 3s/step - loss: 0.9584 - acc: 0.5817 - recall: 0.2923 - precision: 0.6552 - val_loss: 0.9758 - val_acc: 0.5542 - val_recall: 0.3583 - val_precision: 0.5964\n",
      "Epoch 4/50\n",
      "260/260 [==============================] - 812s 3s/step - loss: 0.9451 - acc: 0.5937 - recall: 0.3091 - precision: 0.6613 - val_loss: 0.9513 - val_acc: 0.5717 - val_recall: 0.3767 - val_precision: 0.6278\n",
      "Epoch 5/50\n",
      "260/260 [==============================] - 809s 3s/step - loss: 0.9331 - acc: 0.6058 - recall: 0.3152 - precision: 0.6795 - val_loss: 0.9442 - val_acc: 0.5800 - val_recall: 0.3742 - val_precision: 0.6289\n",
      "Epoch 6/50\n",
      "260/260 [==============================] - 806s 3s/step - loss: 0.9135 - acc: 0.6212 - recall: 0.3401 - precision: 0.7005 - val_loss: 0.9345 - val_acc: 0.5992 - val_recall: 0.3733 - val_precision: 0.6437\n",
      "Epoch 7/50\n",
      "260/260 [==============================] - 808s 3s/step - loss: 0.9017 - acc: 0.6372 - recall: 0.3426 - precision: 0.7060 - val_loss: 0.9321 - val_acc: 0.6150 - val_recall: 0.3600 - val_precision: 0.6506\n",
      "Epoch 8/50\n",
      "260/260 [==============================] - 807s 3s/step - loss: 0.8853 - acc: 0.6565 - recall: 0.3572 - precision: 0.7292 - val_loss: 0.9193 - val_acc: 0.6058 - val_recall: 0.3875 - val_precision: 0.6414\n",
      "Epoch 9/50\n",
      "260/260 [==============================] - 808s 3s/step - loss: 0.8717 - acc: 0.6746 - recall: 0.3649 - precision: 0.7446 - val_loss: 0.9237 - val_acc: 0.6192 - val_recall: 0.3942 - val_precision: 0.6634\n",
      "Epoch 10/50\n",
      "260/260 [==============================] - 806s 3s/step - loss: 0.8606 - acc: 0.6850 - recall: 0.3742 - precision: 0.7554 - val_loss: 0.9129 - val_acc: 0.6225 - val_recall: 0.4217 - val_precision: 0.6389\n",
      "Epoch 11/50\n",
      "260/260 [==============================] - 806s 3s/step - loss: 0.8447 - acc: 0.7021 - recall: 0.3824 - precision: 0.7791 - val_loss: 0.9029 - val_acc: 0.6250 - val_recall: 0.3708 - val_precision: 0.6878\n",
      "Epoch 12/50\n",
      "260/260 [==============================] - 811s 3s/step - loss: 0.8360 - acc: 0.7113 - recall: 0.3888 - precision: 0.7868 - val_loss: 0.8871 - val_acc: 0.6525 - val_recall: 0.4058 - val_precision: 0.6755\n",
      "Epoch 13/50\n",
      "260/260 [==============================] - 806s 3s/step - loss: 0.8219 - acc: 0.7192 - recall: 0.4057 - precision: 0.7957 - val_loss: 0.8831 - val_acc: 0.6442 - val_recall: 0.3725 - val_precision: 0.6866\n",
      "Epoch 14/50\n",
      "260/260 [==============================] - 809s 3s/step - loss: 0.8100 - acc: 0.7395 - recall: 0.4161 - precision: 0.8094 - val_loss: 0.8959 - val_acc: 0.6442 - val_recall: 0.3950 - val_precision: 0.7117\n",
      "Epoch 15/50\n",
      "260/260 [==============================] - 808s 3s/step - loss: 0.8001 - acc: 0.7497 - recall: 0.4186 - precision: 0.8091 - val_loss: 0.8829 - val_acc: 0.6558 - val_recall: 0.3383 - val_precision: 0.7463\n",
      "Epoch 16/50\n",
      "260/260 [==============================] - 806s 3s/step - loss: 0.7873 - acc: 0.7578 - recall: 0.4325 - precision: 0.8191 - val_loss: 0.8610 - val_acc: 0.6758 - val_recall: 0.3783 - val_precision: 0.7311\n",
      "Epoch 17/50\n",
      "260/260 [==============================] - 807s 3s/step - loss: 0.7760 - acc: 0.7664 - recall: 0.4495 - precision: 0.8396 - val_loss: 0.8577 - val_acc: 0.6883 - val_recall: 0.4117 - val_precision: 0.7265\n",
      "Epoch 18/50\n",
      "260/260 [==============================] - 806s 3s/step - loss: 0.7629 - acc: 0.7832 - recall: 0.4935 - precision: 0.8518 - val_loss: 0.8598 - val_acc: 0.6750 - val_recall: 0.4175 - val_precision: 0.7422\n",
      "Epoch 19/50\n",
      "260/260 [==============================] - 806s 3s/step - loss: 0.7564 - acc: 0.7916 - recall: 0.5259 - precision: 0.8572 - val_loss: 0.9079 - val_acc: 0.6308 - val_recall: 0.4408 - val_precision: 0.7388\n",
      "Epoch 20/50\n",
      "260/260 [==============================] - 806s 3s/step - loss: 0.7543 - acc: 0.7915 - recall: 0.5569 - precision: 0.8539 - val_loss: 0.8348 - val_acc: 0.7000 - val_recall: 0.4717 - val_precision: 0.7370\n",
      "Epoch 21/50\n",
      "260/260 [==============================] - 807s 3s/step - loss: 0.7354 - acc: 0.8136 - recall: 0.5823 - precision: 0.8715 - val_loss: 0.8325 - val_acc: 0.6975 - val_recall: 0.4967 - val_precision: 0.7450\n",
      "Epoch 22/50\n",
      "260/260 [==============================] - 805s 3s/step - loss: 0.7251 - acc: 0.8242 - recall: 0.6154 - precision: 0.8873 - val_loss: 0.8337 - val_acc: 0.7117 - val_recall: 0.4933 - val_precision: 0.7619\n",
      "Epoch 23/50\n",
      "260/260 [==============================] - 807s 3s/step - loss: 0.7241 - acc: 0.8203 - recall: 0.6231 - precision: 0.8837 - val_loss: 0.8149 - val_acc: 0.7108 - val_recall: 0.5333 - val_precision: 0.7921\n",
      "Epoch 24/50\n",
      "260/260 [==============================] - 836s 3s/step - loss: 0.7169 - acc: 0.8259 - recall: 0.6418 - precision: 0.8869 - val_loss: 0.8228 - val_acc: 0.7067 - val_recall: 0.5383 - val_precision: 0.7663\n",
      "Epoch 25/50\n",
      "260/260 [==============================] - 829s 3s/step - loss: 0.7048 - acc: 0.8382 - recall: 0.6590 - precision: 0.8951 - val_loss: 0.8237 - val_acc: 0.7050 - val_recall: 0.5467 - val_precision: 0.7593\n",
      "Epoch 26/50\n",
      "260/260 [==============================] - 807s 3s/step - loss: 0.6979 - acc: 0.8433 - recall: 0.6703 - precision: 0.8988 - val_loss: 0.8174 - val_acc: 0.7108 - val_recall: 0.5567 - val_precision: 0.7723\n",
      "Epoch 27/50\n",
      "260/260 [==============================] - 809s 3s/step - loss: 0.6906 - acc: 0.8484 - recall: 0.6796 - precision: 0.9035 - val_loss: 0.8156 - val_acc: 0.7158 - val_recall: 0.5533 - val_precision: 0.7461\n",
      "Epoch 28/50\n",
      "260/260 [==============================] - 811s 3s/step - loss: 0.6839 - acc: 0.8562 - recall: 0.6905 - precision: 0.9037 - val_loss: 0.8121 - val_acc: 0.7175 - val_recall: 0.5542 - val_precision: 0.7652\n",
      "Epoch 29/50\n",
      "260/260 [==============================] - 809s 3s/step - loss: 0.6760 - acc: 0.8633 - recall: 0.7044 - precision: 0.9075 - val_loss: 0.8074 - val_acc: 0.7267 - val_recall: 0.5583 - val_precision: 0.7764\n",
      "Epoch 30/50\n",
      "260/260 [==============================] - 807s 3s/step - loss: 0.6722 - acc: 0.8662 - recall: 0.7121 - precision: 0.9059 - val_loss: 0.8110 - val_acc: 0.7208 - val_recall: 0.5583 - val_precision: 0.7920\n",
      "Epoch 31/50\n",
      "260/260 [==============================] - 809s 3s/step - loss: 0.6693 - acc: 0.8660 - recall: 0.7146 - precision: 0.9071 - val_loss: 0.7957 - val_acc: 0.7358 - val_recall: 0.5625 - val_precision: 0.7979\n",
      "Epoch 32/50\n",
      "260/260 [==============================] - 808s 3s/step - loss: 0.6617 - acc: 0.8766 - recall: 0.7204 - precision: 0.9104 - val_loss: 0.7954 - val_acc: 0.7292 - val_recall: 0.5775 - val_precision: 0.7743\n",
      "Epoch 33/50\n",
      "260/260 [==============================] - 808s 3s/step - loss: 0.6598 - acc: 0.8744 - recall: 0.7244 - precision: 0.9113 - val_loss: 0.7815 - val_acc: 0.7367 - val_recall: 0.6083 - val_precision: 0.7858\n",
      "Epoch 34/50\n",
      "260/260 [==============================] - 809s 3s/step - loss: 0.6525 - acc: 0.8793 - recall: 0.7319 - precision: 0.9157 - val_loss: 0.7947 - val_acc: 0.7233 - val_recall: 0.5775 - val_precision: 0.7726\n",
      "Epoch 35/50\n",
      "260/260 [==============================] - 808s 3s/step - loss: 0.6494 - acc: 0.8841 - recall: 0.7325 - precision: 0.9222 - val_loss: 0.7763 - val_acc: 0.7367 - val_recall: 0.6125 - val_precision: 0.7963\n",
      "Epoch 36/50\n",
      "260/260 [==============================] - 808s 3s/step - loss: 0.6433 - acc: 0.8883 - recall: 0.7427 - precision: 0.9205 - val_loss: 0.7870 - val_acc: 0.7442 - val_recall: 0.5917 - val_precision: 0.7898\n",
      "Epoch 37/50\n",
      "260/260 [==============================] - 807s 3s/step - loss: 0.6360 - acc: 0.8916 - recall: 0.7456 - precision: 0.9263 - val_loss: 0.7772 - val_acc: 0.7500 - val_recall: 0.6042 - val_precision: 0.7941\n",
      "Epoch 38/50\n",
      "260/260 [==============================] - 806s 3s/step - loss: 0.6341 - acc: 0.8947 - recall: 0.7464 - precision: 0.9255 - val_loss: 0.7851 - val_acc: 0.7417 - val_recall: 0.5933 - val_precision: 0.7867\n",
      "Epoch 39/50\n",
      "260/260 [==============================] - 808s 3s/step - loss: 0.6289 - acc: 0.8979 - recall: 0.7535 - precision: 0.9284 - val_loss: 0.7846 - val_acc: 0.7333 - val_recall: 0.5975 - val_precision: 0.7677\n",
      "Epoch 40/50\n",
      "260/260 [==============================] - 808s 3s/step - loss: 0.6293 - acc: 0.8927 - recall: 0.7516 - precision: 0.9253 - val_loss: 0.7837 - val_acc: 0.7317 - val_recall: 0.5858 - val_precision: 0.8016\n",
      "Epoch 41/50\n",
      "260/260 [==============================] - 807s 3s/step - loss: 0.6238 - acc: 0.8972 - recall: 0.7551 - precision: 0.9283 - val_loss: 0.7810 - val_acc: 0.7342 - val_recall: 0.6158 - val_precision: 0.7730\n",
      "Epoch 42/50\n",
      "260/260 [==============================] - 807s 3s/step - loss: 0.6196 - acc: 0.9008 - recall: 0.7593 - precision: 0.9291 - val_loss: 0.7900 - val_acc: 0.7325 - val_recall: 0.6067 - val_precision: 0.7655\n",
      "Epoch 43/50\n",
      "260/260 [==============================] - 810s 3s/step - loss: 0.6128 - acc: 0.9064 - recall: 0.7639 - precision: 0.9321 - val_loss: 0.8030 - val_acc: 0.7117 - val_recall: 0.5442 - val_precision: 0.7915\n",
      "Epoch 44/50\n",
      "260/260 [==============================] - 807s 3s/step - loss: 0.6109 - acc: 0.9068 - recall: 0.7683 - precision: 0.9303 - val_loss: 0.7680 - val_acc: 0.7533 - val_recall: 0.6092 - val_precision: 0.7801\n",
      "Epoch 45/50\n",
      "260/260 [==============================] - 810s 3s/step - loss: 0.6058 - acc: 0.9106 - recall: 0.7683 - precision: 0.9342 - val_loss: 0.7681 - val_acc: 0.7450 - val_recall: 0.6250 - val_precision: 0.7772\n",
      "Epoch 46/50\n",
      "260/260 [==============================] - 806s 3s/step - loss: 0.6070 - acc: 0.9081 - recall: 0.7630 - precision: 0.9314 - val_loss: 0.7753 - val_acc: 0.7433 - val_recall: 0.6083 - val_precision: 0.7741\n",
      "Epoch 47/50\n",
      "260/260 [==============================] - 809s 3s/step - loss: 0.6014 - acc: 0.9120 - recall: 0.7653 - precision: 0.9318 - val_loss: 0.7652 - val_acc: 0.7467 - val_recall: 0.5958 - val_precision: 0.7927\n",
      "Epoch 48/50\n",
      "260/260 [==============================] - 808s 3s/step - loss: 0.5961 - acc: 0.9132 - recall: 0.7705 - precision: 0.9361 - val_loss: 0.7967 - val_acc: 0.7208 - val_recall: 0.5458 - val_precision: 0.7844\n",
      "Epoch 49/50\n",
      "260/260 [==============================] - 807s 3s/step - loss: 0.5976 - acc: 0.9101 - recall: 0.7624 - precision: 0.9368 - val_loss: 0.7677 - val_acc: 0.7508 - val_recall: 0.6150 - val_precision: 0.7760\n",
      "Epoch 50/50\n",
      "260/260 [==============================] - 809s 3s/step - loss: 0.5918 - acc: 0.9180 - recall: 0.7678 - precision: 0.9322 - val_loss: 0.7504 - val_acc: 0.7575 - val_recall: 0.6233 - val_precision: 0.8000\n"
     ]
    }
   ],
   "source": [
    "history = model.fit(train_generator,\n",
    "                    steps_per_epoch=260,\n",
    "                    epochs=50,\n",
    "                    validation_data=valid_generator,\n",
    "                    validation_steps=60,\n",
    "                    callbacks=[checkpoint_cb])\n"
   ]
  },
  {
   "cell_type": "code",
   "execution_count": 20,
   "metadata": {
    "id": "MhSs88SOBf7_"
   },
   "outputs": [
    {
     "data": {
      "image/png": "[encoded data removed]",
      "text/plain": [
       "<Figure size 720x720 with 1 Axes>"
      ]
     },
     "metadata": {
      "needs_background": "light"
     },
     "output_type": "display_data"
    }
   ],
   "source": [
    "pd.DataFrame(history.history).plot(figsize=(10, 10))\n",
    "plt.ylim((0,2))\n",
    "plt.grid(True)\n",
    "plt.show()"
   ]
  },
  {
   "cell_type": "code",
   "execution_count": 21,
   "metadata": {
    "id": "Jb_oN7wQBf5A"
   },
   "outputs": [
    {
     "name": "stdout",
     "output_type": "stream",
     "text": [
      "83/83 [==============================] - 32s 387ms/step - loss: 0.7649 - acc: 0.7628 - recall: 0.6125 - precision: 0.7898\n"
     ]
    },
    {
     "data": {
      "text/plain": [
       "[0.7649019360542297,\n",
       " 0.7627737522125244,\n",
       " 0.6125304102897644,\n",
       " 0.7898039221763611]"
      ]
     },
     "execution_count": 21,
     "metadata": {},
     "output_type": "execute_result"
    }
   ],
   "source": [
    "model.evaluate(test_generator)"
   ]
  },
  {
   "cell_type": "code",
   "execution_count": 22,
   "metadata": {
    "id": "OCKXMlD6Bfzn"
   },
   "outputs": [],
   "source": [
    "x=model.predict(test_generator)"
   ]
  },
  {
   "cell_type": "code",
   "execution_count": 23,
   "metadata": {
    "id": "hBPx87sYxq4k"
   },
   "outputs": [
    {
     "data": {
      "text/plain": [
       "array([0, 0, 0, ..., 1, 2, 2])"
      ]
     },
     "execution_count": 23,
     "metadata": {},
     "output_type": "execute_result"
    }
   ],
   "source": [
    "pred=np.argmax(x, axis=-1)\n",
    "pred"
   ]
  },
  {
   "cell_type": "code",
   "execution_count": 24,
   "metadata": {
    "id": "UGW6-jy6xs9u"
   },
   "outputs": [
    {
     "data": {
      "text/plain": [
       "array([0, 0, 0, ..., 2, 2, 2], dtype=int32)"
      ]
     },
     "execution_count": 24,
     "metadata": {},
     "output_type": "execute_result"
    }
   ],
   "source": [
    "actual=test_generator.labels\n",
    "actual"
   ]
  },
  {
   "cell_type": "code",
   "execution_count": 25,
   "metadata": {
    "id": "sMY4HeSi1pDu"
   },
   "outputs": [],
   "source": [
    "pred=np.argmax(x, axis=-1)"
   ]
  },
  {
   "cell_type": "code",
   "execution_count": 26,
   "metadata": {
    "id": "MP3xxY6Z4frR"
   },
   "outputs": [
    {
     "data": {
      "text/plain": [
       "array([[173,  80,  35],\n",
       "       [ 36, 755,  79],\n",
       "       [ 28, 132, 326]])"
      ]
     },
     "execution_count": 26,
     "metadata": {},
     "output_type": "execute_result"
    }
   ],
   "source": [
    "from sklearn.metrics import confusion_matrix\n",
    "confusion_matrix(actual,pred)"
   ]
  },
  {
   "cell_type": "code",
   "execution_count": 27,
   "metadata": {
    "id": "SQHV3MgCJNDL"
   },
   "outputs": [
    {
     "data": {
      "text/plain": [
       "array([[173,  80,  35],\n",
       "       [ 36, 755,  79],\n",
       "       [ 28, 132, 326]])"
      ]
     },
     "execution_count": 27,
     "metadata": {},
     "output_type": "execute_result"
    }
   ],
   "source": [
    "x=model.predict(test_generator)\n",
    "actual=test_generator.labels\n",
    "pred=np.argmax(x, axis=-1)\n",
    "from sklearn.metrics import confusion_matrix\n",
    "confusion_matrix(actual,pred)"
   ]
  },
  {
   "cell_type": "code",
   "execution_count": null,
   "metadata": {
    "id": "0KdF-64dJPxe"
   },
   "outputs": [],
   "source": []
  }
 ],
 "metadata": {
  "accelerator": "GPU",
  "colab": {
   "collapsed_sections": [],
   "name": "DenseNet and VGG16 Parallel.ipynb",
   "provenance": []
  },
  "kernelspec": {
   "display_name": "Python 3",
   "name": "python3"
  },
  "language_info": {
   "codemirror_mode": {
    "name": "ipython",
    "version": 3
   },
   "file_extension": ".py",
   "mimetype": "text/x-python",
   "name": "python",
   "nbconvert_exporter": "python",
   "pygments_lexer": "ipython3",
   "version": "3.8.5"
  }
 },
 "nbformat": 4,
 "nbformat_minor": 0
}
